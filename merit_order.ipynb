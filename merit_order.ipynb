{
 "cells": [
  {
   "cell_type": "markdown",
   "metadata": {},
   "source": [
    "# Merit order evaluation\n",
    "Create an merit order block from input data"
   ]
  },
  {
   "cell_type": "code",
   "execution_count": 1,
   "metadata": {},
   "outputs": [],
   "source": [
    "import numpy as np\n",
    "import pandas as pd\n",
    "import matplotlib.pyplot as plt\n",
    "import matplotlib"
   ]
  },
  {
   "cell_type": "code",
   "execution_count": 2,
   "metadata": {},
   "outputs": [],
   "source": [
    "input_folder = './model_inputs/'\n",
    "transformers = pd.read_csv(input_folder+'transformers_2017.csv')\n",
    "transformers = transformers.loc[transformers['country'] == 'DE', ['label', 'fuel', 'capacity', 'efficiency_el']]"
   ]
  },
  {
   "cell_type": "code",
   "execution_count": 3,
   "metadata": {},
   "outputs": [],
   "source": [
    "# fuel costs\n",
    "costs_fuel = pd.read_csv(input_folder+'costs_fuel_NZE_nominal_2017.csv')\n",
    "costs_fuel['fuel'] = [_[2] for _ in costs_fuel['label'].str.split('_')]\n",
    "costs_fuel = costs_fuel.loc[costs_fuel['label'].str.contains('DE'), ['fuel', '2017']]\n",
    "costs_fuel.rename(columns={'2017': 'costs_fuel'}, inplace=True)\n",
    "\n",
    "# operation costs\n",
    "costs_opex = pd.read_csv(input_folder+'costs_operation_nominal_2017.csv')\n",
    "costs_opex['fuel'] = [_[2] for _ in costs_opex['label'].str.split('_')]\n",
    "costs_opex = costs_opex.loc[costs_opex['label'].str.contains('DE'), ['fuel', '2017']]\n",
    "costs_opex.rename(columns={'2017': 'costs_opex'}, inplace=True)\n",
    "\n",
    "# emission factors\n",
    "sources_commodity = pd.read_csv(input_folder+'sources_commodity_2017.csv')\n",
    "sources_commodity['fuel'] = [_[2] for _ in sources_commodity['label'].str.split('_')]\n",
    "sources_commodity = sources_commodity.loc[sources_commodity['label'].str.contains('DE'), ['fuel', 'emission_factors']]"
   ]
  },
  {
   "cell_type": "code",
   "execution_count": 4,
   "metadata": {},
   "outputs": [],
   "source": [
    "transformers = transformers.merge(costs_fuel, on='fuel', how='left')\n",
    "transformers = transformers.merge(costs_opex, on='fuel', how='left')\n",
    "transformers = transformers.merge(sources_commodity, on='fuel', how='left')\n",
    "carbon_price = 5.77\n",
    "transformers['carbon_price'] = carbon_price\n",
    "transformers['costs_carbon'] = transformers['emission_factors'] * transformers['carbon_price']"
   ]
  },
  {
   "cell_type": "code",
   "execution_count": 5,
   "metadata": {},
   "outputs": [],
   "source": [
    "# renewables time series\n",
    "time = '2017-08-05 13:00:00'\n",
    "sources_res_ts = pd.read_csv(input_folder+'sources_renewables_ts_2017.csv', index_col=0)\n",
    "sources_res_ts = sources_res_ts[sources_res_ts.columns[sources_res_ts.columns.str.contains('DE')]]\n",
    "sources_res_ts = sources_res_ts.loc[time]\n",
    "sources_res_ts = sources_res_ts.to_frame()\n",
    "sources_res_ts.columns = ['capacity_factor']"
   ]
  },
  {
   "cell_type": "code",
   "execution_count": 6,
   "metadata": {},
   "outputs": [],
   "source": [
    "#sources_res_ts.loc['2017-08-05 00:00:00' : '2017-08-06 00:00:00']"
   ]
  },
  {
   "cell_type": "code",
   "execution_count": 7,
   "metadata": {},
   "outputs": [],
   "source": [
    "# non-fluc renewables\n",
    "sources_res = pd.read_csv(input_folder+'sources_renewables_2017.csv', usecols=['label', 'capacity', 'country'])\n",
    "sources_res['fuel'] = [_[2] for _ in sources_res['label'].str.split('_')]\n",
    "sources_res = sources_res.merge(sources_res_ts, left_on='label', right_index=True, how='left')\n",
    "sources_res['capacity'] *= sources_res['capacity_factor']\n",
    "sources_res = sources_res.loc[sources_res['country'] == 'DE', ['fuel', 'capacity']]\n",
    "sources_res.replace({'ROR': 'Wasser', 'Klaergas': 'Klärgas'}, inplace=True)\n",
    "sources_res['costs_fuel'] = 0\n",
    "sources_res['efficiency_el'] = 1\n",
    "sources_res['label'] = sources_res['fuel']"
   ]
  },
  {
   "cell_type": "code",
   "execution_count": 9,
   "metadata": {},
   "outputs": [],
   "source": [
    "# reneweable transformers\n",
    "transformers_res = pd.read_csv(input_folder+'transformers_renewables_2017.csv')\n",
    "\n",
    "# operation costs\n",
    "costs_res = pd.read_csv(input_folder+'costs_operation_renewables_2017.csv')\n",
    "transformers_res = transformers_res.merge(costs_res, on='label', how='left')\n",
    "\n",
    "transformers_res = transformers_res.merge(sources_res_ts, left_on='from', right_index=True, how='left')\n",
    "transformers_res['capacity'] *= transformers_res['capacity_factor']\n",
    "\n",
    "transformers_res['fuel'] = [_[1] for _ in transformers_res['label'].str.split('_')]\n",
    "\n",
    "# market values renewables\n",
    "costs_market_values = pd.read_csv(input_folder+'costs_market_values_2017.csv', index_col=0)\n",
    "costs_market_values = costs_market_values.loc[time].to_frame()\n",
    "costs_market_values.columns = ['market_values']\n",
    "transformers_res = transformers_res.merge(costs_market_values, right_index=True, left_on='from', how='left')\n",
    "\n",
    "# derive costs renewable transformers\n",
    "transformers_res['costs_fuel'] = transformers_res['costs']+transformers_res['market_values']\n",
    "exog_trafos = ['DE_solarPV_cluster_exogenous', 'DE_windoffshore_cluster_exogenous', 'DE_windonshore_cluster_exogenous']\n",
    "transformers_res.loc[transformers_res['label'].isin(exog_trafos), 'costs_fuel'] = 0\n",
    "\n",
    "transformers_res = transformers_res[['label', 'fuel', 'efficiency_el', 'capacity', 'costs_fuel']]"
   ]
  },
  {
   "cell_type": "code",
   "execution_count": 10,
   "metadata": {},
   "outputs": [],
   "source": [
    "### Merge\n",
    "blocks = pd.concat([transformers, sources_res, transformers_res]).fillna(0)\n",
    "\n",
    "# derive marginal costs\n",
    "blocks['costs_marginal'] = blocks[\"costs_opex\"] +\\\n",
    "(blocks[\"costs_fuel\"] + blocks[\"costs_carbon\"]) / (blocks['efficiency_el'])\n",
    "\n",
    "# derive cumulated capacity\n",
    "blocks = blocks.sort_values(by='costs_marginal', ascending=True)\n",
    "blocks[\"capacity_cumulated\"] = blocks[\"capacity\"].cumsum()\n",
    "\n",
    "# assign symbolic euro for illustration purposes\n",
    "blocks.loc[blocks['costs_marginal'] == 0, 'costs_marginal'] = 4"
   ]
  },
  {
   "cell_type": "code",
   "execution_count": 11,
   "metadata": {},
   "outputs": [
    {
     "data": {
      "text/plain": [
       "array(['solarPV', 'windoffshore', 'windonshore', 'Wasser', 'landfillgas',\n",
       "       'biomassEEG', 'geothermal', 'larga', 'minegas', 'waste', 'uranium',\n",
       "       'lignite', 'natgas', 'otherfossil', 'hardcoal', 'oil',\n",
       "       'mixedfuels', 'biomass'], dtype=object)"
      ]
     },
     "execution_count": 11,
     "metadata": {},
     "output_type": "execute_result"
    }
   ],
   "source": [
    "blocks[\"fuel\"].unique()"
   ]
  },
  {
   "cell_type": "code",
   "execution_count": 15,
   "metadata": {},
   "outputs": [],
   "source": [
    "fuel_dict = {\n",
    "    'solarPV': 'Solare Strahlungsenergie',\n",
    "    'windonshore': 'Windenergie an Land',\n",
    "    'windoffshore': 'Windenergie auf See',\n",
    "    'uranium': 'Kernenergie',\n",
    "    'lignite': 'Braunkohle',\n",
    "    'otherfossil': 'Andere fossile',\n",
    "    'hardcoal': 'Steinkohle',\n",
    "    'waste': 'Abfall',\n",
    "    'mixedfuels': 'Mehrere fossile',\n",
    "    'biomass': 'Biomasse',\n",
    "    'biomassEEG': 'Biomasse',\n",
    "    'landfillgas': 'Deponiegas',\n",
    "    'geothermal': 'Geothermie',\n",
    "    'minegas': 'Grubengas',\n",
    "    'larga': 'Klärgas',\n",
    "    'natgas': 'Erdgas',\n",
    "    'oil': 'Heizöl'\n",
    "}\n",
    "blocks['fuel'].replace(fuel_dict, inplace=True)"
   ]
  },
  {
   "cell_type": "code",
   "execution_count": 16,
   "metadata": {},
   "outputs": [],
   "source": [
    "# 28.07.2019 YW: assign a color to each fuel for better identification in the Merit Order graph\n",
    "colorcomb = {\n",
    "    'Solare Strahlungsenergie': '#fcb001',#'#fac205',#'#ffff14',\n",
    "    'Windenergie auf See': '#0504aa',\n",
    "    'Windenergie an Land': '#82cafc',#'#95d0fc',\n",
    "    'Biomasse': '#15b01a',\n",
    "    'Deponiegas': '#06c2ac',\n",
    "    'Geothermie': '#ff474c',\n",
    "    'Wasser': '#c79fef', \n",
    "    'Grubengas': '#650021', \n",
    "    'Klärgas': '#ad8150', \n",
    "    'Kernenergie': '#e50000',\n",
    "    'Braunkohle': '#7f2b0a',\n",
    "    'Andere fossile': '#d8dcd6',\n",
    "    'Steinkohle': '#000000', \n",
    "    'Abfall': '#c04e01',\n",
    "    'Mehrere fossile': '#a57e52',\n",
    "    'Erdgas': '#929591', \n",
    "    'Heizöl': '#aaa662'\n",
    "}"
   ]
  },
  {
   "cell_type": "code",
   "execution_count": 17,
   "metadata": {},
   "outputs": [
    {
     "data": {
      "image/png": "[encoded data removed]",
      "text/plain": [
       "<Figure size 864x360 with 1 Axes>"
      ]
     },
     "metadata": {
      "needs_background": "light"
     },
     "output_type": "display_data"
    }
   ],
   "source": [
    "matrix = blocks[['fuel', 'costs_marginal', 'capacity_cumulated']].values\n",
    "MeritOrder = np.zeros((0,3))\n",
    "for el in range(len(matrix)-1):\n",
    "    MeritOrder = np.append(MeritOrder, np.reshape(matrix[el,], (1,3)), axis=0)\n",
    "    if matrix[el,0] != matrix[el+1,0]:\n",
    "        obj = np.reshape(matrix[el,], (1,3))\n",
    "        obj[0][0] = matrix[el+1,0]\n",
    "        MeritOrder = np.append(MeritOrder, obj, axis=0)\n",
    "\n",
    "# 28.07.2019 YW: creation of pd.Dataframe to have better access within the plot function\n",
    "MeritOrder = pd.DataFrame(data=MeritOrder, columns=['fuel', 'costs_marginal', 'capacity_cumulated'])\n",
    "MeritOrder = MeritOrder.astype({'capacity_cumulated': 'float32', 'costs_marginal': 'float32'})\n",
    "\n",
    "plt.rcParams.update({'font.size': 12})\n",
    "# 28.07.2019 YW: creates the Merit-Order plot of the given PP portfolio\n",
    "fig, ax = plt.subplots(figsize = (12,5))\n",
    "for fuel in MeritOrder['fuel'].unique():\n",
    "    _ = ax.fill_between(x='capacity_cumulated',\n",
    "                        y1='costs_marginal',\n",
    "                        where = MeritOrder[\"fuel\"] == fuel,\n",
    "                        facecolor = colorcomb[fuel],\n",
    "                        step = \"pre\",\n",
    "                        lw = 15,\n",
    "                        #        interpolate = True,\n",
    "                        data = MeritOrder,\n",
    "                        label=fuel)\n",
    "_ = ax.set(xlim=(-1000, MeritOrder['capacity_cumulated'].max() + 1000),\n",
    "#            ylim=(MeritOrder['costs_marginal'].min() - 10, MeritOrder['costs_marginal'].max() + 10))\n",
    "           ylim=(-100, 120)\n",
    "          )\n",
    "_ = ax.grid(axis=\"y\")\n",
    "_ = plt.yticks(np.arange(-100, 121, 10.0))\n",
    "_ = plt.xlabel('Kumulierte Leistung [MW]')\n",
    "_ = plt.ylabel('Grenzkosten [€/MWh]')\n",
    "_ = ax.legend(loc='lower right', ncol=4)\n",
    "\n",
    "plt.tight_layout()\n",
    "\n",
    "plt.show()"
   ]
  },
  {
   "cell_type": "code",
   "execution_count": 18,
   "metadata": {},
   "outputs": [
    {
     "data": {
      "text/html": [
       "<div>\n",
       "<style scoped>\n",
       "    .dataframe tbody tr th:only-of-type {\n",
       "        vertical-align: middle;\n",
       "    }\n",
       "\n",
       "    .dataframe tbody tr th {\n",
       "        vertical-align: top;\n",
       "    }\n",
       "\n",
       "    .dataframe thead th {\n",
       "        text-align: right;\n",
       "    }\n",
       "</style>\n",
       "<table border=\"1\" class=\"dataframe\">\n",
       "  <thead>\n",
       "    <tr style=\"text-align: right;\">\n",
       "      <th></th>\n",
       "      <th>fuel</th>\n",
       "      <th>costs_marginal</th>\n",
       "      <th>capacity_cumulated</th>\n",
       "    </tr>\n",
       "  </thead>\n",
       "  <tbody>\n",
       "    <tr>\n",
       "      <th>0</th>\n",
       "      <td>Solare Strahlungsenergie</td>\n",
       "      <td>-523.583923</td>\n",
       "      <td>0.768393</td>\n",
       "    </tr>\n",
       "    <tr>\n",
       "      <th>1</th>\n",
       "      <td>Solare Strahlungsenergie</td>\n",
       "      <td>-497.343933</td>\n",
       "      <td>2.849832</td>\n",
       "    </tr>\n",
       "    <tr>\n",
       "      <th>2</th>\n",
       "      <td>Solare Strahlungsenergie</td>\n",
       "      <td>-470.093933</td>\n",
       "      <td>6.598341</td>\n",
       "    </tr>\n",
       "    <tr>\n",
       "      <th>3</th>\n",
       "      <td>Solare Strahlungsenergie</td>\n",
       "      <td>-443.343933</td>\n",
       "      <td>20.841949</td>\n",
       "    </tr>\n",
       "    <tr>\n",
       "      <th>4</th>\n",
       "      <td>Solare Strahlungsenergie</td>\n",
       "      <td>-422.473938</td>\n",
       "      <td>38.497482</td>\n",
       "    </tr>\n",
       "    <tr>\n",
       "      <th>...</th>\n",
       "      <td>...</td>\n",
       "      <td>...</td>\n",
       "      <td>...</td>\n",
       "    </tr>\n",
       "    <tr>\n",
       "      <th>707</th>\n",
       "      <td>Heizöl</td>\n",
       "      <td>109.102928</td>\n",
       "      <td>100664.250000</td>\n",
       "    </tr>\n",
       "    <tr>\n",
       "      <th>708</th>\n",
       "      <td>Heizöl</td>\n",
       "      <td>110.008598</td>\n",
       "      <td>100741.648438</td>\n",
       "    </tr>\n",
       "    <tr>\n",
       "      <th>709</th>\n",
       "      <td>Heizöl</td>\n",
       "      <td>110.008598</td>\n",
       "      <td>100775.648438</td>\n",
       "    </tr>\n",
       "    <tr>\n",
       "      <th>710</th>\n",
       "      <td>Heizöl</td>\n",
       "      <td>111.649399</td>\n",
       "      <td>100798.945312</td>\n",
       "    </tr>\n",
       "    <tr>\n",
       "      <th>711</th>\n",
       "      <td>Heizöl</td>\n",
       "      <td>111.649399</td>\n",
       "      <td>100822.250000</td>\n",
       "    </tr>\n",
       "  </tbody>\n",
       "</table>\n",
       "<p>712 rows × 3 columns</p>\n",
       "</div>"
      ],
      "text/plain": [
       "                         fuel  costs_marginal  capacity_cumulated\n",
       "0    Solare Strahlungsenergie     -523.583923            0.768393\n",
       "1    Solare Strahlungsenergie     -497.343933            2.849832\n",
       "2    Solare Strahlungsenergie     -470.093933            6.598341\n",
       "3    Solare Strahlungsenergie     -443.343933           20.841949\n",
       "4    Solare Strahlungsenergie     -422.473938           38.497482\n",
       "..                        ...             ...                 ...\n",
       "707                    Heizöl      109.102928       100664.250000\n",
       "708                    Heizöl      110.008598       100741.648438\n",
       "709                    Heizöl      110.008598       100775.648438\n",
       "710                    Heizöl      111.649399       100798.945312\n",
       "711                    Heizöl      111.649399       100822.250000\n",
       "\n",
       "[712 rows x 3 columns]"
      ]
     },
     "execution_count": 18,
     "metadata": {},
     "output_type": "execute_result"
    }
   ],
   "source": [
    "MeritOrder"
   ]
  },
  {
   "cell_type": "code",
   "execution_count": null,
   "metadata": {},
   "outputs": [],
   "source": []
  }
 ],
 "metadata": {
  "kernelspec": {
   "display_name": "Python 3 (ipykernel)",
   "language": "python",
   "name": "python3"
  },
  "language_info": {
   "codemirror_mode": {
    "name": "ipython",
    "version": 3
   },
   "file_extension": ".py",
   "mimetype": "text/x-python",
   "name": "python",
   "nbconvert_exporter": "python",
   "pygments_lexer": "ipython3",
   "version": "3.8.13"
  },
  "toc": {
   "base_numbering": 1,
   "nav_menu": {},
   "number_sections": true,
   "sideBar": true,
   "skip_h1_title": false,
   "title_cell": "Table of Contents",
   "title_sidebar": "Contents",
   "toc_cell": false,
   "toc_position": {},
   "toc_section_display": true,
   "toc_window_display": false
  },
  "varInspector": {
   "cols": {
    "lenName": 16,
    "lenType": 16,
    "lenVar": 40
   },
   "kernels_config": {
    "python": {
     "delete_cmd_postfix": "",
     "delete_cmd_prefix": "del ",
     "library": "var_list.py",
     "varRefreshCmd": "print(var_dic_list())"
    },
    "r": {
     "delete_cmd_postfix": ") ",
     "delete_cmd_prefix": "rm(",
     "library": "var_list.r",
     "varRefreshCmd": "cat(var_dic_list()) "
    }
   },
   "types_to_exclude": [
    "module",
    "function",
    "builtin_function_or_method",
    "instance",
    "_Feature"
   ],
   "window_display": false
  }
 },
 "nbformat": 4,
 "nbformat_minor": 4
}
