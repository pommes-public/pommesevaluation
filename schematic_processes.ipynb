{
 "cells": [
  {
   "cell_type": "markdown",
   "id": "e2099df7-702a-4a45-b613-db4dfd2d3d37",
   "metadata": {},
   "source": [
    "# Schematic visualization of load shifting and shedding processes\n",
    "\n",
    "## Package imports"
   ]
  },
  {
   "cell_type": "code",
   "execution_count": null,
   "id": "07371dcb-1a33-4f7d-b3c6-7a6fe2bf3ced",
   "metadata": {},
   "outputs": [],
   "source": [
    "import pandas as pd\n",
    "import matplotlib.pyplot as plt\n",
    "from pommesevaluation.tools import update_matplotlib_params\n",
    "from pommesevaluation.investment_results_inspection import add_area_to_existing_plot"
   ]
  },
  {
   "cell_type": "markdown",
   "id": "9d8dde02-8203-4059-a8ad-297140613622",
   "metadata": {},
   "source": [
    "## Settings"
   ]
  },
  {
   "cell_type": "code",
   "execution_count": null,
   "id": "4eaab607-a933-4e5e-a41b-ee720d3b03bd",
   "metadata": {},
   "outputs": [],
   "source": [
    "path_in = \"./\"\n",
    "file_name_in = \"load_shifting_shedding_scetch.csv\"\n",
    "path_out = \"./plots/\"\n",
    "file_name_out = \"load_shifting_shedding_scetch.png\"\n",
    "\n",
    "LANGUAGE = \"German\"\n",
    "\n",
    "rename_dict = {\n",
    "    \"German\": {\n",
    "        \"hours\": \"Stunden\",\n",
    "        \"baseline load\": \"Basislast\",\n",
    "        \"load shifting\": \"mit Lastverschiebung\",\n",
    "        \"load shedding\": \"mit Lastverzicht\",\n",
    "    },\n",
    "    \"English\": {\n",
    "        \"hours\": \"hours\",\n",
    "        \"baseline load\": \"baseline load\",\n",
    "        \"load shifting\": \"with load shifting\",\n",
    "        \"load shedding\": \"with load shedding\",\n",
    "    },\n",
    "}\n",
    "\n",
    "title = {\n",
    "    \"German\": {\n",
    "        \"load shifting\": \"Lastverschiebung\",\n",
    "        \"load shedding\": \"Lastverzicht\",\n",
    "    },\n",
    "    \"English\": {\n",
    "        \"load shifting\": \"load shifting\",\n",
    "        \"load shedding\": \"load shedding\",\n",
    "    },\n",
    "}\n",
    "\n",
    "y_label = {\n",
    "    \"German\": \"Last in GW\",\n",
    "    \"English\": \"lod in GW\",\n",
    "}"
   ]
  },
  {
   "cell_type": "code",
   "execution_count": null,
   "id": "04100e2a-e593-4d4c-852f-3a352019af07",
   "metadata": {},
   "outputs": [],
   "source": [
    "update_matplotlib_params(small_size=14, medium_size=16, large_size=18)"
   ]
  },
  {
   "cell_type": "markdown",
   "id": "6ba3b433-950a-46c4-8281-9888d9bfa628",
   "metadata": {},
   "source": [
    "## Read data and adjust naming"
   ]
  },
  {
   "cell_type": "code",
   "execution_count": null,
   "id": "ab24263e-d2fc-4fa8-b803-2622bd28f36a",
   "metadata": {},
   "outputs": [],
   "source": [
    "dummy_data = pd.read_csv(f\"{path_in}{file_name_in}\", sep=\";\", index_col=0)\n",
    "dummy_data.rename(columns=rename_dict[LANGUAGE], inplace=True)\n",
    "dummy_data.index.name = rename_dict[LANGUAGE][\"hours\"]"
   ]
  },
  {
   "cell_type": "markdown",
   "id": "29dcf623-6ca9-4784-8458-8de4d8c66403",
   "metadata": {},
   "source": [
    "## Plot and save figure"
   ]
  },
  {
   "cell_type": "code",
   "execution_count": null,
   "id": "2e9671fa-32ce-4b80-bb91-cac3b5fdf4f4",
   "metadata": {},
   "outputs": [],
   "source": [
    "# Introduce short handles\n",
    "shift = rename_dict[LANGUAGE][\"load shifting\"]\n",
    "shed = rename_dict[LANGUAGE][\"load shedding\"]\n",
    "base = rename_dict[LANGUAGE][\"baseline load\"]\n",
    "\n",
    "linestyles=[\"--\", \"-\"]\n",
    "colors=[\"#bf0c0c\", \"#120cbf\"]\n",
    "\n",
    "fig, axs = plt.subplots(1, 2, figsize=(16, 7), sharey=True)\n",
    "\n",
    "for no, col in enumerate([shift, base]):\n",
    "    dummy_data[col].plot(ax=axs[0], linestyle=linestyles[no], color=colors[no], legend=False)\n",
    "for no, col in enumerate([shed, base]):\n",
    "    dummy_data[col].plot(ax=axs[1], linestyle=linestyles[no], color=colors[no], legend=False)\n",
    "\n",
    "_ = axs[0].set_ylim(30, 80)\n",
    "_ = axs[0].set_yticks(range(30, 85, 5))\n",
    "_ = axs[0].set_ylabel(y_label[LANGUAGE], labelpad=10)\n",
    "\n",
    "_ = axs[0].set_title(title[LANGUAGE][\"load shifting\"], pad=10)\n",
    "_ = axs[1].set_title(title[LANGUAGE][\"load shedding\"], pad=10)\n",
    "\n",
    "_ = axs[0].set_xticks(range(0, 25))\n",
    "_ = axs[1].set_xticks(range(0, 25))\n",
    "\n",
    "_ = axs[0].set_xlabel(rename_dict[LANGUAGE][\"hours\"], labelpad=10)\n",
    "_ = axs[1].set_xlabel(rename_dict[LANGUAGE][\"hours\"], labelpad=10)\n",
    "\n",
    "_ = axs[0].margins(0, 0.05)\n",
    "_ = axs[1].margins(0, 0.05)\n",
    "\n",
    "_ = axs[0].legend(loc=\"upper center\", bbox_to_anchor=(0.5, -0.15), ncol=2)\n",
    "_ = axs[1].legend(loc=\"upper center\", bbox_to_anchor=(0.5, -0.15), ncol=2)\n",
    "\n",
    "axs[0].annotate('', xy=(12.5, 77), xytext=(12.5, 74), arrowprops={\"headwidth\": 10, \"headlength\": 8, \"color\": \"darkgray\"})\n",
    "axs[0].annotate('', xy=(19.5, 71), xytext=(19.5, 74), arrowprops={\"headwidth\": 10, \"headlength\": 8, \"color\": \"darkgray\"})\n",
    "axs[1].annotate('', xy=(19.5, 71), xytext=(19.5, 74), arrowprops={\"headwidth\": 10, \"headlength\": 8, \"color\": \"darkgray\"})\n",
    "\n",
    "\n",
    "_ = plt.tight_layout()\n",
    "_ = plt.savefig(f\"{path_out}{file_name_out}\", dpi=300, bbox_inches=\"tight\")\n",
    "plt.show()"
   ]
  },
  {
   "cell_type": "code",
   "execution_count": null,
   "id": "f1e6a639-e06e-4925-af21-bd96bdade770",
   "metadata": {},
   "outputs": [],
   "source": []
  }
 ],
 "metadata": {
  "kernelspec": {
   "display_name": "Python 3 (ipykernel)",
   "language": "python",
   "name": "python3"
  },
  "language_info": {
   "codemirror_mode": {
    "name": "ipython",
    "version": 3
   },
   "file_extension": ".py",
   "mimetype": "text/x-python",
   "name": "python",
   "nbconvert_exporter": "python",
   "pygments_lexer": "ipython3",
   "version": "3.8.13"
  }
 },
 "nbformat": 4,
 "nbformat_minor": 5
}
