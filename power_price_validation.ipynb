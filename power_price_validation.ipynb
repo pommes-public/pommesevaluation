{
 "cells": [
  {
   "cell_type": "markdown",
   "metadata": {},
   "source": [
    "# Power price validation and analyses\n",
    "\n",
    "Routines for price validation and analyses of *pommesdispatch* or *pommesinvest* model runs for historical years comprising\n",
    "\n",
    "Retrospective:\n",
    "* Comparison of price statistics\n",
    "* Comparison of price patterns\n",
    "* Comparison of negative price and scarcity price events\n",
    "* Calculation of error metrics (MAE, RSME)\n",
    "\n",
    "Prospective:\n",
    "* Plotting of prices\n",
    "* Calculation of metrics"
   ]
  },
  {
   "cell_type": "markdown",
   "metadata": {},
   "source": [
    "## Package imports"
   ]
  },
  {
   "cell_type": "code",
   "execution_count": null,
   "metadata": {},
   "outputs": [],
   "source": [
    "import pandas as pd\n",
    "import numpy as np\n",
    "import matplotlib.pyplot as plt\n",
    "\n",
    "from pommesevaluation.price_validation import (\n",
    "    read_and_reshape_historical_prices, read_and_reshape_smard_prices, compare_or_show_price_distribution,\n",
    "    draw_price_plot, draw_weekly_plot, draw_price_duration_plot,\n",
    "    calculate_error_metrics)\n",
    "from pommesevaluation.pommesinvest_routines import is_leap_year\n",
    "\n",
    "plt.rcParams.update({'font.size': 12})"
   ]
  },
  {
   "cell_type": "markdown",
   "metadata": {},
   "source": [
    "## Set parameters\n",
    "Most importantly, specify whether to analyze a dispatch or investment model run by choosing\n",
    "`mode = \"dispatch\"` resp. `mode = \"investment\"`.\n",
    "\n",
    "Specify path and filenames where data is stored:\n",
    "* Power price results from the model.\n",
    "* Historical day-ahead prices (used for validation)"
   ]
  },
  {
   "cell_type": "code",
   "execution_count": null,
   "metadata": {},
   "outputs": [],
   "source": [
    "# Choose the mode here\n",
    "mode = \"investment\"\n",
    "\n",
    "# Choose year to evaluate (for investment model >= 2020)\n",
    "simulation_year = 2020\n",
    "\n",
    "# Choose settings (defaults might apply!)\n",
    "basic_path = \"./model_results/\"\n",
    "path_results = {\n",
    "    \"dispatch\": f\"{basic_path}pommesdispatch/\",\n",
    "    \"investment\": f\"{basic_path}pommesinvest/\",\n",
    "}\n",
    "path_plots = \"./plots/\"\n",
    "path_processed_data = \"./data_out/\"\n",
    "path_historical_prices = \"./data/prices/\"\n",
    "\n",
    "# Specific settings for dispatch\n",
    "eeg_clusters_per_technology = 20\n",
    "\n",
    "# Specific settings for investment\n",
    "time_frame_in_years = 26\n",
    "frequency = \"1H\"\n",
    "dr_scenario = \"none\"\n",
    "dr_scenarios = [\"none\", \"5\", \"50\", \"95\"]\n",
    "sensitivities = [\"pv_-50%\", \"pv_+50%\", \"prices_-50%\", \"prices_+50%\", \"consumption_-50%\", \"consumption_+50%\"]\n",
    "fuel_price_scenario = \"NZE\"\n",
    "emissions_pathway = \"long-term\"\n",
    "impose_investment_maxima = False\n",
    "\n",
    "if impose_investment_maxima:\n",
    "    annual_investment_limits = \"\"\n",
    "else:\n",
    "    annual_investment_limits = \"_no_annual_limit\"\n",
    "if dr_scenario != \"none\":\n",
    "    file_add_on = (\n",
    "        f\"_with_dr_{dr_scenario}_\"\n",
    "        f\"fuel_price-{fuel_price_scenario}_\"\n",
    "        f\"co2_price-{emissions_pathway}{annual_investment_limits}_power-prices\"\n",
    "    )\n",
    "else:\n",
    "    file_add_on = (\n",
    "        f\"_no_dr_50_\"\n",
    "        f\"fuel_price-{fuel_price_scenario}_\"\n",
    "        f\"co2_price-{emissions_pathway}{annual_investment_limits}_power-prices\"\n",
    "    )\n",
    "\n",
    "# Actual model file name\n",
    "model_file_name = {\n",
    "    \"dispatch\": (\n",
    "        f\"dispatch_LP_start-{simulation_year}-01-01_364-days_simple_complete_\"\n",
    "        f\"{eeg_clusters_per_technology}_res-clusters_power-prices.csv\"\n",
    "    ),\n",
    "    \"investment\": (\n",
    "        f\"investment_LP_start-2020-01-01_{time_frame_in_years}\"\n",
    "        f\"-years_simple_freq_{frequency}{file_add_on}.csv\"\n",
    "    )\n",
    "}\n",
    "\n",
    "if simulation_year < 2022:\n",
    "    compare = True\n",
    "    color = [\"b\", \"r\"]\n",
    "    ylim = None\n",
    "else:\n",
    "    compare = False\n",
    "    color = \"b\"\n",
    "    ylim = [-600, 1000]"
   ]
  },
  {
   "cell_type": "markdown",
   "metadata": {},
   "source": [
    "## Read in data\n",
    "* Historical prices for years from 2017 to 2021 (simulate year used for validation)\n",
    "* Model prices for the respective simulation year"
   ]
  },
  {
   "cell_type": "code",
   "execution_count": null,
   "metadata": {},
   "outputs": [],
   "source": [
    "historical_prices_fnames = {\n",
    "    2017:\n",
    "    f\"{path_historical_prices}auction_spot_prices_germany_austria_2017.csv\",\n",
    "    2018: [\n",
    "        f\"{path_historical_prices}auction_spot_prices_germany_austria_2018.csv\",\n",
    "        f\"{path_historical_prices}auction_spot_prices_germany_luxembourg_2018.csv\"\n",
    "    ]\n",
    "}\n",
    "\n",
    "for year in range(2019, 2021):\n",
    "    historical_prices_fnames[year] = f\"{path_historical_prices}auction_spot_prices_germany_luxembourg_{year}.csv\"\n",
    "\n",
    "for year in range(2021, 2024):\n",
    "    historical_prices_fnames[year] = f\"{path_historical_prices}smard_grosshandelspreise_stunde_2021-2023.xlsx\"\n",
    "\n",
    "historical_prices = dict()\n",
    "\n",
    "for year, file_name in historical_prices_fnames.items():\n",
    "    if year < 2021:\n",
    "        historical_prices[year] = read_and_reshape_historical_prices(\n",
    "            year, file_name\n",
    "        )\n",
    "    else:\n",
    "        historical_prices[year] = read_and_reshape_smard_prices(\n",
    "            year, file_name\n",
    "        )"
   ]
  },
  {
   "cell_type": "code",
   "execution_count": null,
   "metadata": {},
   "outputs": [],
   "source": [
    "model_prices_full = pd.read_csv(\n",
    "    path_results[mode] + model_file_name[mode],\n",
    "    sep=\",\",\n",
    "    decimal=\".\",\n",
    "    index_col=0,\n",
    "    infer_datetime_format=True\n",
    ")\n",
    "model_prices_full.index = pd.to_datetime(model_prices_full.index)\n",
    "model_prices = model_prices_full.loc[f\"{simulation_year}\"]\n",
    "model_prices = model_prices.rename(columns={\"Power price\": \"model_price\"})"
   ]
  },
  {
   "cell_type": "markdown",
   "metadata": {},
   "source": [
    "## Visualize historical prices and calculate some statistics\n",
    "* Plot power prices for years 2017 to 2021\n",
    "* Calculate summary statistics for all years"
   ]
  },
  {
   "cell_type": "code",
   "execution_count": null,
   "metadata": {
    "tags": []
   },
   "outputs": [],
   "source": [
    "loc_map = {\n",
    "    2017: (0, 0),\n",
    "    2018: (0, 1),\n",
    "    2019: (0, 2),\n",
    "    2020: (1, 0),\n",
    "    2021: (1, 1),\n",
    "    2022: (1, 2),\n",
    "    2023: (2, 0),\n",
    "}\n",
    "\n",
    "fig, axes = plt.subplots(nrows=3, ncols=3, figsize=(25, 15), sharey=True)\n",
    "\n",
    "for key, val in historical_prices.items():\n",
    "    val.plot(ax=axes[loc_map[key]])\n",
    "    axes[loc_map[key]].set_title(key)\n",
    "\n",
    "axes[0, 0].set_ylabel(\"power price in €/MWh\")\n",
    "axes[1, 0].set_ylabel(\"power price in €/MWh\")\n",
    "axes[2, 0].set_ylabel(\"power price in €/MWh\")\n",
    "plt.tight_layout()\n",
    "plt.show()"
   ]
  },
  {
   "cell_type": "code",
   "execution_count": null,
   "metadata": {},
   "outputs": [],
   "source": [
    "stats_df = pd.DataFrame(index=historical_prices[2017].describe().index,\n",
    "                        columns=range(2017, 2022))\n",
    "stats_df.loc[\"negative_hours\"] = 0\n",
    "stats_df.loc[\"scarcity_hours\"] = 0\n",
    "\n",
    "for key, val in historical_prices.items():\n",
    "    stats_df[key] = val.describe()\n",
    "    stats_df.at[\"negative_hours\",\n",
    "                key] = val.loc[val[\"historical_price\"] < 0].count()\n",
    "    stats_df.at[\"scarcity_hours\",\n",
    "                key] = val.loc[val[\"historical_price\"] == 3000].count()\n",
    "\n",
    "stats_df"
   ]
  },
  {
   "cell_type": "markdown",
   "metadata": {},
   "source": [
    "# Validate model results or show model results in isolation\n",
    "Model results for a historical year are evaluated against historical day-ahead prices for past years.<br>\n",
    "For future years, model results are displayed in isolation since there is no reference to compare against.\n",
    "* Summary statistics are calculated for comparison.\n",
    "* Negative price distributions are compared against each other.\n",
    "* The annual price time series and duration curves are plotted against each other.\n",
    "* Weekly price time series are written to disk.\n",
    "* Mean average error (note: for evaluating estimates for the median) and root mean squared error (note: for evaluating estimates for the mean value) are evaluated."
   ]
  },
  {
   "cell_type": "markdown",
   "metadata": {},
   "source": [
    "## Compare summary statistics"
   ]
  },
  {
   "cell_type": "code",
   "execution_count": null,
   "metadata": {},
   "outputs": [],
   "source": [
    "if simulation_year < 2022:\n",
    "    if is_leap_year(simulation_year):\n",
    "        historical_prices[simulation_year] = historical_prices[simulation_year].iloc[:8760]\n",
    "    \n",
    "    stats_comparison_df = pd.DataFrame(index=stats_df.index,\n",
    "                                       columns=[\"historical\", \"model\"])\n",
    "\n",
    "    stats_comparison_df[\"historical\"] = historical_prices[\n",
    "        simulation_year].describe()\n",
    "    stats_comparison_df[\"model\"] = model_prices.describe()\n",
    "    stats_comparison_df.at[\"negative_hours\", \"historical\"] = (\n",
    "        historical_prices[simulation_year].loc[\n",
    "            historical_prices[simulation_year].historical_price < 0].count())\n",
    "    stats_comparison_df.at[\"negative_hours\", \"model\"] = model_prices.loc[\n",
    "        model_prices.model_price < 0].count()\n",
    "    stats_comparison_df.at[\"scarcity_hours\", \"historical\"] = (\n",
    "        historical_prices[simulation_year].loc[\n",
    "            historical_prices[simulation_year].historical_price ==\n",
    "            3000].count())\n",
    "    stats_comparison_df.at[\"scarcity_hours\", \"model\"] = model_prices.loc[\n",
    "        model_prices.model_price == 3000].count()\n",
    "\n",
    "else:\n",
    "    stats_comparison_df = pd.DataFrame(index=stats_df.index, columns=[\"model\"])\n",
    "\n",
    "    stats_comparison_df[\"model\"] = model_prices.describe()\n",
    "    stats_comparison_df.at[\"negative_hours\", \"model\"] = model_prices.loc[\n",
    "        model_prices.model_price < 0].count()\n",
    "    stats_comparison_df.at[\"scarcity_hours\", \"model\"] = model_prices.loc[\n",
    "        model_prices.model_price == 3000].count()\n",
    "\n",
    "stats_comparison_df"
   ]
  },
  {
   "cell_type": "markdown",
   "metadata": {},
   "source": [
    "## Compare resp. show negative price distribution"
   ]
  },
  {
   "cell_type": "code",
   "execution_count": null,
   "metadata": {},
   "outputs": [],
   "source": [
    "if simulation_year > 2022:\n",
    "    historical_prices = None\n",
    "    negative_historical_prices = None\n",
    "else:\n",
    "    negative_historical_prices = historical_prices[simulation_year].loc[\n",
    "        historical_prices[simulation_year].historical_price < 0\n",
    "    ].historical_price\n",
    "\n",
    "negative_model_prices = model_prices.loc[model_prices.model_price < 0].model_price\n",
    "compare_or_show_price_distribution(\n",
    "    negative_model_prices, \n",
    "    negative_historical_prices,     \n",
    "    save=True,\n",
    "    path_plots=path_plots,\n",
    "    content=\"negative price distribution\",\n",
    "    file_name=f\"negative_price_distribution_{simulation_year}\", \n",
    ")"
   ]
  },
  {
   "cell_type": "markdown",
   "metadata": {},
   "source": [
    "## Compare annual and weekly prices against each other"
   ]
  },
  {
   "cell_type": "code",
   "execution_count": null,
   "metadata": {},
   "outputs": [],
   "source": [
    "if simulation_year < 2022:\n",
    "    # Concatenate model results and historical ones\n",
    "    prices = pd.concat([historical_prices[simulation_year], model_prices], axis=1)\n",
    "else:\n",
    "    prices = model_prices.copy()\n",
    "\n",
    "draw_price_plot(\n",
    "    power_prices=prices,\n",
    "    color=color,\n",
    "    title=f\"Power price time series comparison for {simulation_year}\",\n",
    "    y_min_max=True,\n",
    "    ylim=ylim,\n",
    "    show=True,\n",
    "    save=True,\n",
    "    file_name=f\"power_price_time_series_{simulation_year}\",\n",
    "    figsize=(15, 10),\n",
    ")"
   ]
  },
  {
   "cell_type": "code",
   "execution_count": null,
   "metadata": {},
   "outputs": [],
   "source": [
    "draw_weekly_plot(prices, simulation_year, ylim=ylim)"
   ]
  },
  {
   "cell_type": "code",
   "execution_count": null,
   "metadata": {},
   "outputs": [],
   "source": [
    "if simulation_year < 2022:\n",
    "    draw_price_duration_plot(\n",
    "        model_prices,\n",
    "        historical_prices[simulation_year],\n",
    "        y_min_max=True,\n",
    "        ylim=[-100, 200],\n",
    "        show=True,\n",
    "        save=True,\n",
    "        file_name=f\"power_price_duration_curve_{simulation_year}\",\n",
    "        figsize=(15, 10),\n",
    "    )\n",
    "else:\n",
    "    model_prices_sorted = model_prices.sort_values(\n",
    "    by=\"model_price\", ascending=False).reset_index(drop=True)\n",
    "\n",
    "    draw_price_plot(\n",
    "        model_prices_sorted,\n",
    "        color=\"b\",\n",
    "        title=f\"Price duration curve for {simulation_year}\",\n",
    "        y_min_max=False,\n",
    "        show=True,\n",
    "        save=True,\n",
    "        file_name=f\"power_price_duration_curve_{simulation_year}\"\n",
    "    )"
   ]
  },
  {
   "cell_type": "markdown",
   "metadata": {},
   "source": [
    "## Calculate error values\n",
    "Calculate mean absolute and root mean squared error for model to get an impression on model results quality"
   ]
  },
  {
   "cell_type": "code",
   "execution_count": null,
   "metadata": {},
   "outputs": [],
   "source": [
    "if simulation_year < 2022:\n",
    "    error_metrics = calculate_error_metrics(historical_prices[simulation_year],\n",
    "                                            model_prices)\n",
    "    print(\n",
    "        \"Mean absolute error for model results: {:.2f} \\nRoot mean squared error for model results: {:.2f}\"\n",
    "        .format(error_metrics[\"MAE\"], error_metrics[\"RMSE\"]))"
   ]
  },
  {
   "cell_type": "code",
   "execution_count": null,
   "metadata": {},
   "outputs": [],
   "source": [
    "model_prices.min()"
   ]
  },
  {
   "cell_type": "code",
   "execution_count": null,
   "metadata": {},
   "outputs": [],
   "source": [
    "model_prices.loc[f\"{simulation_year}-04-30 13:00\"]"
   ]
  },
  {
   "cell_type": "code",
   "execution_count": null,
   "metadata": {},
   "outputs": [],
   "source": [
    "model_prices.idxmin()"
   ]
  },
  {
   "cell_type": "markdown",
   "metadata": {},
   "source": [
    "## Evaluate spreads\n",
    "Evaluate the following kind of \"spreads\":\n",
    "* Single hour price differentials,\n",
    "* Price differentials between hours that are up to 2, 4, 8, 12, 24 hours away from one another &rarr; evaluation for rolling windows and only for absolute spreads (not considering sign),\n",
    "* For each of them, evaluate the maximum and minimum values.\n",
    "* In addition, plot single hour spreads per year as well as their distribution."
   ]
  },
  {
   "cell_type": "code",
   "execution_count": null,
   "metadata": {},
   "outputs": [],
   "source": [
    "years = [y for y in model_prices_full.index.year.unique()]\n",
    "spreads = pd.DataFrame(\n",
    "    index=years,\n",
    "    columns=[\"standard_deviation\", \"1H_min\", \"1H_max\"] + [f\"{hour_difference}H_abs_max\" for hour_difference in [2, 4, 8, 12, 24]] + [f\"{hour_difference}H_abs_min\" for hour_difference in [2, 4, 8, 12, 24]]\n",
    ")\n",
    "\n",
    "for iter_year in years:\n",
    "    model_prices_iter_year = model_prices_full.loc[model_prices_full.index.year == iter_year]\n",
    "    spreads.at[iter_year, \"standard_deviation\"] = model_prices_iter_year.std().item()\n",
    "    spreads.loc[iter_year, [\"1H_min\", \"1H_max\"]] = [model_prices_iter_year.diff().min().item(), model_prices_iter_year.diff().max().item()]\n",
    "    for hour_difference in [2, 4, 8, 12, 24]:\n",
    "        rolling_spreads = (\n",
    "            model_prices_iter_year.rolling(hour_difference).max()\n",
    "            - model_prices_iter_year.rolling(hour_difference).min()\n",
    "        )\n",
    "        spreads.at[iter_year, f\"{hour_difference}H_abs_min\"] = rolling_spreads.min().item()\n",
    "        spreads.at[iter_year, f\"{hour_difference}H_abs_max\"] = rolling_spreads.max().item()\n",
    "        \n",
    "spreads.to_csv(\n",
    "    f\"{path_processed_data}/spreads_annual.csv\",\n",
    "    sep=\";\"\n",
    ")"
   ]
  },
  {
   "cell_type": "code",
   "execution_count": null,
   "metadata": {},
   "outputs": [],
   "source": [
    "for iter_year in years:\n",
    "    fig, ax = plt.subplots(figsize=(15, 3))\n",
    "    ax.set_title(f\"Price spreads for {iter_year}\")\n",
    "    _ = model_prices_full.loc[model_prices_full.index.year == iter_year].diff().plot(ax=ax)\n",
    "    _ = plt.tight_layout()\n",
    "    plt.show()"
   ]
  },
  {
   "cell_type": "code",
   "execution_count": null,
   "metadata": {},
   "outputs": [],
   "source": [
    "for iter_year in years:\n",
    "    if iter_year <= 2022:\n",
    "        hist_prices_diff = historical_prices[iter_year].diff()\n",
    "    else:\n",
    "        hist_prices_diff = None\n",
    "    compare_or_show_price_distribution(\n",
    "        model_prices_full.loc[model_prices_full.index.year == iter_year].diff(), \n",
    "        hist_prices_diff,\n",
    "        bins=100,\n",
    "        save=True,\n",
    "        figsize=(15, 4),\n",
    "        path_plots=path_plots,\n",
    "        content=f\"single hour price differentials for {iter_year}\",\n",
    "        file_name=f\"single_hour_price_differentials_{iter_year}\", \n",
    "    )"
   ]
  },
  {
   "cell_type": "code",
   "execution_count": null,
   "metadata": {},
   "outputs": [],
   "source": []
  }
 ],
 "metadata": {
  "kernelspec": {
   "display_name": "Python 3 (ipykernel)",
   "language": "python",
   "name": "python3"
  },
  "language_info": {
   "codemirror_mode": {
    "name": "ipython",
    "version": 3
   },
   "file_extension": ".py",
   "mimetype": "text/x-python",
   "name": "python",
   "nbconvert_exporter": "python",
   "pygments_lexer": "ipython3",
   "version": "3.8.13"
  },
  "toc": {
   "base_numbering": 1,
   "nav_menu": {},
   "number_sections": true,
   "sideBar": true,
   "skip_h1_title": false,
   "title_cell": "Table of Contents",
   "title_sidebar": "Contents",
   "toc_cell": false,
   "toc_position": {},
   "toc_section_display": true,
   "toc_window_display": false
  },
  "toc-autonumbering": true,
  "toc-showcode": false,
  "toc-showmarkdowntxt": false,
  "toc-showtags": false,
  "varInspector": {
   "cols": {
    "lenName": 16,
    "lenType": 16,
    "lenVar": 40
   },
   "kernels_config": {
    "python": {
     "delete_cmd_postfix": "",
     "delete_cmd_prefix": "del ",
     "library": "var_list.py",
     "varRefreshCmd": "print(var_dic_list())"
    },
    "r": {
     "delete_cmd_postfix": ") ",
     "delete_cmd_prefix": "rm(",
     "library": "var_list.r",
     "varRefreshCmd": "cat(var_dic_list()) "
    }
   },
   "types_to_exclude": [
    "module",
    "function",
    "builtin_function_or_method",
    "instance",
    "_Feature"
   ],
   "window_display": false
  }
 },
 "nbformat": 4,
 "nbformat_minor": 4
}
