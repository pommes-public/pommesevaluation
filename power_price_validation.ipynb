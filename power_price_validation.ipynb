{
 "cells": [
  {
   "cell_type": "markdown",
   "metadata": {},
   "source": [
    "# Power price validation\n",
    "Routines for price validation comprising\n",
    "* Comparison of price statistics\n",
    "* Comparison of price patterns\n",
    "* Comparison of negative price and scarcity price events\n",
    "* Calculation of error metrics (MAE, RSME)"
   ]
  },
  {
   "cell_type": "markdown",
   "metadata": {},
   "source": [
    "## Package imports"
   ]
  },
  {
   "cell_type": "code",
   "execution_count": null,
   "metadata": {},
   "outputs": [],
   "source": [
    "import pandas as pd\n",
    "import numpy as np\n",
    "import matplotlib.pyplot as plt\n",
    "\n",
    "from pommesevaluation.price_validation import (\n",
    "    read_and_reshape_historical_prices, compare_negative_price_distribution,\n",
    "    draw_price_plot, draw_weekly_plot, draw_price_duration_plot, calculate_error_metrics\n",
    ")"
   ]
  },
  {
   "cell_type": "markdown",
   "metadata": {},
   "source": [
    "## Set parameters\n",
    "Specify path and filenames where data is stored:\n",
    "* Power price results from the model.\n",
    "* Historical day-ahead prices (used for validation)"
   ]
  },
  {
   "cell_type": "code",
   "execution_count": null,
   "metadata": {},
   "outputs": [],
   "source": [
    "simulation_year = 2017\n",
    "path_results = \"./model_results/\"\n",
    "path_plots = \"./plots/\"\n",
    "path_historical_prices = \"./data/prices/\"\n",
    "\n",
    "model_file_name = f\"dispatch_LP_start-{simulation_year}-01-01_364-days_simple_complete_power-prices.csv\""
   ]
  },
  {
   "cell_type": "markdown",
   "metadata": {},
   "source": [
    "## Read in data\n",
    "* Historical prices for years from 2017 to 2021 (simulate year used for validation)\n",
    "* Model prices for the respective simulation year"
   ]
  },
  {
   "cell_type": "code",
   "execution_count": null,
   "metadata": {},
   "outputs": [],
   "source": [
    "historical_prices_fnames = {\n",
    "    2017: f\"{path_historical_prices}auction_spot_prices_germany_austria_2017.csv\",\n",
    "    2018: [\n",
    "        f\"{path_historical_prices}auction_spot_prices_germany_austria_2018.csv\", \n",
    "        f\"{path_historical_prices}auction_spot_prices_germany_luxembourg_2018.csv\"\n",
    "    ]\n",
    "}\n",
    "\n",
    "for year in range(2019, 2022):\n",
    "    historical_prices_fnames[year] = f\"{path_historical_prices}auction_spot_prices_germany_luxembourg_{year}.csv\"\n",
    "    \n",
    "historical_prices = dict()\n",
    "\n",
    "for year, file_name in historical_prices_fnames.items():\n",
    "    historical_prices[year] = read_and_reshape_historical_prices(year, file_name)"
   ]
  },
  {
   "cell_type": "code",
   "execution_count": null,
   "metadata": {},
   "outputs": [],
   "source": [
    "model_prices = pd.read_csv(\n",
    "    path_results + model_file_name, sep=\",\", decimal=\".\", index_col = 0, infer_datetime_format=True\n",
    ")\n",
    "model_prices.index = pd.to_datetime(model_prices.index)\n",
    "model_prices = model_prices.rename(columns={\"Power price\":\"model_price\"})"
   ]
  },
  {
   "cell_type": "markdown",
   "metadata": {},
   "source": [
    "## Visualize historical prices and calculate some statistics\n",
    "* Plot power prices for years 2017 to 2021\n",
    "* Calculate summary statistics for all years"
   ]
  },
  {
   "cell_type": "code",
   "execution_count": null,
   "metadata": {
    "tags": []
   },
   "outputs": [],
   "source": [
    "loc_map = {\n",
    "    2017: (0, 0),\n",
    "    2018: (0, 1),\n",
    "    2019: (0, 2),\n",
    "    2020: (1, 0),\n",
    "    2021: (1, 1),\n",
    "}\n",
    "\n",
    "fig, axes = plt.subplots(nrows=2, ncols=3, figsize=(20, 10), sharey=True)\n",
    "\n",
    "for key, val in historical_prices.items():\n",
    "    val.plot(ax=axes[loc_map[key]])\n",
    "    axes[loc_map[key]].set_title(key)\n",
    "\n",
    "fig.delaxes(axes[1, 2])\n",
    "axes[0, 0].set_ylabel(\"power price in €/MWh\")\n",
    "axes[1, 0].set_ylabel(\"power price in €/MWh\")\n",
    "plt.tight_layout()\n",
    "plt.show()"
   ]
  },
  {
   "cell_type": "code",
   "execution_count": null,
   "metadata": {},
   "outputs": [],
   "source": [
    "stats_df = pd.DataFrame(index=historical_prices[2017].describe().index, columns=range(2017, 2022))\n",
    "stats_df.loc[\"negative_hours\"] = 0\n",
    "stats_df.loc[\"scarcity_hours\"] = 0\n",
    "\n",
    "for key, val in historical_prices.items():\n",
    "    stats_df[key] = val.describe()\n",
    "    stats_df.at[\"negative_hours\", key] = val.loc[val[\"historical_price\"] < 0].count()\n",
    "    stats_df.at[\"scarcity_hours\", key] = val.loc[val[\"historical_price\"] == 3000].count()\n",
    "    \n",
    "stats_df"
   ]
  },
  {
   "cell_type": "markdown",
   "metadata": {},
   "source": [
    "# Validate model results with historical prices\n",
    "Model results for a historical year are evaluated against historical day-ahead prices.\n",
    "* Summary statistics are calculated for comparison.\n",
    "* Negative price distributions are compared against each other.\n",
    "* The annual price time series and duration curves are plotted against each other.\n",
    "* Weekly price time series are written to disk.\n",
    "* Mean average error (note: for evaluating estimates for the median) and root mean squared error (note: for evaluating estimates for the mean value) are evaluated."
   ]
  },
  {
   "cell_type": "markdown",
   "metadata": {},
   "source": [
    "## Compare summary statistics"
   ]
  },
  {
   "cell_type": "code",
   "execution_count": null,
   "metadata": {},
   "outputs": [],
   "source": [
    "stats_comparison_df = pd.DataFrame(index=stats_df.index, columns=[\"historical\", \"model\"])\n",
    "\n",
    "stats_comparison_df[\"historical\"] = historical_prices[simulation_year].describe()\n",
    "stats_comparison_df[\"model\"] = model_prices.describe()\n",
    "stats_comparison_df.at[\"negative_hours\", \"historical\"] = historical_prices[simulation_year].loc[historical_prices[simulation_year].historical_price < 0].count()\n",
    "stats_comparison_df.at[\"negative_hours\", \"model\"] = model_prices.loc[model_prices.model_price < 0].count()\n",
    "stats_comparison_df.at[\"scarcity_hours\", \"historical\"] = historical_prices[simulation_year].loc[historical_prices[simulation_year].historical_price == 3000].count()\n",
    "stats_comparison_df.at[\"scarcity_hours\", \"model\"] = model_prices.loc[model_prices.model_price == 3000].count()\n",
    "\n",
    "stats_comparison_df"
   ]
  },
  {
   "cell_type": "markdown",
   "metadata": {},
   "source": [
    "## Compare negative price distribution"
   ]
  },
  {
   "cell_type": "code",
   "execution_count": null,
   "metadata": {},
   "outputs": [],
   "source": [
    "compare_negative_price_distribution(model_prices, historical_prices, simulation_year)"
   ]
  },
  {
   "cell_type": "markdown",
   "metadata": {},
   "source": [
    "## Compare annual and weekly prices against eacht other"
   ]
  },
  {
   "cell_type": "code",
   "execution_count": null,
   "metadata": {},
   "outputs": [],
   "source": [
    "if simulation_year < 2022:\n",
    "    # Concatenate model results and historical ones\n",
    "    prices = pd.concat([historical_prices[simulation_year], model_prices], axis=1)\n",
    "\n",
    "    draw_price_plot(\n",
    "        power_prices=prices, \n",
    "        color=[\"b\", \"r\"],\n",
    "        title=f\"Power price time series comparison for {simulation_year}\",\n",
    "        y_min_max=True,\n",
    "        show=True,\n",
    "        save=True,\n",
    "        file_name=f\"power_price_time_series_{simulation_year}\"\n",
    "    )"
   ]
  },
  {
   "cell_type": "code",
   "execution_count": null,
   "metadata": {},
   "outputs": [],
   "source": [
    "if simulation_year < 2022:\n",
    "    draw_weekly_plot(prices, simulation_year)"
   ]
  },
  {
   "cell_type": "code",
   "execution_count": null,
   "metadata": {},
   "outputs": [],
   "source": [
    "if simulation_year < 2022:\n",
    "    draw_price_duration_plot(\n",
    "        model_prices, historical_prices[simulation_year], show=True, save=True, file_name=f\"power_price_duration_curve_{simulation_year}\"\n",
    "    )"
   ]
  },
  {
   "cell_type": "markdown",
   "metadata": {},
   "source": [
    "## Calculate error values\n",
    "Calculate mean absolute and root mean squared error for model to get an impression on model results quality"
   ]
  },
  {
   "cell_type": "code",
   "execution_count": null,
   "metadata": {},
   "outputs": [],
   "source": [
    "if simulation_year < 2022:\n",
    "    error_metrics = calculate_error_metrics(historical_prices[simulation_year], model_prices)\n",
    "    print(\"Mean absolute error for model results: {:.2f} \\nRoot mean squared error for model results: {:.2f}\".format(error_metrics[\"MAE\"], error_metrics[\"RMSE\"]))"
   ]
  },
  {
   "cell_type": "markdown",
   "metadata": {},
   "source": [
    "# Check model results in isolation (simulation of future years)\n",
    "For future years, no comparison againts historical values is possible. Thus, model results can only be considered in isolation."
   ]
  },
  {
   "cell_type": "markdown",
   "metadata": {},
   "source": [
    "### Calculate summary statistics"
   ]
  },
  {
   "cell_type": "code",
   "execution_count": null,
   "metadata": {},
   "outputs": [],
   "source": [
    "stats_comparison_df = pd.DataFrame(index=stats_df.index, columns=[\"model\"])\n",
    "\n",
    "stats_comparison_df[\"model\"] = model_prices.describe()\n",
    "stats_comparison_df.at[\"negative_hours\", \"model\"] = model_prices.loc[model_prices.model_price < 0].count()\n",
    "stats_comparison_df.at[\"scarcity_hours\", \"model\"] = model_prices.loc[model_prices.model_price == 3000].count()\n",
    "\n",
    "stats_comparison_df"
   ]
  },
  {
   "cell_type": "markdown",
   "metadata": {},
   "source": [
    "### Plot price pattern"
   ]
  },
  {
   "cell_type": "code",
   "execution_count": null,
   "metadata": {},
   "outputs": [],
   "source": [
    "draw_price_plot(\n",
    "    model_prices,\n",
    "    color=\"b\",\n",
    "    title=f\"Power price time series comparison for {simulation_year}\",\n",
    "    y_min_max=False,\n",
    "    show=True,\n",
    "    save=True,\n",
    "    file_name=f\"power_price_time_series_{simulation_year}\"\n",
    ")"
   ]
  },
  {
   "cell_type": "code",
   "execution_count": null,
   "metadata": {},
   "outputs": [],
   "source": [
    "model_prices.idxmin()"
   ]
  },
  {
   "cell_type": "markdown",
   "metadata": {},
   "source": [
    "### Plot price duration curve"
   ]
  },
  {
   "cell_type": "code",
   "execution_count": null,
   "metadata": {},
   "outputs": [],
   "source": [
    "model_prices_sorted = model_prices.sort_values(\n",
    "        by=\"model_price\", ascending=False\n",
    "    ).reset_index(drop=True)\n",
    "\n",
    "draw_price_plot(\n",
    "    model_prices_sorted,\n",
    "    color=\"b\",\n",
    "    title=f\"Price duration curve for {simulation_year}\",\n",
    "    y_min_max=False,\n",
    "    show=True,\n",
    "    save=True,\n",
    "    file_name=f\"power_price_time_series_{simulation_year}\"\n",
    ")"
   ]
  },
  {
   "cell_type": "code",
   "execution_count": null,
   "metadata": {},
   "outputs": [],
   "source": []
  }
 ],
 "metadata": {
  "kernelspec": {
   "display_name": "Python 3 (ipykernel)",
   "language": "python",
   "name": "python3"
  },
  "language_info": {
   "codemirror_mode": {
    "name": "ipython",
    "version": 3
   },
   "file_extension": ".py",
   "mimetype": "text/x-python",
   "name": "python",
   "nbconvert_exporter": "python",
   "pygments_lexer": "ipython3",
   "version": "3.8.13"
  },
  "toc": {
   "base_numbering": 1,
   "nav_menu": {},
   "number_sections": true,
   "sideBar": true,
   "skip_h1_title": false,
   "title_cell": "Table of Contents",
   "title_sidebar": "Contents",
   "toc_cell": false,
   "toc_position": {},
   "toc_section_display": true,
   "toc_window_display": false
  },
  "toc-autonumbering": false,
  "toc-showcode": false,
  "toc-showmarkdowntxt": false,
  "toc-showtags": false,
  "varInspector": {
   "cols": {
    "lenName": 16,
    "lenType": 16,
    "lenVar": 40
   },
   "kernels_config": {
    "python": {
     "delete_cmd_postfix": "",
     "delete_cmd_prefix": "del ",
     "library": "var_list.py",
     "varRefreshCmd": "print(var_dic_list())"
    },
    "r": {
     "delete_cmd_postfix": ") ",
     "delete_cmd_prefix": "rm(",
     "library": "var_list.r",
     "varRefreshCmd": "cat(var_dic_list()) "
    }
   },
   "types_to_exclude": [
    "module",
    "function",
    "builtin_function_or_method",
    "instance",
    "_Feature"
   ],
   "window_display": false
  }
 },
 "nbformat": 4,
 "nbformat_minor": 4
}
