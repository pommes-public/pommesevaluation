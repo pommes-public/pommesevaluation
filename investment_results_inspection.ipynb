{
 "cells": [
  {
   "cell_type": "markdown",
   "id": "90ac24ac",
   "metadata": {},
   "source": [
    "# Investments results inspection\n",
    "Routines for inspecting and visualizing _pommesinvest_ investment results.\n",
    "* Plot investment decisions\n",
    "* Plot decomissionings\n",
    "* Plot total installed capacity\n",
    "* Include exogenous capacities to evaluate plants status"
   ]
  },
  {
   "cell_type": "markdown",
   "id": "cb57e94e",
   "metadata": {},
   "source": [
    "## Package imports"
   ]
  },
  {
   "cell_type": "code",
   "execution_count": null,
   "id": "26325866",
   "metadata": {},
   "outputs": [],
   "source": [
    "import pandas as pd\n",
    "import matplotlib.pyplot as plt\n",
    "from pommesevaluation.investment_results_inspection import (\n",
    "    preprocess_raw_results, aggregate_investment_decision_results, plot_single_investment_variable\n",
    ")"
   ]
  },
  {
   "cell_type": "markdown",
   "id": "9a955c40",
   "metadata": {},
   "source": [
    "## Read in data\n",
    "* Define model configuration / results to be analyzed\n",
    "* Define column order and colors for evaluation\n",
    "* Read in the actual results"
   ]
  },
  {
   "cell_type": "code",
   "execution_count": null,
   "id": "4d0aa0d1",
   "metadata": {},
   "outputs": [],
   "source": [
    "time_frame_in_years = 6\n",
    "frequency = \"24H\"\n",
    "path_results = \"./model_results/\"\n",
    "path_processed_data = \"./data_out/\"\n",
    "path_plots = \"./plots/\"\n",
    "\n",
    "FUELS_EXISTING = {\n",
    "    \"uranium\": \"#e50000\",\n",
    "    \"lignite\": \"#7f2b0a\",\n",
    "    \"hardcoal\": \"#000000\",\n",
    "    \"mixedfuels\": \"#a57e52\",\n",
    "    \"otherfossil\": \"#d8dcd6\",\n",
    "}\n",
    "\n",
    "FUELS = {\n",
    "    \"biomass\": \"#15b01a\",\n",
    "    \"hydrogen\": \"#6fa8dc\",\n",
    "    \"natgas\": \"#ffd966\",\n",
    "    \"oil\": \"#aaa662\",\n",
    "    \"waste\": \"#c04e01\"\n",
    "}\n",
    "\n",
    "STORAGES_INFLOW = {\n",
    "    \"PHS_inflow\": \"#0c2aac\",\n",
    "    \"battery_inflow\": \"#f7e09a\"\n",
    "}\n",
    "STORAGES_OTHER = {\n",
    "    \"PHS_outflow\": \"#0c2aac\",\n",
    "    \"battery_outflow\": \"#f7e09a\",\n",
    "    \"PHS_capacity\": \"#0c2aac\",\n",
    "    \"battery_capacity\": \"#f7e09a\"\n",
    "}\n",
    "\n",
    "DEMAND_RESPONSE_CLUSTERS = {\n",
    "    \"hoho_cluster_shift_only\": \"#333333\", \n",
    "    \"hoho_cluster_shift_shed\": \"#555555\", \n",
    "    \"ind_cluster_shed_only\": \"#666666\",\n",
    "    \"ind_cluster_shift_only\": \"#888888\", \n",
    "    \"ind_cluster_shift_shed\": \"#aaaaaa\", \n",
    "    \"tcs+hoho_cluster_shift_only\": \"#cccccc\",\n",
    "    \"tcs_cluster_shift_only\": \"#dddddd\", \n",
    "}\n",
    "\n",
    "filename = (\n",
    "    f\"investment_LP_start-2020-01-01_{time_frame_in_years}\"\n",
    "    f\"-years_simple_freq_{frequency}_investment.csv\"\n",
    ")\n",
    "\n",
    "filename_backup = \"installed_capacity_backup_generation.csv\"\n",
    "filename_storage = \"installed_storage_capacity.csv\"\n",
    "\n",
    "plt.rcParams.update({'font.size': 12})\n",
    "\n",
    "investment_results_raw = pd.read_csv(f\"{path_results}{filename}\", index_col=0)\n",
    "\n",
    "# Control workflow\n",
    "include_storages_in_plots = True"
   ]
  },
  {
   "cell_type": "markdown",
   "id": "544a2634",
   "metadata": {},
   "source": [
    "## Preprocess and aggregate data\n",
    "See imported functions for documentation"
   ]
  },
  {
   "cell_type": "code",
   "execution_count": null,
   "id": "f6ead966",
   "metadata": {},
   "outputs": [],
   "source": [
    "processed_results = preprocess_raw_results(investment_results_raw)\n",
    "aggregated_results, other_storage_results = aggregate_investment_decision_results(\n",
    "    processed_results, energy_carriers=FUELS, by=\"energy_carrier\"\n",
    ")"
   ]
  },
  {
   "cell_type": "markdown",
   "id": "ba5e7681",
   "metadata": {},
   "source": [
    "## Visualize results\n",
    "Results visualization is separated between investments in storage energy content as well as storage outflow power and the remainder, i.e. investments in generation units, investments in storage inflow power and investments in demand response clusters.\n",
    "\n",
    "The following parameters are displayed\n",
    "* Newly installed capacity\n",
    "* Decommissioned capacity\n",
    "* Total installed capacity\n",
    "\n",
    "### Generation, storage inflow and demand response"
   ]
  },
  {
   "cell_type": "code",
   "execution_count": null,
   "id": "b8a3397a",
   "metadata": {},
   "outputs": [],
   "source": [
    "if include_storages_in_plots:\n",
    "    colors = {**FUELS, **STORAGES_INFLOW, **DEMAND_RESPONSE_CLUSTERS}\n",
    "else:\n",
    "    colors = {**FUELS, **DEMAND_RESPONSE_CLUSTERS}\n",
    "\n",
    "plot_single_investment_variable(\n",
    "    aggregated_results,\n",
    "    \"invest\",\n",
    "    colors=colors,\n",
    "    aggregation=\"energy_carrier\"\n",
    ")"
   ]
  },
  {
   "cell_type": "code",
   "execution_count": null,
   "id": "f3882d0f",
   "metadata": {},
   "outputs": [],
   "source": [
    "if include_storages_in_plots:\n",
    "    colors = {**FUELS, **STORAGES_INFLOW, **DEMAND_RESPONSE_CLUSTERS}\n",
    "else:\n",
    "    colors = {**FUELS, **DEMAND_RESPONSE_CLUSTERS}\n",
    "\n",
    "plot_single_investment_variable(\n",
    "    aggregated_results,\n",
    "    \"old\",\n",
    "    colors=colors,\n",
    "    aggregation=\"energy_carrier\"\n",
    ")"
   ]
  },
  {
   "cell_type": "code",
   "execution_count": null,
   "id": "b3aff3ca",
   "metadata": {},
   "outputs": [],
   "source": [
    "if include_storages_in_plots:\n",
    "    colors = {**FUELS, **STORAGES_INFLOW, **DEMAND_RESPONSE_CLUSTERS}\n",
    "else:\n",
    "    colors = {**FUELS, **DEMAND_RESPONSE_CLUSTERS}\n",
    "\n",
    "plot_single_investment_variable(\n",
    "    aggregated_results,\n",
    "    \"total\",\n",
    "    colors=colors,\n",
    "    aggregation=\"energy_carrier\"\n",
    ")"
   ]
  },
  {
   "cell_type": "markdown",
   "id": "5ebcdba5",
   "metadata": {},
   "source": [
    "### Storage outflow and storage energy content"
   ]
  },
  {
   "cell_type": "code",
   "execution_count": null,
   "id": "604255e7",
   "metadata": {},
   "outputs": [],
   "source": [
    "plot_single_investment_variable(\n",
    "    other_storage_results,\n",
    "    \"invest\",\n",
    "    colors=STORAGES_OTHER,\n",
    "    aggregation=\"energy_carrier\",\n",
    "    storage=True\n",
    ")"
   ]
  },
  {
   "cell_type": "code",
   "execution_count": null,
   "id": "fe446189",
   "metadata": {},
   "outputs": [],
   "source": [
    "plot_single_investment_variable(\n",
    "    other_storage_results,\n",
    "    \"old\",\n",
    "    colors=STORAGES_OTHER,\n",
    "    aggregation=\"energy_carrier\",\n",
    "    storage=True\n",
    ")"
   ]
  },
  {
   "cell_type": "code",
   "execution_count": null,
   "id": "982dc5b5",
   "metadata": {},
   "outputs": [],
   "source": [
    "plot_single_investment_variable(\n",
    "    other_storage_results,\n",
    "    \"total\",\n",
    "    colors=STORAGES_OTHER,\n",
    "    aggregation=\"energy_carrier\",\n",
    "    storage=True\n",
    ")"
   ]
  },
  {
   "cell_type": "markdown",
   "id": "cf142495",
   "metadata": {},
   "source": [
    "## Include exogenous capacities in assessment\n",
    "* Read in capacities of backup plants, aggregated by fuel\n",
    "* Read in installed power and capacity of storage units"
   ]
  },
  {
   "cell_type": "code",
   "execution_count": null,
   "id": "25210cf9",
   "metadata": {},
   "outputs": [],
   "source": [
    "backup_generation = pd.read_csv(\n",
    "    f\"{path_processed_data}{filename_backup}\", index_col=0\n",
    ")\n",
    "backup_generation.index = backup_generation.index.astype(str)"
   ]
  },
  {
   "cell_type": "code",
   "execution_count": null,
   "id": "6fdb0ad3",
   "metadata": {},
   "outputs": [],
   "source": [
    "grouped_total = aggregated_results[[\"total\"]].reset_index()\n",
    "grouped_total = grouped_total.pivot(\n",
    "    index=\"energy_carrier\", columns=\"year\", values=\"total\"\n",
    ").T"
   ]
  },
  {
   "cell_type": "code",
   "execution_count": null,
   "id": "7aba3b84",
   "metadata": {},
   "outputs": [],
   "source": [
    "overall_capacity = grouped_total.add(backup_generation)\n",
    "overall_capacity.loc[:,overall_capacity.isna().all()] = backup_generation\n",
    "overall_capacity.loc[:,overall_capacity.isna().all()] = grouped_total"
   ]
  },
  {
   "cell_type": "code",
   "execution_count": null,
   "id": "7ed5dfed",
   "metadata": {},
   "outputs": [],
   "source": [
    "if include_storages_in_plots:\n",
    "    colors = {**FUELS_EXISTING, **FUELS, **STORAGES_INFLOW, **DEMAND_RESPONSE_CLUSTERS}\n",
    "else:\n",
    "    colors = {**FUELS_EXISTING, **FUELS, **DEMAND_RESPONSE_CLUSTERS}\n",
    "\n",
    "plot_single_investment_variable(\n",
    "    overall_capacity.T,\n",
    "    \"all\",\n",
    "    colors=colors,\n",
    "    group=False\n",
    ")"
   ]
  },
  {
   "cell_type": "code",
   "execution_count": null,
   "id": "b4697ebd",
   "metadata": {},
   "outputs": [],
   "source": []
  }
 ],
 "metadata": {
  "kernelspec": {
   "display_name": "Python 3 (ipykernel)",
   "language": "python",
   "name": "python3"
  },
  "language_info": {
   "codemirror_mode": {
    "name": "ipython",
    "version": 3
   },
   "file_extension": ".py",
   "mimetype": "text/x-python",
   "name": "python",
   "nbconvert_exporter": "python",
   "pygments_lexer": "ipython3",
   "version": "3.8.13"
  },
  "toc": {
   "base_numbering": 1,
   "nav_menu": {},
   "number_sections": true,
   "sideBar": true,
   "skip_h1_title": false,
   "title_cell": "Table of Contents",
   "title_sidebar": "Contents",
   "toc_cell": false,
   "toc_position": {},
   "toc_section_display": true,
   "toc_window_display": true
  },
  "varInspector": {
   "cols": {
    "lenName": 16,
    "lenType": 16,
    "lenVar": 40
   },
   "kernels_config": {
    "python": {
     "delete_cmd_postfix": "",
     "delete_cmd_prefix": "del ",
     "library": "var_list.py",
     "varRefreshCmd": "print(var_dic_list())"
    },
    "r": {
     "delete_cmd_postfix": ") ",
     "delete_cmd_prefix": "rm(",
     "library": "var_list.r",
     "varRefreshCmd": "cat(var_dic_list()) "
    }
   },
   "types_to_exclude": [
    "module",
    "function",
    "builtin_function_or_method",
    "instance",
    "_Feature"
   ],
   "window_display": false
  }
 },
 "nbformat": 4,
 "nbformat_minor": 5
}
