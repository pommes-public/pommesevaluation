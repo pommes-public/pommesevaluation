{
 "cells": [
  {
   "cell_type": "markdown",
   "id": "90ac24ac",
   "metadata": {},
   "source": [
    "# Investments results inspection\n",
    "Routines for converting, inspecting and visualizing _pommesinvest_ investment results.\n",
    "* Plot investment decisions\n",
    "* Plot decomissionings\n",
    "* Plot total installed capacity\n",
    "* Include exogenous capacities to evaluate plants status"
   ]
  },
  {
   "cell_type": "markdown",
   "id": "cb57e94e",
   "metadata": {},
   "source": [
    "## Package imports"
   ]
  },
  {
   "cell_type": "code",
   "execution_count": null,
   "id": "26325866",
   "metadata": {},
   "outputs": [],
   "source": [
    "import pandas as pd\n",
    "import matplotlib.pyplot as plt\n",
    "from pommesevaluation.investment_results_inspection import (\n",
    "    preprocess_raw_results, \n",
    "    aggregate_investment_results, \n",
    "    extract_data_and_save,\n",
    "    plot_single_investment_variable, \n",
    "    plot_single_investment_variable_for_all_cases,\n",
    ")"
   ]
  },
  {
   "cell_type": "markdown",
   "id": "9a955c40",
   "metadata": {},
   "source": [
    "## Script parameterization\n",
    "* Define model configuration / results to be analyzed\n",
    "* Define column order and colors for evaluation\n",
    "* Read in the actual results"
   ]
  },
  {
   "cell_type": "code",
   "execution_count": null,
   "id": "4d0aa0d1",
   "metadata": {},
   "outputs": [],
   "source": [
    "# Model configuration\n",
    "time_frame_in_years = 26\n",
    "frequency = \"1H\"\n",
    "dr_scenario = \"none\"\n",
    "dr_scenarios = [\"none\", \"5\", \"50\", \"95\"]\n",
    "sensitivities = [\"pv_-50%\", \"pv_+50%\", \"prices_-50%\", \"prices_+50%\", \"consumption_-50%\", \"consumption_+50%\"]\n",
    "fuel_price_scenario = \"NZE_high\"\n",
    "emissions_pathway = \"long-term\"\n",
    "impose_investment_maxima = False\n",
    "\n",
    "# Paths, filenames and color codes\n",
    "path_results = \"./model_results/pommesinvest/\"\n",
    "path_processed_data = \"./data_out/\"\n",
    "path_plots = \"./plots/\"\n",
    "\n",
    "FUELS_EXISTING = {\n",
    "    \"uranium\": \"#e50000\",\n",
    "    \"lignite\": \"#7f2b0a\",\n",
    "    \"hardcoal\": \"#000000\",\n",
    "    \"mixedfuels\": \"#a57e52\",\n",
    "    \"otherfossil\": \"#d8dcd6\",\n",
    "}\n",
    "\n",
    "FUELS = {\n",
    "    \"biomass\": \"#15b01a\",\n",
    "    \"hydrogen\": \"#6fa8dc\",\n",
    "    \"natgas\": \"#ffd966\",\n",
    "    \"oil\": \"#aaa662\",\n",
    "    \"waste\": \"#c04e01\"\n",
    "}\n",
    "\n",
    "STORAGES_INFLOW = {\n",
    "    \"PHS_inflow\": \"#0c2aac\",\n",
    "    \"battery_inflow\": \"#f7e09a\"\n",
    "}\n",
    "STORAGES_OTHER = {\n",
    "    \"PHS_outflow\": \"#0c2aac\",\n",
    "    \"battery_outflow\": \"#f7e09a\",\n",
    "    \"PHS_capacity\": \"#0c2aac\",\n",
    "    \"battery_capacity\": \"#f7e09a\"\n",
    "}\n",
    "\n",
    "DEMAND_RESPONSE_CLUSTERS = {\n",
    "    \"hoho_cluster_shift_only\": \"#333333\", \n",
    "    \"hoho_cluster_shift_shed\": \"#555555\", \n",
    "    \"ind_cluster_shed_only\": \"#666666\",\n",
    "    \"ind_cluster_shift_only\": \"#888888\", \n",
    "    \"ind_cluster_shift_shed\": \"#aaaaaa\", \n",
    "    \"tcs+hoho_cluster_shift_only\": \"#cccccc\",\n",
    "    \"tcs_cluster_shift_only\": \"#dddddd\", \n",
    "}\n",
    "\n",
    "filename = (\n",
    "    f\"investment_LP_start-2020-01-01_{time_frame_in_years}\"\n",
    "    f\"-years_simple_freq_{frequency}\"\n",
    ")\n",
    "if impose_investment_maxima:\n",
    "    annual_investment_limits = \"\"\n",
    "else:\n",
    "    annual_investment_limits = \"_no_annual_limit\"\n",
    "if dr_scenario != \"none\":\n",
    "    file_add_on = (\n",
    "        f\"_with_dr_{dr_scenario}_\"\n",
    "        f\"fuel_price-{fuel_price_scenario}_\"\n",
    "        f\"co2_price-{emissions_pathway}{annual_investment_limits}_investment\"\n",
    "    )\n",
    "else:\n",
    "    file_add_on = (\n",
    "        f\"_no_dr_50_\"\n",
    "        f\"fuel_price-{fuel_price_scenario}_\"\n",
    "        f\"co2_price-{emissions_pathway}{annual_investment_limits}_investment\"\n",
    "    )\n",
    "file_extension = \".csv\"\n",
    "\n",
    "filename_backup = \"installed_capacity_backup_generation.csv\"\n",
    "filename_storage = \"installed_storage_capacity.csv\"\n",
    "\n",
    "plt.rcParams.update({'font.size': 12})\n",
    "\n",
    "# Control workflow\n",
    "include_storages_in_plots = True\n",
    "aggregation_mode = \"energy_carrier\""
   ]
  },
  {
   "cell_type": "markdown",
   "id": "544a2634",
   "metadata": {},
   "source": [
    "# Single scenario analyses\n",
    "Inspect the results for a single scenario model run.\n",
    "## Read in, preprocess and aggregate data\n",
    "See imported functions for documentation"
   ]
  },
  {
   "cell_type": "code",
   "execution_count": null,
   "id": "f6ead966",
   "metadata": {},
   "outputs": [],
   "source": [
    "investment_results_raw = pd.read_csv(f\"{path_results}{filename}{file_add_on}{file_extension}\", index_col=0)\n",
    "processed_results = preprocess_raw_results(investment_results_raw)\n",
    "aggregated_results, other_storage_results = aggregate_investment_results(\n",
    "    processed_results, energy_carriers=FUELS, by=\"energy_carrier\"\n",
    ")"
   ]
  },
  {
   "cell_type": "markdown",
   "id": "ba5e7681",
   "metadata": {},
   "source": [
    "## Visualize results\n",
    "Results visualization is separated between investments in storage energy content as well as storage outflow power and the remainder, i.e. investments in generation units, investments in storage inflow power and investments in demand response clusters.\n",
    "\n",
    "The following parameters are displayed\n",
    "* Newly installed capacity\n",
    "* Decommissioned capacity\n",
    "* Total installed capacity\n",
    "\n",
    "### Generation, storage inflow and demand response"
   ]
  },
  {
   "cell_type": "code",
   "execution_count": null,
   "id": "b8a3397a",
   "metadata": {},
   "outputs": [],
   "source": [
    "if include_storages_in_plots:\n",
    "    if dr_scenario != \"none\":\n",
    "        colors = {**FUELS, **STORAGES_INFLOW, **DEMAND_RESPONSE_CLUSTERS}\n",
    "    else:\n",
    "        colors = {**FUELS, **STORAGES_INFLOW}\n",
    "else:\n",
    "    if dr_scenario != \"none\":\n",
    "        colors = {**FUELS, **DEMAND_RESPONSE_CLUSTERS}\n",
    "    else:\n",
    "        colors = FUELS\n",
    "\n",
    "plot_single_investment_variable(\n",
    "    aggregated_results,\n",
    "    \"invest\",\n",
    "    colors=colors,\n",
    "    aggregation=aggregation_mode,\n",
    "    save=True,\n",
    "    filename=\"results_invest_dr_scenario\",\n",
    "    dr_scenario=dr_scenario,\n",
    "    path_plots=path_plots,\n",
    "    path_data_out=path_processed_data,\n",
    "    ylim=[0, 50000]\n",
    ")"
   ]
  },
  {
   "cell_type": "code",
   "execution_count": null,
   "id": "f3882d0f",
   "metadata": {},
   "outputs": [],
   "source": [
    "if include_storages_in_plots:\n",
    "    if dr_scenario != \"none\":\n",
    "        colors = {**FUELS, **STORAGES_INFLOW, **DEMAND_RESPONSE_CLUSTERS}\n",
    "    else:\n",
    "        colors = {**FUELS, **STORAGES_INFLOW}\n",
    "else:\n",
    "    if dr_scenario != \"none\":\n",
    "        colors = {**FUELS, **DEMAND_RESPONSE_CLUSTERS}\n",
    "    else:\n",
    "        colors = FUELS\n",
    "\n",
    "plot_single_investment_variable(\n",
    "    aggregated_results,\n",
    "    \"old\",\n",
    "    colors=colors,\n",
    "    aggregation=aggregation_mode,\n",
    "    save=True,\n",
    "    filename=\"results_old_dr_scenario\",\n",
    "    dr_scenario=dr_scenario,\n",
    "    path_plots=path_plots,\n",
    "    path_data_out=path_processed_data\n",
    ")"
   ]
  },
  {
   "cell_type": "code",
   "execution_count": null,
   "id": "b3aff3ca",
   "metadata": {},
   "outputs": [],
   "source": [
    "if include_storages_in_plots:\n",
    "    if dr_scenario != \"none\":\n",
    "        colors = {**FUELS, **STORAGES_INFLOW, **DEMAND_RESPONSE_CLUSTERS}\n",
    "    else:\n",
    "        colors = {**FUELS, **STORAGES_INFLOW}\n",
    "else:\n",
    "    if dr_scenario != \"none\":\n",
    "        colors = {**FUELS, **DEMAND_RESPONSE_CLUSTERS}\n",
    "    else:\n",
    "        colors = FUELS\n",
    "\n",
    "plot_single_investment_variable(\n",
    "    aggregated_results,\n",
    "    \"total\",\n",
    "    colors=colors,\n",
    "    aggregation=aggregation_mode,\n",
    "    save=True,\n",
    "    filename=\"results_total_dr_scenario\",\n",
    "    dr_scenario=dr_scenario,\n",
    "    path_plots=path_plots,\n",
    "    path_data_out=path_processed_data\n",
    ")"
   ]
  },
  {
   "cell_type": "markdown",
   "id": "5ebcdba5",
   "metadata": {},
   "source": [
    "### Storage outflow and storage energy content"
   ]
  },
  {
   "cell_type": "code",
   "execution_count": null,
   "id": "604255e7",
   "metadata": {},
   "outputs": [],
   "source": [
    "plot_single_investment_variable(\n",
    "    other_storage_results,\n",
    "    \"invest\",\n",
    "    colors=STORAGES_OTHER,\n",
    "    aggregation=\"energy_carrier\",\n",
    "    storage=True,\n",
    "    save=True,\n",
    "    filename=\"results_storages_invest_dr_scenario\",\n",
    "    dr_scenario=dr_scenario,\n",
    "    path_plots=path_plots,\n",
    "    path_data_out=path_processed_data\n",
    ")"
   ]
  },
  {
   "cell_type": "code",
   "execution_count": null,
   "id": "fe446189",
   "metadata": {},
   "outputs": [],
   "source": [
    "plot_single_investment_variable(\n",
    "    other_storage_results,\n",
    "    \"old\",\n",
    "    colors=STORAGES_OTHER,\n",
    "    aggregation=\"energy_carrier\",\n",
    "    storage=True,\n",
    "    save=True,\n",
    "    filename=\"results_storages_old_dr_scenario\",\n",
    "    dr_scenario=dr_scenario,\n",
    "    path_plots=path_plots,\n",
    "    path_data_out=path_processed_data\n",
    ")"
   ]
  },
  {
   "cell_type": "code",
   "execution_count": null,
   "id": "982dc5b5",
   "metadata": {},
   "outputs": [],
   "source": [
    "plot_single_investment_variable(\n",
    "    other_storage_results,\n",
    "    \"total\",\n",
    "    colors=STORAGES_OTHER,\n",
    "    aggregation=\"energy_carrier\",\n",
    "    storage=True,\n",
    "    save=True,\n",
    "    filename=\"results_storages_total_dr_scenario\",\n",
    "    dr_scenario=dr_scenario,\n",
    "    path_plots=path_plots,\n",
    "    path_data_out=path_processed_data\n",
    ")"
   ]
  },
  {
   "cell_type": "markdown",
   "id": "cf142495",
   "metadata": {},
   "source": [
    "## Include exogenous capacities in assessment\n",
    "* Read in capacities of backup plants, aggregated by fuel\n",
    "* Read in installed power and capacity of storage units"
   ]
  },
  {
   "cell_type": "code",
   "execution_count": null,
   "id": "25210cf9",
   "metadata": {},
   "outputs": [],
   "source": [
    "backup_generation = pd.read_csv(\n",
    "    f\"{path_processed_data}{filename_backup}\", index_col=0\n",
    ")\n",
    "if time_frame_in_years <= 26:\n",
    "    backup_generation = backup_generation.loc[:2045]\n",
    "backup_generation.index = backup_generation.index.astype(str)"
   ]
  },
  {
   "cell_type": "code",
   "execution_count": null,
   "id": "6fdb0ad3",
   "metadata": {},
   "outputs": [],
   "source": [
    "grouped_total = aggregated_results[[\"total\"]].reset_index()\n",
    "grouped_total = grouped_total.pivot(\n",
    "    index=\"energy_carrier\", columns=\"year\", values=\"total\"\n",
    ").T"
   ]
  },
  {
   "cell_type": "code",
   "execution_count": null,
   "id": "7aba3b84",
   "metadata": {},
   "outputs": [],
   "source": [
    "overall_capacity = grouped_total.add(backup_generation)\n",
    "overall_capacity.loc[:,overall_capacity.isna().all()] = backup_generation\n",
    "overall_capacity.loc[:,overall_capacity.isna().all()] = grouped_total"
   ]
  },
  {
   "cell_type": "code",
   "execution_count": null,
   "id": "7ed5dfed",
   "metadata": {},
   "outputs": [],
   "source": [
    "if include_storages_in_plots:\n",
    "    if dr_scenario != \"none\":\n",
    "        colors = {**FUELS_EXISTING, **FUELS, **STORAGES_INFLOW, **DEMAND_RESPONSE_CLUSTERS}\n",
    "    else:\n",
    "        colors = {**FUELS_EXISTING, **FUELS, **STORAGES_INFLOW}\n",
    "else:\n",
    "    if dr_scenario != \"none\":\n",
    "        colors = {**FUELS_EXISTING, **FUELS, **DEMAND_RESPONSE_CLUSTERS}\n",
    "    else:\n",
    "        colors = {**FUELS_EXISTING, **FUELS}\n",
    "\n",
    "plot_single_investment_variable(\n",
    "    overall_capacity.T,\n",
    "    \"all\",\n",
    "    colors=colors,\n",
    "    group=False,\n",
    "    save=True,\n",
    "    filename=\"results_all_dr_scenario\",\n",
    "    dr_scenario=dr_scenario,\n",
    "    path_plots=path_plots,\n",
    "    path_data_out=path_processed_data,\n",
    "    ylim=[0, 200000]\n",
    ")"
   ]
  },
  {
   "cell_type": "code",
   "execution_count": null,
   "id": "439662dd",
   "metadata": {},
   "outputs": [],
   "source": [
    "if dr_scenario != \"none\":\n",
    "    overall_capacity[\"demand_response_overall\"] = overall_capacity[[\n",
    "        \"hoho_cluster_shift_only\", \n",
    "        \"hoho_cluster_shift_shed\", \n",
    "        \"ind_cluster_shed_only\",\n",
    "        \"ind_cluster_shift_only\",\n",
    "        \"ind_cluster_shift_shed\",\n",
    "        \"tcs+hoho_cluster_shift_only\",\n",
    "        \"tcs_cluster_shift_only\"\n",
    "    ]].sum(axis=1)"
   ]
  },
  {
   "cell_type": "code",
   "execution_count": null,
   "id": "34e2dba8",
   "metadata": {},
   "outputs": [],
   "source": [
    "overall_capacity"
   ]
  },
  {
   "cell_type": "markdown",
   "id": "74448b63",
   "metadata": {},
   "source": [
    "# Multi scenario analyses\n",
    "Inspect and compare the results among scenarios."
   ]
  },
  {
   "cell_type": "markdown",
   "id": "6ee70a6a-0c59-4faf-b101-957e0a523ce1",
   "metadata": {},
   "source": [
    "## Read in, preprocess and aggregate data"
   ]
  },
  {
   "cell_type": "code",
   "execution_count": null,
   "id": "44e1b9ca",
   "metadata": {},
   "outputs": [],
   "source": [
    "investment_results_raw = {}\n",
    "aggregated_results = {}\n",
    "other_storage_results = {}\n",
    "for dr_scenario in dr_scenarios:\n",
    "    if dr_scenario != \"none\":\n",
    "        file_add_on = (\n",
    "            f\"_with_dr_{dr_scenario}_\"\n",
    "            f\"fuel_price-{fuel_price_scenario}_\"\n",
    "            f\"co2_price-{emissions_pathway}{annual_investment_limits}_investment\"\n",
    "        )\n",
    "    else:\n",
    "        file_add_on = (\n",
    "            f\"_no_dr_50_\"\n",
    "            f\"fuel_price-{fuel_price_scenario}_\"\n",
    "            f\"co2_price-{emissions_pathway}{annual_investment_limits}_investment\"\n",
    "        )\n",
    "    investment_results_raw[dr_scenario] = (\n",
    "        pd.read_csv(f\"{path_results}{filename}{file_add_on}{file_extension}\", index_col=0)\n",
    "    )\n",
    "    processed_results = preprocess_raw_results(investment_results_raw[dr_scenario])\n",
    "    aggregated_results[dr_scenario], other_storage_results[dr_scenario] = aggregate_investment_results(\n",
    "        processed_results, energy_carriers=FUELS, by=\"energy_carrier\"\n",
    "    )"
   ]
  },
  {
   "cell_type": "markdown",
   "id": "b89733c6",
   "metadata": {},
   "source": [
    "## Visualize results\n",
    "### Generation, storage inflow and demand response"
   ]
  },
  {
   "cell_type": "code",
   "execution_count": null,
   "id": "11eb952f",
   "metadata": {},
   "outputs": [],
   "source": [
    "if include_storages_in_plots:\n",
    "    colors = {**FUELS, **STORAGES_INFLOW, **DEMAND_RESPONSE_CLUSTERS}\n",
    "else:\n",
    "    colors = {**FUELS, **DEMAND_RESPONSE_CLUSTERS}\n",
    "\n",
    "plot_single_investment_variable_for_all_cases(\n",
    "    aggregated_results,\n",
    "    \"invest\",\n",
    "    colors=colors,\n",
    "    aggregation=\"energy_carrier\",\n",
    "    dr_color_codes=DEMAND_RESPONSE_CLUSTERS,\n",
    "    save=True,\n",
    "    filename=\"results_invest\",\n",
    "    path_plots=path_plots,\n",
    "    ylim=(0, 50000),\n",
    ")"
   ]
  },
  {
   "cell_type": "code",
   "execution_count": null,
   "id": "fa3207a1",
   "metadata": {},
   "outputs": [],
   "source": [
    "if include_storages_in_plots:\n",
    "    colors = {**FUELS, **STORAGES_INFLOW, **DEMAND_RESPONSE_CLUSTERS}\n",
    "else:\n",
    "    colors = {**FUELS, **DEMAND_RESPONSE_CLUSTERS}\n",
    "\n",
    "plot_single_investment_variable_for_all_cases(\n",
    "    aggregated_results,\n",
    "    \"old\",\n",
    "    colors=colors,\n",
    "    aggregation=\"energy_carrier\",\n",
    "    dr_color_codes=DEMAND_RESPONSE_CLUSTERS,\n",
    "    save=True,\n",
    "    filename=\"results_old\",\n",
    "    path_plots=path_plots,\n",
    "    ylim=(0, 50000),\n",
    ")"
   ]
  },
  {
   "cell_type": "code",
   "execution_count": null,
   "id": "d35e9abc",
   "metadata": {},
   "outputs": [],
   "source": [
    "if include_storages_in_plots:\n",
    "    colors = {**FUELS, **STORAGES_INFLOW, **DEMAND_RESPONSE_CLUSTERS}\n",
    "else:\n",
    "    colors = {**FUELS, **DEMAND_RESPONSE_CLUSTERS}\n",
    "\n",
    "plot_single_investment_variable_for_all_cases(\n",
    "    aggregated_results,\n",
    "    \"total\",\n",
    "    colors=colors,\n",
    "    aggregation=\"energy_carrier\",\n",
    "    dr_color_codes=DEMAND_RESPONSE_CLUSTERS,\n",
    "    save=True,\n",
    "    filename=\"results_total\",\n",
    "    path_plots=path_plots,\n",
    "    ylim=(0, 300000),\n",
    ")"
   ]
  },
  {
   "cell_type": "markdown",
   "id": "c7f156f2",
   "metadata": {
    "tags": []
   },
   "source": [
    "### Storage outflow and storage energy content"
   ]
  },
  {
   "cell_type": "code",
   "execution_count": null,
   "id": "cde2201d",
   "metadata": {},
   "outputs": [],
   "source": [
    "plot_single_investment_variable_for_all_cases(\n",
    "    other_storage_results,\n",
    "    \"invest\",\n",
    "    colors=STORAGES_OTHER,\n",
    "    aggregation=\"energy_carrier\",\n",
    "    storage=True,\n",
    "    dr_color_codes={},\n",
    "    save=True,\n",
    "    filename=\"results_storages_invest\",\n",
    "    path_plots=path_plots,\n",
    ")"
   ]
  },
  {
   "cell_type": "code",
   "execution_count": null,
   "id": "2fe3aff1",
   "metadata": {},
   "outputs": [],
   "source": [
    "plot_single_investment_variable_for_all_cases(\n",
    "    other_storage_results,\n",
    "    \"old\",\n",
    "    colors=STORAGES_OTHER,\n",
    "    aggregation=\"energy_carrier\",\n",
    "    storage=True,\n",
    "    dr_color_codes={},\n",
    "    save=True,\n",
    "    filename=\"results_storages_old\",\n",
    "    path_plots=path_plots,\n",
    ")"
   ]
  },
  {
   "cell_type": "code",
   "execution_count": null,
   "id": "dab314a1",
   "metadata": {},
   "outputs": [],
   "source": [
    "plot_single_investment_variable_for_all_cases(\n",
    "    other_storage_results,\n",
    "    \"total\",\n",
    "    colors=STORAGES_OTHER,\n",
    "    aggregation=\"energy_carrier\",\n",
    "    storage=True,\n",
    "    dr_color_codes={},\n",
    "    save=True,\n",
    "    filename=\"results_storages_total\",\n",
    "    path_plots=path_plots,\n",
    ")"
   ]
  },
  {
   "cell_type": "markdown",
   "id": "620076e2",
   "metadata": {},
   "source": [
    "## Include exogenous capacities in assessment"
   ]
  },
  {
   "cell_type": "code",
   "execution_count": null,
   "id": "942225e7",
   "metadata": {},
   "outputs": [],
   "source": [
    "overall_capacity = {}\n",
    "for dr_scenario in dr_scenarios:\n",
    "    grouped_total = aggregated_results[dr_scenario][[\"total\"]].reset_index()\n",
    "    grouped_total = grouped_total.pivot(\n",
    "        index=\"energy_carrier\", columns=\"year\", values=\"total\"\n",
    "    ).T\n",
    "    overall_capacity[dr_scenario] = grouped_total.add(backup_generation)\n",
    "    overall_capacity[dr_scenario].loc[:, overall_capacity[dr_scenario].isna().all()] = backup_generation\n",
    "    overall_capacity[dr_scenario].loc[:, overall_capacity[dr_scenario].isna().all()] = grouped_total\n",
    "    overall_capacity[dr_scenario] = overall_capacity[dr_scenario].T"
   ]
  },
  {
   "cell_type": "code",
   "execution_count": null,
   "id": "f3f4e2c6",
   "metadata": {},
   "outputs": [],
   "source": [
    "if include_storages_in_plots:\n",
    "    colors = {**FUELS_EXISTING, **FUELS, **STORAGES_INFLOW, **DEMAND_RESPONSE_CLUSTERS}\n",
    "\n",
    "else:\n",
    "    colors = {**FUELS_EXISTING, **FUELS, **DEMAND_RESPONSE_CLUSTERS}\n",
    "\n",
    "plot_single_investment_variable_for_all_cases(\n",
    "    overall_capacity,\n",
    "    \"all\",\n",
    "    colors=colors,\n",
    "    aggregation=\"energy_carrier\",\n",
    "    dr_color_codes=DEMAND_RESPONSE_CLUSTERS,\n",
    "    group=False,\n",
    "    save=True,\n",
    "    filename=\"results_all\",\n",
    "    path_plots=path_plots,\n",
    "    ylim=(0, 350000),\n",
    ")"
   ]
  },
  {
   "cell_type": "code",
   "execution_count": null,
   "id": "eaad7596-c0fb-4679-b851-ff7d4c198fa7",
   "metadata": {},
   "outputs": [],
   "source": [
    "for dr_scenario in dr_scenarios:\n",
    "    if dr_scenario != \"none\":\n",
    "        overall_capacity[dr_scenario].loc[\"demand_response_overall\"] = overall_capacity[dr_scenario].loc[[\n",
    "            \"hoho_cluster_shift_only\", \n",
    "            \"hoho_cluster_shift_shed\", \n",
    "            \"ind_cluster_shed_only\",\n",
    "            \"ind_cluster_shift_only\",\n",
    "            \"ind_cluster_shift_shed\",\n",
    "            \"tcs+hoho_cluster_shift_only\",\n",
    "            \"tcs_cluster_shift_only\"\n",
    "        ]].sum()\n",
    "    overall_capacity[dr_scenario].to_csv(f\"{path_processed_data}overall_capacity_dr_scenario_{dr_scenario}.csv\", sep=\";\")"
   ]
  },
  {
   "cell_type": "markdown",
   "id": "345d8091-3386-4986-85e4-feb4cb975c63",
   "metadata": {
    "tags": []
   },
   "source": [
    "# Analyses of sensitivities\n",
    "Inspect and compare among the sensitivities considered for scenario DR 50"
   ]
  },
  {
   "cell_type": "markdown",
   "id": "9223e7bd-53f8-4a1c-8014-af99029333fe",
   "metadata": {},
   "source": [
    "## Read in, preprocess and aggregate data"
   ]
  },
  {
   "cell_type": "code",
   "execution_count": null,
   "id": "6394d588-0cde-42b9-a961-d1489ebac617",
   "metadata": {},
   "outputs": [],
   "source": [
    "investment_results_raw = {}\n",
    "aggregated_results = {}\n",
    "other_storage_results = {}\n",
    "file_add_on = (\n",
    "    f\"_with_dr_50_\"\n",
    "    f\"fuel_price-{fuel_price_scenario}_\"\n",
    "    f\"co2_price-{emissions_pathway}{annual_investment_limits}_\"\n",
    ")\n",
    "renamed_sensitivities = []\n",
    "\n",
    "for sensitivity in sensitivities:\n",
    "    renamed_sensitivity = f\"{sensitivity.split('_')[0]} {sensitivity.split('_')[-1]}\"\n",
    "    renamed_sensitivities.append(renamed_sensitivity)\n",
    "    file_add_on_sensitivity = f\"sensitivity_{sensitivity}_investment\"\n",
    "    \n",
    "    investment_results_raw[sensitivity] = (\n",
    "        pd.read_csv(f\"{path_results}{filename}{file_add_on}{file_add_on_sensitivity}{file_extension}\", index_col=0)\n",
    "    )\n",
    "    processed_results = preprocess_raw_results(investment_results_raw[sensitivity])\n",
    "    aggregated_results[renamed_sensitivity], other_storage_results[sensitivity] = aggregate_investment_results(\n",
    "        processed_results, energy_carriers=FUELS, by=\"energy_carrier\"\n",
    "    )"
   ]
  },
  {
   "cell_type": "markdown",
   "id": "cb7b9e64-cfc1-4e8a-80fe-19f0ec2fa247",
   "metadata": {},
   "source": [
    "## Visualize results\n",
    "### Generation, storage inflow and demand response"
   ]
  },
  {
   "cell_type": "code",
   "execution_count": null,
   "id": "7e34e8bc-a123-40ec-91fc-7fa77745d5b5",
   "metadata": {},
   "outputs": [],
   "source": [
    "if include_storages_in_plots:\n",
    "    colors = {**FUELS, **STORAGES_INFLOW, **DEMAND_RESPONSE_CLUSTERS}\n",
    "else:\n",
    "    colors = {**FUELS, **DEMAND_RESPONSE_CLUSTERS}\n",
    "\n",
    "plot_single_investment_variable_for_all_cases(\n",
    "    aggregated_results,\n",
    "    \"invest\",\n",
    "    colors=colors,\n",
    "    aggregation=\"energy_carrier\",\n",
    "    dr_color_codes=DEMAND_RESPONSE_CLUSTERS,\n",
    "    save=True,\n",
    "    filename=\"results_invest_sensitivities\",\n",
    "    path_plots=path_plots,\n",
    "    ylim=(0, 50000),\n",
    "    title=\"Demand Reponse scenario 50; sensitivity:\",\n",
    ")"
   ]
  },
  {
   "cell_type": "code",
   "execution_count": null,
   "id": "66b650d6-6127-4468-ad0a-f3cfff2e97d9",
   "metadata": {},
   "outputs": [],
   "source": [
    "if include_storages_in_plots:\n",
    "    colors = {**FUELS, **STORAGES_INFLOW, **DEMAND_RESPONSE_CLUSTERS}\n",
    "else:\n",
    "    colors = {**FUELS, **DEMAND_RESPONSE_CLUSTERS}\n",
    "\n",
    "plot_single_investment_variable_for_all_cases(\n",
    "    aggregated_results,\n",
    "    \"old\",\n",
    "    colors=colors,\n",
    "    aggregation=\"energy_carrier\",\n",
    "    dr_color_codes=DEMAND_RESPONSE_CLUSTERS,\n",
    "    save=True,\n",
    "    filename=\"results_old_sensitivities\",\n",
    "    path_plots=path_plots,\n",
    "    ylim=(0, 50000),\n",
    "    title=\"Demand Reponse scenario 50; sensitivity:\",\n",
    ")"
   ]
  },
  {
   "cell_type": "code",
   "execution_count": null,
   "id": "5008acdf-0404-41fb-89e1-145147ed721b",
   "metadata": {},
   "outputs": [],
   "source": [
    "if include_storages_in_plots:\n",
    "    colors = {**FUELS, **STORAGES_INFLOW, **DEMAND_RESPONSE_CLUSTERS}\n",
    "else:\n",
    "    colors = {**FUELS, **DEMAND_RESPONSE_CLUSTERS}\n",
    "\n",
    "plot_single_investment_variable_for_all_cases(\n",
    "    aggregated_results,\n",
    "    \"total\",\n",
    "    colors=colors,\n",
    "    aggregation=\"energy_carrier\",\n",
    "    dr_color_codes=DEMAND_RESPONSE_CLUSTERS,\n",
    "    save=True,\n",
    "    filename=\"results_total_sensitivities\",\n",
    "    path_plots=path_plots,\n",
    "    ylim=(0, 300000),\n",
    "    title=\"Demand Reponse scenario 50; sensitivity:\",\n",
    ")"
   ]
  },
  {
   "cell_type": "markdown",
   "id": "72463fa7-fa3e-4f19-be1a-0a134cb06de4",
   "metadata": {
    "tags": []
   },
   "source": [
    "### Storage outflow and storage energy content"
   ]
  },
  {
   "cell_type": "code",
   "execution_count": null,
   "id": "8ef77c00-daf6-45a4-9263-f6bdfc8cbcb1",
   "metadata": {},
   "outputs": [],
   "source": [
    "plot_single_investment_variable_for_all_cases(\n",
    "    other_storage_results,\n",
    "    \"invest\",\n",
    "    colors=STORAGES_OTHER,\n",
    "    aggregation=\"energy_carrier\",\n",
    "    storage=True,\n",
    "    dr_color_codes={},\n",
    "    save=True,\n",
    "    filename=\"results_storages_invest_sensitivities\",\n",
    "    path_plots=path_plots,\n",
    "    title=\"Demand Reponse scenario 50; sensitivity:\",\n",
    ")"
   ]
  },
  {
   "cell_type": "code",
   "execution_count": null,
   "id": "1d595b90-5248-4044-b39a-000fa8fe6fe2",
   "metadata": {},
   "outputs": [],
   "source": [
    "plot_single_investment_variable_for_all_cases(\n",
    "    other_storage_results,\n",
    "    \"old\",\n",
    "    colors=STORAGES_OTHER,\n",
    "    aggregation=\"energy_carrier\",\n",
    "    storage=True,\n",
    "    dr_color_codes={},\n",
    "    save=True,\n",
    "    filename=\"results_storages_old_sensitivities\",\n",
    "    path_plots=path_plots,\n",
    "    title=\"Demand Reponse scenario 50; sensitivity:\",\n",
    ")"
   ]
  },
  {
   "cell_type": "code",
   "execution_count": null,
   "id": "e93275ab-3fdd-4d42-8333-342b58d31bed",
   "metadata": {},
   "outputs": [],
   "source": [
    "plot_single_investment_variable_for_all_cases(\n",
    "    other_storage_results,\n",
    "    \"total\",\n",
    "    colors=STORAGES_OTHER,\n",
    "    aggregation=\"energy_carrier\",\n",
    "    storage=True,\n",
    "    dr_color_codes={},\n",
    "    save=True,\n",
    "    filename=\"results_storages_total_sensitivities\",\n",
    "    path_plots=path_plots,\n",
    "    title=\"Demand Reponse scenario 50; sensitivity:\",\n",
    ")"
   ]
  },
  {
   "cell_type": "markdown",
   "id": "276a464e-0cf1-41a2-93e4-7577f6f11d8e",
   "metadata": {},
   "source": [
    "## Include exogenous capacities in assessment"
   ]
  },
  {
   "cell_type": "code",
   "execution_count": null,
   "id": "cb6a88f8-59f6-4923-b977-6948eed7df5d",
   "metadata": {},
   "outputs": [],
   "source": [
    "overall_capacity = {}\n",
    "for sensitivity in renamed_sensitivities:\n",
    "    grouped_total = aggregated_results[sensitivity][[\"total\"]].reset_index()\n",
    "    grouped_total = grouped_total.pivot(\n",
    "        index=\"energy_carrier\", columns=\"year\", values=\"total\"\n",
    "    ).T\n",
    "    overall_capacity[sensitivity] = grouped_total.add(backup_generation)\n",
    "    overall_capacity[sensitivity].loc[:, overall_capacity[sensitivity].isna().all()] = backup_generation\n",
    "    overall_capacity[sensitivity].loc[:, overall_capacity[sensitivity].isna().all()] = grouped_total\n",
    "    overall_capacity[sensitivity] = overall_capacity[sensitivity].T"
   ]
  },
  {
   "cell_type": "code",
   "execution_count": null,
   "id": "f4690c66-05b3-4647-95b9-f2cbcc3f9652",
   "metadata": {},
   "outputs": [],
   "source": [
    "if include_storages_in_plots:\n",
    "    colors = {**FUELS_EXISTING, **FUELS, **STORAGES_INFLOW, **DEMAND_RESPONSE_CLUSTERS}\n",
    "\n",
    "else:\n",
    "    colors = {**FUELS_EXISTING, **FUELS, **DEMAND_RESPONSE_CLUSTERS}\n",
    "\n",
    "plot_single_investment_variable_for_all_cases(\n",
    "    overall_capacity,\n",
    "    \"all\",\n",
    "    colors=colors,\n",
    "    aggregation=\"energy_carrier\",\n",
    "    dr_color_codes=DEMAND_RESPONSE_CLUSTERS,\n",
    "    group=False,\n",
    "    save=True,\n",
    "    filename=\"results_all_sensitivities\",\n",
    "    path_plots=path_plots,\n",
    "    ylim=(0, 350000),\n",
    "    title=\"Demand Reponse scenario 50; sensitivity:\",\n",
    ")"
   ]
  },
  {
   "cell_type": "code",
   "execution_count": null,
   "id": "738a755c-9b4a-4554-8326-70437a47bd96",
   "metadata": {},
   "outputs": [],
   "source": [
    "for sensitivity in renamed_sensitivities:\n",
    "    overall_capacity[sensitivity].loc[\"demand_response_overall\"] = overall_capacity[sensitivity].loc[[\n",
    "        \"hoho_cluster_shift_only\", \n",
    "        \"hoho_cluster_shift_shed\", \n",
    "        \"ind_cluster_shed_only\",\n",
    "        \"ind_cluster_shift_only\",\n",
    "        \"ind_cluster_shift_shed\",\n",
    "        \"tcs+hoho_cluster_shift_only\",\n",
    "        \"tcs_cluster_shift_only\"\n",
    "    ]].sum()\n",
    "    overall_capacity[sensitivity].to_csv(f\"{path_processed_data}overall_capacity_dr_scenario_50_sensitivity_{sensitivity.split(' ')[0]}_{sensitivity.split(' ')[1]}.csv\", sep=\";\")"
   ]
  },
  {
   "cell_type": "markdown",
   "id": "ce8676c1",
   "metadata": {},
   "source": [
    "# Preparation of results for usage in AMIRIS\n",
    "> _**Note**:_\n",
    ">\n",
    "> * _The following section creates the necessary outputs that can be passed to the AMIRIS converter notebook._\n",
    "> * _Data is extracted and saved but not visualized._\n",
    "> * _Data aggregation differs compared to the remainder of this notebook._\n",
    "\n",
    "Extract data for all scenarios and save respective outputs to file."
   ]
  },
  {
   "cell_type": "code",
   "execution_count": null,
   "id": "ebcd0c15",
   "metadata": {},
   "outputs": [],
   "source": [
    "for dr_scen in dr_scenarios:\n",
    "    if dr_scen != \"none\":\n",
    "        file_add_on = (\n",
    "            f\"_with_dr_{dr_scen}_\"\n",
    "            f\"fuel_price-{fuel_price_scenario}_\"\n",
    "            f\"co2_price-{emissions_pathway}{annual_investment_limits}_investment\"\n",
    "        )\n",
    "    else:\n",
    "        file_add_on = (\n",
    "            f\"_no_dr_50_\"\n",
    "            f\"fuel_price-{fuel_price_scenario}_\"\n",
    "            f\"co2_price-{emissions_pathway}{annual_investment_limits}_investment\"\n",
    "        )\n",
    "    investment_results_raw = (\n",
    "        pd.read_csv(f\"{path_results}{filename}{file_add_on}{file_extension}\", index_col=0)\n",
    "    )\n",
    "    processed_results = preprocess_raw_results(investment_results_raw)\n",
    "    aggregated_results, other_storage_results = aggregate_investment_results(\n",
    "        processed_results, \n",
    "        energy_carriers=FUELS, \n",
    "        by=[\"energy_carrier\", \"technology\"], \n",
    "        include_chp_information=True\n",
    "    )    \n",
    "    \n",
    "    for variable_name in [\"invest\", \"old\", \"total\"]:\n",
    "        extract_data_and_save(\n",
    "            aggregated_results,\n",
    "            variable_name,\n",
    "            aggregation=[\"energy_carrier\", \"technology\"],\n",
    "            group=True,\n",
    "            filename=f\"results_for_amiris_{variable_name}_dr_scenario\",\n",
    "            dr_scenario=dr_scen,\n",
    "            path_data_out=\"./data_out/\",\n",
    "        )"
   ]
  },
  {
   "cell_type": "code",
   "execution_count": null,
   "id": "13011a50",
   "metadata": {},
   "outputs": [],
   "source": []
  }
 ],
 "metadata": {
  "kernelspec": {
   "display_name": "Python 3 (ipykernel)",
   "language": "python",
   "name": "python3"
  },
  "language_info": {
   "codemirror_mode": {
    "name": "ipython",
    "version": 3
   },
   "file_extension": ".py",
   "mimetype": "text/x-python",
   "name": "python",
   "nbconvert_exporter": "python",
   "pygments_lexer": "ipython3",
   "version": "3.8.13"
  },
  "toc": {
   "base_numbering": 1,
   "nav_menu": {},
   "number_sections": true,
   "sideBar": true,
   "skip_h1_title": false,
   "title_cell": "Table of Contents",
   "title_sidebar": "Contents",
   "toc_cell": false,
   "toc_position": {
    "height": "calc(100% - 180px)",
    "left": "10px",
    "top": "150px",
    "width": "474px"
   },
   "toc_section_display": true,
   "toc_window_display": true
  },
  "varInspector": {
   "cols": {
    "lenName": 16,
    "lenType": 16,
    "lenVar": 40
   },
   "kernels_config": {
    "python": {
     "delete_cmd_postfix": "",
     "delete_cmd_prefix": "del ",
     "library": "var_list.py",
     "varRefreshCmd": "print(var_dic_list())"
    },
    "r": {
     "delete_cmd_postfix": ") ",
     "delete_cmd_prefix": "rm(",
     "library": "var_list.r",
     "varRefreshCmd": "cat(var_dic_list()) "
    }
   },
   "types_to_exclude": [
    "module",
    "function",
    "builtin_function_or_method",
    "instance",
    "_Feature"
   ],
   "window_display": false
  }
 },
 "nbformat": 4,
 "nbformat_minor": 5
}
