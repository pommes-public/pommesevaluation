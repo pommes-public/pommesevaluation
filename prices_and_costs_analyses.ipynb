{
 "cells": [
  {
   "cell_type": "markdown",
   "id": "8cb146c5",
   "metadata": {},
   "source": [
    "# Prices and costs analyses\n",
    "Routines to evaluate and visualize price and costs assumptions used as input for POMMES simulations"
   ]
  },
  {
   "cell_type": "markdown",
   "id": "3fde1ab8",
   "metadata": {},
   "source": [
    "## Package imports"
   ]
  },
  {
   "cell_type": "code",
   "execution_count": null,
   "id": "b805d426",
   "metadata": {},
   "outputs": [],
   "source": [
    "import pandas as pd\n",
    "import matplotlib.pyplot as plt"
   ]
  },
  {
   "cell_type": "markdown",
   "id": "f6bf33b9",
   "metadata": {},
   "source": [
    "## Define data sets and global variables\n",
    "* Define some model configuration defining which input to use\n",
    "* Determine paths and file names for inputs and outputs to the script"
   ]
  },
  {
   "cell_type": "code",
   "execution_count": null,
   "id": "30b6f00f",
   "metadata": {},
   "outputs": [],
   "source": [
    "# Model configuration in terms of prices and costs\n",
    "fuel_cost_pathway = \"NZE\"\n",
    "emissions_cost_pathway = \"long-term\"\n",
    "inflation_rate = 0.02\n",
    "\n",
    "# inputs and outputs\n",
    "path_folder = \"./model_inputs/pommesinvest/\"\n",
    "file_name_fuel_costs_ts = f\"costs_fuel_{fuel_cost_pathway}_nominal_indexed_ts.csv\"\n",
    "file_name_emissions_costs_ts = f\"costs_emissions_{emissions_cost_pathway}_nominal_indexed_ts.csv\"\n",
    "\n",
    "path_data_out = \"./data_out/\"\n",
    "path_plots = \"./plots/\"\n",
    "output_file = \"fuel_and_emissions_costs\"\n",
    "\n",
    "# global variables\n",
    "FUELS = {\n",
    "    #\"biomass\": \"#15b01a\",\n",
    "    #\"uranium\": \"#e50000\",\n",
    "    #\"lignite\": \"#7f2b0a\",\n",
    "    \"hardcoal\": \"#000000\",\n",
    "    \"natgas\": \"#ffd966\",\n",
    "    \"hydrogen\": \"#6fa8dc\",\n",
    "    #\"mixedfuels\": \"#a57e52\",\n",
    "    #\"otherfossil\": \"#d8dcd6\",\n",
    "    #\"waste\": \"#c04e01\",\n",
    "    \"oil\": \"#aaa662\",\n",
    "}\n",
    "plt.rcParams.update({'font.size': 14})"
   ]
  },
  {
   "cell_type": "markdown",
   "id": "092b1f92",
   "metadata": {},
   "source": [
    "## Read in data\n",
    "* Read in **_nominal_** fuel and emissions prices data.\n",
    "* Convert to **_real_** terms using the assumed inflation rate of 2% p.a."
   ]
  },
  {
   "cell_type": "code",
   "execution_count": null,
   "id": "e8043d8e",
   "metadata": {},
   "outputs": [],
   "source": [
    "fuel_costs_nominal = pd.read_csv(f\"{path_folder}{file_name_fuel_costs_ts}\", index_col=0)\n",
    "emissions_costs_nominal = pd.read_csv(f\"{path_folder}{file_name_emissions_costs_ts}\", index_col=0)"
   ]
  },
  {
   "cell_type": "code",
   "execution_count": null,
   "id": "d4d8fee6",
   "metadata": {},
   "outputs": [],
   "source": [
    "# Filter values for DE only\n",
    "fuel_costs_nominal = fuel_costs_nominal[\n",
    "    [col for col in fuel_costs_nominal.columns if \"DE_\" in col]\n",
    "]\n",
    "emissions_costs_nominal = emissions_costs_nominal[\n",
    "    [col for col in emissions_costs_nominal.columns if \"DE_\" in col]\n",
    "]\n",
    "\n",
    "fuel_costs_nominal.index = fuel_costs_nominal.index.str[:4].astype(int)\n",
    "emissions_costs_nominal.index = emissions_costs_nominal.index.str[:4].astype(int)\n",
    "\n",
    "# Convert from nominal to real terms\n",
    "fuel_costs_real = fuel_costs_nominal.div(\n",
    "    (1 + inflation_rate) ** (fuel_costs_nominal.index - 2020), axis=0\n",
    ")\n",
    "emissions_costs_real = emissions_costs_nominal.div(\n",
    "    (1 + inflation_rate) ** (emissions_costs_nominal.index - 2020), axis=0\n",
    ")"
   ]
  },
  {
   "cell_type": "code",
   "execution_count": null,
   "id": "05bc3262",
   "metadata": {},
   "outputs": [],
   "source": [
    "# Rename\n",
    "fuel_costs_real.rename(\n",
    "    columns={col: col.rsplit(\"_\")[-1] for col in fuel_costs_real.columns},\n",
    "    inplace=True\n",
    ")\n",
    "\n",
    "# Emissions costs are the same for all energy carriers\n",
    "emissions_costs_real = emissions_costs_real.loc[2020:2050, \"DE_source_hardcoal\"]\n",
    "emissions_costs_real.name = \"co2_price\""
   ]
  },
  {
   "cell_type": "code",
   "execution_count": null,
   "id": "23b096a2",
   "metadata": {},
   "outputs": [],
   "source": [
    "# create a combined plot\n",
    "fig, ax = plt.subplots(figsize=(12, 5))\n",
    "fuel_costs_real = fuel_costs_real.loc[2020:2050, [fuel for fuel in FUELS]]\n",
    "fuel_costs_real.to_csv(f\"{path_data_out}{output_file}.csv\")\n",
    "\n",
    "_ = fuel_costs_real.loc[2020:2045].plot(kind=\"line\", marker=\"o\", ax=ax, color=FUELS)\n",
    "\n",
    "ax2 = ax.twinx()\n",
    "\n",
    "_ = emissions_costs_real.loc[2020:2045].plot(kind=\"line\", marker=\"o\", ax=ax2, color=\"#898989\")\n",
    "\n",
    "_ = ax.set_xlabel(\"year\")\n",
    "_ = ax.set_ylabel(\"price in €/MWh_th\")\n",
    "_ = ax2.set_ylabel(\"price in €/t CO_2\")\n",
    "\n",
    "_ = ax.legend(bbox_to_anchor=[1.35, 1.05])\n",
    "_ = ax2.legend(bbox_to_anchor=[1.35, 0.7])\n",
    "_ = ax.set_ylim([0, 200])\n",
    "_ = ax2.set_ylim([0, 400])\n",
    "#_ = ax.set_xticks(range(2020, int(max(fuel_costs_real.index + 1)), 1))\n",
    "_ = ax.autoscale(enable=True, axis='x', tight=True)\n",
    "\n",
    "ax.grid(color=\"#dedede\")\n",
    "plt.tight_layout()\n",
    "plt.savefig(f\"{path_plots}{output_file}.png\", dpi=300)\n",
    "plt.show()\n",
    "plt.close()"
   ]
  },
  {
   "cell_type": "code",
   "execution_count": null,
   "id": "66baaa92-37c0-4c7a-8778-248e724c0c7a",
   "metadata": {},
   "outputs": [],
   "source": []
  }
 ],
 "metadata": {
  "kernelspec": {
   "display_name": "Python 3 (ipykernel)",
   "language": "python",
   "name": "python3"
  },
  "language_info": {
   "codemirror_mode": {
    "name": "ipython",
    "version": 3
   },
   "file_extension": ".py",
   "mimetype": "text/x-python",
   "name": "python",
   "nbconvert_exporter": "python",
   "pygments_lexer": "ipython3",
   "version": "3.8.13"
  },
  "toc": {
   "base_numbering": 1,
   "nav_menu": {},
   "number_sections": true,
   "sideBar": true,
   "skip_h1_title": false,
   "title_cell": "Table of Contents",
   "title_sidebar": "Contents",
   "toc_cell": false,
   "toc_position": {},
   "toc_section_display": true,
   "toc_window_display": false
  },
  "varInspector": {
   "cols": {
    "lenName": 16,
    "lenType": 16,
    "lenVar": 40
   },
   "kernels_config": {
    "python": {
     "delete_cmd_postfix": "",
     "delete_cmd_prefix": "del ",
     "library": "var_list.py",
     "varRefreshCmd": "print(var_dic_list())"
    },
    "r": {
     "delete_cmd_postfix": ") ",
     "delete_cmd_prefix": "rm(",
     "library": "var_list.r",
     "varRefreshCmd": "cat(var_dic_list()) "
    }
   },
   "types_to_exclude": [
    "module",
    "function",
    "builtin_function_or_method",
    "instance",
    "_Feature"
   ],
   "window_display": false
  }
 },
 "nbformat": 4,
 "nbformat_minor": 5
}
