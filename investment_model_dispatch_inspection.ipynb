{
 "cells": [
  {
   "cell_type": "markdown",
   "id": "7b95e43e",
   "metadata": {},
   "source": [
    "# Investment model dispatch patterns\n",
    "Routines for analyzing dispatch patterns of *pommesinvest* runs"
   ]
  },
  {
   "cell_type": "markdown",
   "id": "660ccefb",
   "metadata": {},
   "source": [
    "## Package imports"
   ]
  },
  {
   "cell_type": "code",
   "execution_count": null,
   "id": "8c9c6679",
   "metadata": {},
   "outputs": [],
   "source": [
    "import pandas as pd\n",
    "import matplotlib.pyplot as plt\n",
    "from pommesevaluation.investment_results_inspection import (\n",
    "    preprocess_raw_results, aggregate_investment_results\n",
    ")"
   ]
  },
  {
   "cell_type": "markdown",
   "id": "d5387534",
   "metadata": {},
   "source": [
    "## Parameters and workflow settings"
   ]
  },
  {
   "cell_type": "code",
   "execution_count": null,
   "id": "34f00355",
   "metadata": {},
   "outputs": [],
   "source": [
    "# Model configuration\n",
    "time_frame_in_years = 31\n",
    "frequency = \"8H\"\n",
    "dr_scenario = \"50\"\n",
    "dr_scenarios = [\"none\", \"5\", \"50\", \"95\"]\n",
    "\n",
    "# Paths, filenames and color codes\n",
    "path_results = \"./model_results/\"\n",
    "path_processed_data = \"./data_out/\"\n",
    "path_plots = \"./plots/\"\n",
    "\n",
    "filename = (\n",
    "    f\"investment_LP_start-2020-01-01_{time_frame_in_years}\"\n",
    "    f\"-years_simple_freq_{frequency}\"\n",
    ")\n",
    "if dr_scenario != \"none\":\n",
    "    file_add_on = f\"_with_dr_{dr_scenario}_production\"\n",
    "else:\n",
    "    file_add_on = \"_no_dr_50_production\"\n",
    "file_extension = \".csv\"\n",
    "\n",
    "# color codes\n",
    "FUELS_EXISTING = {\n",
    "    \"uranium\": \"#e50000\",\n",
    "    \"lignite\": \"#7f2b0a\",\n",
    "    \"hardcoal\": \"#000000\",\n",
    "    \"mixedfuels\": \"#a57e52\",\n",
    "    \"otherfossil\": \"#d8dcd6\",\n",
    "}\n",
    "\n",
    "FUELS = {\n",
    "    \"biomass\": \"#15b01a\",\n",
    "    \"hydrogen\": \"#6fa8dc\",\n",
    "    \"natgas\": \"#ffd966\",\n",
    "    \"oil\": \"#aaa662\",\n",
    "    \"waste\": \"#c04e01\"\n",
    "}\n",
    "\n",
    "# Workflow and output configuration\n",
    "plt.rcParams.update({'font.size': 12})\n",
    "rounding_precision = 2"
   ]
  },
  {
   "cell_type": "markdown",
   "id": "988d5612",
   "metadata": {},
   "source": [
    "# Single scenario analyses\n",
    "Inspect the results for a single scenario model run.\n",
    "## Read in, preprocess and aggregate data\n",
    "* Use routine originally developped for investment model to preprocess raw results. Therefore, transpose back and forth."
   ]
  },
  {
   "cell_type": "code",
   "execution_count": null,
   "id": "4eef5e35",
   "metadata": {},
   "outputs": [],
   "source": [
    "production_results_raw = pd.read_csv(f\"{path_results}{filename}{file_add_on}{file_extension}\", index_col=0).T\n",
    "processed_results = preprocess_raw_results(\n",
    "    production_results_raw, investments=False\n",
    ").drop(columns=\"year\").round(rounding_precision)\n",
    "aggregated_results = aggregate_investment_results(\n",
    "    processed_results, energy_carriers={**FUELS_EXISTING, **FUELS}, by=\"energy_carrier\", investments=False\n",
    ")"
   ]
  },
  {
   "cell_type": "code",
   "execution_count": null,
   "id": "7a02105a",
   "metadata": {},
   "outputs": [],
   "source": [
    "aggregated_results"
   ]
  },
  {
   "cell_type": "code",
   "execution_count": null,
   "id": "65a92d24",
   "metadata": {},
   "outputs": [],
   "source": []
  },
  {
   "cell_type": "code",
   "execution_count": null,
   "id": "be1cc350",
   "metadata": {},
   "outputs": [],
   "source": []
  }
 ],
 "metadata": {
  "kernelspec": {
   "display_name": "Python 3 (ipykernel)",
   "language": "python",
   "name": "python3"
  },
  "language_info": {
   "codemirror_mode": {
    "name": "ipython",
    "version": 3
   },
   "file_extension": ".py",
   "mimetype": "text/x-python",
   "name": "python",
   "nbconvert_exporter": "python",
   "pygments_lexer": "ipython3",
   "version": "3.8.13"
  },
  "toc": {
   "base_numbering": 1,
   "nav_menu": {},
   "number_sections": true,
   "sideBar": true,
   "skip_h1_title": false,
   "title_cell": "Table of Contents",
   "title_sidebar": "Contents",
   "toc_cell": false,
   "toc_position": {},
   "toc_section_display": true,
   "toc_window_display": false
  },
  "varInspector": {
   "cols": {
    "lenName": 16,
    "lenType": 16,
    "lenVar": 40
   },
   "kernels_config": {
    "python": {
     "delete_cmd_postfix": "",
     "delete_cmd_prefix": "del ",
     "library": "var_list.py",
     "varRefreshCmd": "print(var_dic_list())"
    },
    "r": {
     "delete_cmd_postfix": ") ",
     "delete_cmd_prefix": "rm(",
     "library": "var_list.r",
     "varRefreshCmd": "cat(var_dic_list()) "
    }
   },
   "types_to_exclude": [
    "module",
    "function",
    "builtin_function_or_method",
    "instance",
    "_Feature"
   ],
   "window_display": false
  }
 },
 "nbformat": 4,
 "nbformat_minor": 5
}
