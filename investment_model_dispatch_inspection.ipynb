{
 "cells": [
  {
   "cell_type": "markdown",
   "id": "a5849d86",
   "metadata": {},
   "source": [
    "# Investment model dispatch patterns\n",
    "Routines for analyzing dispatch patterns of *pommesinvest* runs"
   ]
  },
  {
   "cell_type": "markdown",
   "id": "8ed20e9f",
   "metadata": {},
   "source": [
    "## Package imports"
   ]
  },
  {
   "cell_type": "code",
   "execution_count": null,
   "id": "19ac2687",
   "metadata": {},
   "outputs": [],
   "source": [
    "import pandas as pd\n",
    "import matplotlib.pyplot as plt\n",
    "from pommesevaluation.investment_results_inspection import (\n",
    "    preprocess_raw_results, aggregate_investment_results, plot_single_dispatch_pattern\n",
    ")"
   ]
  },
  {
   "cell_type": "markdown",
   "id": "8cd6bde7",
   "metadata": {},
   "source": [
    "## Parameters and workflow settings"
   ]
  },
  {
   "cell_type": "code",
   "execution_count": null,
   "id": "d5b3d9d9",
   "metadata": {},
   "outputs": [],
   "source": [
    "# Model configuration\n",
    "time_frame_in_years = 26\n",
    "frequency = \"1H\"\n",
    "dr_scenario = \"50\"\n",
    "dr_scenarios = [\"none\", \"5\", \"50\", \"95\"]\n",
    "fuel_price_scenario = \"NZE_high\"\n",
    "emissions_pathway = \"long-term\"\n",
    "european_data = True\n",
    "\n",
    "# Paths, filenames and color codes\n",
    "path_results = \"./model_results/pommesinvest/\"\n",
    "path_processed_data = \"./data_out/\"\n",
    "path_plots = \"./plots/\"\n",
    "\n",
    "filename = (\n",
    "    f\"investment_LP_start-2020-01-01_{time_frame_in_years}\"\n",
    "    f\"-years_simple_freq_{frequency}\"\n",
    ")\n",
    "if dr_scenario != \"none\":\n",
    "    file_add_on = (\n",
    "        f\"_with_dr_{dr_scenario}_\"\n",
    "        f\"fuel_price-{fuel_price_scenario}_\"\n",
    "        f\"co2_price-{emissions_pathway}_production\"\n",
    "    )\n",
    "else:\n",
    "    file_add_on = (\n",
    "        f\"_no_dr_50_\"\n",
    "        f\"fuel_price-{fuel_price_scenario}_\"\n",
    "        f\"co2_price-{emissions_pathway}_production\"\n",
    "    )\n",
    "file_extension = \".csv\"\n",
    "\n",
    "# color codes\n",
    "FUELS_EXISTING = {\n",
    "    \"uranium\": \"#e50000\",\n",
    "    \"lignite\": \"#7f2b0a\",\n",
    "    \"hardcoal\": \"#000000\",\n",
    "    \"mixedfuels\": \"#a57e52\",\n",
    "    \"otherfossil\": \"#d8dcd6\",\n",
    "}\n",
    "\n",
    "FUELS = {\n",
    "    \"biomass\": \"#15b01a\",\n",
    "    \"hydrogen\": \"#6fa8dc\",\n",
    "    \"natgas\": \"#ffd966\",\n",
    "    \"oil\": \"#aaa662\",\n",
    "    \"waste\": \"#c04e01\"\n",
    "}\n",
    "\n",
    "RES_SOURCES = {\n",
    "    \"DE_source_ROR\": \"#c79fef\",\n",
    "    \"DE_source_biomassEEG\": \"#15b01a\",\n",
    "    \"DE_source_geothermal\": \"#cccccc\",\n",
    "    \"DE_source_landfillgas\": \"#cccccc\",\n",
    "    \"DE_source_larga\": \"#cccccc\",\n",
    "    \"DE_source_minegas\": \"#cccccc\",\n",
    "    \"DE_source_solarPV\": \"#fcb001\",\n",
    "    \"DE_source_windoffshore\": \"#0504aa\",\n",
    "    \"DE_source_windonshore\": \"#82cafc\",\n",
    "}\n",
    "\n",
    "DEMAND_RESPONSE_CLUSTERS = {\n",
    "    \"hoho_cluster_shift_only\": \"#333333\", \n",
    "    \"hoho_cluster_shift_shed\": \"#555555\", \n",
    "    \"ind_cluster_shed_only\": \"#666666\",\n",
    "    \"ind_cluster_shift_only\": \"#888888\", \n",
    "    \"ind_cluster_shift_shed\": \"#aaaaaa\", \n",
    "    \"tcs+hoho_cluster_shift_only\": \"pink\", # \"#cccccc\",\n",
    "    \"tcs_cluster_shift_only\": \"orange\" # \"#dddddd\", \n",
    "}\n",
    "\n",
    "STORAGES = {\n",
    "    \"PHS\": \"#0c2aac\",\n",
    "    \"PHS_new_built\": \"#7c90e7\",\n",
    "    \"battery\": \"#f7e09a\",\n",
    "    \"battery_new_built\": \"#fff5d5\",\n",
    "}\n",
    "\n",
    "LOAD = {\n",
    "    \"DE_sink_el_load\": \"darkblue\"\n",
    "}\n",
    "\n",
    "SHORTAGE_EXCESS = {\n",
    "    \"DE_sink_el_excess\": \"purple\",\n",
    "    \"DE_source_el_shortage\": \"red\",\n",
    "}\n",
    "\n",
    "# Workflow and output configuration\n",
    "plt.rcParams.update({'font.size': 12})\n",
    "rounding_precision = 2\n",
    "\n",
    "start_time_step = \"2037-03-03 00:00:00\"\n",
    "time_steps_to_be_considered_in_hours = 168 * 12\n",
    "amount_of_time_steps = time_steps_to_be_considered_in_hours / int(frequency.split(\"H\")[0])"
   ]
  },
  {
   "cell_type": "markdown",
   "id": "05bd6268",
   "metadata": {},
   "source": [
    "# Single scenario analyses\n",
    "Inspect the results for a single scenario model run.\n",
    "## Read in, preprocess and aggregate data\n",
    "* Use routine originally developped for investment model to preprocess raw results. Therefore, transpose back and forth.\n",
    "* Aggregate by fuel. Don't aggregate storages, demand response etc.\n",
    "* Form distinct data sets:\n",
    "    * Demand: regular load without demand response baseline consumption and demand response net load\n",
    "    * Exports and imports: exports from DE to European neighbours, imports vice versa\n",
    "    * Storages: inflow, outflow and net storage usage derived from these\n",
    "    * Generators: generation aggregated per fuel\n",
    "    * Demand Response: upshifts, downshifts and demand response storage level\n",
    "    * Shortage and excess"
   ]
  },
  {
   "cell_type": "code",
   "execution_count": null,
   "id": "cade9640",
   "metadata": {},
   "outputs": [],
   "source": [
    "production_results_raw = pd.read_csv(\n",
    "    f\"{path_results}{filename}{file_add_on}{file_extension}\", index_col=0, header=[0, 1]\n",
    ").T\n",
    "processed_results = preprocess_raw_results(\n",
    "    production_results_raw, investments=False, european_data=european_data\n",
    ").drop(columns=\"year\").round(rounding_precision)\n",
    "aggregated_results = aggregate_investment_results(\n",
    "    processed_results, energy_carriers={**FUELS_EXISTING, **FUELS}, by=\"energy_carrier\", investments=False\n",
    ").T\n",
    "del production_results_raw, processed_results"
   ]
  },
  {
   "cell_type": "code",
   "execution_count": null,
   "id": "e9f837c9",
   "metadata": {},
   "outputs": [],
   "source": [
    "# Define cols to group\n",
    "demand_cols = [col for col in aggregated_results.columns if \"DE_sink_el\" in col and \"_excess\" not in col]\n",
    "export_link_cols = [col for col in aggregated_results.columns if \"DE_link\" in col]\n",
    "import_link_cols = [col for col in aggregated_results.columns if \"link_DE\" in col]\n",
    "power_prices_col = [\"DE_bus_el\"]\n",
    "\n",
    "all_demand_response_cols = list(set([\n",
    "    col for col in aggregated_results.columns for key in DEMAND_RESPONSE_CLUSTERS if key in col\n",
    "]))\n",
    "\n",
    "demand_response_after_cols = [col for col in all_demand_response_cols if \"_demand_after\" in col]\n",
    "demand_cols.extend(demand_response_after_cols)\n",
    "\n",
    "demand_response_other_cols = [\n",
    "    col for col in all_demand_response_cols \n",
    "    if col not in demand_response_after_cols\n",
    "    # Exclude fictious demand response storage level which can be calculated ex post\n",
    "    and not \"storage_level\" in col\n",
    "]\n",
    "\n",
    "storages_cols = [col for col in aggregated_results.columns for key in STORAGES if key in col]\n",
    "shortage_excess_cols = [\n",
    "    col for col in aggregated_results.columns if col in [\"DE_sink_el_excess\", \"DE_source_el_shortage\"]\n",
    "]\n",
    "electrolyzer_cols = [col for col in aggregated_results.columns if \"electrolyzer\" in col]\n",
    "\n",
    "generators_cols = [\n",
    "    col for col in aggregated_results.columns \n",
    "    if col not in demand_cols \n",
    "    and col not in export_link_cols\n",
    "    and col not in import_link_cols\n",
    "    and col not in all_demand_response_cols \n",
    "    and col not in storages_cols\n",
    "    and col not in shortage_excess_cols\n",
    "    and col not in electrolyzer_cols\n",
    "    and col not in power_prices_col\n",
    "]\n",
    "\n",
    "# Split overall data set to distinct subsets\n",
    "demand_pattern = aggregated_results[demand_cols]\n",
    "export_pattern = aggregated_results[export_link_cols]\n",
    "import_pattern = aggregated_results[import_link_cols]\n",
    "demand_response_pattern = aggregated_results[demand_response_other_cols]\n",
    "storages_pattern = aggregated_results[storages_cols]\n",
    "shortage_excess_pattern = aggregated_results[shortage_excess_cols]\n",
    "generators_pattern = aggregated_results[generators_cols]\n",
    "power_prices_pattern = aggregated_results[power_prices_col]\n",
    "\n",
    "# Slightly alter / negate\n",
    "storages_pattern.loc[:, [col for col in storages_pattern.columns if \"_outflow\" in col]] *= (-1)\n",
    "shortage_excess_pattern.loc[:, \"DE_source_el_shortage\"] *= (-1)\n",
    "demand_response_pattern.loc[: , [col for col in demand_response_pattern.columns if \"dsm_do\" in col]] *= (-1)"
   ]
  },
  {
   "cell_type": "code",
   "execution_count": null,
   "id": "226cc223",
   "metadata": {},
   "outputs": [],
   "source": [
    "generators_pattern.sum()"
   ]
  },
  {
   "cell_type": "markdown",
   "id": "c003fc55",
   "metadata": {},
   "source": [
    "## Inspect some long-term results\n",
    "* Exports and imports patterns\n",
    "* Demand"
   ]
  },
  {
   "cell_type": "markdown",
   "id": "a0844c47",
   "metadata": {},
   "source": [
    "### Exports and imports"
   ]
  },
  {
   "cell_type": "code",
   "execution_count": null,
   "id": "9d9f12b5",
   "metadata": {},
   "outputs": [],
   "source": [
    "fig, ax = plt.subplots(figsize=(20, 10))\n",
    "export_pattern.plot(kind=\"area\", stacked=True, ax=ax)\n",
    "plt.show()"
   ]
  },
  {
   "cell_type": "code",
   "execution_count": null,
   "id": "69420581",
   "metadata": {},
   "outputs": [],
   "source": [
    "fig, ax = plt.subplots(figsize=(20, 10))\n",
    "import_pattern.plot(kind=\"area\", stacked=True, ax=ax)\n",
    "plt.show()"
   ]
  },
  {
   "cell_type": "code",
   "execution_count": null,
   "id": "fad70891",
   "metadata": {},
   "outputs": [],
   "source": [
    "if dr_scenario != \"none\":\n",
    "    fig, ax = plt.subplots(len(demand_pattern.columns), figsize=(16, 8 * len(demand_pattern.columns)))\n",
    "    for i, col in enumerate(demand_pattern.columns):\n",
    "        demand_pattern[col].plot(kind=\"area\", stacked=True, ax=ax[i])\n",
    "        ax[i].legend(loc=\"best\")\n",
    "    plt.show()\n",
    "\n",
    "else:\n",
    "    fig, ax = plt.subplots(figsize=(16, 8))\n",
    "    demand_pattern.plot(kind=\"area\", ax=ax)\n",
    "    plt.show()                           "
   ]
  },
  {
   "cell_type": "code",
   "execution_count": null,
   "id": "c16b37b3",
   "metadata": {},
   "outputs": [],
   "source": [
    "fig, ax = plt.subplots(figsize=(16, 8))\n",
    "demand_pattern.plot(kind=\"area\", stacked=True, ax=ax)\n",
    "plt.show()"
   ]
  },
  {
   "cell_type": "code",
   "execution_count": null,
   "id": "51f2aa67",
   "metadata": {},
   "outputs": [],
   "source": [
    "demand_pattern.max()"
   ]
  },
  {
   "cell_type": "markdown",
   "id": "8cf06af6",
   "metadata": {},
   "source": [
    "## Create simple dispatch plots\n",
    "### Demand and generation\n",
    "Create simple area plots"
   ]
  },
  {
   "cell_type": "code",
   "execution_count": null,
   "id": "a1e78185",
   "metadata": {},
   "outputs": [],
   "source": [
    "colors = {\n",
    "    **LOAD, \n",
    "    **{\n",
    "        f\"{cluster}_demand_after\": value for cluster, value in DEMAND_RESPONSE_CLUSTERS.items()\n",
    "    }\n",
    "}\n",
    "\n",
    "plot_single_dispatch_pattern(\n",
    "    demand_pattern,\n",
    "    start_time_step,\n",
    "    amount_of_time_steps,\n",
    "    colors,\n",
    "    save=True,\n",
    "    path_plots=\"./plots/\",\n",
    "    filename=\"demand_pattern\",\n",
    ")"
   ]
  },
  {
   "cell_type": "code",
   "execution_count": null,
   "id": "de1945cf",
   "metadata": {},
   "outputs": [],
   "source": [
    "demand_pattern.describe()"
   ]
  },
  {
   "cell_type": "code",
   "execution_count": null,
   "id": "0c075b71",
   "metadata": {},
   "outputs": [],
   "source": [
    "generators_pattern.describe()"
   ]
  },
  {
   "cell_type": "code",
   "execution_count": null,
   "id": "78b98ef0",
   "metadata": {},
   "outputs": [],
   "source": [
    "generators_pattern[\"mixedfuels\"].max()"
   ]
  },
  {
   "cell_type": "code",
   "execution_count": null,
   "id": "e9c47d68",
   "metadata": {},
   "outputs": [],
   "source": [
    "start_time_step=\"2037-03-03 16:00:00\"\n",
    "amount_of_time_steps=168 * 2"
   ]
  },
  {
   "cell_type": "code",
   "execution_count": null,
   "id": "f65875de",
   "metadata": {},
   "outputs": [],
   "source": [
    "colors = {\n",
    "    **LOAD, \n",
    "    **{\n",
    "        f\"{cluster}_demand_after\": value for cluster, value in DEMAND_RESPONSE_CLUSTERS.items()\n",
    "    }\n",
    "}\n",
    "\n",
    "plot_single_dispatch_pattern(\n",
    "    demand_pattern,\n",
    "    start_time_step,\n",
    "    amount_of_time_steps,\n",
    "    colors,\n",
    "    save=True,\n",
    "    path_plots=\"./plots/\",\n",
    "    filename=\"demand_pattern\",\n",
    ")"
   ]
  },
  {
   "cell_type": "code",
   "execution_count": null,
   "id": "30f2c6bd",
   "metadata": {},
   "outputs": [],
   "source": [
    "colors = {\n",
    "    **FUELS_EXISTING, \n",
    "    **FUELS,\n",
    "    **RES_SOURCES,\n",
    "}\n",
    "\n",
    "plot_single_dispatch_pattern(\n",
    "    generators_pattern,\n",
    "    start_time_step,\n",
    "    amount_of_time_steps,\n",
    "    colors,\n",
    "    save=True,\n",
    "    path_plots=\"./plots/\",\n",
    "    filename=\"generation_pattern\",\n",
    ")"
   ]
  },
  {
   "cell_type": "markdown",
   "id": "28e09237",
   "metadata": {},
   "source": [
    "### Storages, Demand Response, Shortage and excess\n",
    "Area plots, but change in sign"
   ]
  },
  {
   "cell_type": "code",
   "execution_count": null,
   "id": "6a7e0df4",
   "metadata": {},
   "outputs": [],
   "source": [
    "shortage_excess_pattern.describe()"
   ]
  },
  {
   "cell_type": "code",
   "execution_count": null,
   "id": "fdb16f05",
   "metadata": {},
   "outputs": [],
   "source": [
    "colors = SHORTAGE_EXCESS\n",
    "\n",
    "plot_single_dispatch_pattern(\n",
    "    shortage_excess_pattern,\n",
    "    \"2020-01-01 00:00:00\",\n",
    "    227758,\n",
    "    colors,\n",
    "    save=True,\n",
    "    path_plots=\"./plots/\",\n",
    "    filename=\"shortage_excess_pattern\",\n",
    "    kind=\"line\"\n",
    ")"
   ]
  },
  {
   "cell_type": "code",
   "execution_count": null,
   "id": "c572b784",
   "metadata": {},
   "outputs": [],
   "source": [
    "storages_pattern.describe()"
   ]
  },
  {
   "cell_type": "code",
   "execution_count": null,
   "id": "37b0a69e",
   "metadata": {},
   "outputs": [],
   "source": [
    "colors = {\n",
    "    **{f\"{storage}_outflow\": color for storage, color in STORAGES.items()},\n",
    "    **{f\"{storage}_inflow\": color for storage, color in STORAGES.items()}\n",
    "}\n",
    "\n",
    "plot_single_dispatch_pattern(\n",
    "    storages_pattern,\n",
    "    start_time_step,\n",
    "    amount_of_time_steps,\n",
    "    colors,\n",
    "    save=True,\n",
    "    path_plots=\"./plots/\",\n",
    "    filename=\"storages_pattern\",\n",
    ")"
   ]
  },
  {
   "cell_type": "code",
   "execution_count": null,
   "id": "b1709ece",
   "metadata": {},
   "outputs": [],
   "source": [
    "demand_response_pattern.describe()"
   ]
  },
  {
   "cell_type": "code",
   "execution_count": null,
   "id": "b3af5391",
   "metadata": {},
   "outputs": [],
   "source": [
    "colors = {\n",
    "    **{f\"{cluster}_dsm_up\": color for cluster, color in DEMAND_RESPONSE_CLUSTERS.items()},\n",
    "    **{f\"{cluster}_dsm_do_shift\": color for cluster, color in DEMAND_RESPONSE_CLUSTERS.items()}\n",
    "}\n",
    "\n",
    "plot_single_dispatch_pattern(\n",
    "    demand_response_pattern[[col for col in demand_response_pattern.columns if not \"dsm_do_shed\" in col]],\n",
    "    start_time_step,\n",
    "    amount_of_time_steps,\n",
    "    colors,\n",
    "    save=True,\n",
    "    path_plots=\"./plots/\",\n",
    "    filename=\"demand_response_pattern\",\n",
    ")"
   ]
  },
  {
   "cell_type": "code",
   "execution_count": null,
   "id": "412dfaba",
   "metadata": {},
   "outputs": [],
   "source": [
    "demand_response_pattern.loc[\"2037-03-08 00:00\":\"2037-03-09 23:00\", \n",
    "                            [\"ind_cluster_shift_only_dsm_do_shift\", \"ind_cluster_shift_only_dsm_up\"]]"
   ]
  },
  {
   "cell_type": "markdown",
   "id": "118ba8c1",
   "metadata": {},
   "source": [
    "# Analyze shortage events for other countries\n",
    "* Inspect occurences of shortage for countries other than Germany\n",
    "* Extract maximum shortage capacity"
   ]
  },
  {
   "cell_type": "code",
   "execution_count": null,
   "id": "17fdf9b8",
   "metadata": {},
   "outputs": [],
   "source": [
    "shortage_cols = [\n",
    "    col for col in aggregated_results.columns if \"shortage\" in col\n",
    "]\n",
    "shortages = aggregated_results[shortage_cols]"
   ]
  },
  {
   "cell_type": "code",
   "execution_count": null,
   "id": "2fd72c78",
   "metadata": {},
   "outputs": [],
   "source": [
    "shortages.max()"
   ]
  },
  {
   "cell_type": "code",
   "execution_count": null,
   "id": "62e31b75",
   "metadata": {},
   "outputs": [],
   "source": [
    "fig, ax = plt.subplots(figsize=(15, 5))\n",
    "_ = shortages.plot(ax=ax)\n",
    "plt.show()"
   ]
  },
  {
   "cell_type": "code",
   "execution_count": null,
   "id": "329b126c",
   "metadata": {},
   "outputs": [],
   "source": []
  }
 ],
 "metadata": {
  "kernelspec": {
   "display_name": "Python 3 (ipykernel)",
   "language": "python",
   "name": "python3"
  },
  "language_info": {
   "codemirror_mode": {
    "name": "ipython",
    "version": 3
   },
   "file_extension": ".py",
   "mimetype": "text/x-python",
   "name": "python",
   "nbconvert_exporter": "python",
   "pygments_lexer": "ipython3",
   "version": "3.8.13"
  },
  "toc": {
   "base_numbering": 1,
   "nav_menu": {},
   "number_sections": true,
   "sideBar": true,
   "skip_h1_title": false,
   "title_cell": "Table of Contents",
   "title_sidebar": "Contents",
   "toc_cell": false,
   "toc_position": {
    "height": "calc(100% - 180px)",
    "left": "10px",
    "top": "150px",
    "width": "336.958px"
   },
   "toc_section_display": true,
   "toc_window_display": true
  },
  "varInspector": {
   "cols": {
    "lenName": 16,
    "lenType": 16,
    "lenVar": 40
   },
   "kernels_config": {
    "python": {
     "delete_cmd_postfix": "",
     "delete_cmd_prefix": "del ",
     "library": "var_list.py",
     "varRefreshCmd": "print(var_dic_list())"
    },
    "r": {
     "delete_cmd_postfix": ") ",
     "delete_cmd_prefix": "rm(",
     "library": "var_list.r",
     "varRefreshCmd": "cat(var_dic_list()) "
    }
   },
   "position": {
    "height": "846.844px",
    "left": "1968px",
    "right": "20px",
    "top": "119px",
    "width": "545px"
   },
   "types_to_exclude": [
    "module",
    "function",
    "builtin_function_or_method",
    "instance",
    "_Feature"
   ],
   "window_display": true
  }
 },
 "nbformat": 4,
 "nbformat_minor": 5
}
