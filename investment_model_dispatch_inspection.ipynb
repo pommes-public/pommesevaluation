{
 "cells": [
  {
   "cell_type": "markdown",
   "id": "a5849d86",
   "metadata": {},
   "source": [
    "# Investment model dispatch patterns\n",
    "Routines for analyzing dispatch patterns of *pommesinvest* runs"
   ]
  },
  {
   "cell_type": "markdown",
   "id": "8ed20e9f",
   "metadata": {},
   "source": [
    "## Package imports"
   ]
  },
  {
   "cell_type": "code",
   "execution_count": null,
   "id": "19ac2687",
   "metadata": {},
   "outputs": [],
   "source": [
    "import pandas as pd\n",
    "import matplotlib.pyplot as plt\n",
    "from pommesevaluation.investment_results_inspection import (\n",
    "    preprocess_raw_results, \n",
    "    aggregate_investment_results, \n",
    "    plot_single_dispatch_pattern, \n",
    "    plot_generation_and_comsumption_pattern,\n",
    ")"
   ]
  },
  {
   "cell_type": "markdown",
   "id": "8cd6bde7",
   "metadata": {},
   "source": [
    "## Parameters and workflow settings"
   ]
  },
  {
   "cell_type": "code",
   "execution_count": null,
   "id": "d5b3d9d9",
   "metadata": {
    "tags": []
   },
   "outputs": [],
   "source": [
    "# Model configuration\n",
    "time_frame_in_years = 26\n",
    "frequency = \"1H\"\n",
    "dr_scenario = \"50\"\n",
    "dr_scenarios = [\"none\", \"5\", \"50\", \"95\"]\n",
    "fuel_price_scenario = \"NZE\"\n",
    "emissions_pathway = \"long-term\"\n",
    "multi_header = False\n",
    "countries = [\n",
    "    \"AT\",\n",
    "    \"BE\",\n",
    "    \"CH\",\n",
    "    \"CZ\",\n",
    "    \"DE\",\n",
    "    \"DK1\",\n",
    "    \"DK2\",\n",
    "    \"FR\",\n",
    "    \"NL\",\n",
    "    \"NO1\",\n",
    "    \"NO2\",\n",
    "    \"NO3\",\n",
    "    \"NO4\",\n",
    "    \"NO5\",\n",
    "    \"PL\",\n",
    "    \"SE1\",\n",
    "    \"SE2\",\n",
    "    \"SE3\",\n",
    "    \"SE4\",\n",
    "    \"IT\",\n",
    "]\n",
    "impose_investment_maxima = False\n",
    "\n",
    "# Paths, filenames and color codes\n",
    "path_inputs = \"./model_inputs/pommesinvest/\"\n",
    "path_results = \"./model_results/pommesinvest/\"\n",
    "path_processed_data = \"./data_out/\"\n",
    "path_plots = \"./plots/\"\n",
    "\n",
    "filename = (\n",
    "    f\"investment_LP_start-2020-01-01_{time_frame_in_years}\"\n",
    "    f\"-years_simple_freq_{frequency}\"\n",
    ")\n",
    "if impose_investment_maxima:\n",
    "    annual_investment_limits = \"\"\n",
    "else:\n",
    "    annual_investment_limits = \"_no_annual_limit\"\n",
    "if dr_scenario != \"none\":\n",
    "    file_add_on = (\n",
    "        f\"_with_dr_{dr_scenario}_\"\n",
    "        f\"fuel_price-{fuel_price_scenario}_\"\n",
    "        f\"co2_price-{emissions_pathway}{annual_investment_limits}_production\"\n",
    "    )\n",
    "else:\n",
    "    file_add_on = (\n",
    "        f\"_no_dr_50_\"\n",
    "        f\"fuel_price-{fuel_price_scenario}_\"\n",
    "        f\"co2_price-{emissions_pathway}{annual_investment_limits}_production\"\n",
    "    )\n",
    "file_extension = \".csv\"\n",
    "\n",
    "filenames_out = {\n",
    "    \"shortages_artificial\": {\n",
    "        dr_scenario: f\"{path_processed_data}sources_el_artificial_{dr_scenario}.csv\"\n",
    "        for dr_scenario in dr_scenarios\n",
    "    },\n",
    "    \"shortages_artificial_ts\": {\n",
    "        dr_scenario: f\"{path_processed_data}sources_el_artificial_ts_{dr_scenario}.csv\"\n",
    "        for dr_scenario in dr_scenarios\n",
    "    }\n",
    "}\n",
    "\n",
    "# color codes\n",
    "FUELS_EXISTING = {\n",
    "    \"uranium\": \"#e50000\",\n",
    "    \"lignite\": \"#7f2b0a\",\n",
    "    \"hardcoal\": \"#000000\",\n",
    "    \"mixedfuels\": \"#a57e52\",\n",
    "    \"otherfossil\": \"#d8dcd6\",\n",
    "}\n",
    "\n",
    "FUELS = {\n",
    "    \"biomass\": \"#15b01a\",\n",
    "    \"hydrogen\": \"#6fa8dc\",\n",
    "    \"natgas\": \"#ffd966\",\n",
    "    \"oil\": \"#aaa662\",\n",
    "    \"waste\": \"#c04e01\"\n",
    "}\n",
    "\n",
    "RES_SOURCES = {\n",
    "    \"DE_source_ROR\": \"#c79fef\",\n",
    "    \"DE_source_biomassEEG\": \"#15b01a\",\n",
    "    \"DE_source_geothermal\": \"#cccccc\",\n",
    "    \"DE_source_landfillgas\": \"#cccccc\",\n",
    "    \"DE_source_larga\": \"#cccccc\",\n",
    "    \"DE_source_minegas\": \"#cccccc\",\n",
    "    \"DE_source_solarPV\": \"#fcb001\",\n",
    "    \"DE_source_windoffshore\": \"#0504aa\",\n",
    "    \"DE_source_windonshore\": \"#82cafc\",\n",
    "}\n",
    "\n",
    "STORAGES = {\n",
    "    \"PHS\": \"#0c2aac\",\n",
    "    \"PHS_new_built\": \"#7c90e7\",\n",
    "    \"battery\": \"#f7e09a\",\n",
    "    \"battery_new_built\": \"#fff5d5\",\n",
    "}\n",
    "\n",
    "DEMAND_RESPONSE_CLUSTERS = {\n",
    "    \"hoho_cluster_shift_only\": \"#333333\", \n",
    "    \"hoho_cluster_shift_shed\": \"#555555\", \n",
    "    \"ind_cluster_shed_only\": \"#666666\",\n",
    "    \"ind_cluster_shift_only\": \"#888888\", \n",
    "    \"ind_cluster_shift_shed\": \"#aaaaaa\", \n",
    "    \"tcs+hoho_cluster_shift_only\": \"pink\", # \"#cccccc\",\n",
    "    \"tcs_cluster_shift_only\": \"orange\" # \"#dddddd\", \n",
    "}\n",
    "\n",
    "LOAD = {\n",
    "    \"DE_sink_el_load\": \"darkblue\"\n",
    "}\n",
    "\n",
    "EVS = {\n",
    "    \"storage_ev_cc_bidirectional_inflow\": \"#7E7B2D\",\n",
    "    \"storage_ev_cc_unidirectional_inflow\": \"#989336\",\n",
    "    \"transformer_ev_cc_bidirectional_feedback\": \"#B1AC3F\",\n",
    "    \"transformer_ev_uc\": \"#D8D59F\",\n",
    "}\n",
    "\n",
    "SHORTAGE_EXCESS = {\n",
    "    \"DE_sink_el_excess\": \"purple\",\n",
    "    \"DE_source_el_shortage\": \"red\",\n",
    "}\n",
    "\n",
    "# filenames for demand response potential information\n",
    "file_names_demand_response_ts = {\n",
    "    dr_scen: f\"sinks_demand_response_el_ts_{dr_scen}.csv\"\n",
    "    for dr_scen in dr_scenarios if dr_scen != \"none\"\n",
    "}\n",
    "\n",
    "file_names_demand_response_potential_data = {\n",
    "    dr_scen: [\n",
    "        f\"{dr_cluster}_potential_parameters_{dr_scen}%.csv\" \n",
    "        for dr_cluster in DEMAND_RESPONSE_CLUSTERS\n",
    "    ] for dr_scen in dr_scenarios\n",
    "}\n",
    "\n",
    "# Determine how to aggregate dedicated categories\n",
    "AGGREGATE = {\n",
    "    \"biomass total\": [\"biomass\", \"DE_source_biomassEEG\"],\n",
    "    \"other RES\": [\"DE_source_geothermal\", \"DE_source_landfillgas\", \"DE_source_larga\", \"DE_source_minegas\"],\n",
    "    \"PHS\": [\"PHS_inflow\", \"PHS_new_built_inflow\", \"PHS_outflow\", \"PHS_new_built_outflow\"],\n",
    "    \"battery\": [\"battery_new_built_inflow\", \"battery_new_built_outflow\"],\n",
    "}\n",
    "AGGREGATE_COLORS = {\n",
    "    \"biomass total\": \"#15b01a\",\n",
    "    \"other RES\": \"#cccccc\",\n",
    "    \"PHS\": \"#0c2aac\",\n",
    "    \"battery\": \"#f7e09a\",\n",
    "    \"import/export\": \"#666666\",\n",
    "    \"hydrogen_electrolyzer_new_built\": \"#123456\",\n",
    "}\n",
    "\n",
    "# Workflow and output configuration\n",
    "plt.rcParams.update({'font.size': 12})\n",
    "rounding_precision = 2\n",
    "\n",
    "start_time_step = \"2037-03-03 00:00:00\"\n",
    "time_steps_to_be_considered_in_hours = 168 * 4\n",
    "amount_of_time_steps = time_steps_to_be_considered_in_hours / int(frequency.split(\"H\")[0])"
   ]
  },
  {
   "cell_type": "markdown",
   "id": "97fef2c2-ec81-4f08-ba0c-020ad11004dd",
   "metadata": {},
   "source": [
    "Configure font sizes for matplotlib"
   ]
  },
  {
   "cell_type": "code",
   "execution_count": null,
   "id": "dcdfd111-9276-4135-8156-fc44034129b9",
   "metadata": {},
   "outputs": [],
   "source": [
    "SMALL_SIZE = 12\n",
    "MEDIUM_SIZE = 14\n",
    "BIGGER_SIZE = 15\n",
    "\n",
    "plt.rc('font', size=SMALL_SIZE)          # controls default text sizes\n",
    "plt.rc('axes', titlesize=BIGGER_SIZE)    # fontsize of the axes title\n",
    "plt.rc('axes', labelsize=MEDIUM_SIZE)    # fontsize of the x and y labels\n",
    "plt.rc('xtick', labelsize=SMALL_SIZE)    # fontsize of the tick labels\n",
    "plt.rc('ytick', labelsize=SMALL_SIZE)    # fontsize of the tick labels\n",
    "plt.rc('legend', fontsize=SMALL_SIZE)    # legend fontsize\n",
    "plt.rc('figure', titlesize=BIGGER_SIZE)  # fontsize of the figure title"
   ]
  },
  {
   "cell_type": "markdown",
   "id": "05bd6268",
   "metadata": {},
   "source": [
    "# Single scenario analyses\n",
    "Inspect the results for a single scenario model run.\n",
    "## Read in, preprocess and aggregate data\n",
    "* Use routine originally developped for investment model to preprocess raw results. Therefore, transpose back and forth.\n",
    "* Aggregate by fuel. Don't aggregate storages, demand response etc.\n",
    "* Form distinct data sets:\n",
    "    * Demand: regular load without demand response baseline consumption and demand response net load\n",
    "    * Exports and imports: exports from DE to European neighbours, imports vice versa\n",
    "    * Storages: inflow, outflow and net storage usage derived from these\n",
    "    * Generators: generation aggregated per fuel\n",
    "    * Demand Response: upshifts, downshifts and demand response storage level\n",
    "    * Shortage and excess"
   ]
  },
  {
   "cell_type": "code",
   "execution_count": null,
   "id": "cade9640",
   "metadata": {},
   "outputs": [],
   "source": [
    "if multi_header:\n",
    "    header = [0, 1]\n",
    "else:\n",
    "    header = 0\n",
    "production_results_raw = pd.read_csv(\n",
    "    f\"{path_results}{filename}{file_add_on}{file_extension}\", index_col=0, header=header\n",
    ").T\n",
    "processed_results = preprocess_raw_results(\n",
    "    production_results_raw, investments=False, multi_header=multi_header\n",
    ").drop(columns=\"year\").round(rounding_precision)\n",
    "aggregated_results = aggregate_investment_results(\n",
    "    processed_results, energy_carriers={**FUELS_EXISTING, **FUELS}, by=\"energy_carrier\", investments=False\n",
    ").T\n",
    "del production_results_raw, processed_results"
   ]
  },
  {
   "cell_type": "code",
   "execution_count": null,
   "id": "946ab83c-ee6d-4460-a14a-e2b0ed988e82",
   "metadata": {},
   "outputs": [],
   "source": [
    "if dr_scenario != \"none\":\n",
    "    # Drop unneeded output for electric vehicles\n",
    "    to_drop = [col for col in aggregated_results.columns if \"bus_ev\" in col or \"ev_\" in col and \"outflow\" in col]\n",
    "    aggregated_results.drop(columns=to_drop, inplace=True)"
   ]
  },
  {
   "cell_type": "code",
   "execution_count": null,
   "id": "e9f837c9",
   "metadata": {},
   "outputs": [],
   "source": [
    "# Define cols to group\n",
    "demand_cols = [col for col in aggregated_results.columns if \"DE_sink_el\" in col and \"_excess\" not in col]\n",
    "export_link_cols = [col for col in aggregated_results.columns if \"DE_link\" in col]\n",
    "import_link_cols = [col for col in aggregated_results.columns if \"link_DE\" in col]\n",
    "power_prices_col = [\"DE_bus_el\"]\n",
    "\n",
    "all_demand_response_cols = list(set([\n",
    "    col for col in aggregated_results.columns for key in DEMAND_RESPONSE_CLUSTERS if key in col\n",
    "]))\n",
    "\n",
    "demand_response_after_cols = [col for col in all_demand_response_cols if \"_demand_after\" in col]\n",
    "demand_cols.extend(demand_response_after_cols)\n",
    "\n",
    "demand_response_other_cols = [\n",
    "    col for col in all_demand_response_cols \n",
    "    if col not in demand_response_after_cols\n",
    "    # Exclude fictious demand response storage level which can be calculated ex post\n",
    "    and not \"storage_level\" in col\n",
    "]\n",
    "\n",
    "storages_cols = list(set([\n",
    "    col for col in aggregated_results.columns \n",
    "    for key in STORAGES if key in col\n",
    "    and \"inflow\" in col or \"outflow\" in col\n",
    "]))\n",
    "shortage_excess_cols = [\n",
    "    col for col in aggregated_results.columns if col in [\"DE_sink_el_excess\", \"DE_source_el_shortage\"]\n",
    "]\n",
    "electrolyzer_cols = [col for col in aggregated_results.columns if \"electrolyzer\" in col]\n",
    "foreign_country_cols = list(\n",
    "    set([\n",
    "        col for col in aggregated_results.columns for country in countries\n",
    "        if f\"{country}_\" in col and country != \"DE\"\n",
    "    ])\n",
    ")\n",
    "ev_demand_cols = [\n",
    "    col for col in aggregated_results.columns \n",
    "    if col in [\"storage_ev_cc_bidirectional_inflow\", \"storage_ev_cc_unidirectional_inflow\", \"transformer_ev_uc\"]\n",
    "]\n",
    "ev_generation_cols = [\n",
    "    col for col in aggregated_results.columns if col == \"transformer_ev_cc_bidirectional_feedback\"\n",
    "]\n",
    "demand_cols.extend(ev_demand_cols)\n",
    "\n",
    "generators_cols = [\n",
    "    col for col in aggregated_results.columns \n",
    "    if col not in demand_cols \n",
    "    and col not in export_link_cols\n",
    "    and col not in import_link_cols\n",
    "    and col not in all_demand_response_cols \n",
    "    and col not in storages_cols\n",
    "    and col not in shortage_excess_cols\n",
    "    and col not in electrolyzer_cols\n",
    "    and col not in power_prices_col\n",
    "    and col not in foreign_country_cols\n",
    "    and col not in ev_demand_cols\n",
    "]\n",
    "\n",
    "# Split overall data set to distinct subsets\n",
    "demand_pattern = aggregated_results[demand_cols]\n",
    "export_pattern = aggregated_results[export_link_cols]\n",
    "import_pattern = aggregated_results[import_link_cols]\n",
    "net_export_pattern = export_pattern.sum(axis=1) - import_pattern.sum(axis=1)\n",
    "demand_response_pattern = aggregated_results[demand_response_other_cols]\n",
    "storages_pattern = aggregated_results[[col for col in storages_cols if col not in ev_demand_cols]]\n",
    "ev_pattern = aggregated_results[ev_demand_cols + ev_generation_cols]\n",
    "electrolyzer_pattern = aggregated_results[electrolyzer_cols]\n",
    "shortage_excess_pattern = aggregated_results[shortage_excess_cols]\n",
    "generators_pattern = aggregated_results[generators_cols]\n",
    "try:\n",
    "    power_prices_pattern = aggregated_results[power_prices_col]\n",
    "except KeyError:\n",
    "    pass\n",
    "\n",
    "# Slightly alter / negate\n",
    "storages_pattern.loc[:, [col for col in storages_pattern.columns if \"_outflow\" in col]] *= (-1)\n",
    "shortage_excess_pattern.loc[:, \"DE_source_el_shortage\"] *= (-1)\n",
    "demand_response_pattern.loc[: , [col for col in demand_response_pattern.columns if \"dsm_do\" in col]] *= (-1)\n",
    "ev_pattern.loc[:, [col for col in ev_pattern.columns if \"feedback\" in col]] *= (-1)"
   ]
  },
  {
   "cell_type": "code",
   "execution_count": null,
   "id": "226cc223",
   "metadata": {},
   "outputs": [],
   "source": [
    "generators_pattern.sum().sort_values(ascending=False)"
   ]
  },
  {
   "cell_type": "markdown",
   "id": "c003fc55",
   "metadata": {},
   "source": [
    "## Inspect some long-term results\n",
    "* Exports and imports patterns\n",
    "* Demand"
   ]
  },
  {
   "cell_type": "markdown",
   "id": "a0844c47",
   "metadata": {},
   "source": [
    "### Exports and imports"
   ]
  },
  {
   "cell_type": "code",
   "execution_count": null,
   "id": "9d9f12b5",
   "metadata": {},
   "outputs": [],
   "source": [
    "fig, ax = plt.subplots(figsize=(20, 10))\n",
    "export_pattern.plot(kind=\"area\", stacked=True, ax=ax)\n",
    "plt.show()"
   ]
  },
  {
   "cell_type": "code",
   "execution_count": null,
   "id": "69420581",
   "metadata": {},
   "outputs": [],
   "source": [
    "fig, ax = plt.subplots(figsize=(20, 10))\n",
    "import_pattern.plot(kind=\"area\", stacked=True, ax=ax)\n",
    "plt.show()"
   ]
  },
  {
   "cell_type": "code",
   "execution_count": null,
   "id": "fad70891",
   "metadata": {},
   "outputs": [],
   "source": [
    "if dr_scenario != \"none\":\n",
    "    fig, ax = plt.subplots(len(demand_pattern.columns), figsize=(16, 8 * len(demand_pattern.columns)))\n",
    "    for i, col in enumerate(demand_pattern.columns):\n",
    "        demand_pattern[col].plot(kind=\"area\", stacked=True, ax=ax[i])\n",
    "        ax[i].legend(loc=\"best\")\n",
    "    plt.show()\n",
    "\n",
    "else:\n",
    "    fig, ax = plt.subplots(figsize=(16, 8))\n",
    "    demand_pattern.plot(kind=\"area\", ax=ax)\n",
    "    plt.show()                           "
   ]
  },
  {
   "cell_type": "code",
   "execution_count": null,
   "id": "c16b37b3",
   "metadata": {},
   "outputs": [],
   "source": [
    "fig, ax = plt.subplots(figsize=(16, 8))\n",
    "demand_pattern.plot(kind=\"area\", stacked=True, ax=ax)\n",
    "plt.show()"
   ]
  },
  {
   "cell_type": "code",
   "execution_count": null,
   "id": "51f2aa67",
   "metadata": {},
   "outputs": [],
   "source": [
    "demand_pattern.max().sort_values(ascending=False)"
   ]
  },
  {
   "cell_type": "markdown",
   "id": "8cf06af6",
   "metadata": {},
   "source": [
    "## Create simple dispatch plots\n",
    "### Demand and generation\n",
    "Create simple area plots"
   ]
  },
  {
   "cell_type": "code",
   "execution_count": null,
   "id": "a1e78185",
   "metadata": {},
   "outputs": [],
   "source": [
    "colors = {\n",
    "    **LOAD, \n",
    "    **{\n",
    "        f\"{cluster}_demand_after\": value for cluster, value in DEMAND_RESPONSE_CLUSTERS.items()\n",
    "    },\n",
    "    **EVS\n",
    "}\n",
    "\n",
    "plot_single_dispatch_pattern(\n",
    "    demand_pattern,\n",
    "    start_time_step,\n",
    "    amount_of_time_steps,\n",
    "    colors,\n",
    "    kind=\"area\",\n",
    "    stacked=True,\n",
    "    save=True,\n",
    "    path_plots=\"./plots/\",\n",
    "    filename=\"demand_pattern\",\n",
    ")"
   ]
  },
  {
   "cell_type": "code",
   "execution_count": null,
   "id": "de1945cf",
   "metadata": {},
   "outputs": [],
   "source": [
    "demand_pattern.describe()"
   ]
  },
  {
   "cell_type": "code",
   "execution_count": null,
   "id": "0c075b71",
   "metadata": {},
   "outputs": [],
   "source": [
    "generators_pattern.describe()"
   ]
  },
  {
   "cell_type": "code",
   "execution_count": null,
   "id": "78b98ef0",
   "metadata": {},
   "outputs": [],
   "source": [
    "generators_pattern[\"mixedfuels\"].max()"
   ]
  },
  {
   "cell_type": "code",
   "execution_count": null,
   "id": "e9c47d68",
   "metadata": {},
   "outputs": [],
   "source": [
    "start_time_step=\"2037-03-03 16:00:00\"\n",
    "amount_of_time_steps=168 * 2"
   ]
  },
  {
   "cell_type": "code",
   "execution_count": null,
   "id": "f65875de",
   "metadata": {},
   "outputs": [],
   "source": [
    "colors = {\n",
    "    **LOAD, \n",
    "    **{\n",
    "        f\"{cluster}_demand_after\": value for cluster, value in DEMAND_RESPONSE_CLUSTERS.items()\n",
    "    },\n",
    "    **EVS\n",
    "}\n",
    "\n",
    "plot_single_dispatch_pattern(\n",
    "    demand_pattern,\n",
    "    start_time_step,\n",
    "    amount_of_time_steps,\n",
    "    colors,\n",
    "    save=True,\n",
    "    path_plots=\"./plots/\",\n",
    "    filename=\"demand_pattern\",\n",
    ")"
   ]
  },
  {
   "cell_type": "code",
   "execution_count": null,
   "id": "542dcae0-2697-444a-8c25-ef9daf04de14",
   "metadata": {},
   "outputs": [],
   "source": [
    "generators_pattern"
   ]
  },
  {
   "cell_type": "code",
   "execution_count": null,
   "id": "30f2c6bd",
   "metadata": {},
   "outputs": [],
   "source": [
    "colors = {\n",
    "    **FUELS_EXISTING, \n",
    "    **FUELS,\n",
    "    **RES_SOURCES,\n",
    "    **EVS,\n",
    "}\n",
    "\n",
    "plot_single_dispatch_pattern(\n",
    "    generators_pattern,\n",
    "    start_time_step,\n",
    "    amount_of_time_steps,\n",
    "    colors,\n",
    "    save=True,\n",
    "    path_plots=\"./plots/\",\n",
    "    filename=\"generation_pattern\",\n",
    ")"
   ]
  },
  {
   "cell_type": "markdown",
   "id": "28e09237",
   "metadata": {},
   "source": [
    "### Storages, Demand Response, Electric Vehicles, Shortage and excess\n",
    "Area plots, but change in sign"
   ]
  },
  {
   "cell_type": "code",
   "execution_count": null,
   "id": "6a7e0df4",
   "metadata": {},
   "outputs": [],
   "source": [
    "shortage_excess_pattern.describe()"
   ]
  },
  {
   "cell_type": "code",
   "execution_count": null,
   "id": "fdb16f05",
   "metadata": {},
   "outputs": [],
   "source": [
    "colors = SHORTAGE_EXCESS\n",
    "\n",
    "plot_single_dispatch_pattern(\n",
    "    shortage_excess_pattern,\n",
    "    \"2020-01-01 00:00:00\",\n",
    "    227758,\n",
    "    colors,\n",
    "    save=True,\n",
    "    path_plots=\"./plots/\",\n",
    "    filename=\"shortage_excess_pattern\",\n",
    "    kind=\"line\"\n",
    ")"
   ]
  },
  {
   "cell_type": "code",
   "execution_count": null,
   "id": "c572b784",
   "metadata": {},
   "outputs": [],
   "source": [
    "storages_pattern.describe()"
   ]
  },
  {
   "cell_type": "code",
   "execution_count": null,
   "id": "37b0a69e",
   "metadata": {},
   "outputs": [],
   "source": [
    "colors = {\n",
    "    **{f\"{storage}_outflow\": color for storage, color in STORAGES.items()},\n",
    "    **{f\"{storage}_inflow\": color for storage, color in STORAGES.items()}\n",
    "}\n",
    "\n",
    "plot_single_dispatch_pattern(\n",
    "    storages_pattern,\n",
    "    start_time_step,\n",
    "    amount_of_time_steps,\n",
    "    colors,\n",
    "    save=True,\n",
    "    path_plots=\"./plots/\",\n",
    "    filename=\"storages_pattern\",\n",
    ")"
   ]
  },
  {
   "cell_type": "code",
   "execution_count": null,
   "id": "b1709ece",
   "metadata": {},
   "outputs": [],
   "source": [
    "demand_response_pattern.describe()"
   ]
  },
  {
   "cell_type": "code",
   "execution_count": null,
   "id": "b3af5391",
   "metadata": {},
   "outputs": [],
   "source": [
    "colors = {\n",
    "    **{f\"{cluster}_dsm_up\": color for cluster, color in DEMAND_RESPONSE_CLUSTERS.items()},\n",
    "    **{f\"{cluster}_dsm_do_shift\": color for cluster, color in DEMAND_RESPONSE_CLUSTERS.items()}\n",
    "}\n",
    "\n",
    "plot_single_dispatch_pattern(\n",
    "    demand_response_pattern[[col for col in demand_response_pattern.columns if not \"dsm_do_shed\" in col]],\n",
    "    start_time_step,\n",
    "    168,\n",
    "    colors,\n",
    "    save=True,\n",
    "    path_plots=\"./plots/\",\n",
    "    filename=\"demand_response_pattern\",\n",
    ")"
   ]
  },
  {
   "cell_type": "code",
   "execution_count": null,
   "id": "412dfaba",
   "metadata": {},
   "outputs": [],
   "source": [
    "demand_response_pattern.loc[\n",
    "    \"2037-03-08 00:00\":\"2037-03-09 23:00\", \n",
    "    [\"ind_cluster_shift_only_dsm_do_shift\", \"ind_cluster_shift_only_dsm_up\"]\n",
    "]"
   ]
  },
  {
   "cell_type": "code",
   "execution_count": null,
   "id": "f39ee441-0672-4d09-bb6c-6fe0db91ea79",
   "metadata": {},
   "outputs": [],
   "source": [
    "colors = {\n",
    "    **EVS\n",
    "}\n",
    "\n",
    "plot_single_dispatch_pattern(\n",
    "    ev_pattern,\n",
    "    start_time_step,\n",
    "    amount_of_time_steps,\n",
    "    colors,\n",
    "    save=True,\n",
    "    path_plots=\"./plots/\",\n",
    "    filename=\"ev_pattern\",\n",
    ")"
   ]
  },
  {
   "cell_type": "markdown",
   "id": "1946b2df-05d5-44e8-a80b-596b21e8ef50",
   "metadata": {},
   "source": [
    "## Generation mix vs. load\n",
    "Plot generation and load in a joint graph which stacks generation sources in the positive and demand sources in the negative range"
   ]
  },
  {
   "cell_type": "code",
   "execution_count": null,
   "id": "2ccb2d88-6457-4a57-829f-70b0567593e8",
   "metadata": {},
   "outputs": [],
   "source": [
    "generation_and_load = pd.concat(\n",
    "    [\n",
    "        -pd.DataFrame(data=net_export_pattern, columns=[\"import/export\"]), \n",
    "        generators_pattern, \n",
    "        -demand_pattern, \n",
    "        -storages_pattern, \n",
    "        -ev_pattern, \n",
    "        -shortage_excess_pattern, \n",
    "        -electrolyzer_pattern\n",
    "    ], \n",
    "    axis=1,\n",
    ")\n",
    "generation_and_load = generation_and_load.loc[:,~generation_and_load.columns.duplicated()].copy()\n",
    "for key, val in AGGREGATE.items():\n",
    "    generation_and_load[key] = generation_and_load[val].sum(axis=1)\n",
    "    generation_and_load.drop(columns=val, inplace=True)"
   ]
  },
  {
   "cell_type": "code",
   "execution_count": null,
   "id": "ecd3f88c-af89-4333-960b-7baf1c934af8",
   "metadata": {},
   "outputs": [],
   "source": [
    "colors = {\n",
    "    **FUELS_EXISTING, \n",
    "    **FUELS,\n",
    "    **RES_SOURCES,\n",
    "    **AGGREGATE_COLORS,\n",
    "    **LOAD,\n",
    "    **{\n",
    "        f\"{cluster}_demand_after\": value for cluster, value in DEMAND_RESPONSE_CLUSTERS.items()\n",
    "    },\n",
    "    **EVS,\n",
    "    **{f\"{cluster}_dsm_up\": color for cluster, color in DEMAND_RESPONSE_CLUSTERS.items()},\n",
    "    **{f\"{cluster}_dsm_do_shift\": color for cluster, color in DEMAND_RESPONSE_CLUSTERS.items()},\n",
    "    **{f\"{cluster}_dsm_do_shed\": color for cluster, color in DEMAND_RESPONSE_CLUSTERS.items()},\n",
    "    **SHORTAGE_EXCESS,\n",
    "}\n",
    "\n",
    "plot_generation_and_comsumption_pattern(\n",
    "    generation_and_load,\n",
    "    \"2045-07-06 00:00:00\",\n",
    "    168,\n",
    "    colors,\n",
    "    figsize=(20, 15)\n",
    ")"
   ]
  },
  {
   "cell_type": "code",
   "execution_count": null,
   "id": "a500d9fe-acaf-453c-a945-22c880deb182",
   "metadata": {},
   "outputs": [],
   "source": [
    "gen_cols = [col for col in generation_and_load.columns if (generation_and_load[col] > -1E3).all() and (generation_and_load[col].sum() > 0)]\n",
    "dem_cols = [col for col in generation_and_load.columns if (generation_and_load[col] < 1E3).all() and (generation_and_load[col].sum() < 0)]"
   ]
  },
  {
   "cell_type": "code",
   "execution_count": null,
   "id": "d1db1faf-398f-4b63-84a6-9996e23bee7b",
   "metadata": {},
   "outputs": [],
   "source": [
    "# TODO: Find and fix error in postprocessing leading to remaining imbalance (due to the model ensuring electricity bus to be balanced, this definitely has to be a postprocessing bug!)\n",
    "generation_and_load.sum(axis=1).plot()"
   ]
  },
  {
   "cell_type": "markdown",
   "id": "54513eac-2c81-4b31-ba16-ada8d264fa5b",
   "metadata": {},
   "source": [
    "## Analyze peak load coverage\n",
    "* Analyze coverage of residual load for situation with highest residual load as well as situation with minimum RES infeed over two weeks\n",
    "* Obtain planned demand from input data"
   ]
  },
  {
   "cell_type": "code",
   "execution_count": null,
   "id": "2d41ed36-1c42-4875-8b14-e4e5dc7e9593",
   "metadata": {},
   "outputs": [],
   "source": [
    "res_generation = generators_pattern[[\"DE_source_ROR\", \"DE_source_solarPV\", \"DE_source_windoffshore\", \"DE_source_windonshore\"]].sum(axis=1)\n",
    "classical_demand = demand_pattern[[\"DE_sink_el_load\"]]\n",
    "ev_demand = ev_pattern[ev_demand_cols]"
   ]
  },
  {
   "cell_type": "code",
   "execution_count": null,
   "id": "b5bd910e-46dd-448b-b624-233b00b77e96",
   "metadata": {},
   "outputs": [],
   "source": [
    "dr_baseline_ts = pd.read_csv(f\"{path_inputs}{file_names_demand_response_ts[dr_scenario]}\", index_col=0)\n",
    "max_cap_ts = pd.DataFrame()\n",
    "for file in file_names_demand_response_potential_data[dr_scenario]:\n",
    "    cluster_name = file.rsplit(\"_\", 3)[0]\n",
    "    max_cap_ts[cluster_name] = pd.read_csv(f\"{path_inputs}{file}\", index_col=0)[\"max_cap\"]\n",
    "\n",
    "to_concat = []\n",
    "for iter_year in range(2020, 2046):\n",
    "    to_concat.append(\n",
    "        dr_baseline_ts.loc[\n",
    "            f\"{iter_year}-01-01 00:00\": f\"{iter_year}-12-31 23:59\"\n",
    "        ].mul(max_cap_ts.loc[iter_year])\n",
    "    )\n",
    "dr_baseline_demand = pd.concat(to_concat)"
   ]
  },
  {
   "cell_type": "code",
   "execution_count": null,
   "id": "60c621de-b9ab-4b0b-b077-60870957000b",
   "metadata": {},
   "outputs": [],
   "source": [
    "# Combine demand and calculate residual load\n",
    "all_demands = pd.concat([classical_demand, dr_baseline_demand, ev_demand, electrolyzer_pattern], axis=1)\n",
    "total_demand = all_demands.sum(axis=1)\n",
    "residual_load = total_demand - res_generation"
   ]
  },
  {
   "cell_type": "code",
   "execution_count": null,
   "id": "0fed26e9-435f-405d-a16f-8fa1589cdc9c",
   "metadata": {},
   "outputs": [],
   "source": [
    "# Extract maximum residual load indices and values\n",
    "max_residual_load = pd.DataFrame(columns=[\"value\"])\n",
    "for iter_year in residual_load.index.str[:4].unique():\n",
    "    max_residual = residual_load.loc[residual_load.index.str[:4] == iter_year].max()\n",
    "    index_location = pd.Index(residual_load).get_loc(max_residual)\n",
    "    index_value = residual_load.to_frame().iloc[index_location].name\n",
    "    max_residual_load.loc[index_value, \"value\"] = max_residual"
   ]
  },
  {
   "cell_type": "code",
   "execution_count": null,
   "id": "5d023160-78b9-4f3b-8f34-ffdee622ab6a",
   "metadata": {},
   "outputs": [],
   "source": [
    "# Extract situation with minimum RES infeed for the course of two weeks\n",
    "duration = 168\n",
    "\n",
    "min_res_infeed = pd.DataFrame(columns=[\"value\"])\n",
    "for iter_year in res_generation.index.str[:4].unique():\n",
    "    gen_rolling = res_generation.loc[res_generation.index.str[:4] == iter_year].rolling(duration).sum()\n",
    "    min_infeed = gen_rolling.min()\n",
    "    end_index_location = pd.Index(gen_rolling).get_loc(min_infeed)\n",
    "    start_index_value = gen_rolling.to_frame().iloc[end_index_location - duration].name\n",
    "    min_res_infeed.loc[start_index_value, \"value\"] = min_infeed"
   ]
  },
  {
   "cell_type": "code",
   "execution_count": null,
   "id": "2c1df8ce-f077-4bfb-aaba-e987016d3e4a",
   "metadata": {},
   "outputs": [],
   "source": [
    "# Analyze residual peak load coverage\n",
    "colors = {\n",
    "    **FUELS_EXISTING, \n",
    "    **FUELS,\n",
    "    **RES_SOURCES,\n",
    "    **AGGREGATE_COLORS,\n",
    "    **LOAD,\n",
    "    **{\n",
    "        f\"{cluster}_demand_after\": value for cluster, value in DEMAND_RESPONSE_CLUSTERS.items()\n",
    "    },\n",
    "    **EVS,\n",
    "    **{f\"{cluster}_dsm_up\": color for cluster, color in DEMAND_RESPONSE_CLUSTERS.items()},\n",
    "    **{f\"{cluster}_dsm_do_shift\": color for cluster, color in DEMAND_RESPONSE_CLUSTERS.items()},\n",
    "    **{f\"{cluster}_dsm_do_shed\": color for cluster, color in DEMAND_RESPONSE_CLUSTERS.items()},\n",
    "    **SHORTAGE_EXCESS,\n",
    "}\n",
    "\n",
    "for idx in max_residual_load.index:\n",
    "    plot_generation_and_comsumption_pattern(\n",
    "        generation_and_load,\n",
    "        idx,\n",
    "        0,\n",
    "        colors,\n",
    "        figsize=(5, 10),\n",
    "        kind=\"bar\",\n",
    "        single_hour=True,\n",
    "    )\n",
    "    print(generation_and_load.loc[idx].sum())"
   ]
  },
  {
   "cell_type": "code",
   "execution_count": null,
   "id": "8d505f5f-be27-4534-ab4e-b94b53156c78",
   "metadata": {},
   "outputs": [],
   "source": [
    "# Analyze load coverage over the course of minimum RES infeed period\n",
    "colors = {\n",
    "    **FUELS_EXISTING, \n",
    "    **FUELS,\n",
    "    **RES_SOURCES,\n",
    "    **AGGREGATE_COLORS,\n",
    "    **LOAD,\n",
    "    **{\n",
    "        f\"{cluster}_demand_after\": value for cluster, value in DEMAND_RESPONSE_CLUSTERS.items()\n",
    "    },\n",
    "    **EVS,\n",
    "    **{f\"{cluster}_dsm_up\": color for cluster, color in DEMAND_RESPONSE_CLUSTERS.items()},\n",
    "    **{f\"{cluster}_dsm_do_shift\": color for cluster, color in DEMAND_RESPONSE_CLUSTERS.items()},\n",
    "    **{f\"{cluster}_dsm_do_shed\": color for cluster, color in DEMAND_RESPONSE_CLUSTERS.items()},\n",
    "    **SHORTAGE_EXCESS,\n",
    "}\n",
    "\n",
    "for idx in min_res_infeed.index:\n",
    "    plot_generation_and_comsumption_pattern(\n",
    "        generation_and_load,\n",
    "        idx,\n",
    "        duration,\n",
    "        colors,\n",
    "        figsize=(20, 15),\n",
    "    )"
   ]
  },
  {
   "cell_type": "markdown",
   "id": "118ba8c1",
   "metadata": {},
   "source": [
    "# Multi scenario analyses\n",
    "## Extract dispatch results"
   ]
  },
  {
   "cell_type": "code",
   "execution_count": null,
   "id": "5ee2862d",
   "metadata": {},
   "outputs": [],
   "source": [
    "aggregated_results = {}\n",
    "\n",
    "for dr_scenario in dr_scenarios:\n",
    "    if dr_scenario != \"none\":\n",
    "        file_add_on = (\n",
    "            f\"_with_dr_{dr_scenario}_\"\n",
    "            f\"fuel_price-{fuel_price_scenario}_\"\n",
    "            f\"co2_price-{emissions_pathway}{annual_investment_limits}_production\"\n",
    "        )\n",
    "    else:\n",
    "        file_add_on = (\n",
    "            f\"_no_dr_50_\"\n",
    "            f\"fuel_price-{fuel_price_scenario}_\"\n",
    "            f\"co2_price-{emissions_pathway}{annual_investment_limits}_production\"\n",
    "        )\n",
    "    if multi_header:\n",
    "        header = [0, 1]\n",
    "    else:\n",
    "        header = 0\n",
    "    \n",
    "    production_results_raw = pd.read_csv(\n",
    "        f\"{path_results}{filename}{file_add_on}{file_extension}\", index_col=0, header=header,\n",
    "    ).T\n",
    "    processed_results = preprocess_raw_results(\n",
    "        production_results_raw, investments=False, multi_header=multi_header\n",
    "    ).drop(columns=\"year\").round(rounding_precision)\n",
    "    aggregated_results[dr_scenario] = aggregate_investment_results(\n",
    "        processed_results, \n",
    "        energy_carriers={**FUELS_EXISTING, **FUELS}, \n",
    "        by=\"energy_carrier\", \n",
    "        investments=False\n",
    "    ).T\n",
    "del production_results_raw, processed_results"
   ]
  },
  {
   "cell_type": "markdown",
   "id": "b4a893c3",
   "metadata": {},
   "source": [
    "## Shortage events for other countries\n",
    "* Inspect occurences of shortage for countries other than Germany.\n",
    "* Prepare as a model input:\n",
    "    * Artificial shortage sources with a fixed profile are added to pommesdata to prevent shortages.\n",
    "    * Realized shortage profiles are extracted and used as fixed profile for pommesdata.\n",
    "\n",
    "Extraction and inspection:\n",
    "* Extract shortage patterns\n",
    "* Visualize shortage time series"
   ]
  },
  {
   "cell_type": "code",
   "execution_count": null,
   "id": "17fdf9b8",
   "metadata": {},
   "outputs": [],
   "source": [
    "shortages = {}\n",
    "fig, axs = plt.subplots(len(dr_scenarios), 1, figsize=(15, 5 * len(dr_scenarios)))\n",
    "\n",
    "for no, dr_scenario in enumerate(dr_scenarios):\n",
    "    shortage_cols = [\n",
    "        col for col in aggregated_results[dr_scenario].columns if \"shortage\" in col\n",
    "        and \"artificial\" not in col\n",
    "    ]\n",
    "    shortages[dr_scenario] = aggregated_results[dr_scenario][shortage_cols]\n",
    "    _ = shortages[dr_scenario].plot(ax=axs[no])\n",
    "    _ = axs[no].set_title(f\"shortage events for scenario {dr_scenario}\")\n",
    "    \n",
    "plt.show()"
   ]
  },
  {
   "cell_type": "code",
   "execution_count": null,
   "id": "69c61a3e-2845-4454-8489-ef3e2d4d6db6",
   "metadata": {},
   "outputs": [],
   "source": [
    "shortages[dr_scenario].max()"
   ]
  },
  {
   "cell_type": "markdown",
   "id": "aebb330c",
   "metadata": {},
   "source": [
    "## Maximum shortage capacities\n",
    "* Extract maximum storage capacities\n",
    "* add oemof.solph-relevant pieces of information and save to file"
   ]
  },
  {
   "cell_type": "code",
   "execution_count": null,
   "id": "2fd72c78",
   "metadata": {},
   "outputs": [],
   "source": [
    "for dr_scenario in dr_scenarios:\n",
    "    shortages_max = pd.DataFrame(index=shortages[dr_scenario].columns)\n",
    "    shortages_max.index.name = \"label\"\n",
    "    shortages_max[\"to\"] = shortages_max.index.str.split(\"_\", expand=True).get_level_values(0) + \"_bus_el\"\n",
    "    shortages_max[\"maximum\"] = shortages[dr_scenario].max()\n",
    "    shortages_max.index = shortages_max.index + \"_artificial\"\n",
    "    shortages_max = shortages_max.loc[shortages_max.maximum != 0]\n",
    "    shortages_max.to_csv(filenames_out[\"shortages_artificial\"][dr_scenario])"
   ]
  },
  {
   "cell_type": "markdown",
   "id": "bbb6581c",
   "metadata": {},
   "source": [
    "## Shortage profiles\n",
    "* Extract normalized shortage profiles\n",
    "* Store time series to file"
   ]
  },
  {
   "cell_type": "code",
   "execution_count": null,
   "id": "3ea75160",
   "metadata": {},
   "outputs": [],
   "source": [
    "for dr_scenario in dr_scenarios:\n",
    "    shortages_profile = shortages[dr_scenario].div(shortages[dr_scenario].max())\n",
    "    shortages_profile.columns = [col + \"_artificial\" for col in shortages_profile.columns]\n",
    "    shortages_profile = shortages_profile[[\n",
    "        col for col in shortages_profile.columns\n",
    "        if shortages_profile[col].notna().all()\n",
    "    ]]\n",
    "    shortages_profile.to_csv(filenames_out[\"shortages_artificial_ts\"][dr_scenario])"
   ]
  },
  {
   "cell_type": "code",
   "execution_count": null,
   "id": "329b126c",
   "metadata": {},
   "outputs": [],
   "source": []
  }
 ],
 "metadata": {
  "kernelspec": {
   "display_name": "Python 3 (ipykernel)",
   "language": "python",
   "name": "python3"
  },
  "language_info": {
   "codemirror_mode": {
    "name": "ipython",
    "version": 3
   },
   "file_extension": ".py",
   "mimetype": "text/x-python",
   "name": "python",
   "nbconvert_exporter": "python",
   "pygments_lexer": "ipython3",
   "version": "3.8.13"
  },
  "toc": {
   "base_numbering": 1,
   "nav_menu": {},
   "number_sections": true,
   "sideBar": true,
   "skip_h1_title": false,
   "title_cell": "Table of Contents",
   "title_sidebar": "Contents",
   "toc_cell": false,
   "toc_position": {
    "height": "461.482px",
    "left": "203px",
    "top": "110.255px",
    "width": "275.498px"
   },
   "toc_section_display": true,
   "toc_window_display": true
  },
  "toc-autonumbering": true,
  "toc-showcode": false,
  "toc-showmarkdowntxt": false,
  "varInspector": {
   "cols": {
    "lenName": 16,
    "lenType": 16,
    "lenVar": 40
   },
   "kernels_config": {
    "python": {
     "delete_cmd_postfix": "",
     "delete_cmd_prefix": "del ",
     "library": "var_list.py",
     "varRefreshCmd": "print(var_dic_list())"
    },
    "r": {
     "delete_cmd_postfix": ") ",
     "delete_cmd_prefix": "rm(",
     "library": "var_list.r",
     "varRefreshCmd": "cat(var_dic_list()) "
    }
   },
   "position": {
    "height": "846.844px",
    "left": "1968px",
    "right": "20px",
    "top": "119px",
    "width": "545px"
   },
   "types_to_exclude": [
    "module",
    "function",
    "builtin_function_or_method",
    "instance",
    "_Feature"
   ],
   "window_display": true
  }
 },
 "nbformat": 4,
 "nbformat_minor": 5
}
