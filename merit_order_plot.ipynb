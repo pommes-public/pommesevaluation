{
 "cells": [
  {
   "cell_type": "markdown",
   "metadata": {},
   "source": [
    "# Merit order evaluation\n",
    "* Create an merit order plot from input data\n",
    "* Merit order plot is a snapshot situation for one given RES infeed"
   ]
  },
  {
   "cell_type": "code",
   "execution_count": 1,
   "metadata": {},
   "outputs": [],
   "source": [
    "import numpy as np\n",
    "import pandas as pd\n",
    "import matplotlib.pyplot as plt\n",
    "import matplotlib\n",
    "\n",
    "from pommesevaluation.merit_order import (\n",
    "    reshape_merit_order_data, plot_merit_order\n",
    ")"
   ]
  },
  {
   "cell_type": "markdown",
   "metadata": {},
   "source": [
    "## Read in and combine data\n",
    "* Define settings\n",
    "* Read in\n",
    "  * costs: fuel, operation, emissions\n",
    "  * capacities: for conventional and renewable transformers and other renewables\n",
    "  * time series: renewable infeed and conventional transformers availability\n",
    "* Combine into transformers resp. renewables data sets"
   ]
  },
  {
   "cell_type": "code",
   "execution_count": 2,
   "metadata": {},
   "outputs": [],
   "source": [
    "input_folder = './model_inputs/'\n",
    "simulation_year = 2017\n",
    "fuel_cost_pathway = 'NZE'\n",
    "emissions_cost_pathway = 'long-term'\n",
    "time = f'{simulation_year}-08-05 13:00:00'"
   ]
  },
  {
   "cell_type": "code",
   "execution_count": 3,
   "metadata": {},
   "outputs": [],
   "source": [
    "# transformers (i.e. generators)\n",
    "transformers = pd.read_csv(input_folder+f'transformers_{simulation_year}.csv')\n",
    "transformers = transformers.loc[\n",
    "    transformers['country'] == 'DE', \n",
    "    ['label', 'fuel', 'capacity', 'efficiency_el']\n",
    "]\n",
    "\n",
    "# availabilities\n",
    "availability_ts = pd.read_csv(input_folder+f'transformers_availability_ts_{simulation_year}.csv', index_col=0)\n",
    "availability_factor = availability_ts.at[time, \"values\"]\n",
    "transformers['capacity'] *= availability_factor \n",
    "\n",
    "# fuel costs\n",
    "costs_fuel = pd.read_csv(input_folder+f'costs_fuel_{fuel_cost_pathway}_nominal_{simulation_year}.csv')\n",
    "costs_fuel['fuel'] = [_[2] for _ in costs_fuel['label'].str.split('_')]\n",
    "costs_fuel = costs_fuel.loc[costs_fuel['label'].str.contains('DE'), ['fuel', f'{simulation_year}']]\n",
    "costs_fuel.rename(columns={f'{simulation_year}': 'costs_fuel'}, inplace=True)\n",
    "\n",
    "# operation costs\n",
    "costs_opex = pd.read_csv(input_folder+f'costs_operation_nominal_{simulation_year}.csv')\n",
    "costs_opex['fuel'] = [_[2] for _ in costs_opex['label'].str.split('_')]\n",
    "costs_opex = costs_opex.loc[costs_opex['label'].str.contains('DE'), ['fuel', f'{simulation_year}']]\n",
    "costs_opex.rename(columns={f'{simulation_year}': 'costs_opex'}, inplace=True)\n",
    "\n",
    "# emission costs\n",
    "costs_emissions = pd.read_csv(input_folder+f'costs_emissions_{emissions_cost_pathway}_nominal_{simulation_year}.csv', index_col=0)\n",
    "carbon_price = costs_emissions.at['DE_source_biomass', f'{simulation_year}']\n",
    "transformers['carbon_price'] = carbon_price\n",
    "\n",
    "# emission factors\n",
    "sources_commodity = pd.read_csv(input_folder+f'sources_commodity_{simulation_year}.csv')\n",
    "sources_commodity['fuel'] = [_[2] for _ in sources_commodity['label'].str.split('_')]\n",
    "sources_commodity = sources_commodity.loc[sources_commodity['label'].str.contains('DE'), ['fuel', 'emission_factors']]"
   ]
  },
  {
   "cell_type": "code",
   "execution_count": 4,
   "metadata": {},
   "outputs": [],
   "source": [
    "# Merge costs data and transformers\n",
    "transformers = transformers.merge(costs_fuel, on='fuel', how='left')\n",
    "transformers = transformers.merge(costs_opex, on='fuel', how='left')\n",
    "transformers = transformers.merge(sources_commodity, on='fuel', how='left')\n",
    "transformers['costs_carbon'] = transformers['emission_factors'] * transformers['carbon_price']"
   ]
  },
  {
   "cell_type": "code",
   "execution_count": 5,
   "metadata": {},
   "outputs": [],
   "source": [
    "# fluctuating renewables capacity factors from time series\n",
    "sources_res_ts = pd.read_csv(input_folder+f'sources_renewables_ts_{simulation_year}.csv', index_col=0)\n",
    "sources_res_ts = sources_res_ts[sources_res_ts.columns[sources_res_ts.columns.str.contains('DE')]]\n",
    "sources_res_ts = sources_res_ts.loc[time]\n",
    "sources_res_ts = sources_res_ts.to_frame()\n",
    "sources_res_ts.columns = ['capacity_factor']"
   ]
  },
  {
   "cell_type": "code",
   "execution_count": 6,
   "metadata": {},
   "outputs": [],
   "source": [
    "# res capacities for non-fluctuating renewables\n",
    "sources_res = pd.read_csv(input_folder+f'sources_renewables_{simulation_year}.csv', usecols=['label', 'capacity', 'country'])\n",
    "sources_res['fuel'] = [_[2] for _ in sources_res['label'].str.split('_')]\n",
    "sources_res = sources_res.merge(sources_res_ts, left_on='label', right_index=True, how='left')\n",
    "sources_res['capacity'] *= sources_res['capacity_factor']\n",
    "sources_res = sources_res.loc[sources_res['country'] == 'DE', ['fuel', 'capacity']]\n",
    "sources_res.replace({'ROR': 'Wasser', 'Klaergas': 'Klärgas'}, inplace=True)\n",
    "sources_res['costs_fuel'] = 0\n",
    "sources_res['efficiency_el'] = 1\n",
    "sources_res['label'] = sources_res['fuel']"
   ]
  },
  {
   "cell_type": "code",
   "execution_count": 7,
   "metadata": {},
   "outputs": [],
   "source": [
    "# fluctuating renewables (renewable transformers)\n",
    "transformers_res = pd.read_csv(input_folder+f'transformers_renewables_{simulation_year}.csv')\n",
    "\n",
    "# renewables operation costs\n",
    "costs_res = pd.read_csv(input_folder+f'costs_operation_renewables_{simulation_year}.csv')\n",
    "transformers_res = transformers_res.merge(costs_res, on='label', how='left')\n",
    "\n",
    "transformers_res = transformers_res.merge(sources_res_ts, left_on='from', right_index=True, how='left')\n",
    "transformers_res['capacity'] *= transformers_res['capacity_factor']\n",
    "\n",
    "transformers_res['fuel'] = [_[1] for _ in transformers_res['label'].str.split('_')]\n",
    "\n",
    "# market values renewables\n",
    "costs_market_values = pd.read_csv(input_folder+f'costs_market_values_{simulation_year}.csv', index_col=0)\n",
    "costs_market_values = costs_market_values.loc[time].to_frame()\n",
    "costs_market_values.columns = ['market_values']\n",
    "transformers_res = transformers_res.merge(costs_market_values, right_index=True, left_on='from', how='left')\n",
    "\n",
    "# derive costs for renewable transformers\n",
    "transformers_res['costs_fuel'] = transformers_res['costs']+transformers_res['market_values']\n",
    "exog_trafos = ['DE_solarPV_cluster_exogenous', 'DE_windoffshore_cluster_exogenous', 'DE_windonshore_cluster_exogenous']\n",
    "transformers_res.loc[transformers_res['label'].isin(exog_trafos), 'costs_fuel'] = 0\n",
    "\n",
    "transformers_res = transformers_res[['label', 'fuel', 'efficiency_el', 'capacity', 'costs_fuel']]"
   ]
  },
  {
   "cell_type": "markdown",
   "metadata": {},
   "source": [
    "## Combine different data sets\n",
    "* Merge all data sets\n",
    "* Calculate marginal costs\n",
    "* Sort values by marginal costs and calculate cumulated capacities"
   ]
  },
  {
   "cell_type": "code",
   "execution_count": 8,
   "metadata": {},
   "outputs": [],
   "source": [
    "# merge\n",
    "blocks = pd.concat([transformers, sources_res, transformers_res]).fillna(0)\n",
    "\n",
    "# derive marginal costs\n",
    "blocks['costs_marginal'] = (\n",
    "    blocks[\"costs_opex\"] +\n",
    "    (blocks[\"costs_fuel\"] + blocks[\"costs_carbon\"]) / (blocks['efficiency_el'])\n",
    ")\n",
    "\n",
    "# derive cumulated capacity\n",
    "blocks = blocks.sort_values(by='costs_marginal', ascending=True)\n",
    "blocks[\"capacity_cumulated\"] = blocks[\"capacity\"].cumsum()\n",
    "\n",
    "# assign symbolic euro(s) for illustration purposes\n",
    "blocks.loc[blocks['costs_marginal'] == 0, 'costs_marginal'] = 2"
   ]
  },
  {
   "cell_type": "code",
   "execution_count": 9,
   "metadata": {},
   "outputs": [],
   "source": [
    "fuel_dict = {\n",
    "    'solarPV': 'Solare Strahlungsenergie',\n",
    "    'windonshore': 'Windenergie an Land',\n",
    "    'windoffshore': 'Windenergie auf See',\n",
    "    'uranium': 'Kernenergie',\n",
    "    'lignite': 'Braunkohle',\n",
    "    'otherfossil': 'Andere fossile',\n",
    "    'hardcoal': 'Steinkohle',\n",
    "    'waste': 'Abfall',\n",
    "    'mixedfuels': 'Mehrere fossile',\n",
    "    'biomass': 'Biomasse',\n",
    "    'biomassEEG': 'Biomasse',\n",
    "    'landfillgas': 'Deponiegas',\n",
    "    'geothermal': 'Geothermie',\n",
    "    'minegas': 'Grubengas',\n",
    "    'larga': 'Klärgas',\n",
    "    'natgas': 'Erdgas',\n",
    "    'oil': 'Heizöl'\n",
    "}\n",
    "blocks['fuel'].replace(fuel_dict, inplace=True)"
   ]
  },
  {
   "cell_type": "code",
   "execution_count": 10,
   "metadata": {},
   "outputs": [],
   "source": [
    "# Define a color combination\n",
    "colors = {\n",
    "    'Solare Strahlungsenergie': '#fcb001',\n",
    "    'Windenergie auf See': '#0504aa',\n",
    "    'Windenergie an Land': '#82cafc',\n",
    "    'Biomasse': '#15b01a',\n",
    "    'Deponiegas': '#06c2ac',\n",
    "    'Geothermie': '#ff474c',\n",
    "    'Wasser': '#c79fef', \n",
    "    'Grubengas': '#650021', \n",
    "    'Klärgas': '#ad8150', \n",
    "    'Kernenergie': '#e50000',\n",
    "    'Braunkohle': '#7f2b0a',\n",
    "    'Andere fossile': '#d8dcd6',\n",
    "    'Steinkohle': '#000000', \n",
    "    'Abfall': '#c04e01',\n",
    "    'Mehrere fossile': '#a57e52',\n",
    "    'Erdgas': '#929591', \n",
    "    'Heizöl': '#aaa662'\n",
    "}"
   ]
  },
  {
   "cell_type": "markdown",
   "metadata": {},
   "source": [
    "## Create actual merit order plot\n",
    "* Reshape data set\n",
    "* plot using steps"
   ]
  },
  {
   "cell_type": "code",
   "execution_count": 13,
   "metadata": {},
   "outputs": [
    {
     "data": {
      "image/png": "[encoded data removed]",
      "text/plain": [
       "<Figure size 864x360 with 1 Axes>"
      ]
     },
     "metadata": {
      "needs_background": "light"
     },
     "output_type": "display_data"
    }
   ],
   "source": [
    "# Reshape data set\n",
    "merit_order = reshape_merit_order_data(blocks)\n",
    "\n",
    "plt.rcParams.update({'font.size': 12})\n",
    "\n",
    "# Create actual plot\n",
    "plot_merit_order(merit_order, colors, ylim=(-100, 120), set_ylim=True)"
   ]
  },
  {
   "cell_type": "code",
   "execution_count": 14,
   "metadata": {},
   "outputs": [
    {
     "data": {
      "text/html": [
       "<div>\n",
       "<style scoped>\n",
       "    .dataframe tbody tr th:only-of-type {\n",
       "        vertical-align: middle;\n",
       "    }\n",
       "\n",
       "    .dataframe tbody tr th {\n",
       "        vertical-align: top;\n",
       "    }\n",
       "\n",
       "    .dataframe thead th {\n",
       "        text-align: right;\n",
       "    }\n",
       "</style>\n",
       "<table border=\"1\" class=\"dataframe\">\n",
       "  <thead>\n",
       "    <tr style=\"text-align: right;\">\n",
       "      <th></th>\n",
       "      <th>fuel</th>\n",
       "      <th>costs_marginal</th>\n",
       "      <th>capacity_cumulated</th>\n",
       "    </tr>\n",
       "  </thead>\n",
       "  <tbody>\n",
       "    <tr>\n",
       "      <th>0</th>\n",
       "      <td>Solare Strahlungsenergie</td>\n",
       "      <td>-523.583923</td>\n",
       "      <td>0.768393</td>\n",
       "    </tr>\n",
       "    <tr>\n",
       "      <th>1</th>\n",
       "      <td>Solare Strahlungsenergie</td>\n",
       "      <td>-497.343933</td>\n",
       "      <td>2.849832</td>\n",
       "    </tr>\n",
       "    <tr>\n",
       "      <th>2</th>\n",
       "      <td>Solare Strahlungsenergie</td>\n",
       "      <td>-470.093933</td>\n",
       "      <td>6.598341</td>\n",
       "    </tr>\n",
       "    <tr>\n",
       "      <th>3</th>\n",
       "      <td>Solare Strahlungsenergie</td>\n",
       "      <td>-443.343933</td>\n",
       "      <td>20.841949</td>\n",
       "    </tr>\n",
       "    <tr>\n",
       "      <th>4</th>\n",
       "      <td>Solare Strahlungsenergie</td>\n",
       "      <td>-422.473938</td>\n",
       "      <td>38.497482</td>\n",
       "    </tr>\n",
       "    <tr>\n",
       "      <th>...</th>\n",
       "      <td>...</td>\n",
       "      <td>...</td>\n",
       "      <td>...</td>\n",
       "    </tr>\n",
       "    <tr>\n",
       "      <th>707</th>\n",
       "      <td>Heizöl</td>\n",
       "      <td>109.102928</td>\n",
       "      <td>92128.765625</td>\n",
       "    </tr>\n",
       "    <tr>\n",
       "      <th>708</th>\n",
       "      <td>Heizöl</td>\n",
       "      <td>110.008598</td>\n",
       "      <td>92197.039062</td>\n",
       "    </tr>\n",
       "    <tr>\n",
       "      <th>709</th>\n",
       "      <td>Heizöl</td>\n",
       "      <td>110.008598</td>\n",
       "      <td>92227.023438</td>\n",
       "    </tr>\n",
       "    <tr>\n",
       "      <th>710</th>\n",
       "      <td>Heizöl</td>\n",
       "      <td>111.649399</td>\n",
       "      <td>92247.578125</td>\n",
       "    </tr>\n",
       "    <tr>\n",
       "      <th>711</th>\n",
       "      <td>Heizöl</td>\n",
       "      <td>111.649399</td>\n",
       "      <td>92268.132812</td>\n",
       "    </tr>\n",
       "  </tbody>\n",
       "</table>\n",
       "<p>712 rows × 3 columns</p>\n",
       "</div>"
      ],
      "text/plain": [
       "                         fuel  costs_marginal  capacity_cumulated\n",
       "0    Solare Strahlungsenergie     -523.583923            0.768393\n",
       "1    Solare Strahlungsenergie     -497.343933            2.849832\n",
       "2    Solare Strahlungsenergie     -470.093933            6.598341\n",
       "3    Solare Strahlungsenergie     -443.343933           20.841949\n",
       "4    Solare Strahlungsenergie     -422.473938           38.497482\n",
       "..                        ...             ...                 ...\n",
       "707                    Heizöl      109.102928        92128.765625\n",
       "708                    Heizöl      110.008598        92197.039062\n",
       "709                    Heizöl      110.008598        92227.023438\n",
       "710                    Heizöl      111.649399        92247.578125\n",
       "711                    Heizöl      111.649399        92268.132812\n",
       "\n",
       "[712 rows x 3 columns]"
      ]
     },
     "execution_count": 14,
     "metadata": {},
     "output_type": "execute_result"
    }
   ],
   "source": [
    "merit_order"
   ]
  },
  {
   "cell_type": "code",
   "execution_count": null,
   "metadata": {},
   "outputs": [],
   "source": []
  }
 ],
 "metadata": {
  "kernelspec": {
   "display_name": "Python 3 (ipykernel)",
   "language": "python",
   "name": "python3"
  },
  "language_info": {
   "codemirror_mode": {
    "name": "ipython",
    "version": 3
   },
   "file_extension": ".py",
   "mimetype": "text/x-python",
   "name": "python",
   "nbconvert_exporter": "python",
   "pygments_lexer": "ipython3",
   "version": "3.8.13"
  },
  "toc": {
   "base_numbering": 1,
   "nav_menu": {},
   "number_sections": true,
   "sideBar": true,
   "skip_h1_title": false,
   "title_cell": "Table of Contents",
   "title_sidebar": "Contents",
   "toc_cell": false,
   "toc_position": {},
   "toc_section_display": true,
   "toc_window_display": false
  },
  "varInspector": {
   "cols": {
    "lenName": 16,
    "lenType": 16,
    "lenVar": 40
   },
   "kernels_config": {
    "python": {
     "delete_cmd_postfix": "",
     "delete_cmd_prefix": "del ",
     "library": "var_list.py",
     "varRefreshCmd": "print(var_dic_list())"
    },
    "r": {
     "delete_cmd_postfix": ") ",
     "delete_cmd_prefix": "rm(",
     "library": "var_list.r",
     "varRefreshCmd": "cat(var_dic_list()) "
    }
   },
   "types_to_exclude": [
    "module",
    "function",
    "builtin_function_or_method",
    "instance",
    "_Feature"
   ],
   "window_display": false
  }
 },
 "nbformat": 4,
 "nbformat_minor": 4
}
