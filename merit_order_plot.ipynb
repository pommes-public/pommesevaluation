{
 "cells": [
  {
   "cell_type": "markdown",
   "metadata": {},
   "source": [
    "# Merit order evaluation\n",
    "* Create an merit order plot from input data\n",
    "* Merit order plot is a snapshot situation for one given RES infeed"
   ]
  },
  {
   "cell_type": "code",
   "execution_count": null,
   "metadata": {},
   "outputs": [],
   "source": [
    "import numpy as np\n",
    "import pandas as pd\n",
    "import matplotlib.pyplot as plt\n",
    "import matplotlib\n",
    "\n",
    "from pommesevaluation.merit_order import (\n",
    "    reshape_merit_order_data, plot_merit_order, prepare_market_values_from_results\n",
    ")"
   ]
  },
  {
   "cell_type": "markdown",
   "metadata": {},
   "source": [
    "## Read in and combine data\n",
    "* Define settings\n",
    "* Read in\n",
    "  * costs: fuel, operation, emissions\n",
    "  * capacities: for conventional and renewable transformers and other renewables\n",
    "  * time series: renewable infeed and conventional transformers availability\n",
    "* Combine into transformers resp. renewables data sets"
   ]
  },
  {
   "cell_type": "code",
   "execution_count": null,
   "metadata": {},
   "outputs": [],
   "source": [
    "# Input and output folders\n",
    "input_folder = './model_inputs/pommesdispatch/'\n",
    "results_folder = './model_results/pommesdispatch/'\n",
    "path_plots = \"./plots/\"\n",
    "\n",
    "# Settings\n",
    "simulation_year = 2017\n",
    "fuel_cost_pathway = 'NZE'\n",
    "emissions_cost_pathway = 'long-term'\n",
    "time = f'{simulation_year}-04-30 14:00:00'  #regular situation: f'{simulation_year}-08-05 13:00:00'\n",
    "market_values_from_input = False\n",
    "\n",
    "eeg_clusters_per_technology = 20\n",
    "value_exogenous = 50 * 10  # ct/kWh converted to €/MWh\n",
    "\n",
    "file_addendum = f\"{eeg_clusters_per_technology}_clusters\""
   ]
  },
  {
   "cell_type": "code",
   "execution_count": null,
   "metadata": {},
   "outputs": [],
   "source": [
    "# transformers (i.e. generators)\n",
    "transformers = pd.read_csv(input_folder+f'transformers_{simulation_year}.csv')\n",
    "transformers = transformers.loc[\n",
    "    transformers['country'] == 'DE', \n",
    "    ['label', 'fuel', 'capacity', 'efficiency_el']\n",
    "]\n",
    "\n",
    "# availabilities\n",
    "availability_ts = pd.read_csv(input_folder+f'transformers_availability_ts_{simulation_year}.csv', index_col=0)\n",
    "availability_factor = availability_ts.at[time, \"values\"]\n",
    "transformers['capacity'] *= availability_factor\n",
    "\n",
    "# fuel costs\n",
    "costs_fuel = pd.read_csv(\n",
    "    input_folder+f'costs_fuel_{fuel_cost_pathway}_nominal_{simulation_year}.csv'\n",
    ")\n",
    "costs_fuel['fuel'] = [_[2] for _ in costs_fuel['label'].str.split('_')]\n",
    "costs_fuel = costs_fuel.loc[costs_fuel['label'].str.contains('DE'), ['fuel', f'{simulation_year}']]\n",
    "costs_fuel.rename(columns={f'{simulation_year}': 'costs_fuel'}, inplace=True)\n",
    "costs_fuel.set_index(\"fuel\", inplace=True)\n",
    "\n",
    "# time-dependency for fuel costs\n",
    "costs_fuel_ts = pd.read_csv(input_folder+f'costs_fuel_ts_{simulation_year}.csv', index_col=0)\n",
    "costs_fuel_factor = costs_fuel_ts.loc[[time]].T\n",
    "costs_fuel_factor.reset_index(inplace=True)\n",
    "costs_fuel_factor[[\"country\", \"source\", \"fuel\"]] = costs_fuel_factor[\"index\"].str.split(\"_\", expand=True)\n",
    "costs_fuel_factor = costs_fuel_factor.drop_duplicates(subset=\"fuel\").set_index(\"fuel\")[time]\n",
    "costs_fuel[\"costs_fuel\"] = costs_fuel[\"costs_fuel\"] * costs_fuel_factor\n",
    "costs_fuel.reset_index()\n",
    "\n",
    "# operation costs\n",
    "costs_opex = pd.read_csv(input_folder+f'costs_operation_nominal_{simulation_year}.csv')\n",
    "costs_opex['fuel'] = [_[2] for _ in costs_opex['label'].str.split('_')]\n",
    "costs_opex = costs_opex.loc[costs_opex['label'].str.contains('DE'), ['fuel', f'{simulation_year}']]\n",
    "costs_opex.rename(columns={f'{simulation_year}': 'costs_opex'}, inplace=True)\n",
    "\n",
    "# emission costs\n",
    "costs_emissions = pd.read_csv(input_folder+f'costs_emissions_{emissions_cost_pathway}_nominal_{simulation_year}.csv', index_col=0)\n",
    "carbon_price = costs_emissions.at['DE_source_biomass', f'{simulation_year}']\n",
    "transformers['carbon_price'] = carbon_price\n",
    "\n",
    "# emission factors\n",
    "sources_commodity = pd.read_csv(input_folder+f'sources_commodity_{simulation_year}.csv')\n",
    "sources_commodity['fuel'] = [_[2] for _ in sources_commodity['label'].str.split('_')]\n",
    "sources_commodity = sources_commodity.loc[sources_commodity['label'].str.contains('DE'), ['fuel', 'emission_factors']]"
   ]
  },
  {
   "cell_type": "code",
   "execution_count": null,
   "metadata": {},
   "outputs": [],
   "source": [
    "# Merge costs data and transformers\n",
    "transformers = transformers.merge(costs_fuel, on='fuel', how='left')\n",
    "transformers = transformers.merge(costs_opex, on='fuel', how='left')\n",
    "transformers = transformers.merge(sources_commodity, on='fuel', how='left')\n",
    "transformers['costs_carbon'] = transformers['emission_factors'] * transformers['carbon_price']"
   ]
  },
  {
   "cell_type": "code",
   "execution_count": null,
   "metadata": {},
   "outputs": [],
   "source": [
    "# fluctuating renewables capacity factors from time series\n",
    "sources_res_ts = pd.read_csv(input_folder+f'sources_renewables_ts_{simulation_year}.csv', index_col=0)\n",
    "sources_res_ts = sources_res_ts[sources_res_ts.columns[sources_res_ts.columns.str.contains('DE')]]\n",
    "sources_res_ts = sources_res_ts.loc[time]\n",
    "sources_res_ts = sources_res_ts.to_frame()\n",
    "sources_res_ts.columns = ['capacity_factor']"
   ]
  },
  {
   "cell_type": "code",
   "execution_count": null,
   "metadata": {},
   "outputs": [],
   "source": [
    "# res capacities for non-fluctuating renewables\n",
    "sources_res = pd.read_csv(\n",
    "    input_folder+f'sources_renewables_{simulation_year}.csv', \n",
    "    usecols=['label', 'capacity', 'country']\n",
    ")\n",
    "sources_res['fuel'] = [_[2] for _ in sources_res['label'].str.split('_')]\n",
    "sources_res = sources_res.merge(sources_res_ts, left_on='label', right_index=True, how='left')\n",
    "sources_res['capacity'] *= sources_res['capacity_factor']\n",
    "sources_res = sources_res.loc[sources_res['country'] == 'DE', ['fuel', 'capacity']]\n",
    "sources_res.replace({'ROR': 'Wasser', 'Klaergas': 'Klärgas'}, inplace=True)\n",
    "sources_res['costs_fuel'] = 0\n",
    "sources_res['efficiency_el'] = 1\n",
    "sources_res['label'] = sources_res['fuel']"
   ]
  },
  {
   "cell_type": "code",
   "execution_count": null,
   "metadata": {},
   "outputs": [],
   "source": [
    "# fluctuating renewables (renewable transformers)\n",
    "transformers_res = pd.read_csv(\n",
    "    input_folder+f'transformers_renewables_{file_addendum}_{simulation_year}.csv'\n",
    ")\n",
    "\n",
    "# renewables operation costs\n",
    "costs_res = pd.read_csv(input_folder+f'costs_operation_renewables_{simulation_year}.csv')\n",
    "transformers_res = transformers_res.merge(costs_res, on='label', how='left')\n",
    "\n",
    "transformers_res = transformers_res.merge(\n",
    "    sources_res_ts, left_on='from', right_index=True, how='left'\n",
    ")\n",
    "transformers_res['capacity'] *= transformers_res['capacity_factor']\n",
    "\n",
    "transformers_res['fuel'] = [_[1] for _ in transformers_res['label'].str.split('_')]\n",
    "\n",
    "# market values renewables\n",
    "if market_values_from_input:\n",
    "    costs_market_values = pd.read_csv(input_folder+f'costs_market_values_{simulation_year}.csv', index_col=0)\n",
    "else:\n",
    "    costs_market_values = pd.read_csv(\n",
    "        f'{results_folder}dispatch_LP_start-{simulation_year}'\n",
    "        + f'-01-01_364-days_simple_complete_monthly_market_values_UPDATE.csv', \n",
    "        index_col=0\n",
    "    )\n",
    "    costs_market_values = prepare_market_values_from_results(costs_market_values, simulation_year)\n",
    "costs_market_values = costs_market_values.loc[time].to_frame()\n",
    "costs_market_values.columns = ['market_values']\n",
    "transformers_res = transformers_res.merge(costs_market_values, right_index=True, left_on='from', how='left')\n",
    "\n",
    "# derive costs for renewable transformers\n",
    "transformers_res['costs_fuel'] = transformers_res['costs']+transformers_res['market_values']\n",
    "exog_trafos = ['DE_solarPV_cluster_exogenous', 'DE_windoffshore_cluster_exogenous', 'DE_windonshore_cluster_exogenous']\n",
    "transformers_res.loc[transformers_res['label'].isin(exog_trafos), 'costs_fuel'] = -value_exogenous\n",
    "\n",
    "transformers_res = transformers_res[['label', 'fuel', 'efficiency_el', 'capacity', 'costs_fuel']]"
   ]
  },
  {
   "cell_type": "code",
   "execution_count": null,
   "metadata": {},
   "outputs": [],
   "source": [
    "# shortage sources (peaking plants)\n",
    "sources_shortage_el_add = pd.read_csv(f\"{input_folder}/sources_shortage_el_add_{simulation_year}.csv\")\n",
    "sources_shortage_el_add.rename(\n",
    "    columns={\n",
    "        \"shortage_costs\": \"costs_fuel\", \n",
    "        \"Unnamed: 0\": \"label\",\n",
    "        \"nominal_value\": \"capacity\",\n",
    "    }, \n",
    "    inplace=True\n",
    ")\n",
    "sources_shortage_el_add[\"fuel\"] = \"peaking_units\"\n",
    "sources_shortage_el_add[\"efficiency_el\"] = 1"
   ]
  },
  {
   "cell_type": "markdown",
   "metadata": {},
   "source": [
    "## Combine different data sets\n",
    "* Merge all data sets\n",
    "* Calculate marginal costs\n",
    "* Sort values by marginal costs and calculate cumulated capacities"
   ]
  },
  {
   "cell_type": "code",
   "execution_count": null,
   "metadata": {},
   "outputs": [],
   "source": [
    "# merge\n",
    "blocks = pd.concat([transformers, sources_res, transformers_res, sources_shortage_el_add]).fillna(0)\n",
    "\n",
    "# derive marginal costs\n",
    "blocks['costs_marginal'] = (\n",
    "    blocks[\"costs_opex\"] +\n",
    "    (blocks[\"costs_fuel\"] + blocks[\"costs_carbon\"]) / (blocks['efficiency_el'])\n",
    ")\n",
    "\n",
    "# derive cumulated capacity\n",
    "blocks = blocks.sort_values(by='costs_marginal', ascending=True)\n",
    "blocks[\"capacity_cumulated\"] = blocks[\"capacity\"].cumsum()\n",
    "\n",
    "# assign symbolic euro(s) for illustration purposes\n",
    "blocks.loc[blocks['costs_marginal'] == 0, 'costs_marginal'] = 2"
   ]
  },
  {
   "cell_type": "code",
   "execution_count": null,
   "metadata": {},
   "outputs": [],
   "source": [
    "fuel_dict_DE = {\n",
    "    'solarPV': 'Solare Strahlungsenergie',\n",
    "    'windonshore': 'Windenergie an Land',\n",
    "    'windoffshore': 'Windenergie auf See',\n",
    "    'uranium': 'Kernenergie',\n",
    "    'lignite': 'Braunkohle',\n",
    "    'otherfossil': 'Andere fossile',\n",
    "    'hardcoal': 'Steinkohle',\n",
    "    'waste': 'Abfall',\n",
    "    'mixedfuels': 'Mehrere fossile',\n",
    "    'biomass': 'Biomasse',\n",
    "    'biomassEEG': 'Biomasse',\n",
    "    'landfillgas': 'Deponiegas',\n",
    "    'geothermal': 'Geothermie',\n",
    "    'minegas': 'Grubengas',\n",
    "    'larga': 'Klärgas',\n",
    "    'natgas': 'Erdgas',\n",
    "    'oil': 'Heizöl',\n",
    "    'peaking_units': 'Spitzenlastkraftwerke',\n",
    "    'hydrogen': 'Wasserstoff',\n",
    "}\n",
    "fuel_dict_EN = {\n",
    "    \"biomassEEG\": \"biomass\",\n",
    "    \"Wasser\": \"water\",\n",
    "}\n",
    "blocks['fuel'].replace(fuel_dict_EN, inplace=True)"
   ]
  },
  {
   "cell_type": "code",
   "execution_count": null,
   "metadata": {},
   "outputs": [],
   "source": [
    "# Define a color combination\n",
    "colors_DE = {\n",
    "    'Solare Strahlungsenergie': '#fcb001',\n",
    "    'Windenergie auf See': '#0504aa',\n",
    "    'Windenergie an Land': '#82cafc',\n",
    "    'Biomasse': '#15b01a',\n",
    "    'Deponiegas': '#06c2ac',\n",
    "    'Geothermie': '#ff474c',\n",
    "    'Wasser': '#c79fef', \n",
    "    'Grubengas': '#650021', \n",
    "    'Klärgas': '#ad8150', \n",
    "    'Kernenergie': '#e50000',\n",
    "    'Braunkohle': '#7f2b0a',\n",
    "    'Andere fossile': '#d8dcd6',\n",
    "    'Steinkohle': '#000000', \n",
    "    'Abfall': '#c04e01',\n",
    "    'Mehrere fossile': '#a57e52',\n",
    "    'Erdgas': '#929591', \n",
    "    'Heizöl': '#aaa662',\n",
    "    'Spitzenlastkraftwerke': '#999999',\n",
    "    'Wasserstoff': '#6fa8dc',\n",
    "}\n",
    "colors_EN = {\n",
    "    'solarPV': '#fcb001',\n",
    "    'windoffshore': '#0504aa',\n",
    "    'windonshore': '#82cafc',\n",
    "    'biomass': '#15b01a',\n",
    "    'landfillgas': '#06c2ac',\n",
    "    'geothermal': '#ff474c',\n",
    "    'water': '#c79fef', \n",
    "    'minegas': '#650021', \n",
    "    'larga': '#ad8150', \n",
    "    'uranium': '#e50000',\n",
    "    'lignite': '#7f2b0a',\n",
    "    'otherfossil': '#d8dcd6',\n",
    "    'hardcoal': '#000000', \n",
    "    'waste': '#c04e01',\n",
    "    'mixedfuels': '#a57e52',\n",
    "    'natgas': '#929591', \n",
    "    'oil': '#aaa662',\n",
    "    'peaking_units': '#999999',\n",
    "    'hydrogen': '#6fa8dc',\n",
    "}"
   ]
  },
  {
   "cell_type": "markdown",
   "metadata": {},
   "source": [
    "## Create actual merit order plot\n",
    "* Reshape data set\n",
    "* plot using steps"
   ]
  },
  {
   "cell_type": "code",
   "execution_count": null,
   "metadata": {},
   "outputs": [],
   "source": [
    "# Reshape data set\n",
    "merit_order = reshape_merit_order_data(blocks)\n",
    "\n",
    "plt.rcParams.update({'font.size': 12})\n",
    "\n",
    "# Create actual plot\n",
    "plot_merit_order(\n",
    "    merit_order, \n",
    "    colors_EN,\n",
    "    ylim=(-520, 200), \n",
    "    interval=20, \n",
    "    set_ylim=True, \n",
    "    height=10,\n",
    "    save=True,\n",
    "    path_plots=path_plots,\n",
    "    file_name=f\"merit_oder_for_{simulation_year}{file_addendum}\",\n",
    ")"
   ]
  },
  {
   "cell_type": "markdown",
   "metadata": {},
   "source": [
    "## Show only negative portion of merit order\n",
    "* Exclude conventionals and every unit with marginal costs above 0\n",
    "* Include some renaming to create nice plots for a paper"
   ]
  },
  {
   "cell_type": "code",
   "execution_count": null,
   "metadata": {},
   "outputs": [],
   "source": [
    "cutted_merit_order = reshape_merit_order_data(blocks.loc[blocks[\"costs_marginal\"] <= 2])\n",
    "\n",
    "tidy_fuel_names = {\n",
    "    \"solarPV\": \"solar photovoltaics\",\n",
    "    \"windonshore\": \"wind onshore\",\n",
    "    \"windoffshore\": \"wind offshore\",\n",
    "    \"minegas\": \"gaseous RES\",\n",
    "    \"landfillgas\": \"gaseous RES\",\n",
    "    \"larga\": \"gaseous RES\",\n",
    "    \"geothermal\": \"geothermal energy\",\n",
    "    \"water\": \"run of river\",\n",
    "}\n",
    "\n",
    "colors_EN_tidy = {\n",
    "    'solar photovoltaics': '#fcb001',\n",
    "    'wind offshore': '#0504aa',\n",
    "    'wind onshore': '#82cafc',\n",
    "    'biomass': '#15b01a',\n",
    "    'gaseous RES': '#ad8150',\n",
    "    'geothermal energy': '#ff474c',\n",
    "    'run of river': '#c79fef', \n",
    "}\n",
    "\n",
    "cutted_merit_order = cutted_merit_order.replace(tidy_fuel_names)\n",
    "\n",
    "# Create actual plot\n",
    "plot_merit_order(\n",
    "    cutted_merit_order, \n",
    "    colors_EN_tidy,\n",
    "    ylim=(-520, 20), \n",
    "    interval=20, \n",
    "    set_ylim=True, \n",
    "    height=10,\n",
    "    save=True,\n",
    "    path_plots=path_plots,\n",
    "    file_name=f\"cutted_merit_oder_for_{simulation_year}{file_addendum}\",\n",
    "    place_legend_below=True\n",
    ")"
   ]
  },
  {
   "cell_type": "code",
   "execution_count": null,
   "metadata": {},
   "outputs": [],
   "source": []
  }
 ],
 "metadata": {
  "kernelspec": {
   "display_name": "Python 3 (ipykernel)",
   "language": "python",
   "name": "python3"
  },
  "language_info": {
   "codemirror_mode": {
    "name": "ipython",
    "version": 3
   },
   "file_extension": ".py",
   "mimetype": "text/x-python",
   "name": "python",
   "nbconvert_exporter": "python",
   "pygments_lexer": "ipython3",
   "version": "3.8.13"
  },
  "toc": {
   "base_numbering": 1,
   "nav_menu": {},
   "number_sections": true,
   "sideBar": true,
   "skip_h1_title": false,
   "title_cell": "Table of Contents",
   "title_sidebar": "Contents",
   "toc_cell": false,
   "toc_position": {},
   "toc_section_display": true,
   "toc_window_display": true
  },
  "varInspector": {
   "cols": {
    "lenName": 16,
    "lenType": 16,
    "lenVar": 40
   },
   "kernels_config": {
    "python": {
     "delete_cmd_postfix": "",
     "delete_cmd_prefix": "del ",
     "library": "var_list.py",
     "varRefreshCmd": "print(var_dic_list())"
    },
    "r": {
     "delete_cmd_postfix": ") ",
     "delete_cmd_prefix": "rm(",
     "library": "var_list.r",
     "varRefreshCmd": "cat(var_dic_list()) "
    }
   },
   "types_to_exclude": [
    "module",
    "function",
    "builtin_function_or_method",
    "instance",
    "_Feature"
   ],
   "window_display": false
  }
 },
 "nbformat": 4,
 "nbformat_minor": 4
}
