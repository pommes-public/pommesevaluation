{
 "cells": [
  {
   "cell_type": "markdown",
   "id": "554b9236",
   "metadata": {},
   "source": [
    "# Investment model sanity check for inputs\n",
    "This notebook seems to inspect all the inputs passed to _pommesinvest_ in order to inspect potential data bugs from\n",
    "* visual inspection,\n",
    "* analysis of some statistic moments,\n",
    "* assert statements to check whether assumptions are valid."
   ]
  },
  {
   "cell_type": "markdown",
   "id": "cb5280b8",
   "metadata": {},
   "source": [
    "## Package imports"
   ]
  },
  {
   "cell_type": "code",
   "execution_count": null,
   "id": "f69c0863",
   "metadata": {},
   "outputs": [],
   "source": [
    "import pandas as pd\n",
    "import matplotlib.pyplot as plt\n",
    "\n",
    "from pommesevaluation.pommesinvest_routines import (\n",
    "    InvestmentModelDummy, load_input_data, process_input_data, resample_timeseries\n",
    ")\n",
    "from pommesevaluation.investment_results_inspection import (\n",
    "    plot_time_series_cols, create_datetime_index\n",
    ")"
   ]
  },
  {
   "cell_type": "markdown",
   "id": "cb7bf33c",
   "metadata": {},
   "source": [
    "## Parameter settings"
   ]
  },
  {
   "cell_type": "code",
   "execution_count": null,
   "id": "75f02b3b",
   "metadata": {},
   "outputs": [],
   "source": [
    "plt.rcParams.update({'font.size': 12})\n",
    "\n",
    "# Starting basis applied for all scenarios\n",
    "path_folder_input = \"./model_inputs/pommesinvest/\"\n",
    "start_time = \"2020-01-01 00:00:00\"\n",
    "end_time = \"2045-12-31 23:00:00\"\n",
    "freq = \"1H\"\n",
    "overlap_in_time_steps = 0\n",
    "countries = [\n",
    "    \"AT\", \"BE\", \"CH\", \"CZ\", \"DE\", \"DK1\", \"DK2\", \"FR\", \"NL\", \n",
    "    \"NO1\", \"NO2\", \"NO3\", \"NO4\", \"NO5\", \"PL\", \"SE1\", \"SE2\", \"SE3\", \"SE4\",\n",
    "    \"IT\",\n",
    "]\n",
    "fuel_cost_pathway = \"NZE\"  # net zero emissions\n",
    "fuel_price_shock = \"high\"\n",
    "emissions_cost_pathway = \"long-term\"\n",
    "activate_emissions_pathway_limit = True\n",
    "activate_emissions_budget_limit = False\n",
    "\n",
    "# Parameters varying scenario-dependent\n",
    "activate_demand_response = False\n",
    "flexibility_options_scenario = \"50\"\n",
    "demand_response_scenario = \"50\""
   ]
  },
  {
   "cell_type": "markdown",
   "id": "086e2ca1",
   "metadata": {},
   "source": [
    "## Read in data sets\n",
    "* Create an \"InvestmentModelDummy\" object, which holds some of the attributes of an InvestmentModel, but not really is one.\n",
    "* Copy & paste methods from pommesinvest for reading in data to obtain the exact same data sets and make the data read in dependent on the configuration."
   ]
  },
  {
   "cell_type": "code",
   "execution_count": null,
   "id": "eccdab1a",
   "metadata": {},
   "outputs": [],
   "source": [
    "im = InvestmentModelDummy(\n",
    "    path_folder_input=path_folder_input,\n",
    "    countries=countries,\n",
    "    start_time=start_time,\n",
    "    end_time=end_time,\n",
    "    overlap_in_time_steps=overlap_in_time_steps,\n",
    "    freq=freq,\n",
    "    fuel_cost_pathway=fuel_cost_pathway,\n",
    "    fuel_price_shock=fuel_price_shock,\n",
    "    emissions_cost_pathway=emissions_cost_pathway,\n",
    "    flexibility_options_scenario=flexibility_options_scenario,\n",
    "    activate_emissions_pathway_limit=activate_emissions_pathway_limit,\n",
    "    activate_emissions_budget_limit=activate_emissions_budget_limit,\n",
    "    activate_demand_response=activate_demand_response,\n",
    "    demand_response_scenario=demand_response_scenario\n",
    ")"
   ]
  },
  {
   "cell_type": "code",
   "execution_count": null,
   "id": "2c8a1d1b",
   "metadata": {},
   "outputs": [],
   "source": [
    "input_data = process_input_data(im)"
   ]
  },
  {
   "cell_type": "markdown",
   "id": "863e387f",
   "metadata": {},
   "source": [
    "# Components\n",
    "\n",
    "## Buses\n",
    "Assertion statements"
   ]
  },
  {
   "cell_type": "code",
   "execution_count": null,
   "id": "229e9a5e",
   "metadata": {},
   "outputs": [],
   "source": [
    "buses = input_data[\"buses\"]\n",
    "\n",
    "display(buses.head(10))\n",
    "display(buses.tail(10))"
   ]
  },
  {
   "cell_type": "code",
   "execution_count": null,
   "id": "0ad1f5fe",
   "metadata": {},
   "outputs": [],
   "source": [
    "buses.describe()"
   ]
  },
  {
   "cell_type": "code",
   "execution_count": null,
   "id": "f7c1092b",
   "metadata": {},
   "outputs": [],
   "source": [
    "check_countries = (buses.index.str.split(\"_\", 1, expand=True).get_level_values(0) == buses[\"country\"]).all()\n",
    "assert check_countries == True, f\"Expected False, but result was {to_check}\"\n",
    "\n",
    "bus_names = set(buses.index.str.split(\"_\", expand=True).get_level_values(1))\n",
    "assert bus_names == {\"bus\"}, f\"Expected 'bus' as the only name, but result was {bus_names}\"\n",
    "\n",
    "bus_commodities = set(buses.index.str.rsplit(\"_\", 1, expand=True).get_level_values(1))\n",
    "all_commodities = {\n",
    "    'el', 'biomass', 'hardcoal', 'hydro', 'hydrogen', \n",
    "    'lignite', 'mixedfuels', 'natgas', 'oil', 'otherfossil',\n",
    "    'solarPV', 'uranium', 'waste', 'windoffshore', 'windonshore'\n",
    "}\n",
    "assert bus_commodities == all_commodities"
   ]
  },
  {
   "cell_type": "markdown",
   "id": "f39325f5",
   "metadata": {},
   "source": [
    "## Sinks\n",
    "### Excess Sinks\n",
    "Only visual inspection sufficient"
   ]
  },
  {
   "cell_type": "code",
   "execution_count": null,
   "id": "e7b305a1",
   "metadata": {},
   "outputs": [],
   "source": [
    "sinks_excess = input_data[\"sinks_excess\"]"
   ]
  },
  {
   "cell_type": "code",
   "execution_count": null,
   "id": "93b12aaf",
   "metadata": {},
   "outputs": [],
   "source": [
    "sinks_excess"
   ]
  },
  {
   "cell_type": "markdown",
   "id": "d99db2f1",
   "metadata": {},
   "source": [
    "### Demand sinks\n",
    "* Should contain maximum values as of 2020\n",
    "* Visual inspection"
   ]
  },
  {
   "cell_type": "code",
   "execution_count": null,
   "id": "f096b825",
   "metadata": {},
   "outputs": [],
   "source": [
    "sinks_demand_el = input_data[\"sinks_demand_el\"]"
   ]
  },
  {
   "cell_type": "code",
   "execution_count": null,
   "id": "dae9cae2",
   "metadata": {},
   "outputs": [],
   "source": [
    "sinks_demand_el"
   ]
  },
  {
   "cell_type": "code",
   "execution_count": null,
   "id": "e0cf504c",
   "metadata": {},
   "outputs": [],
   "source": [
    "fig, ax = plt.subplots(figsize=(16, 10))\n",
    "_ = sinks_demand_el[\"maximum\"].sort_values(ascending=False).plot(kind=\"bar\", ax=ax)\n",
    "plt.show()"
   ]
  },
  {
   "cell_type": "markdown",
   "id": "52af0406",
   "metadata": {},
   "source": [
    "## Sources\n",
    "### Shortage sources\n",
    "Only visual inspection"
   ]
  },
  {
   "cell_type": "code",
   "execution_count": null,
   "id": "cfd1625e",
   "metadata": {},
   "outputs": [],
   "source": [
    "shortage = input_data[\"sources_shortage\"]"
   ]
  },
  {
   "cell_type": "code",
   "execution_count": null,
   "id": "2cace88a",
   "metadata": {},
   "outputs": [],
   "source": [
    "shortage"
   ]
  },
  {
   "cell_type": "markdown",
   "id": "2d4b2101",
   "metadata": {},
   "source": [
    "### Commodity sources\n",
    "Only visual inspection"
   ]
  },
  {
   "cell_type": "code",
   "execution_count": null,
   "id": "92e82986",
   "metadata": {},
   "outputs": [],
   "source": [
    "commodities = input_data[\"sources_commodity\"]"
   ]
  },
  {
   "cell_type": "code",
   "execution_count": null,
   "id": "a52318c7",
   "metadata": {},
   "outputs": [],
   "source": [
    "commodities"
   ]
  },
  {
   "cell_type": "code",
   "execution_count": null,
   "id": "64907b19",
   "metadata": {},
   "outputs": [],
   "source": [
    "fuels = commodities.index.str.rsplit(\"_\", 1, expand=True).get_level_values(1).unique()\n",
    "for fuel in fuels:\n",
    "    display(commodities.loc[commodities.index.str.contains(fuel)])"
   ]
  },
  {
   "cell_type": "markdown",
   "id": "f4297c8e",
   "metadata": {},
   "source": [
    "### Renewable sources\n",
    "* Visual inspection\n",
    "* Statistical moments of data set"
   ]
  },
  {
   "cell_type": "code",
   "execution_count": null,
   "id": "6ca941f6",
   "metadata": {},
   "outputs": [],
   "source": [
    "renewables = input_data[\"sources_renewables\"]"
   ]
  },
  {
   "cell_type": "code",
   "execution_count": null,
   "id": "fbb44c44",
   "metadata": {},
   "outputs": [],
   "source": [
    "display(renewables.head(10))\n",
    "display(renewables.tail(10))"
   ]
  },
  {
   "cell_type": "code",
   "execution_count": null,
   "id": "f1f9bbab",
   "metadata": {},
   "outputs": [],
   "source": [
    "renewables.loc[[\"FR_source_windoffshore\", \"IT_source_windoffshore\"]]"
   ]
  },
  {
   "cell_type": "code",
   "execution_count": null,
   "id": "b34e52eb",
   "metadata": {},
   "outputs": [],
   "source": [
    "# Hydro values are in kWh/h and reflect the inflow potential; thus therefore are not comparable!\n",
    "hydro = renewables.loc[renewables.index.str.contains(\"_hydro\")]\n",
    "non_hydro_renewables = renewables.loc[~(renewables.index.str.contains(\"_hydro\"))]\n",
    "print(\"Hydro\")\n",
    "display(hydro.describe())\n",
    "print(\"Remaining RES\")\n",
    "display(non_hydro_renewables.describe())"
   ]
  },
  {
   "cell_type": "code",
   "execution_count": null,
   "id": "f2db43ca",
   "metadata": {},
   "outputs": [],
   "source": [
    "fig, ax = plt.subplots(2, 1, figsize=(16, 16))\n",
    "_ = hydro[\"capacity\"].sort_values(ascending=False).plot(kind=\"bar\", ax=ax[0])\n",
    "_ = non_hydro_renewables[\"capacity\"].sort_values(ascending=False).plot(kind=\"bar\", ax=ax[1])\n",
    "plt.tight_layout()\n",
    "plt.show()"
   ]
  },
  {
   "cell_type": "markdown",
   "id": "67ee13da",
   "metadata": {},
   "source": [
    "### Exogenous storages"
   ]
  },
  {
   "cell_type": "code",
   "execution_count": null,
   "id": "935b3ad0",
   "metadata": {},
   "outputs": [],
   "source": [
    "exogenous_storages = input_data[\"exogenous_storages_el\"]"
   ]
  },
  {
   "cell_type": "code",
   "execution_count": null,
   "id": "5f5ff8d6",
   "metadata": {},
   "outputs": [],
   "source": [
    "exogenous_storages.columns"
   ]
  },
  {
   "cell_type": "code",
   "execution_count": null,
   "id": "19b6b4f0",
   "metadata": {},
   "outputs": [],
   "source": [
    "phes = exogenous_storages.loc[exogenous_storages[\"type\"] == \"phes\"]\n",
    "reservoir = exogenous_storages.loc[exogenous_storages[\"type\"] == \"reservoir\"]\n",
    "print(\"PHES\")\n",
    "display(phes.iloc[:,:15].describe())\n",
    "display(phes.iloc[:,15:].describe())\n",
    "print(\"Reservoir\")\n",
    "display(reservoir.iloc[:,:15].describe())\n",
    "display(reservoir.iloc[:,15:].describe())"
   ]
  },
  {
   "cell_type": "markdown",
   "id": "f5632d12",
   "metadata": {},
   "source": [
    "### New-built storages\n",
    "Only visual inspection"
   ]
  },
  {
   "cell_type": "code",
   "execution_count": null,
   "id": "c457e3bc",
   "metadata": {},
   "outputs": [],
   "source": [
    "new_storages = input_data[\"new_built_storages_el\"]"
   ]
  },
  {
   "cell_type": "code",
   "execution_count": null,
   "id": "cd869e6d",
   "metadata": {},
   "outputs": [],
   "source": [
    "new_storages.columns"
   ]
  },
  {
   "cell_type": "code",
   "execution_count": null,
   "id": "56dcbacb",
   "metadata": {},
   "outputs": [],
   "source": [
    "new_storages.iloc[:,:15]"
   ]
  },
  {
   "cell_type": "code",
   "execution_count": null,
   "id": "f93ef0ef",
   "metadata": {},
   "outputs": [],
   "source": [
    "new_storages.iloc[:,15:]"
   ]
  },
  {
   "cell_type": "markdown",
   "id": "9af49f3f",
   "metadata": {},
   "source": [
    "## Transformers\n",
    "### Exogenous transformers"
   ]
  },
  {
   "cell_type": "code",
   "execution_count": null,
   "id": "dacbb651",
   "metadata": {},
   "outputs": [],
   "source": [
    "exogenous_transformers = input_data[\"exogenous_transformers\"]"
   ]
  },
  {
   "cell_type": "code",
   "execution_count": null,
   "id": "f499a8d0",
   "metadata": {},
   "outputs": [],
   "source": [
    "exogenous_transformers.columns"
   ]
  },
  {
   "cell_type": "code",
   "execution_count": null,
   "id": "3bbdd077",
   "metadata": {},
   "outputs": [],
   "source": [
    "display(exogenous_transformers.iloc[:,:15].head(10))\n",
    "display(exogenous_transformers.iloc[:,15:30].head(10))\n",
    "display(exogenous_transformers.iloc[:,30:45].head(10))\n",
    "display(exogenous_transformers.iloc[:,45:].head(10))"
   ]
  },
  {
   "cell_type": "code",
   "execution_count": null,
   "id": "2ac3bf05",
   "metadata": {},
   "outputs": [],
   "source": [
    "exogenous_transformers.columns"
   ]
  },
  {
   "cell_type": "code",
   "execution_count": null,
   "id": "0cc2642e",
   "metadata": {},
   "outputs": [],
   "source": [
    "display(exogenous_transformers.iloc[:,:15].describe())\n",
    "display(exogenous_transformers.iloc[:,15:30].describe())"
   ]
  },
  {
   "cell_type": "markdown",
   "id": "3fc49306",
   "metadata": {},
   "source": [
    "### New-built transformers"
   ]
  },
  {
   "cell_type": "code",
   "execution_count": null,
   "id": "27ee54e5",
   "metadata": {},
   "outputs": [],
   "source": [
    "new_built_transformers = input_data[\"new_built_transformers\"]\n",
    "new_built_transformers"
   ]
  },
  {
   "cell_type": "markdown",
   "id": "656a29ce",
   "metadata": {},
   "source": [
    "## Linking transformers"
   ]
  },
  {
   "cell_type": "code",
   "execution_count": null,
   "id": "826e6637",
   "metadata": {},
   "outputs": [],
   "source": [
    "linking_transformers = input_data[\"linking_transformers\"]"
   ]
  },
  {
   "cell_type": "code",
   "execution_count": null,
   "id": "743617e9",
   "metadata": {},
   "outputs": [],
   "source": [
    "linking_transformers.describe()"
   ]
  },
  {
   "cell_type": "code",
   "execution_count": null,
   "id": "d33ccecf",
   "metadata": {},
   "outputs": [],
   "source": [
    "linking_transformers.conversion_factor.unique()"
   ]
  },
  {
   "cell_type": "code",
   "execution_count": null,
   "id": "441f9fa5",
   "metadata": {},
   "outputs": [],
   "source": [
    "linking_transformers.type.unique()"
   ]
  },
  {
   "cell_type": "code",
   "execution_count": null,
   "id": "908ce0de",
   "metadata": {},
   "outputs": [],
   "source": [
    "linking_transformers_transposed = linking_transformers.drop(\n",
    "    columns=[\"from\", \"to\", \"conversion_factor\", \"type\"]\n",
    ").T.astype(\"float64\")\n",
    "plot_time_series_cols(linking_transformers_transposed)"
   ]
  },
  {
   "cell_type": "markdown",
   "id": "5ff90071",
   "metadata": {},
   "source": [
    "# Timeseries\n",
    "## Demand"
   ]
  },
  {
   "cell_type": "code",
   "execution_count": null,
   "id": "c852c2f3",
   "metadata": {},
   "outputs": [],
   "source": [
    "sinks_demand_el_ts = input_data[\"sinks_demand_el_ts\"]"
   ]
  },
  {
   "cell_type": "code",
   "execution_count": null,
   "id": "5dccef6d",
   "metadata": {},
   "outputs": [],
   "source": [
    "sinks_demand_el_ts.describe()"
   ]
  },
  {
   "cell_type": "code",
   "execution_count": null,
   "id": "d1f6a7c2",
   "metadata": {},
   "outputs": [],
   "source": [
    "plot_time_series_cols(sinks_demand_el_ts)"
   ]
  },
  {
   "cell_type": "code",
   "execution_count": null,
   "id": "a789caa8",
   "metadata": {},
   "outputs": [],
   "source": [
    "sinks_demand_el_ts_absolute = pd.DataFrame(\n",
    "    index=sinks_demand_el_ts.index,\n",
    "    columns=sinks_demand_el_ts.columns\n",
    ")\n",
    "for col in sinks_demand_el_ts.columns:\n",
    "    sinks_demand_el_ts_absolute[col] = sinks_demand_el_ts[col] * sinks_demand_el.at[col, \"maximum\"]"
   ]
  },
  {
   "cell_type": "code",
   "execution_count": null,
   "id": "03492245",
   "metadata": {},
   "outputs": [],
   "source": [
    "plot_time_series_cols(sinks_demand_el_ts_absolute)"
   ]
  },
  {
   "cell_type": "markdown",
   "id": "16038b42",
   "metadata": {},
   "source": [
    "## RES generation"
   ]
  },
  {
   "cell_type": "code",
   "execution_count": null,
   "id": "f12f54a8",
   "metadata": {},
   "outputs": [],
   "source": [
    "sources_renewables_ts = input_data[\"sources_renewables_ts\"]"
   ]
  },
  {
   "cell_type": "code",
   "execution_count": null,
   "id": "064179b7",
   "metadata": {},
   "outputs": [],
   "source": [
    "sources_renewables_ts.iloc[:,:15].describe()"
   ]
  },
  {
   "cell_type": "code",
   "execution_count": null,
   "id": "f73a01bb",
   "metadata": {},
   "outputs": [],
   "source": [
    "sources_renewables_ts.iloc[:,15:30].describe()"
   ]
  },
  {
   "cell_type": "code",
   "execution_count": null,
   "id": "e4a17c71",
   "metadata": {},
   "outputs": [],
   "source": [
    "sources_renewables_ts.iloc[:,30:45].describe()"
   ]
  },
  {
   "cell_type": "code",
   "execution_count": null,
   "id": "20391a32",
   "metadata": {},
   "outputs": [],
   "source": [
    "sources_renewables_ts.iloc[:,45:60].describe()"
   ]
  },
  {
   "cell_type": "code",
   "execution_count": null,
   "id": "643875bb",
   "metadata": {},
   "outputs": [],
   "source": [
    "plot_time_series_cols(sources_renewables_ts)"
   ]
  },
  {
   "cell_type": "code",
   "execution_count": null,
   "id": "445572e7",
   "metadata": {},
   "outputs": [],
   "source": [
    "sources_renewables_ts_absolute = pd.DataFrame(\n",
    "    index=sources_renewables_ts.index,\n",
    "    columns=sources_renewables_ts.columns\n",
    ")\n",
    "for col in sources_renewables_ts.columns:\n",
    "    try:\n",
    "        sources_renewables_ts_absolute[col] = sources_renewables_ts[col] * renewables.at[col, \"capacity\"]\n",
    "    except KeyError:\n",
    "        pass"
   ]
  },
  {
   "cell_type": "code",
   "execution_count": null,
   "id": "b239adfe",
   "metadata": {},
   "outputs": [],
   "source": [
    "plot_time_series_cols(sources_renewables_ts_absolute)"
   ]
  },
  {
   "cell_type": "markdown",
   "id": "2fa6f964",
   "metadata": {},
   "source": [
    "## Transformers\n",
    "### Minimum loads"
   ]
  },
  {
   "cell_type": "code",
   "execution_count": null,
   "id": "fbf3f90c",
   "metadata": {},
   "outputs": [],
   "source": [
    "min_loads_ts = input_data[\"transformers_minload_ts\"]"
   ]
  },
  {
   "cell_type": "code",
   "execution_count": null,
   "id": "99e30cfb",
   "metadata": {},
   "outputs": [],
   "source": [
    "min_loads_ts.describe()"
   ]
  },
  {
   "cell_type": "code",
   "execution_count": null,
   "id": "f63fd2f6",
   "metadata": {},
   "outputs": [],
   "source": [
    "plot_time_series_cols(min_loads_ts[:8760])"
   ]
  },
  {
   "cell_type": "markdown",
   "id": "3a3496cb",
   "metadata": {},
   "source": [
    "### Availability"
   ]
  },
  {
   "cell_type": "code",
   "execution_count": null,
   "id": "b13926e8",
   "metadata": {},
   "outputs": [],
   "source": [
    "availability_ts = input_data[\"transformers_availability_ts\"]"
   ]
  },
  {
   "cell_type": "code",
   "execution_count": null,
   "id": "4d530b16",
   "metadata": {},
   "outputs": [],
   "source": [
    "availability_ts.describe()"
   ]
  },
  {
   "cell_type": "code",
   "execution_count": null,
   "id": "20fba0dd",
   "metadata": {},
   "outputs": [],
   "source": [
    "_ = availability_ts[:8760].plot()\n",
    "plt.show()"
   ]
  },
  {
   "cell_type": "markdown",
   "id": "468f1965",
   "metadata": {},
   "source": [
    "### Exogenous max capacity\n",
    "Development factors for exogenous maximum capacity of transformer clusters"
   ]
  },
  {
   "cell_type": "code",
   "execution_count": null,
   "id": "90ef509b",
   "metadata": {},
   "outputs": [],
   "source": [
    "transformers_exogenous_max_ts = input_data[\"transformers_exogenous_max_ts\"]"
   ]
  },
  {
   "cell_type": "code",
   "execution_count": null,
   "id": "61b551cd",
   "metadata": {},
   "outputs": [],
   "source": [
    "transformers_exogenous_max_ts.describe()"
   ]
  },
  {
   "cell_type": "code",
   "execution_count": null,
   "id": "5bb68fbb",
   "metadata": {},
   "outputs": [],
   "source": [
    "plot_time_series_cols(transformers_exogenous_max_ts)"
   ]
  },
  {
   "cell_type": "markdown",
   "id": "0a9fa734",
   "metadata": {},
   "source": [
    "## Linking transformers\n",
    "### Hourly time series"
   ]
  },
  {
   "cell_type": "code",
   "execution_count": null,
   "id": "ea55b872",
   "metadata": {},
   "outputs": [],
   "source": [
    "linking_transformers_ts = input_data[\"linking_transformers_ts\"]"
   ]
  },
  {
   "cell_type": "code",
   "execution_count": null,
   "id": "5967c35b",
   "metadata": {},
   "outputs": [],
   "source": [
    "linking_transformers_ts.describe()"
   ]
  },
  {
   "cell_type": "code",
   "execution_count": null,
   "id": "c1f503c2",
   "metadata": {},
   "outputs": [],
   "source": [
    "plot_time_series_cols(linking_transformers_ts)"
   ]
  },
  {
   "cell_type": "markdown",
   "id": "2d2fd16d",
   "metadata": {},
   "source": [
    "### Annual time series"
   ]
  },
  {
   "cell_type": "code",
   "execution_count": null,
   "id": "47ee1b18",
   "metadata": {},
   "outputs": [],
   "source": [
    "linking_transformers_annual_ts = input_data[\"linking_transformers_annual_ts\"]"
   ]
  },
  {
   "cell_type": "code",
   "execution_count": null,
   "id": "56457bb8",
   "metadata": {},
   "outputs": [],
   "source": [
    "linking_transformers_annual_ts.describe()"
   ]
  },
  {
   "cell_type": "code",
   "execution_count": null,
   "id": "74548568",
   "metadata": {},
   "outputs": [],
   "source": [
    "plot_time_series_cols(linking_transformers_annual_ts)"
   ]
  },
  {
   "cell_type": "markdown",
   "id": "df2d5d8f",
   "metadata": {},
   "source": [
    "## Costs\n",
    "### Fuel costs"
   ]
  },
  {
   "cell_type": "code",
   "execution_count": null,
   "id": "fff66471",
   "metadata": {},
   "outputs": [],
   "source": [
    "costs_fuel_ts = input_data[\"costs_fuel_ts\"]"
   ]
  },
  {
   "cell_type": "code",
   "execution_count": null,
   "id": "328b0d60",
   "metadata": {},
   "outputs": [],
   "source": [
    "costs_fuel_ts.describe()"
   ]
  },
  {
   "cell_type": "code",
   "execution_count": null,
   "id": "c1aa0323",
   "metadata": {},
   "outputs": [],
   "source": [
    "plot_time_series_cols(costs_fuel_ts)"
   ]
  },
  {
   "cell_type": "markdown",
   "id": "87528ec7",
   "metadata": {},
   "source": [
    "### Emissions costs"
   ]
  },
  {
   "cell_type": "code",
   "execution_count": null,
   "id": "7cfe790b",
   "metadata": {},
   "outputs": [],
   "source": [
    "costs_emissions_ts = input_data[\"costs_emissions_ts\"]"
   ]
  },
  {
   "cell_type": "code",
   "execution_count": null,
   "id": "ac4cae82",
   "metadata": {},
   "outputs": [],
   "source": [
    "costs_emissions_ts.describe()"
   ]
  },
  {
   "cell_type": "code",
   "execution_count": null,
   "id": "dfc9d5bd",
   "metadata": {},
   "outputs": [],
   "source": [
    "fig, ax = plt.subplots(figsize=(15, 5))\n",
    "_ = costs_emissions_ts.iloc[:,0].plot(ax=ax)\n",
    "plt.tight_layout()\n",
    "plt.show()"
   ]
  },
  {
   "cell_type": "markdown",
   "id": "79a50626",
   "metadata": {},
   "source": [
    "### Costs operation"
   ]
  },
  {
   "cell_type": "code",
   "execution_count": null,
   "id": "9c3e821d",
   "metadata": {},
   "outputs": [],
   "source": [
    "costs_operation_ts = input_data[\"costs_operation_ts\"]"
   ]
  },
  {
   "cell_type": "code",
   "execution_count": null,
   "id": "383c3f58",
   "metadata": {},
   "outputs": [],
   "source": [
    "costs_operation_ts.describe()"
   ]
  },
  {
   "cell_type": "code",
   "execution_count": null,
   "id": "0cb08e74",
   "metadata": {},
   "outputs": [],
   "source": [
    "plot_time_series_cols(costs_operation_ts)"
   ]
  },
  {
   "cell_type": "markdown",
   "id": "85071f3c",
   "metadata": {},
   "source": [
    "### Costs operation storages"
   ]
  },
  {
   "cell_type": "code",
   "execution_count": null,
   "id": "d163c795",
   "metadata": {},
   "outputs": [],
   "source": [
    "costs_operation_storages_ts = input_data[\"costs_operation_storages_ts\"]"
   ]
  },
  {
   "cell_type": "code",
   "execution_count": null,
   "id": "654fd595",
   "metadata": {},
   "outputs": [],
   "source": [
    "costs_operation_storages_ts.describe()"
   ]
  },
  {
   "cell_type": "code",
   "execution_count": null,
   "id": "7323b83e",
   "metadata": {},
   "outputs": [],
   "source": [
    "plot_time_series_cols(costs_operation_storages_ts)"
   ]
  },
  {
   "cell_type": "markdown",
   "id": "237ad65a",
   "metadata": {},
   "source": [
    "### Costs investment"
   ]
  },
  {
   "cell_type": "code",
   "execution_count": null,
   "id": "34edb001",
   "metadata": {},
   "outputs": [],
   "source": [
    "costs_investment = input_data[\"costs_investment\"]"
   ]
  },
  {
   "cell_type": "code",
   "execution_count": null,
   "id": "43e011c9",
   "metadata": {},
   "outputs": [],
   "source": [
    "costs_investment.describe()"
   ]
  },
  {
   "cell_type": "code",
   "execution_count": null,
   "id": "6d1e18d7",
   "metadata": {},
   "outputs": [],
   "source": [
    "plot_time_series_cols(costs_investment)"
   ]
  },
  {
   "cell_type": "markdown",
   "id": "5eda8c05",
   "metadata": {},
   "source": [
    "### Costs storages investment\n",
    "#### investment in capacity"
   ]
  },
  {
   "cell_type": "code",
   "execution_count": null,
   "id": "f4f053c2",
   "metadata": {},
   "outputs": [],
   "source": [
    "costs_storages_investment_capacity = input_data[\"costs_storages_investment_capacity\"]"
   ]
  },
  {
   "cell_type": "code",
   "execution_count": null,
   "id": "a140f7d2",
   "metadata": {},
   "outputs": [],
   "source": [
    "costs_storages_investment_capacity.describe()"
   ]
  },
  {
   "cell_type": "code",
   "execution_count": null,
   "id": "2042b245",
   "metadata": {},
   "outputs": [],
   "source": [
    "plot_time_series_cols(costs_storages_investment_capacity)"
   ]
  },
  {
   "cell_type": "markdown",
   "id": "36b32ec5",
   "metadata": {},
   "source": [
    "#### investment in power"
   ]
  },
  {
   "cell_type": "code",
   "execution_count": null,
   "id": "47ce0331",
   "metadata": {},
   "outputs": [],
   "source": [
    "costs_storages_investment_power = input_data[\"costs_storages_investment_power\"]"
   ]
  },
  {
   "cell_type": "code",
   "execution_count": null,
   "id": "6075be35",
   "metadata": {},
   "outputs": [],
   "source": [
    "costs_storages_investment_power.describe()"
   ]
  },
  {
   "cell_type": "code",
   "execution_count": null,
   "id": "493aa12d",
   "metadata": {},
   "outputs": [],
   "source": [
    "plot_time_series_cols(costs_storages_investment_power)"
   ]
  },
  {
   "cell_type": "markdown",
   "id": "a2baffb5",
   "metadata": {},
   "source": [
    "### Fixed costs"
   ]
  },
  {
   "cell_type": "code",
   "execution_count": null,
   "id": "ec23c172",
   "metadata": {},
   "outputs": [],
   "source": [
    "fixed_costs = input_data[\"fixed_costs\"]"
   ]
  },
  {
   "cell_type": "code",
   "execution_count": null,
   "id": "e700ff1f",
   "metadata": {
    "scrolled": true
   },
   "outputs": [],
   "source": [
    "fixed_costs.describe()"
   ]
  },
  {
   "cell_type": "code",
   "execution_count": null,
   "id": "9c2527e3",
   "metadata": {
    "scrolled": true
   },
   "outputs": [],
   "source": [
    "fixed_costs"
   ]
  },
  {
   "cell_type": "code",
   "execution_count": null,
   "id": "7e8c6f73",
   "metadata": {},
   "outputs": [],
   "source": [
    "fixed_costs_absolute = pd.DataFrame(index=costs_investment.index, columns=costs_investment.columns)\n",
    "for col in costs_investment.columns:\n",
    "    fixed_costs_absolute[col] = costs_investment[col] * fixed_costs.loc[col].values[0]/100"
   ]
  },
  {
   "cell_type": "code",
   "execution_count": null,
   "id": "c370b548",
   "metadata": {
    "scrolled": false
   },
   "outputs": [],
   "source": [
    "fixed_costs_absolute.describe()"
   ]
  },
  {
   "cell_type": "code",
   "execution_count": null,
   "id": "c694252a",
   "metadata": {},
   "outputs": [],
   "source": [
    "plot_time_series_cols(fixed_costs_absolute)"
   ]
  },
  {
   "cell_type": "markdown",
   "id": "294e33a1",
   "metadata": {},
   "source": [
    "### Fixed costs storages"
   ]
  },
  {
   "cell_type": "code",
   "execution_count": null,
   "id": "b5303193",
   "metadata": {},
   "outputs": [],
   "source": [
    "fixed_costs_storages = input_data[\"fixed_costs_storages\"]"
   ]
  },
  {
   "cell_type": "code",
   "execution_count": null,
   "id": "57ad3863",
   "metadata": {},
   "outputs": [],
   "source": [
    "fixed_costs_storages.describe()"
   ]
  },
  {
   "cell_type": "code",
   "execution_count": null,
   "id": "2af489ef",
   "metadata": {},
   "outputs": [],
   "source": [
    "fixed_costs_storages"
   ]
  },
  {
   "cell_type": "markdown",
   "id": "c913b39a",
   "metadata": {},
   "source": [
    "#### Fixed costs for capacity"
   ]
  },
  {
   "cell_type": "code",
   "execution_count": null,
   "id": "daa24b70",
   "metadata": {},
   "outputs": [],
   "source": [
    "costs_storages_investment_capacity"
   ]
  },
  {
   "cell_type": "code",
   "execution_count": null,
   "id": "3e3876af",
   "metadata": {},
   "outputs": [],
   "source": [
    "fixed_costs_storages_capacity_absolute = pd.DataFrame(\n",
    "    index=costs_storages_investment_capacity.index, \n",
    "    columns=costs_storages_investment_capacity.columns\n",
    ")\n",
    "for col in costs_storages_investment_capacity.columns:\n",
    "    try:\n",
    "        fixed_costs_storages_capacity_absolute[col] = (\n",
    "            costs_storages_investment_capacity[col] * fixed_costs_storages.loc[col].values[0]/100\n",
    "        )\n",
    "    except KeyError:\n",
    "        pass"
   ]
  },
  {
   "cell_type": "code",
   "execution_count": null,
   "id": "04ffb4e5",
   "metadata": {},
   "outputs": [],
   "source": [
    "fixed_costs_storages_capacity_absolute.describe()"
   ]
  },
  {
   "cell_type": "code",
   "execution_count": null,
   "id": "51eca968",
   "metadata": {},
   "outputs": [],
   "source": [
    "plot_time_series_cols(fixed_costs_storages_capacity_absolute)"
   ]
  },
  {
   "cell_type": "markdown",
   "id": "4a1a96ed",
   "metadata": {},
   "source": [
    "#### Fixed costs for power"
   ]
  },
  {
   "cell_type": "code",
   "execution_count": null,
   "id": "623d5126",
   "metadata": {},
   "outputs": [],
   "source": [
    "fixed_costs_storages_power_absolute = pd.DataFrame(\n",
    "    index=costs_storages_investment_power.index, \n",
    "    columns=costs_storages_investment_power.columns\n",
    ")\n",
    "for col in costs_storages_investment_capacity.columns:\n",
    "    try:\n",
    "        fixed_costs_storages_power_absolute[col] = (\n",
    "            costs_storages_investment_capacity[col] * fixed_costs_storages.loc[col].values[0]/100\n",
    "        )\n",
    "    except KeyError:\n",
    "        pass"
   ]
  },
  {
   "cell_type": "code",
   "execution_count": null,
   "id": "fa3c8085",
   "metadata": {},
   "outputs": [],
   "source": [
    "fixed_costs_storages_power_absolute.describe()"
   ]
  },
  {
   "cell_type": "code",
   "execution_count": null,
   "id": "71910376",
   "metadata": {},
   "outputs": [],
   "source": [
    "plot_time_series_cols(fixed_costs_storages_power_absolute)"
   ]
  },
  {
   "cell_type": "markdown",
   "id": "a9735730",
   "metadata": {},
   "source": [
    "## Storages\n",
    "### Exocenous maximum capacity"
   ]
  },
  {
   "cell_type": "code",
   "execution_count": null,
   "id": "f68f36b3",
   "metadata": {},
   "outputs": [],
   "source": [
    "storages_el_exogenous_max_ts = input_data[\"storages_el_exogenous_max_ts\"]"
   ]
  },
  {
   "cell_type": "code",
   "execution_count": null,
   "id": "2d75a3ec",
   "metadata": {},
   "outputs": [],
   "source": [
    "storages_el_exogenous_max_ts.describe()"
   ]
  },
  {
   "cell_type": "code",
   "execution_count": null,
   "id": "7409ef1e",
   "metadata": {},
   "outputs": [],
   "source": [
    "plot_time_series_cols(storages_el_exogenous_max_ts)"
   ]
  },
  {
   "cell_type": "markdown",
   "id": "d4144d39",
   "metadata": {},
   "source": [
    "## Emission limits"
   ]
  },
  {
   "cell_type": "code",
   "execution_count": null,
   "id": "b44c9ec7",
   "metadata": {},
   "outputs": [],
   "source": [
    "emission_limits = input_data[\"emission_limits\"]"
   ]
  },
  {
   "cell_type": "code",
   "execution_count": null,
   "id": "4ec5f35f",
   "metadata": {},
   "outputs": [],
   "source": [
    "emission_limits.describe()"
   ]
  },
  {
   "cell_type": "code",
   "execution_count": null,
   "id": "1955a69b",
   "metadata": {},
   "outputs": [],
   "source": [
    "plot_time_series_cols(emission_limits)"
   ]
  },
  {
   "cell_type": "markdown",
   "id": "9592175d",
   "metadata": {},
   "source": [
    "# Other data\n",
    "## WACC"
   ]
  },
  {
   "cell_type": "code",
   "execution_count": null,
   "id": "ff4c95c6",
   "metadata": {},
   "outputs": [],
   "source": [
    "wacc = input_data[\"wacc\"]"
   ]
  },
  {
   "cell_type": "code",
   "execution_count": null,
   "id": "2d5f3cc7",
   "metadata": {},
   "outputs": [],
   "source": [
    "wacc.describe()"
   ]
  },
  {
   "cell_type": "code",
   "execution_count": null,
   "id": "69320b76",
   "metadata": {},
   "outputs": [],
   "source": [
    "wacc"
   ]
  },
  {
   "cell_type": "markdown",
   "id": "a41fdb52",
   "metadata": {},
   "source": [
    "## Interest rate"
   ]
  },
  {
   "cell_type": "code",
   "execution_count": null,
   "id": "1de6b34b",
   "metadata": {},
   "outputs": [],
   "source": [
    "interest_rate = input_data[\"interest_rate\"]"
   ]
  },
  {
   "cell_type": "code",
   "execution_count": null,
   "id": "30b0ab59",
   "metadata": {},
   "outputs": [],
   "source": [
    "interest_rate.describe()"
   ]
  },
  {
   "cell_type": "code",
   "execution_count": null,
   "id": "3673d3fc",
   "metadata": {},
   "outputs": [],
   "source": [
    "interest_rate"
   ]
  },
  {
   "cell_type": "markdown",
   "id": "fe4aaeb9",
   "metadata": {},
   "source": [
    "## Hydrogen investment maxima"
   ]
  },
  {
   "cell_type": "code",
   "execution_count": null,
   "id": "a4946ab1",
   "metadata": {},
   "outputs": [],
   "source": [
    "hydrogen_investment_maxima = input_data[\"hydrogen_investment_maxima\"]"
   ]
  },
  {
   "cell_type": "code",
   "execution_count": null,
   "id": "8ce3a106",
   "metadata": {},
   "outputs": [],
   "source": [
    "hydrogen_investment_maxima.describe()"
   ]
  },
  {
   "cell_type": "code",
   "execution_count": null,
   "id": "f2945f2f",
   "metadata": {},
   "outputs": [],
   "source": [
    "_ = hydrogen_investment_maxima.plot()\n",
    "plt.show()"
   ]
  },
  {
   "cell_type": "markdown",
   "id": "0fc59845",
   "metadata": {},
   "source": [
    "## Emission development factors"
   ]
  },
  {
   "cell_type": "code",
   "execution_count": null,
   "id": "279a95ca",
   "metadata": {},
   "outputs": [],
   "source": [
    "emission_development_factors = input_data[\"emission_development_factors\"]"
   ]
  },
  {
   "cell_type": "code",
   "execution_count": null,
   "id": "c6b5dadd",
   "metadata": {},
   "outputs": [],
   "source": [
    "emission_development_factors.describe()"
   ]
  },
  {
   "cell_type": "code",
   "execution_count": null,
   "id": "5d0a81e6",
   "metadata": {},
   "outputs": [],
   "source": [
    "plot_time_series_cols(emission_development_factors)"
   ]
  },
  {
   "cell_type": "markdown",
   "id": "6b786d6d",
   "metadata": {},
   "source": [
    "# Demand Response data"
   ]
  },
  {
   "cell_type": "code",
   "execution_count": null,
   "id": "4594fe9d",
   "metadata": {},
   "outputs": [],
   "source": [
    "activate_demand_response = True\n",
    "im.activate_demand_response = activate_demand_response\n",
    "\n",
    "input_data = process_input_data(im)"
   ]
  },
  {
   "cell_type": "markdown",
   "id": "ff6b463b",
   "metadata": {},
   "source": [
    "## Demand"
   ]
  },
  {
   "cell_type": "code",
   "execution_count": null,
   "id": "e68490a2",
   "metadata": {},
   "outputs": [],
   "source": [
    "sinks_demand_el_ts = input_data[\"sinks_demand_el_ts\"]"
   ]
  },
  {
   "cell_type": "code",
   "execution_count": null,
   "id": "d3556d72",
   "metadata": {},
   "outputs": [],
   "source": [
    "sinks_demand_el_ts.describe()"
   ]
  },
  {
   "cell_type": "code",
   "execution_count": null,
   "id": "e915c944",
   "metadata": {},
   "outputs": [],
   "source": [
    "plot_time_series_cols(sinks_demand_el_ts)"
   ]
  },
  {
   "cell_type": "code",
   "execution_count": null,
   "id": "1f5329a5",
   "metadata": {},
   "outputs": [],
   "source": [
    "sinks_demand_el = input_data[\"sinks_demand_el\"]"
   ]
  },
  {
   "cell_type": "code",
   "execution_count": null,
   "id": "b03fadf8",
   "metadata": {},
   "outputs": [],
   "source": [
    "sinks_demand_el"
   ]
  },
  {
   "cell_type": "code",
   "execution_count": null,
   "id": "6090e022",
   "metadata": {},
   "outputs": [],
   "source": [
    "sinks_demand_el_ts_absolute = pd.DataFrame(\n",
    "    index=sinks_demand_el_ts.index,\n",
    "    columns=sinks_demand_el_ts.columns\n",
    ")\n",
    "for col in sinks_demand_el_ts.columns:\n",
    "    sinks_demand_el_ts_absolute[col] = sinks_demand_el_ts[col] * sinks_demand_el.at[col, \"maximum\"]"
   ]
  },
  {
   "cell_type": "code",
   "execution_count": null,
   "id": "a4c4ff48",
   "metadata": {},
   "outputs": [],
   "source": [
    "plot_time_series_cols(sinks_demand_el_ts_absolute)"
   ]
  },
  {
   "cell_type": "markdown",
   "id": "655d1123",
   "metadata": {},
   "source": [
    "## Eligibility"
   ]
  },
  {
   "cell_type": "code",
   "execution_count": null,
   "id": "d1282e4b",
   "metadata": {},
   "outputs": [],
   "source": [
    "dr_clusters = load_input_data(\n",
    "    filename=\"demand_response_clusters_eligibility\", im=im\n",
    ")"
   ]
  },
  {
   "cell_type": "code",
   "execution_count": null,
   "id": "08f4cbe2",
   "metadata": {},
   "outputs": [],
   "source": [
    "dr_clusters"
   ]
  },
  {
   "cell_type": "markdown",
   "id": "7925da3c",
   "metadata": {},
   "source": [
    "## Potential parameters"
   ]
  },
  {
   "cell_type": "code",
   "execution_count": null,
   "id": "58fd0bf6",
   "metadata": {},
   "outputs": [],
   "source": [
    "potential_parameters = {}\n",
    "for dr_cluster in dr_clusters.index:\n",
    "    potential_parameters[dr_cluster] = input_data[f\"sinks_dr_el_{dr_cluster}\"]\n",
    "    print(\"*\" * 50)\n",
    "    print(dr_cluster)\n",
    "    print(\"*\" * 50)\n",
    "    plot_time_series_cols(potential_parameters[dr_cluster])"
   ]
  },
  {
   "cell_type": "markdown",
   "id": "3e7886a7",
   "metadata": {},
   "source": [
    "## Variable costs"
   ]
  },
  {
   "cell_type": "code",
   "execution_count": null,
   "id": "0d393176",
   "metadata": {},
   "outputs": [],
   "source": [
    "variable_costs_parameters = {}\n",
    "for dr_cluster in dr_clusters.index:\n",
    "    variable_costs_parameters[dr_cluster] = input_data[f\"sinks_dr_el_{dr_cluster}_variable_costs\"]\n",
    "    print(\"*\" * 50)\n",
    "    print(dr_cluster)\n",
    "    print(\"*\" * 50)\n",
    "    plot_time_series_cols(variable_costs_parameters[dr_cluster])"
   ]
  },
  {
   "cell_type": "markdown",
   "id": "63768086",
   "metadata": {},
   "source": [
    "## Investment expenses and fixed costs"
   ]
  },
  {
   "cell_type": "code",
   "execution_count": null,
   "id": "4a233827",
   "metadata": {},
   "outputs": [],
   "source": [
    "fixed_costs_parameters = {}\n",
    "for dr_cluster in dr_clusters.index:\n",
    "    fixed_costs_parameters[dr_cluster] = input_data[f\"sinks_dr_el_{dr_cluster}_fixed_costs_and_investments\"]\n",
    "    print(\"*\" * 50)\n",
    "    print(dr_cluster)\n",
    "    print(\"*\" * 50)\n",
    "    plot_time_series_cols(fixed_costs_parameters[dr_cluster])"
   ]
  },
  {
   "cell_type": "markdown",
   "id": "1c8fe34c",
   "metadata": {},
   "source": [
    "## Demand Response baseline consumption"
   ]
  },
  {
   "cell_type": "code",
   "execution_count": null,
   "id": "f8495955",
   "metadata": {},
   "outputs": [],
   "source": [
    "sinks_dr_el_ts = input_data[\"sinks_dr_el_ts\"]"
   ]
  },
  {
   "cell_type": "code",
   "execution_count": null,
   "id": "3b554fec",
   "metadata": {},
   "outputs": [],
   "source": [
    "sinks_dr_el_ts.describe()"
   ]
  },
  {
   "cell_type": "code",
   "execution_count": null,
   "id": "02d48c87",
   "metadata": {},
   "outputs": [],
   "source": [
    "plot_time_series_cols(sinks_dr_el_ts[:8760])"
   ]
  },
  {
   "cell_type": "code",
   "execution_count": null,
   "id": "72d1db59",
   "metadata": {},
   "outputs": [],
   "source": [
    "sinks_dr_el_ts_absolute = {}\n",
    "for dr_cluster in dr_clusters.index:\n",
    "    df = create_datetime_index(potential_parameters[dr_cluster].loc[:,[\"max_cap\"]])\n",
    "    df = resample_timeseries(\n",
    "        df, freq, aggregation_rule=\"sum\", interpolation_rule=\"ffill\"\n",
    "    )[:-1]\n",
    "    sinks_dr_el_ts_absolute[dr_cluster] = sinks_dr_el_ts[dr_cluster] * df[\"max_cap\"].values\n",
    "    fig, ax = plt.subplots(figsize=(15, 5))\n",
    "    _ = sinks_dr_el_ts_absolute[dr_cluster].plot(ax=ax)\n",
    "    plt.title(dr_cluster)\n",
    "    plt.tight_layout()\n",
    "    plt.show()"
   ]
  },
  {
   "cell_type": "markdown",
   "id": "eec9c384",
   "metadata": {},
   "source": [
    "## Availabilty positive"
   ]
  },
  {
   "cell_type": "code",
   "execution_count": null,
   "id": "26fb9334",
   "metadata": {},
   "outputs": [],
   "source": [
    "sinks_dr_el_ava_pos_ts = input_data[\"sinks_dr_el_ava_pos_ts\"]"
   ]
  },
  {
   "cell_type": "code",
   "execution_count": null,
   "id": "66166760",
   "metadata": {},
   "outputs": [],
   "source": [
    "sinks_dr_el_ava_pos_ts.describe()"
   ]
  },
  {
   "cell_type": "code",
   "execution_count": null,
   "id": "1036f11d",
   "metadata": {},
   "outputs": [],
   "source": [
    "plot_time_series_cols(sinks_dr_el_ava_pos_ts[:8760])"
   ]
  },
  {
   "cell_type": "code",
   "execution_count": null,
   "id": "75a20704",
   "metadata": {},
   "outputs": [],
   "source": [
    "sinks_dr_el_ava_pos_ts_absolute = {}\n",
    "for dr_cluster in dr_clusters.index:\n",
    "    df = create_datetime_index(\n",
    "        potential_parameters[dr_cluster].loc[:,[\"potential_pos_overall\", \"potential_neg_overall\", \"max_cap\"]]\n",
    "    )\n",
    "    df[\"max_potential\"] = df[[\"potential_pos_overall\", \"potential_neg_overall\"]].max(axis=1)\n",
    "    df = df[[\"max_potential\", \"max_cap\"]]\n",
    "    df[\"annual_invest_limit\"] = df.min(axis=1)\n",
    "    df = df[[\"annual_invest_limit\"]]\n",
    "    df = resample_timeseries(\n",
    "        df, freq, aggregation_rule=\"sum\", interpolation_rule=\"ffill\"\n",
    "    )[:-1]\n",
    "    sinks_dr_el_ava_pos_ts_absolute[dr_cluster] = sinks_dr_el_ava_pos_ts[dr_cluster] * df[\"annual_invest_limit\"].values\n",
    "    fig, ax = plt.subplots(figsize=(15, 5))\n",
    "    _ = sinks_dr_el_ava_pos_ts_absolute[dr_cluster].plot(ax=ax)\n",
    "    plt.title(dr_cluster)\n",
    "    plt.tight_layout()\n",
    "    plt.show()"
   ]
  },
  {
   "cell_type": "markdown",
   "id": "9949ac84",
   "metadata": {},
   "source": [
    "## Availabilty negative"
   ]
  },
  {
   "cell_type": "code",
   "execution_count": null,
   "id": "3f0fda58",
   "metadata": {},
   "outputs": [],
   "source": [
    "sinks_dr_el_ava_neg_ts = input_data[\"sinks_dr_el_ava_neg_ts\"]"
   ]
  },
  {
   "cell_type": "code",
   "execution_count": null,
   "id": "e1478a64",
   "metadata": {},
   "outputs": [],
   "source": [
    "sinks_dr_el_ava_neg_ts.describe()"
   ]
  },
  {
   "cell_type": "code",
   "execution_count": null,
   "id": "15ec24b2",
   "metadata": {},
   "outputs": [],
   "source": [
    "plot_time_series_cols(sinks_dr_el_ava_neg_ts[:8760])"
   ]
  },
  {
   "cell_type": "code",
   "execution_count": null,
   "id": "928d6de9",
   "metadata": {},
   "outputs": [],
   "source": [
    "sinks_dr_el_ava_neg_ts_absolute = {}\n",
    "for dr_cluster in dr_clusters.index:\n",
    "    df = create_datetime_index(\n",
    "        potential_parameters[dr_cluster].loc[:,[\"potential_pos_overall\", \"potential_neg_overall\", \"max_cap\"]]\n",
    "    )\n",
    "    df[\"max_potential\"] = df[[\"potential_pos_overall\", \"potential_neg_overall\"]].max(axis=1)\n",
    "    df = df[[\"max_potential\", \"max_cap\"]]\n",
    "    df[\"annual_invest_limit\"] = df.min(axis=1)\n",
    "    df = df[[\"annual_invest_limit\"]]\n",
    "    df = resample_timeseries(\n",
    "        df, freq, aggregation_rule=\"sum\", interpolation_rule=\"ffill\"\n",
    "    )[:-1]\n",
    "    sinks_dr_el_ava_neg_ts_absolute[dr_cluster] = sinks_dr_el_ava_neg_ts[dr_cluster] * df[\"annual_invest_limit\"].values\n",
    "    fig, ax = plt.subplots(figsize=(15, 5))\n",
    "    _ = sinks_dr_el_ava_neg_ts_absolute[dr_cluster].plot(ax=ax)\n",
    "    plt.title(dr_cluster)\n",
    "    plt.tight_layout()\n",
    "    plt.show()"
   ]
  },
  {
   "cell_type": "code",
   "execution_count": null,
   "id": "2d53f9d7",
   "metadata": {},
   "outputs": [],
   "source": []
  }
 ],
 "metadata": {
  "kernelspec": {
   "display_name": "Python 3 (ipykernel)",
   "language": "python",
   "name": "python3"
  },
  "language_info": {
   "codemirror_mode": {
    "name": "ipython",
    "version": 3
   },
   "file_extension": ".py",
   "mimetype": "text/x-python",
   "name": "python",
   "nbconvert_exporter": "python",
   "pygments_lexer": "ipython3",
   "version": "3.8.13"
  },
  "toc": {
   "base_numbering": 1,
   "nav_menu": {},
   "number_sections": true,
   "sideBar": false,
   "skip_h1_title": false,
   "title_cell": "Table of Contents",
   "title_sidebar": "Contents",
   "toc_cell": false,
   "toc_position": {
    "height": "1145px",
    "left": "40px",
    "top": "111.125px",
    "width": "512px"
   },
   "toc_section_display": true,
   "toc_window_display": true
  },
  "varInspector": {
   "cols": {
    "lenName": 16,
    "lenType": 16,
    "lenVar": 40
   },
   "kernels_config": {
    "python": {
     "delete_cmd_postfix": "",
     "delete_cmd_prefix": "del ",
     "library": "var_list.py",
     "varRefreshCmd": "print(var_dic_list())"
    },
    "r": {
     "delete_cmd_postfix": ") ",
     "delete_cmd_prefix": "rm(",
     "library": "var_list.r",
     "varRefreshCmd": "cat(var_dic_list()) "
    }
   },
   "types_to_exclude": [
    "module",
    "function",
    "builtin_function_or_method",
    "instance",
    "_Feature"
   ],
   "window_display": false
  }
 },
 "nbformat": 4,
 "nbformat_minor": 5
}
