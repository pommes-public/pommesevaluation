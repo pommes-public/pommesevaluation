{
 "cells": [
  {
   "cell_type": "markdown",
   "id": "554b9236",
   "metadata": {},
   "source": [
    "# Investment model sanity check for inputs\n",
    "This notebook seems to inspect all the inputs passed to _pommesinvest_ in order to inspect potential data bugs from\n",
    "* visual inspection,\n",
    "* analysis of some statistic moments,\n",
    "* assert statements to check whether assumptions are valid."
   ]
  },
  {
   "cell_type": "markdown",
   "id": "cb5280b8",
   "metadata": {},
   "source": [
    "## Package imports"
   ]
  },
  {
   "cell_type": "code",
   "execution_count": null,
   "id": "f69c0863",
   "metadata": {},
   "outputs": [],
   "source": [
    "import pandas as pd\n",
    "import matplotlib.pyplot as plt\n",
    "\n",
    "from pommesevaluation.pommesinvest_routines import InvestmentModelDummy, load_input_data"
   ]
  },
  {
   "cell_type": "markdown",
   "id": "cb7bf33c",
   "metadata": {},
   "source": [
    "## Parameter settings"
   ]
  },
  {
   "cell_type": "code",
   "execution_count": null,
   "id": "75f02b3b",
   "metadata": {},
   "outputs": [],
   "source": [
    "plt.rcParams.update({'font.size': 12})\n",
    "\n",
    "# Starting basis applied for all scenarios\n",
    "path_folder_input = \"./model_inputs/pommesinvest/\"\n",
    "start_time = \"2020-01-01 00:00:00\"\n",
    "end_time = \"2045-12-31 23:00:00\"\n",
    "freq = \"1H\"\n",
    "overlap_in_time_steps = 0\n",
    "countries = [\n",
    "    \"AT\", \"BE\", \"CH\", \"CZ\", \"DE\", \"DK1\", \"DK2\", \"FR\", \"NL\", \n",
    "    \"NO1\", \"NO2\", \"NO3\", \"NO4\", \"NO5\", \"PL\", \"SE1\", \"SE2\", \"SE3\", \"SE4\",\n",
    "    \"IT\",\n",
    "]\n",
    "fuel_cost_pathway = \"NZE\"  # net zero emissions\n",
    "fuel_price_shock = \"high\"\n",
    "emissions_cost_pathway = \"long-term\"\n",
    "activate_emissions_pathway_limit = True\n",
    "activate_emissions_budget_limit = False\n",
    "\n",
    "# Parameters varying scenario-dependent\n",
    "activate_demand_response = False\n",
    "flexibility_options_scenario = \"50\"\n",
    "demand_response_scenario = \"50\""
   ]
  },
  {
   "cell_type": "markdown",
   "id": "086e2ca1",
   "metadata": {},
   "source": [
    "## Read in data sets\n",
    "* Create an \"InvestmentModelDummy\" object, which holds some of the attributes of an InvestmentModel, but not really is one.\n",
    "* Copy & paste methods from pommesinvest for reading in data to obtain the exact same data sets and make the data read in dependent on the configuration."
   ]
  },
  {
   "cell_type": "code",
   "execution_count": null,
   "id": "eccdab1a",
   "metadata": {},
   "outputs": [],
   "source": [
    "im = InvestmentModelDummy(\n",
    "    path_folder_input=path_folder_input,\n",
    "    countries=countries,\n",
    "    start_time=start_time,\n",
    "    end_time=end_time,\n",
    "    overlap_in_time_steps=overlap_in_time_steps,\n",
    "    freq=freq,\n",
    ")"
   ]
  },
  {
   "cell_type": "code",
   "execution_count": null,
   "id": "2c8a1d1b",
   "metadata": {},
   "outputs": [],
   "source": [
    "buses = {\"buses\": \"buses\"}\n",
    "\n",
    "components = {\n",
    "    \"sinks_excess\": \"sinks_excess\",\n",
    "    \"sinks_demand_el\": \"sinks_demand_el\",\n",
    "    \"sources_shortage\": \"sources_shortage\",\n",
    "    \"sources_commodity\": \"sources_commodity\",\n",
    "    \"sources_renewables\": \"sources_renewables_investment_model\",\n",
    "    \"exogenous_storages_el\": \"storages_el_exogenous\",\n",
    "    \"new_built_storages_el\": \"storages_el_investment_options\",\n",
    "    \"exogenous_transformers\": \"transformers_exogenous\",\n",
    "    \"new_built_transformers\": \"transformers_investment_options\",\n",
    "}\n",
    "\n",
    "hourly_time_series = {\n",
    "    \"sinks_demand_el_ts\": \"sinks_demand_el_ts_hourly\",\n",
    "    \"sources_renewables_ts\": \"sources_renewables_ts_hourly\",\n",
    "    \"transformers_minload_ts\": \"transformers_minload_ts_hourly\",\n",
    "    \"transformers_availability_ts\": \"transformers_availability_ts_hourly\",\n",
    "    \"linking_transformers_ts\": \"linking_transformers_ts\",\n",
    "}\n",
    "\n",
    "annual_time_series = {\n",
    "    \"transformers_exogenous_max_ts\": \"transformers_exogenous_max_ts\",\n",
    "    \"costs_fuel_ts\": (\n",
    "        f\"costs_fuel_{fuel_cost_pathway}_{fuel_price_shock}_nominal_indexed_ts\"\n",
    "    ),\n",
    "    \"costs_emissions_ts\": (\n",
    "        f\"costs_emissions_{emissions_cost_pathway}_nominal_indexed_ts\"\n",
    "    ),\n",
    "    \"costs_operation_ts\": (\n",
    "        f\"variable_costs_{flexibility_options_scenario}%_nominal\"\n",
    "    ),\n",
    "    \"costs_operation_storages_ts\": (\n",
    "        f\"variable_costs_storages_{flexibility_options_scenario}%_nominal\"\n",
    "    ),\n",
    "    \"costs_investment\": (\n",
    "        f\"investment_expenses_{flexibility_options_scenario}%_nominal\"\n",
    "    ),\n",
    "    \"costs_storages_investment_capacity\": (\n",
    "        f\"investment_expenses_storages_capacity_{flexibility_options_scenario}%_nominal\"\n",
    "    ),\n",
    "    \"costs_storages_investment_power\": (\n",
    "        f\"investment_expenses_storages_power_{flexibility_options_scenario}%_nominal\"\n",
    "    ),\n",
    "    \"linking_transformers_annual_ts\": \"linking_transformers_annual_ts\",\n",
    "    \"storages_el_exogenous_max_ts\": \"storages_el_exogenous_max_ts\",\n",
    "}\n",
    "\n",
    "# Time-invariant data sets\n",
    "other_files = {\n",
    "    \"emission_limits\": \"emission_limits\",\n",
    "    \"wacc\": \"wacc\",\n",
    "    \"interest_rate\": \"interest_rate\",\n",
    "    \"fixed_costs\": (\n",
    "        f\"fixed_costs_{flexibility_options_scenario}%_nominal\"\n",
    "    ),\n",
    "    \"fixed_costs_storages\": (\n",
    "        f\"fixed_costs_storages_{flexibility_options_scenario}%_nominal\"\n",
    "    ),\n",
    "    \"hydrogen_investment_maxima\": \"hydrogen_investment_maxima\",\n",
    "    \"linking_transformers\": \"linking_transformers\",\n",
    "}\n",
    "\n",
    "# Development factors for emissions; used for scaling minimum loads\n",
    "if (\n",
    "    activate_emissions_pathway_limit\n",
    "    or activate_emissions_budget_limit\n",
    "):\n",
    "    other_files[\n",
    "        \"emission_development_factors\"\n",
    "    ] = \"emission_development_factors\"\n",
    "\n",
    "# Add demand response units\n",
    "if activate_demand_response:\n",
    "    # Overall demand = overall demand excluding demand response baseline\n",
    "    hourly_time_series[\"sinks_demand_el_ts\"] = (\n",
    "        f\"sinks_demand_el_excl_demand_response_ts_{im.demand_response_scenario}_hourly\"\n",
    "    )\n",
    "    components[\"sinks_demand_el\"] = (\n",
    "        f\"sinks_demand_el_excl_demand_response_{im.demand_response_scenario}\"\n",
    "    )\n",
    "\n",
    "    # Obtain demand response clusters from file to avoid hard-coding\n",
    "    components[\n",
    "        \"demand_response_clusters_eligibility\"\n",
    "    ] = \"demand_response_clusters_eligibility\"\n",
    "    dr_clusters = load_input_data(\n",
    "        filename=\"demand_response_clusters_eligibility\", im=im\n",
    "    )\n",
    "    # Add demand response clusters information to the model itself\n",
    "    im.add_demand_response_clusters(list(dr_clusters.index))\n",
    "    for dr_cluster in dr_clusters.index:\n",
    "        components[f\"sinks_dr_el_{dr_cluster}\"] = (\n",
    "            f\"{dr_cluster}_potential_parameters_{im.demand_response_scenario}%\"\n",
    "        )\n",
    "        annual_time_series[f\"sinks_dr_el_{dr_cluster}_variable_costs\"] = (\n",
    "            f\"{dr_cluster}_variable_costs_parameters_{im.demand_response_scenario}%\"\n",
    "        )\n",
    "        annual_time_series[\n",
    "            f\"sinks_dr_el_{dr_cluster}_fixed_costs_and_investments\"\n",
    "        ] = (\n",
    "            f\"{dr_cluster}_fixed_costs_and_investments_parameters_{im.demand_response_scenario}%\"\n",
    "        )\n",
    "\n",
    "    hourly_time_series[\n",
    "        \"sinks_dr_el_ts\"\n",
    "    ] = f\"sinks_demand_response_el_ts_{im.demand_response_scenario}\"\n",
    "\n",
    "    hourly_time_series[\"sinks_dr_el_ava_pos_ts\"] = (\n",
    "        f\"sinks_demand_response_el_ava_pos_ts_{im.demand_response_scenario}\"\n",
    "    )\n",
    "    hourly_time_series[\"sinks_dr_el_ava_neg_ts\"] = (\n",
    "        f\"sinks_demand_response_el_ava_neg_ts_{im.demand_response_scenario}\"\n",
    "    )\n",
    "\n",
    "# Combine all files\n",
    "input_files = {\n",
    "    **buses,\n",
    "    **components,\n",
    "    **annual_time_series,\n",
    "    **hourly_time_series,\n",
    "}\n",
    "input_files = {**input_files, **other_files}\n",
    "\n",
    "input_data = {\n",
    "    key: load_input_data(filename=name, im=im)\n",
    "    for key, name in input_files.items()\n",
    "}"
   ]
  },
  {
   "cell_type": "markdown",
   "id": "d84fc3d2",
   "metadata": {},
   "source": [
    "# Check data sanity"
   ]
  },
  {
   "cell_type": "markdown",
   "id": "863e387f",
   "metadata": {},
   "source": [
    "## Buses\n",
    "Assertion statements"
   ]
  },
  {
   "cell_type": "code",
   "execution_count": null,
   "id": "229e9a5e",
   "metadata": {},
   "outputs": [],
   "source": [
    "buses = input_data[\"buses\"]\n",
    "\n",
    "display(buses.head(10))\n",
    "display(buses.tail(10))"
   ]
  },
  {
   "cell_type": "code",
   "execution_count": null,
   "id": "0ad1f5fe",
   "metadata": {},
   "outputs": [],
   "source": [
    "buses.describe()"
   ]
  },
  {
   "cell_type": "code",
   "execution_count": null,
   "id": "f7c1092b",
   "metadata": {},
   "outputs": [],
   "source": [
    "check_countries = (buses.index.str.split(\"_\", 1, expand=True).get_level_values(0) == buses[\"country\"]).all()\n",
    "assert check_countries == True, f\"Expected False, but result was {to_check}\"\n",
    "\n",
    "bus_names = set(buses.index.str.split(\"_\", expand=True).get_level_values(1))\n",
    "assert bus_names == {\"bus\"}, f\"Expected 'bus' as the only name, but result was {bus_names}\"\n",
    "\n",
    "bus_commodities = set(buses.index.str.rsplit(\"_\", 1, expand=True).get_level_values(1))\n",
    "all_commodities = {\n",
    "    'el', 'biomass', 'hardcoal', 'hydro', 'hydrogen', \n",
    "    'lignite', 'mixedfuels', 'natgas', 'oil', 'otherfossil',\n",
    "    'solarPV', 'uranium', 'waste', 'windoffshore', 'windonshore'\n",
    "}\n",
    "assert bus_commodities == all_commodities"
   ]
  },
  {
   "cell_type": "markdown",
   "id": "f39325f5",
   "metadata": {},
   "source": [
    "## Sinks\n",
    "### Excess Sinks\n",
    "Only visual inspection sufficient"
   ]
  },
  {
   "cell_type": "code",
   "execution_count": null,
   "id": "e7b305a1",
   "metadata": {},
   "outputs": [],
   "source": [
    "sinks_excess = input_data[\"sinks_excess\"]"
   ]
  },
  {
   "cell_type": "code",
   "execution_count": null,
   "id": "93b12aaf",
   "metadata": {},
   "outputs": [],
   "source": [
    "sinks_excess"
   ]
  },
  {
   "cell_type": "markdown",
   "id": "d99db2f1",
   "metadata": {},
   "source": [
    "### Demand sinks\n",
    "* Should contain maximum values as of 2020\n",
    "* Visual inspection"
   ]
  },
  {
   "cell_type": "code",
   "execution_count": null,
   "id": "f096b825",
   "metadata": {},
   "outputs": [],
   "source": [
    "demand = input_data[\"sinks_demand_el\"]"
   ]
  },
  {
   "cell_type": "code",
   "execution_count": null,
   "id": "dae9cae2",
   "metadata": {},
   "outputs": [],
   "source": [
    "demand"
   ]
  },
  {
   "cell_type": "code",
   "execution_count": null,
   "id": "e0cf504c",
   "metadata": {},
   "outputs": [],
   "source": [
    "fig, ax = plt.subplots(figsize=(16, 10))\n",
    "_ = demand[\"maximum\"].sort_values(ascending=False).plot(kind=\"bar\", ax=ax)\n",
    "plt.show()"
   ]
  },
  {
   "cell_type": "markdown",
   "id": "52af0406",
   "metadata": {},
   "source": [
    "## Sources\n",
    "### Shortage sources\n",
    "Only visual inspection"
   ]
  },
  {
   "cell_type": "code",
   "execution_count": null,
   "id": "cfd1625e",
   "metadata": {},
   "outputs": [],
   "source": [
    "shortage = input_data[\"sources_shortage\"]"
   ]
  },
  {
   "cell_type": "code",
   "execution_count": null,
   "id": "2cace88a",
   "metadata": {},
   "outputs": [],
   "source": [
    "shortage"
   ]
  },
  {
   "cell_type": "markdown",
   "id": "2d4b2101",
   "metadata": {},
   "source": [
    "### Commodity sources\n",
    "Only visual inspection"
   ]
  },
  {
   "cell_type": "code",
   "execution_count": null,
   "id": "92e82986",
   "metadata": {},
   "outputs": [],
   "source": [
    "commodities = input_data[\"sources_commodity\"]"
   ]
  },
  {
   "cell_type": "code",
   "execution_count": null,
   "id": "a52318c7",
   "metadata": {},
   "outputs": [],
   "source": [
    "commodities"
   ]
  },
  {
   "cell_type": "code",
   "execution_count": null,
   "id": "64907b19",
   "metadata": {},
   "outputs": [],
   "source": [
    "fuels = commodities.index.str.rsplit(\"_\", 1, expand=True).get_level_values(1).unique()\n",
    "for fuel in fuels:\n",
    "    display(commodities.loc[commodities.index.str.contains(fuel)])"
   ]
  },
  {
   "cell_type": "markdown",
   "id": "f4297c8e",
   "metadata": {},
   "source": [
    "### Renewable sources\n",
    "* Visual inspection\n",
    "* Statistical moments of data set"
   ]
  },
  {
   "cell_type": "code",
   "execution_count": null,
   "id": "6ca941f6",
   "metadata": {},
   "outputs": [],
   "source": [
    "renewables = input_data[\"sources_renewables\"]"
   ]
  },
  {
   "cell_type": "code",
   "execution_count": null,
   "id": "fbb44c44",
   "metadata": {},
   "outputs": [],
   "source": [
    "display(renewables.head(10))\n",
    "display(renewables.tail(10))"
   ]
  },
  {
   "cell_type": "code",
   "execution_count": null,
   "id": "b34e52eb",
   "metadata": {},
   "outputs": [],
   "source": [
    "# Hydro values are in kWh/h and reflect the inflow potential; thus therefore are not comparable!\n",
    "hydro = renewables.loc[renewables.index.str.contains(\"_hydro\")]\n",
    "non_hydro_renewables = renewables.loc[~(renewables.index.str.contains(\"_hydro\"))]\n",
    "print(\"Hydro\")\n",
    "display(hydro.describe())\n",
    "print(\"Remaining RES\")\n",
    "display(non_hydro_renewables.describe())"
   ]
  },
  {
   "cell_type": "code",
   "execution_count": null,
   "id": "f2db43ca",
   "metadata": {},
   "outputs": [],
   "source": [
    "fig, ax = plt.subplots(2, 1, figsize=(16, 16))\n",
    "_ = hydro[\"capacity\"].sort_values(ascending=False).plot(kind=\"bar\", ax=ax[0])\n",
    "_ = non_hydro_renewables[\"capacity\"].sort_values(ascending=False).plot(kind=\"bar\", ax=ax[1])\n",
    "plt.tight_layout()\n",
    "plt.show()"
   ]
  },
  {
   "cell_type": "markdown",
   "id": "67ee13da",
   "metadata": {},
   "source": [
    "### Exogenous storages"
   ]
  },
  {
   "cell_type": "code",
   "execution_count": null,
   "id": "935b3ad0",
   "metadata": {},
   "outputs": [],
   "source": [
    "exogenous_storages = input_data[\"exogenous_storages_el\"]"
   ]
  },
  {
   "cell_type": "code",
   "execution_count": null,
   "id": "5f5ff8d6",
   "metadata": {},
   "outputs": [],
   "source": [
    "exogenous_storages.columns"
   ]
  },
  {
   "cell_type": "code",
   "execution_count": null,
   "id": "19b6b4f0",
   "metadata": {},
   "outputs": [],
   "source": [
    "phes = exogenous_storages.loc[exogenous_storages[\"type\"] == \"phes\"]\n",
    "reservoir = exogenous_storages.loc[exogenous_storages[\"type\"] == \"reservoir\"]\n",
    "print(\"PHES\")\n",
    "display(phes.iloc[:,:15].describe())\n",
    "display(phes.iloc[:,15:].describe())\n",
    "print(\"Reservoir\")\n",
    "display(reservoir.iloc[:,:15].describe())\n",
    "display(reservoir.iloc[:,15:].describe())"
   ]
  },
  {
   "cell_type": "markdown",
   "id": "f5632d12",
   "metadata": {},
   "source": [
    "### New-built storages\n",
    "Only visual inspection"
   ]
  },
  {
   "cell_type": "code",
   "execution_count": null,
   "id": "c457e3bc",
   "metadata": {},
   "outputs": [],
   "source": [
    "new_storages = input_data[\"new_built_storages_el\"]"
   ]
  },
  {
   "cell_type": "code",
   "execution_count": null,
   "id": "cd869e6d",
   "metadata": {},
   "outputs": [],
   "source": [
    "new_storages.columns"
   ]
  },
  {
   "cell_type": "code",
   "execution_count": null,
   "id": "56dcbacb",
   "metadata": {},
   "outputs": [],
   "source": [
    "new_storages.iloc[:,:15]"
   ]
  },
  {
   "cell_type": "code",
   "execution_count": null,
   "id": "f93ef0ef",
   "metadata": {},
   "outputs": [],
   "source": [
    "new_storages.iloc[:,15:]"
   ]
  },
  {
   "cell_type": "markdown",
   "id": "9af49f3f",
   "metadata": {},
   "source": [
    "## Transformers\n",
    "### Exogenous transformers"
   ]
  },
  {
   "cell_type": "code",
   "execution_count": null,
   "id": "dacbb651",
   "metadata": {},
   "outputs": [],
   "source": [
    "exogenous_transformers = input_data[\"exogenous_transformers\"]"
   ]
  },
  {
   "cell_type": "code",
   "execution_count": null,
   "id": "f499a8d0",
   "metadata": {},
   "outputs": [],
   "source": [
    "exogenous_transformers.columns"
   ]
  },
  {
   "cell_type": "code",
   "execution_count": null,
   "id": "3bbdd077",
   "metadata": {},
   "outputs": [],
   "source": [
    "display(exogenous_transformers.iloc[:,:15].head(10))\n",
    "display(exogenous_transformers.iloc[:,15:30].head(10))\n",
    "display(exogenous_transformers.iloc[:,30:45].head(10))\n",
    "display(exogenous_transformers.iloc[:,45:].head(10))"
   ]
  },
  {
   "cell_type": "code",
   "execution_count": null,
   "id": "2ac3bf05",
   "metadata": {},
   "outputs": [],
   "source": [
    "exogenous_transformers.columns"
   ]
  },
  {
   "cell_type": "code",
   "execution_count": null,
   "id": "0cc2642e",
   "metadata": {},
   "outputs": [],
   "source": [
    "display(exogenous_transformers.iloc[:,:15].describe())\n",
    "display(exogenous_transformers.iloc[:,15:30].describe())"
   ]
  },
  {
   "cell_type": "markdown",
   "id": "3fc49306",
   "metadata": {},
   "source": [
    "### New-built transformers"
   ]
  },
  {
   "cell_type": "code",
   "execution_count": null,
   "id": "27ee54e5",
   "metadata": {},
   "outputs": [],
   "source": []
  },
  {
   "cell_type": "code",
   "execution_count": null,
   "id": "7c0152ed",
   "metadata": {},
   "outputs": [],
   "source": []
  }
 ],
 "metadata": {
  "kernelspec": {
   "display_name": "Python 3 (ipykernel)",
   "language": "python",
   "name": "python3"
  },
  "language_info": {
   "codemirror_mode": {
    "name": "ipython",
    "version": 3
   },
   "file_extension": ".py",
   "mimetype": "text/x-python",
   "name": "python",
   "nbconvert_exporter": "python",
   "pygments_lexer": "ipython3",
   "version": "3.8.13"
  },
  "toc": {
   "base_numbering": 1,
   "nav_menu": {},
   "number_sections": true,
   "sideBar": true,
   "skip_h1_title": false,
   "title_cell": "Table of Contents",
   "title_sidebar": "Contents",
   "toc_cell": false,
   "toc_position": {},
   "toc_section_display": true,
   "toc_window_display": true
  },
  "varInspector": {
   "cols": {
    "lenName": 16,
    "lenType": 16,
    "lenVar": 40
   },
   "kernels_config": {
    "python": {
     "delete_cmd_postfix": "",
     "delete_cmd_prefix": "del ",
     "library": "var_list.py",
     "varRefreshCmd": "print(var_dic_list())"
    },
    "r": {
     "delete_cmd_postfix": ") ",
     "delete_cmd_prefix": "rm(",
     "library": "var_list.r",
     "varRefreshCmd": "cat(var_dic_list()) "
    }
   },
   "types_to_exclude": [
    "module",
    "function",
    "builtin_function_or_method",
    "instance",
    "_Feature"
   ],
   "window_display": false
  }
 },
 "nbformat": 4,
 "nbformat_minor": 5
}
