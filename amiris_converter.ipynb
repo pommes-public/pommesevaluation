{
 "cells": [
  {
   "cell_type": "markdown",
   "id": "164a145a",
   "metadata": {},
   "source": [
    "# Converter from pommesinvest to AMIRIS\n",
    "Convert pommesinvest results to AMIRIS input data format"
   ]
  },
  {
   "cell_type": "markdown",
   "id": "4b4bc3ce",
   "metadata": {},
   "source": [
    "## Package imports"
   ]
  },
  {
   "cell_type": "code",
   "execution_count": null,
   "id": "d20ad1ee",
   "metadata": {},
   "outputs": [],
   "source": [
    "import pandas as pd\n",
    "import matplotlib.pyplot as plt\n",
    "from pommesevaluation.amiris_converter import (\n",
    "    convert_annual_data_to_fame_time, convert_time_series_index_to_fame_time\n",
    ")"
   ]
  },
  {
   "cell_type": "markdown",
   "id": "a305e498",
   "metadata": {},
   "source": [
    "## Notebook and workflow settings"
   ]
  },
  {
   "cell_type": "code",
   "execution_count": null,
   "id": "038b7bb4",
   "metadata": {},
   "outputs": [],
   "source": [
    "# Simulation settings\n",
    "time_frame_in_years = 31\n",
    "freq = \"8H\"\n",
    "multiplier = {\n",
    "    \"1H\": 1,\n",
    "    \"4H\": 4,\n",
    "    \"8H\": 8,\n",
    "}\n",
    "\n",
    "# Paths to data needed to be converted\n",
    "path_model_inputs = \"./model_inputs/\"\n",
    "path_model_results = \"./model_results/\"\n",
    "path_processed_outputs = \"./data_out/\"\n",
    "\n",
    "# Filename and scenarios\n",
    "filename_investment = \"results_total_dr_scenario\"\n",
    "filename_backup = \"installed_capacity_backup_generation.csv\"\n",
    "filename_storage = \"installed_storage_capacity.csv\"\n",
    "file_name_res_capacities = \"sources_renewables_investment_model.csv\"\n",
    "file_name_res_generation = \"sources_renewables_ts_hourly.csv\"\n",
    "\n",
    "dr_scenarios = [\"none\", \"5\", \"50\", \"95\"]\n",
    "\n",
    "file_names_demand = {\n",
    "    scen: f\"sinks_demand_el_excl_demand_response_{scen}.csv\"\n",
    "    for scen in dr_scenarios\n",
    "}\n",
    "file_names_demand_ts = {\n",
    "    scen: f\"sinks_demand_el_excl_demand_response_ts_{scen}_hourly.csv\"\n",
    "    for scen in dr_scenarios\n",
    "}\n",
    "file_names_demand[\"none\"] = \"sinks_demand_el.csv\"\n",
    "file_names_demand_ts[\"none\"] = \"sinks_demand_el_ts_hourly.csv\"\n",
    "\n",
    "file_names_dispatch_results = {\n",
    "    scen: (\n",
    "        f\"investment_LP_start-2020-01-01_{time_frame_in_years}\"\n",
    "        f\"-years_simple_freq_{freq}_with_dr_{scen}_production.csv\"\n",
    "    ) for scen in dr_scenarios\n",
    "}\n",
    "file_names_dispatch_results[\"none\"] = (\n",
    "    f\"investment_LP_start-2020-01-01_{time_frame_in_years}\"\n",
    "    f\"-years_simple_freq_{freq}_no_dr_50_production.csv\"\n",
    ")\n",
    "\n",
    "# Define which pieces of information to exclude from investments\n",
    "exclude_from_investment = [\n",
    "    \"PHS_inflow\", \n",
    "    \"battery_inflow\", \n",
    "    \"hoho_cluster_shift_only\",\n",
    "    \"hoho_cluster_shift_shed\",\n",
    "    \"hydrogen_electrolyzer\",\n",
    "    \"ind_cluster_shed_only\",\n",
    "    \"ind_cluster_shift_only\",\n",
    "    \"ind_cluster_shift_shed\",\n",
    "    \"tcs+hoho_cluster_shift_only\",\n",
    "    \"tcs_cluster_shift_only\",\n",
    "]\n",
    "\n",
    "demand_response_focus_cluster = \"ind_cluster_shift_only\"\n",
    "exclude_from_investment.remove(demand_response_focus_cluster)"
   ]
  },
  {
   "cell_type": "markdown",
   "id": "f6c72be2",
   "metadata": {},
   "source": [
    "# Read in and convert\n",
    "## Transformers & renewables\n",
    "* Different for all scnearios: Investment results (transformers only)\n",
    "* Same across all scenarios:\n",
    "    * Backup generation (exogenous transformers)\n",
    "    * Renewable capacities & generation"
   ]
  },
  {
   "cell_type": "code",
   "execution_count": null,
   "id": "6d41d76d",
   "metadata": {},
   "outputs": [],
   "source": [
    "# Investments per scenario\n",
    "for dr_scenario in dr_scenarios:\n",
    "    invest_results = pd.read_csv(f\"{path_processed_outputs}{filename_investment}_{dr_scenario}.csv\", index_col=0)\n",
    "    invest_results = invest_results.loc[[idx for idx in invest_results.index if idx not in exclude_from_investment]]\n",
    "    _ = convert_annual_data_to_fame_time(\n",
    "        invest_results, \n",
    "        save=True, \n",
    "        path=f\"./data_out/amiris/{dr_scenario}/\",\n",
    "        filename=\"installed_capacity_ts\"\n",
    "    )"
   ]
  },
  {
   "cell_type": "code",
   "execution_count": null,
   "id": "d5f689f9",
   "metadata": {},
   "outputs": [],
   "source": [
    "# Backup and RES\n",
    "backup_capacities = pd.read_csv(f\"{path_processed_outputs}{filename_backup}\", index_col=0)\n",
    "\n",
    "res_generation = pd.read_csv(f\"{path_model_inputs}{file_name_res_generation}\", index_col=0)\n",
    "\n",
    "_ = convert_annual_data_to_fame_time(\n",
    "    backup_capacities,\n",
    "    save=True,\n",
    "    path=\"./data_out/amiris/all_scenarios/\",\n",
    "    filename=\"exogenous_installed_capacity_ts\"\n",
    ")\n",
    "_ = convert_time_series_index_to_fame_time(\n",
    "    res_generation,\n",
    "    save=True,\n",
    "    path=\"./data_out/amiris/all_scenarios/\",\n",
    "    filename=\"res_generation_ts\"\n",
    ")\n",
    "\n",
    "res_capacities_2020 = pd.read_csv(f\"{path_model_inputs}{file_name_res_capacities}\", index_col=0)\n",
    "res_capacities_2020 = res_capacities_2020.loc[res_capacities_2020[\"country\"] == \"DE\"]\n",
    "res_capacities_2020.index = res_capacities_2020.index.str.split(\"_\", expand=True).get_level_values(2)\n",
    "res_capacities_2020 = res_capacities_2020[\"capacity\"]\n",
    "res_capacities_2020.to_csv(\"installed_renewable_capacities_2020.csv\")"
   ]
  },
  {
   "cell_type": "markdown",
   "id": "6e8ea0f2",
   "metadata": {},
   "source": [
    "## \"Net\" Demand\n",
    "Since in AMIRIS, there is a shortcoming in terms of modelling competing demand-side flexibility options, all flexibility options except the one demand response-cluster that is focused upon are not modelled explicitly, but their dispatch is considered in calculating a net demand, i.e. a \n",
    "* demand after\n",
    "    * imports and exports,\n",
    "    * storages,\n",
    "    * demand response (except for the focus cluster)\n",
    "    * electrolyzer operation"
   ]
  },
  {
   "cell_type": "code",
   "execution_count": null,
   "id": "c13f7233",
   "metadata": {},
   "outputs": [],
   "source": [
    "original_demand = {}\n",
    "demand_after_flex = {}\n",
    "\n",
    "for dr_scenario in dr_scenarios:\n",
    "    # Original demand\n",
    "    sinks_demand_el = pd.read_csv(f\"{path_model_inputs}{file_names_demand[dr_scenario]}\", index_col=0)\n",
    "    max_demand = sinks_demand_el.at[\"DE_sink_el_load\", \"maximum\"]\n",
    "    sinks_demand_el_ts = pd.read_csv(f\"{path_model_inputs}{file_names_demand_ts[dr_scenario]}\", index_col=0)\n",
    "    original_demand[dr_scenario] = sinks_demand_el_ts[\"DE_sink_el_load\"] * max_demand\n",
    "    \n",
    "    demand_after_flex = original_demand[dr_scenario].copy()\n",
    "    demand_after_flex.index = pd.to_datetime(demand_after_flex.index)\n",
    "    \n",
    "    # Read in dispatch results\n",
    "    dispatch_results = pd.read_csv(f\"{path_model_results}{file_names_dispatch_results[dr_scenario]}\", index_col=0)\n",
    "    \n",
    "    # Filter  imports and exports and add net exports to demand\n",
    "    im_ex_DE = dispatch_results[[col for col in dispatch_results.columns if \"link_\" in col]].copy()\n",
    "    export_links = [col for col in im_ex_DE if \"('DE_link_\" in col]\n",
    "    import_links = [col for col in im_ex_DE if \"DE_bus_el')\" in col]\n",
    "    im_ex_DE[\"overall_exports\"] = im_ex_DE[export_links].sum(axis=1)\n",
    "    im_ex_DE[\"overall_imports\"] = -im_ex_DE[import_links].sum(axis=1)\n",
    "    im_ex_DE[\"net_export\"] = im_ex_DE[\"overall_exports\"] + im_ex_DE[\"overall_imports\"]\n",
    "    \n",
    "    # Resample (different frequency)\n",
    "    im_ex_DE.loc[\"2051-01-01 00:00:00\"] = im_ex_DE.iloc[-1]\n",
    "    im_ex_DE.index = pd.to_datetime(im_ex_DE.index)\n",
    "    im_ex_DE = im_ex_DE.div(multiplier[freq])\n",
    "    im_ex_DE = im_ex_DE.resample(\"H\").interpolate(\"ffill\")[:-1]\n",
    "    \n",
    "    demand_after_flex += im_ex_DE[\"net_export\"]\n",
    "    \n",
    "    # Filter electrical storage results; add storage outflow and subtract storage inflow\n",
    "    storage_DE = dispatch_results[[col for col in dispatch_results.columns if \"DE_storage_el\" in col]].copy()\n",
    "    storage_inflow_cols = [col for col in storage_DE if \"('DE_bus_el',\" in col]\n",
    "    storage_outflow_cols = [col for col in storage_DE if \", 'DE_bus_el')\" in col]"
   ]
  },
  {
   "cell_type": "code",
   "execution_count": null,
   "id": "f69db625",
   "metadata": {},
   "outputs": [],
   "source": [
    "storage_inflow"
   ]
  },
  {
   "cell_type": "code",
   "execution_count": null,
   "id": "187fcac2",
   "metadata": {},
   "outputs": [],
   "source": [
    "demand_after_flex = original_demand[dr_scenario].copy()"
   ]
  },
  {
   "cell_type": "code",
   "execution_count": null,
   "id": "6082a16b",
   "metadata": {},
   "outputs": [],
   "source": [
    "dispatch_results[[col for col in dispatch_results.columns if \"storage\" in col]]"
   ]
  },
  {
   "cell_type": "code",
   "execution_count": null,
   "id": "cedf85db",
   "metadata": {},
   "outputs": [],
   "source": []
  }
 ],
 "metadata": {
  "kernelspec": {
   "display_name": "Python 3 (ipykernel)",
   "language": "python",
   "name": "python3"
  },
  "language_info": {
   "codemirror_mode": {
    "name": "ipython",
    "version": 3
   },
   "file_extension": ".py",
   "mimetype": "text/x-python",
   "name": "python",
   "nbconvert_exporter": "python",
   "pygments_lexer": "ipython3",
   "version": "3.8.13"
  },
  "toc": {
   "base_numbering": 1,
   "nav_menu": {},
   "number_sections": true,
   "sideBar": true,
   "skip_h1_title": false,
   "title_cell": "Table of Contents",
   "title_sidebar": "Contents",
   "toc_cell": false,
   "toc_position": {},
   "toc_section_display": true,
   "toc_window_display": false
  },
  "varInspector": {
   "cols": {
    "lenName": 16,
    "lenType": 16,
    "lenVar": 40
   },
   "kernels_config": {
    "python": {
     "delete_cmd_postfix": "",
     "delete_cmd_prefix": "del ",
     "library": "var_list.py",
     "varRefreshCmd": "print(var_dic_list())"
    },
    "r": {
     "delete_cmd_postfix": ") ",
     "delete_cmd_prefix": "rm(",
     "library": "var_list.r",
     "varRefreshCmd": "cat(var_dic_list()) "
    }
   },
   "types_to_exclude": [
    "module",
    "function",
    "builtin_function_or_method",
    "instance",
    "_Feature"
   ],
   "window_display": false
  }
 },
 "nbformat": 4,
 "nbformat_minor": 5
}
