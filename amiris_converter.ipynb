{
 "cells": [
  {
   "cell_type": "markdown",
   "id": "26aaea0c",
   "metadata": {},
   "source": [
    "# Converter from pommesinvest to AMIRIS\n",
    "Convert pommesinvest results to AMIRIS input data format"
   ]
  },
  {
   "cell_type": "markdown",
   "id": "89ba5d7f",
   "metadata": {},
   "source": [
    "## Package imports"
   ]
  },
  {
   "cell_type": "code",
   "execution_count": null,
   "id": "28924c56",
   "metadata": {},
   "outputs": [],
   "source": [
    "import pandas as pd\n",
    "import matplotlib.pyplot as plt\n",
    "from pommesevaluation.amiris_converter import (\n",
    "    convert_annual_data_to_fame_time, convert_time_series_index_to_fame_time\n",
    ")"
   ]
  },
  {
   "cell_type": "markdown",
   "id": "8d84d66b",
   "metadata": {},
   "source": [
    "## Notebook and workflow settings"
   ]
  },
  {
   "cell_type": "code",
   "execution_count": null,
   "id": "fcce1593",
   "metadata": {},
   "outputs": [],
   "source": [
    "# Paths to data needed to be converted\n",
    "path_model_inputs = \"./model_inputs/\"\n",
    "path_processed_outputs = \"./data_out/\"\n",
    "\n",
    "# Filename and scenarios\n",
    "filename_investment = \"results_total_dr_scenario\"\n",
    "filename_backup = \"installed_capacity_backup_generation.csv\"\n",
    "filename_storage = \"installed_storage_capacity.csv\"\n",
    "file_name_res_capacities = \"sources_renewables_investment_model.csv\"\n",
    "file_name_res_generation = \"sources_renewables_ts_hourly.csv\"\n",
    "file_name_demand = \"\"\n",
    "\n",
    "dr_scenarios = [\"none\", \"5\", \"50\", \"95\"]\n",
    "\n",
    "# Define which pieces of information to exclude from investments\n",
    "exclude_from_investment = [\n",
    "    \"PHS_inflow\", \n",
    "    \"battery_inflow\", \n",
    "    \"hoho_cluster_shift_only\",\n",
    "    \"hoho_cluster_shift_shed\",\n",
    "    \"hydrogen_electrolyzer\",\n",
    "    \"ind_cluster_shed_only\",\n",
    "    \"ind_cluster_shift_only\",\n",
    "    \"ind_cluster_shift_shed\",\n",
    "    \"tcs+hoho_cluster_shift_only\",\n",
    "    \"tcs_cluster_shift_only\",\n",
    "]\n",
    "\n",
    "demand_response_focus_cluster = \"ind_cluster_shift_only\"\n",
    "exclude_from_investment.remove(demand_response_focus_cluster)"
   ]
  },
  {
   "cell_type": "markdown",
   "id": "dc7961f5",
   "metadata": {},
   "source": [
    "# Read in and convert\n",
    "## Transformers & renewables\n",
    "* Investment results (transformers only)\n",
    "* Backup generation (exogenous transformers)\n",
    "* Renewable capacities & generation"
   ]
  },
  {
   "cell_type": "code",
   "execution_count": null,
   "id": "0d75f074",
   "metadata": {},
   "outputs": [],
   "source": [
    "invest_results = pd.read_csv(f\"{path_processed_outputs}{filename_investment}_{dr_scenarios[2]}.csv\", index_col=0)\n",
    "invest_results = invest_results.loc[[idx for idx in invest_results.index if idx not in exclude_from_investment]]\n",
    "backup_generation = pd.read_csv(f\"{path_processed_outputs}{filename_backup}\", index_col=0)\n",
    "\n",
    "res_capacities_2020 = pd.read_csv(f\"{path_model_inputs}{file_name_res_capacities}\", index_col=0)\n",
    "res_capacities_2020 = res_capacities_2020.loc[res_capacities_2020[\"country\"] == \"DE\"]\n",
    "res_generation = pd.read_csv(f\"{path_model_inputs}{file_name_res_generation}\", index_col=0)"
   ]
  },
  {
   "cell_type": "code",
   "execution_count": null,
   "id": "b20127be",
   "metadata": {},
   "outputs": [],
   "source": [
    "_ = convert_annual_data_to_fame_time(\n",
    "    invest_results, \n",
    "    save=True, \n",
    "    path=\"./data_out/amiris/\",\n",
    "    filename=\"installed_capacity_ts\"\n",
    ")\n",
    "_ = convert_annual_data_to_fame_time(\n",
    "    backup_generation,\n",
    "    orient=\"rows\",\n",
    "    save=True,\n",
    "    path=\"./data_out/amiris/\",\n",
    "    filename=\"exogenous_installed_capacity_ts\"\n",
    ")\n",
    "_ = convert_time_series_index_to_fame_time(\n",
    "    res_generation,\n",
    "    save=True,\n",
    "    path=\"./data_out/amiris/\",\n",
    "    filename=\"res_generation_ts\"\n",
    ")"
   ]
  },
  {
   "cell_type": "markdown",
   "id": "769e783f",
   "metadata": {},
   "source": [
    "## Net Demand\n",
    "Since in AMIRIS, there is a shortcoming in terms of modelling competing demand-side flexibility options, all flexibility options except the one demand response-cluster that is focused upon are not modelled explicitly, but their dispatch is considered in calculating a net demand, i.e. a demand after\n",
    "* imports and exports,\n",
    "* storages,\n",
    "* demand response (except for the focus cluster)\n",
    "* electrolyzer operation"
   ]
  },
  {
   "cell_type": "code",
   "execution_count": null,
   "id": "ce33a52a",
   "metadata": {},
   "outputs": [],
   "source": []
  }
 ],
 "metadata": {
  "kernelspec": {
   "display_name": "Python 3 (ipykernel)",
   "language": "python",
   "name": "python3"
  },
  "language_info": {
   "codemirror_mode": {
    "name": "ipython",
    "version": 3
   },
   "file_extension": ".py",
   "mimetype": "text/x-python",
   "name": "python",
   "nbconvert_exporter": "python",
   "pygments_lexer": "ipython3",
   "version": "3.8.13"
  },
  "toc": {
   "base_numbering": 1,
   "nav_menu": {},
   "number_sections": true,
   "sideBar": true,
   "skip_h1_title": false,
   "title_cell": "Table of Contents",
   "title_sidebar": "Contents",
   "toc_cell": false,
   "toc_position": {},
   "toc_section_display": true,
   "toc_window_display": false
  },
  "varInspector": {
   "cols": {
    "lenName": 16,
    "lenType": 16,
    "lenVar": 40
   },
   "kernels_config": {
    "python": {
     "delete_cmd_postfix": "",
     "delete_cmd_prefix": "del ",
     "library": "var_list.py",
     "varRefreshCmd": "print(var_dic_list())"
    },
    "r": {
     "delete_cmd_postfix": ") ",
     "delete_cmd_prefix": "rm(",
     "library": "var_list.r",
     "varRefreshCmd": "cat(var_dic_list()) "
    }
   },
   "types_to_exclude": [
    "module",
    "function",
    "builtin_function_or_method",
    "instance",
    "_Feature"
   ],
   "window_display": false
  }
 },
 "nbformat": 4,
 "nbformat_minor": 5
}
