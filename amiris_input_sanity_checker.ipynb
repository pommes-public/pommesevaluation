{
 "cells": [
  {
   "cell_type": "markdown",
   "id": "d7ee448b",
   "metadata": {},
   "source": [
    "# Sanity checker for inputs to AMIRIS\n",
    "Notebook to inspect and check pommesinvest inputs as well as results that have been converted for usage in AMIRIS"
   ]
  },
  {
   "cell_type": "markdown",
   "id": "50bb9720",
   "metadata": {},
   "source": [
    "## Package imports"
   ]
  },
  {
   "cell_type": "code",
   "execution_count": null,
   "id": "df54e8c4",
   "metadata": {},
   "outputs": [],
   "source": [
    "import pandas as pd\n",
    "from pommesevaluation.amiris_input_sanity_check import (\n",
    "    check_time_series, get_all_csv_files_in_folder_except\n",
    ")"
   ]
  },
  {
   "cell_type": "markdown",
   "id": "32172b44",
   "metadata": {},
   "source": [
    "## Workflow settings\n",
    "Store all input files into a dict to iterate over"
   ]
  },
  {
   "cell_type": "code",
   "execution_count": null,
   "id": "cd091f3e",
   "metadata": {},
   "outputs": [],
   "source": [
    "path_folder = \"./data_out/amiris/\"\n",
    "scenario_subfolders = [\"none/\", \"5/\", \"50/\", \"95/\", \"all_scenarios/\"]\n",
    "\n",
    "files = {}\n",
    "for scenario in scenario_subfolders:\n",
    "    files[scenario] = [\n",
    "        file for file in\n",
    "        get_all_csv_files_in_folder_except(\n",
    "            f\"{path_folder}{scenario}\", \n",
    "            exception=[\n",
    "                \"fixed_costs.csv\", \n",
    "                \"ind_cluster_shift_only_country.csv\",\n",
    "                \"ind_cluster_shift_only_from.csv\",\n",
    "            ]\n",
    "        )\n",
    "        if not file.endswith(\"_2020.csv\")\n",
    "    ]"
   ]
  },
  {
   "cell_type": "markdown",
   "id": "831ee47c",
   "metadata": {},
   "source": [
    "## Actual sanity checking\n",
    "* Plot time series\n",
    "* Display statistics of data sets using describe method\n",
    "\n",
    "Optically inspect for potential data bugs."
   ]
  },
  {
   "cell_type": "code",
   "execution_count": null,
   "id": "23027146",
   "metadata": {},
   "outputs": [],
   "source": [
    "scen = \"none/\"\n",
    "\n",
    "for file in files[scen]:\n",
    "    stats = check_time_series(path_folder=f\"{path_folder}{scen}\", file_name=file)\n",
    "    display(stats)"
   ]
  },
  {
   "cell_type": "code",
   "execution_count": null,
   "id": "b802e7d3",
   "metadata": {},
   "outputs": [],
   "source": [
    "scen = \"5/\"\n",
    "\n",
    "for file in files[scen]:\n",
    "    stats = check_time_series(path_folder=f\"{path_folder}{scen}\", file_name=file)\n",
    "    display(stats)"
   ]
  },
  {
   "cell_type": "code",
   "execution_count": null,
   "id": "8ad0e80e",
   "metadata": {},
   "outputs": [],
   "source": [
    "scen = \"50/\"\n",
    "\n",
    "for file in files[scen]:\n",
    "    stats = check_time_series(path_folder=f\"{path_folder}{scen}\", file_name=file)\n",
    "    display(stats)"
   ]
  },
  {
   "cell_type": "code",
   "execution_count": null,
   "id": "08f07d30",
   "metadata": {},
   "outputs": [],
   "source": [
    "scen = \"95/\"\n",
    "\n",
    "for file in files[scen]:\n",
    "    stats = check_time_series(path_folder=f\"{path_folder}{scen}\", file_name=file)\n",
    "    display(stats)"
   ]
  },
  {
   "cell_type": "code",
   "execution_count": null,
   "id": "231181e3",
   "metadata": {},
   "outputs": [],
   "source": [
    "scen = \"all_scenarios/\"\n",
    "\n",
    "for file in files[scen]:\n",
    "    stats = check_time_series(path_folder=f\"{path_folder}{scen}\", file_name=file)\n",
    "    display(stats)"
   ]
  },
  {
   "cell_type": "code",
   "execution_count": null,
   "id": "75592ec8",
   "metadata": {},
   "outputs": [],
   "source": []
  }
 ],
 "metadata": {
  "kernelspec": {
   "display_name": "Python 3 (ipykernel)",
   "language": "python",
   "name": "python3"
  },
  "language_info": {
   "codemirror_mode": {
    "name": "ipython",
    "version": 3
   },
   "file_extension": ".py",
   "mimetype": "text/x-python",
   "name": "python",
   "nbconvert_exporter": "python",
   "pygments_lexer": "ipython3",
   "version": "3.8.13"
  },
  "toc": {
   "base_numbering": 1,
   "nav_menu": {},
   "number_sections": true,
   "sideBar": true,
   "skip_h1_title": false,
   "title_cell": "Table of Contents",
   "title_sidebar": "Contents",
   "toc_cell": false,
   "toc_position": {},
   "toc_section_display": true,
   "toc_window_display": false
  },
  "varInspector": {
   "cols": {
    "lenName": 16,
    "lenType": 16,
    "lenVar": 40
   },
   "kernels_config": {
    "python": {
     "delete_cmd_postfix": "",
     "delete_cmd_prefix": "del ",
     "library": "var_list.py",
     "varRefreshCmd": "print(var_dic_list())"
    },
    "r": {
     "delete_cmd_postfix": ") ",
     "delete_cmd_prefix": "rm(",
     "library": "var_list.r",
     "varRefreshCmd": "cat(var_dic_list()) "
    }
   },
   "types_to_exclude": [
    "module",
    "function",
    "builtin_function_or_method",
    "instance",
    "_Feature"
   ],
   "window_display": false
  }
 },
 "nbformat": 4,
 "nbformat_minor": 5
}
