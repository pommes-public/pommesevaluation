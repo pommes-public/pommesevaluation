{
 "cells": [
  {
   "cell_type": "markdown",
   "id": "ffc6d1ae",
   "metadata": {},
   "source": [
    "# Results inspection for EV dispatch\n",
    "Inspect and visualize patterns from EV dispatch optimization"
   ]
  },
  {
   "cell_type": "markdown",
   "id": "827c7f22",
   "metadata": {},
   "source": [
    "## Package imports"
   ]
  },
  {
   "cell_type": "code",
   "execution_count": null,
   "id": "93544188",
   "metadata": {},
   "outputs": [],
   "source": [
    "import pandas as pd\n",
    "from pommesevaluation.electric_vehicles_dispatch import draw_weekly_plot"
   ]
  },
  {
   "cell_type": "markdown",
   "id": "b8808934",
   "metadata": {},
   "source": [
    "## Notebook and workflow settings"
   ]
  },
  {
   "cell_type": "code",
   "execution_count": null,
   "id": "f8515efe",
   "metadata": {},
   "outputs": [],
   "source": [
    "# Simulation settings\n",
    "time_frame_in_years = 26\n",
    "freq = \"1H\"\n",
    "multiplier = {\n",
    "    \"1H\": 1,\n",
    "    \"4H\": 4,\n",
    "    \"8H\": 8,\n",
    "}\n",
    "fuel_cost_pathway = \"NZE\"\n",
    "emissions_cost_pathway = \"long-term\"\n",
    "impose_investment_maxima = False\n",
    "dr_scenario = \"50\"\n",
    "\n",
    "# Paths to data needed to be converted\n",
    "path_model_inputs = \"./model_inputs/pommesinvest/\"\n",
    "path_model_results = \"./model_results/pommesinvest/\"\n",
    "\n",
    "# Map corresponding flex options scenario (values) to dr scenarios (keys)\n",
    "dr_scenarios = {\n",
    "    \"none\": \"50\",\n",
    "    \"5\": \"5\", \n",
    "    \"50\": \"50\",\n",
    "    \"95\": \"95\"\n",
    "}\n",
    "\n",
    "if impose_investment_maxima:\n",
    "    annual_investment_limits = \"\"\n",
    "else:\n",
    "    annual_investment_limits = \"_no_annual_limit\"\n",
    "file_names_dispatch_results = {\n",
    "    scen: (\n",
    "        f\"investment_LP_start-2020-01-01_{time_frame_in_years}\"\n",
    "        f\"-years_simple_freq_{freq}_with_dr_{scen}_\"\n",
    "        f\"fuel_price-{fuel_cost_pathway}_\"\n",
    "        f\"co2_price-{emissions_cost_pathway}{annual_investment_limits}_production.csv\"\n",
    "    ) for scen in dr_scenarios\n",
    "}\n",
    "file_names_dispatch_results[\"none\"] = (\n",
    "    f\"investment_LP_start-2020-01-01_{time_frame_in_years}\"\n",
    "    f\"-years_simple_freq_{freq}_no_dr_50_\"\n",
    "    f\"fuel_price-{fuel_cost_pathway}_\"\n",
    "    f\"co2_price-{emissions_cost_pathway}{annual_investment_limits}_production.csv\"\n",
    ")\n",
    "dispatch_multi_index = False\n",
    "\n",
    "file_name_electric_vehicles = f\"components_electric_vehicles_{dr_scenario}.csv\"\n",
    "file_name_electric_vehicles_ts = f\"electric_vehicles_ts_{dr_scenario}.csv\""
   ]
  },
  {
   "cell_type": "markdown",
   "id": "0e15dc32",
   "metadata": {},
   "source": [
    "## Read in and filter electric vehicles dispatch results"
   ]
  },
  {
   "cell_type": "code",
   "execution_count": null,
   "id": "98013754",
   "metadata": {},
   "outputs": [],
   "source": [
    "if dispatch_multi_index:\n",
    "    header = [0, 1]\n",
    "else:\n",
    "    header = 0\n",
    "\n",
    "dispatch_results = pd.read_csv(\n",
    "    f\"{path_model_results}{file_names_dispatch_results[dr_scenario]}\", index_col=0, header=header\n",
    ")\n",
    "ev_dispatch = dispatch_results[[\n",
    "    col for col in dispatch_results.columns if \"ev_\" in col or \"_ev\" in col\n",
    "]]"
   ]
  },
  {
   "cell_type": "markdown",
   "id": "fff7e2e8",
   "metadata": {},
   "source": [
    "## Calculate and visualize dispatch\n",
    "* Derive net flow for controlled charging (negative values: feed-in into the grid)\n",
    "* Derive net storage operation (negative values: discharging)\n",
    "* Visualize weekly dispatch patterns for 2020"
   ]
  },
  {
   "cell_type": "code",
   "execution_count": null,
   "id": "e85a7064",
   "metadata": {},
   "outputs": [],
   "source": [
    "# Extract electricity consumptions\n",
    "ev_dispatch[\"cc_bidirectional_net_flow\"] = ev_dispatch[\n",
    "    \"(('DE_bus_el', 'storage_ev_cc_bidirectional'), 'flow')\"\n",
    "] - ev_dispatch[\n",
    "    \"(('transformer_ev_cc_bidirectional_feedback', 'DE_bus_el'), 'flow')\"\n",
    "]\n",
    "ev_dispatch[\"cc_unidirectional_net_flow\"] = ev_dispatch[\n",
    "    \"(('DE_bus_el', 'storage_ev_cc_unidirectional'), 'flow')\"\n",
    "]\n",
    "\n",
    "# Extract net storage operations\n",
    "ev_dispatch[\"net_storage_cc_bidirectional\"] = ev_dispatch[\n",
    "    \"(('DE_bus_el', 'storage_ev_cc_bidirectional'), 'flow')\"\n",
    "] - ev_dispatch[\n",
    "    \"(('storage_ev_cc_bidirectional', 'DE_bus_ev_cc_bidirectional'), 'flow')\"\n",
    "]\n",
    "ev_dispatch[\"net_storage_cc_unidirectional\"] = ev_dispatch[\n",
    "    \"(('DE_bus_el', 'storage_ev_cc_unidirectional'), 'flow')\"\n",
    "] - ev_dispatch[\n",
    "    \"(('storage_ev_cc_unidirectional', 'DE_bus_ev_cc_unidirectional'), 'flow')\"\n",
    "]\n",
    "\n",
    "# Extract demand for driving\n",
    "ev_dispatch[\"bidirectional_driving_demand\"] = ev_dispatch[\n",
    "    \"(('DE_bus_ev_cc_bidirectional', 'sink_ev_driving_cc_bidirectional'), 'flow')\"\n",
    "]\n",
    "ev_dispatch[\"unidirectional_driving_demand\"] = ev_dispatch[\n",
    "    \"(('DE_bus_ev_cc_bidirectional', 'sink_ev_driving_cc_bidirectional'), 'flow')\"\n",
    "]\n",
    "\n",
    "# Extract EV storage level patterns\n",
    "ev_dispatch[\"storage_cc_bidirectional_cumsum\"] = ev_dispatch[\"net_storage_cc_bidirectional\"].cumsum()\n",
    "ev_storage_initial = -ev_dispatch[\"storage_cc_bidirectional_cumsum\"].min()\n",
    "ev_dispatch[\"storage_cc_bidirectional_cumsum\"] += ev_storage_initial\n",
    "ev_capacity_bidirectional = (\n",
    "    ev_dispatch[\"storage_cc_bidirectional_cumsum\"].max() - ev_dispatch[\"storage_cc_bidirectional_cumsum\"].min()\n",
    ")\n",
    "\n",
    "ev_dispatch[\"storage_cc_unidirectional_cumsum\"] = ev_dispatch[\"net_storage_cc_unidirectional\"].cumsum()\n",
    "ev_storage_initial = -ev_dispatch[\"storage_cc_bidirectional_cumsum\"].min()\n",
    "ev_dispatch[\"storage_cc_bidirectional_cumsum\"] += ev_storage_initial\n",
    "ev_capacity_unidirectional = (\n",
    "    ev_dispatch[\"storage_cc_bidirectional_cumsum\"].max() - ev_dispatch[\"storage_cc_bidirectional_cumsum\"].min()\n",
    ")"
   ]
  },
  {
   "cell_type": "code",
   "execution_count": null,
   "id": "0ef939c7",
   "metadata": {},
   "outputs": [],
   "source": [
    "ev_dispatch.max()"
   ]
  },
  {
   "cell_type": "code",
   "execution_count": null,
   "id": "e1a38673",
   "metadata": {},
   "outputs": [],
   "source": [
    "draw_weekly_plot(\n",
    "    ev_dispatch[[\n",
    "        \"cc_bidirectional_net_flow\", \n",
    "        \"bidirectional_driving_demand\",\n",
    "        \"cc_unidirectional_net_flow\", \n",
    "        \"unidirectional_driving_demand\"\n",
    "    ]], 2020,\n",
    "    file_name=\"ev_electricity_consumption\"\n",
    ")"
   ]
  },
  {
   "cell_type": "code",
   "execution_count": null,
   "id": "a4643b1a",
   "metadata": {},
   "outputs": [],
   "source": [
    "draw_weekly_plot(\n",
    "    ev_dispatch[[\n",
    "        \"net_storage_cc_bidirectional\", \n",
    "        \"net_storage_cc_unidirectional\",\n",
    "    ]], 2020,\n",
    "    file_name=\"ev_storage_operation\"\n",
    ")"
   ]
  },
  {
   "cell_type": "markdown",
   "id": "4ccdc9c3",
   "metadata": {},
   "source": [
    "## Read in parameterization and derive parameter data from it"
   ]
  },
  {
   "cell_type": "code",
   "execution_count": null,
   "id": "855d1232",
   "metadata": {},
   "outputs": [],
   "source": [
    "electric_vehicles = pd.read_csv(\n",
    "    f\"{path_model_inputs}{file_name_electric_vehicles}\", index_col=0\n",
    ")\n",
    "electric_vehicles_ts = pd.read_csv(\n",
    "    f\"{path_model_inputs}{file_name_electric_vehicles_ts}\", index_col=0\n",
    ")\n",
    "\n",
    "# Calculate usable storage capacity from lower and upper bounds (max - min)\n",
    "usable_storage_capacity = (electric_vehicles.at[\"storage_ev_cc_bidirectional\", \"nominal_value\"] * (\n",
    "    electric_vehicles_ts.loc[electric_vehicles_ts.index.str[:4] == \"2020\"].max().loc[\"soc_upper_cc_bidirectional\"]\n",
    ") - electric_vehicles.at[\"storage_ev_cc_bidirectional\", \"nominal_value\"] * (\n",
    "    electric_vehicles_ts.loc[electric_vehicles_ts.index.str[:4] == \"2020\"].min().loc[\"soc_lower_cc_bidirectional\"]\n",
    "))"
   ]
  },
  {
   "cell_type": "code",
   "execution_count": null,
   "id": "a2d846f4",
   "metadata": {},
   "outputs": [],
   "source": []
  }
 ],
 "metadata": {
  "kernelspec": {
   "display_name": "Python 3 (ipykernel)",
   "language": "python",
   "name": "python3"
  },
  "language_info": {
   "codemirror_mode": {
    "name": "ipython",
    "version": 3
   },
   "file_extension": ".py",
   "mimetype": "text/x-python",
   "name": "python",
   "nbconvert_exporter": "python",
   "pygments_lexer": "ipython3",
   "version": "3.8.13"
  },
  "toc": {
   "base_numbering": 1,
   "nav_menu": {},
   "number_sections": true,
   "sideBar": true,
   "skip_h1_title": false,
   "title_cell": "Table of Contents",
   "title_sidebar": "Contents",
   "toc_cell": false,
   "toc_position": {},
   "toc_section_display": true,
   "toc_window_display": true
  },
  "varInspector": {
   "cols": {
    "lenName": 16,
    "lenType": 16,
    "lenVar": 40
   },
   "kernels_config": {
    "python": {
     "delete_cmd_postfix": "",
     "delete_cmd_prefix": "del ",
     "library": "var_list.py",
     "varRefreshCmd": "print(var_dic_list())"
    },
    "r": {
     "delete_cmd_postfix": ") ",
     "delete_cmd_prefix": "rm(",
     "library": "var_list.r",
     "varRefreshCmd": "cat(var_dic_list()) "
    }
   },
   "types_to_exclude": [
    "module",
    "function",
    "builtin_function_or_method",
    "instance",
    "_Feature"
   ],
   "window_display": false
  }
 },
 "nbformat": 4,
 "nbformat_minor": 5
}
