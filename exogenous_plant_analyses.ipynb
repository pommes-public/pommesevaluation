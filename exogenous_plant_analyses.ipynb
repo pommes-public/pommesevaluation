{
 "cells": [
  {
   "cell_type": "markdown",
   "id": "7cb1a688",
   "metadata": {},
   "source": [
    "# Analysis of exogenous plant status\n",
    "Routines to evaluate the status of exogenously given power plants and storage units"
   ]
  },
  {
   "cell_type": "markdown",
   "id": "3b2fe451",
   "metadata": {},
   "source": [
    "## Package imports"
   ]
  },
  {
   "cell_type": "code",
   "execution_count": null,
   "id": "8ef86969",
   "metadata": {},
   "outputs": [],
   "source": [
    "import pandas as pd\n",
    "import matplotlib.pyplot as plt"
   ]
  },
  {
   "cell_type": "markdown",
   "id": "bcea6004",
   "metadata": {},
   "source": [
    "## Read in data\n",
    "Read in the following data sets:\n",
    "* maximum installed capacities for exogenously given power plants\n",
    "* maximum power output for exogenously given plants per year &rarr; indicates installed power for that particular year\n",
    "* capacities for exogenously given storage units"
   ]
  },
  {
   "cell_type": "code",
   "execution_count": null,
   "id": "844582e2",
   "metadata": {},
   "outputs": [],
   "source": [
    "path_folder = \"./model_inputs/\"\n",
    "file_name_transformers = \"transformers_exogenous.csv\"\n",
    "file_name_transformers_max = \"transformers_exogenous_max_ts.csv\"\n",
    "file_name_storages = \"storages_el_exogenous.csv\"\n",
    "\n",
    "FUELS = {\n",
    "    \"biomass\": \"#15b01a\",\n",
    "    \"uranium\": \"#e50000\",\n",
    "    \"lignite\": \"#7f2b0a\",\n",
    "    \"hardcoal\": \"#000000\",\n",
    "    \"natgas\": \"#ffd966\",\n",
    "    \"hydrogen\": \"#6fa8dc\",\n",
    "    \"mixedfuels\": \"#a57e52\",\n",
    "    \"otherfossil\": \"#d8dcd6\",\n",
    "    \"waste\": \"#c04e01\",\n",
    "    \"oil\": \"#aaa662\",\n",
    "}\n",
    "\n",
    "STORAGES = {\n",
    "    \"DE_storage_el_PHS\": \"#0c2aac\",\n",
    "}"
   ]
  },
  {
   "cell_type": "markdown",
   "id": "727a9ae8",
   "metadata": {},
   "source": [
    "## Rearrange and plot data for transformers\n",
    "* Combine time series and maximum installed capacities to obtain capacities per year\n",
    "* Groupby fuel and year\n",
    "* Draw and show plot"
   ]
  },
  {
   "cell_type": "code",
   "execution_count": null,
   "id": "8bad4618",
   "metadata": {},
   "outputs": [],
   "source": [
    "transformers_capacities = pd.read_csv(f\"{path_folder}{file_name_transformers}\", index_col=0)[\"capacity\"]\n",
    "transformers_max_ts = pd.read_csv(f\"{path_folder}{file_name_transformers_max}\", index_col=0)\n",
    "\n",
    "# Combine information to derive installed capacities by year\n",
    "transformers_capacity_ts = transformers_max_ts.mul(transformers_capacities)\n",
    "\n",
    "# Do some reformatting\n",
    "transformers_capacity_ts.index = transformers_capacity_ts.index.str[:4]\n",
    "transformers_capacity_ts_transposed = transformers_capacity_ts.T\n",
    "transformers_capacity_ts_transposed.index = transformers_capacity_ts_transposed.index.str.split(\"_\", expand=True)\n",
    "transformers_capacity_ts_transposed.index.names = [\"component_name\", \"fuel\", \"type\", \"cluster\", \"cluster_no\"]\n",
    "transformers_capacity_ts_transposed.reset_index(inplace=True)\n",
    "\n",
    "# groupby fuel\n",
    "capacity_by_fuel_year =  transformers_capacity_ts_transposed.groupby(\"fuel\").sum().T"
   ]
  },
  {
   "cell_type": "code",
   "execution_count": null,
   "id": "d7e7e629",
   "metadata": {},
   "outputs": [],
   "source": [
    "fig, ax = plt.subplots(figsize=(12, 5))\n",
    "capacity_by_fuel_year = capacity_by_fuel_year[[col for col in FUELS.keys()]]\n",
    "_ = capacity_by_fuel_year.plot(kind=\"bar\", stacked=True, ax=ax, color=FUELS)\n",
    "_ = plt.xlabel(\"year\")\n",
    "_ = plt.ylabel(\"installed capacity\")\n",
    "_ = plt.legend(bbox_to_anchor=[1.02, 1.02])\n",
    "plt.show()"
   ]
  },
  {
   "cell_type": "markdown",
   "id": "c639b51c",
   "metadata": {},
   "source": [
    "## Rearrange and plot data for storages\n",
    "* Read in data\n",
    "* Reshape and repeat since installed values are kept constant"
   ]
  },
  {
   "cell_type": "code",
   "execution_count": null,
   "id": "86490dca",
   "metadata": {},
   "outputs": [],
   "source": [
    "storages = pd.read_csv(f\"{path_folder}{file_name_storages}\", index_col=0)\n",
    "storages = storages.loc[\n",
    "    storages[\"country\"] == \"DE\", \n",
    "    [\"capacity_pump\", \"capacity_turbine\", \"nominal_storable_energy\"]\n",
    "]\n",
    "storages.rename(\n",
    "    columns={\"capacity_pump\": \"inflow_power\", \"capacity_turbine\": \"outflow_power\"},\n",
    "    inplace=True\n",
    ")"
   ]
  },
  {
   "cell_type": "code",
   "execution_count": null,
   "id": "b1078a67",
   "metadata": {},
   "outputs": [],
   "source": [
    "storages = pd.DataFrame(\n",
    "    index=range(2020, 2051), \n",
    "    columns=storages[\"inflow_power\"].index, \n",
    "    data={\n",
    "        storages[\"inflow_power\"].index[0]: storages[\"inflow_power\"].values[0],\n",
    "    }\n",
    ")"
   ]
  },
  {
   "cell_type": "code",
   "execution_count": null,
   "id": "8032f733",
   "metadata": {},
   "outputs": [],
   "source": [
    "fig, ax = plt.subplots(figsize=(12, 5))\n",
    "storages = storages[[col for col in STORAGES.keys()]]\n",
    "_ = storages.plot(kind=\"bar\", stacked=True, ax=ax, color=STORAGES)\n",
    "_ = plt.xlabel(\"year\")\n",
    "_ = plt.ylabel(\"installed capacity\")\n",
    "_ = plt.legend(bbox_to_anchor=[1.02, 1.02])\n",
    "plt.show()"
   ]
  },
  {
   "cell_type": "code",
   "execution_count": null,
   "id": "536fbc1e",
   "metadata": {},
   "outputs": [],
   "source": []
  }
 ],
 "metadata": {
  "kernelspec": {
   "display_name": "Python 3 (ipykernel)",
   "language": "python",
   "name": "python3"
  },
  "language_info": {
   "codemirror_mode": {
    "name": "ipython",
    "version": 3
   },
   "file_extension": ".py",
   "mimetype": "text/x-python",
   "name": "python",
   "nbconvert_exporter": "python",
   "pygments_lexer": "ipython3",
   "version": "3.8.13"
  },
  "toc": {
   "base_numbering": 1,
   "nav_menu": {},
   "number_sections": true,
   "sideBar": true,
   "skip_h1_title": false,
   "title_cell": "Table of Contents",
   "title_sidebar": "Contents",
   "toc_cell": false,
   "toc_position": {},
   "toc_section_display": true,
   "toc_window_display": false
  },
  "varInspector": {
   "cols": {
    "lenName": 16,
    "lenType": 16,
    "lenVar": 40
   },
   "kernels_config": {
    "python": {
     "delete_cmd_postfix": "",
     "delete_cmd_prefix": "del ",
     "library": "var_list.py",
     "varRefreshCmd": "print(var_dic_list())"
    },
    "r": {
     "delete_cmd_postfix": ") ",
     "delete_cmd_prefix": "rm(",
     "library": "var_list.r",
     "varRefreshCmd": "cat(var_dic_list()) "
    }
   },
   "types_to_exclude": [
    "module",
    "function",
    "builtin_function_or_method",
    "instance",
    "_Feature"
   ],
   "window_display": false
  }
 },
 "nbformat": 4,
 "nbformat_minor": 5
}
