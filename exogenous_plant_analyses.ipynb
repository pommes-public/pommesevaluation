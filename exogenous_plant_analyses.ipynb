{
 "cells": [
  {
   "cell_type": "markdown",
   "id": "7cb1a688",
   "metadata": {},
   "source": [
    "# Analysis of exogenous plant status\n",
    "Routines to evaluate the status of exogenously given power plants and storage units"
   ]
  },
  {
   "cell_type": "markdown",
   "id": "3b2fe451",
   "metadata": {},
   "source": [
    "## Package imports"
   ]
  },
  {
   "cell_type": "code",
   "execution_count": null,
   "id": "8ef86969",
   "metadata": {},
   "outputs": [],
   "source": [
    "import pandas as pd\n",
    "import matplotlib.pyplot as plt"
   ]
  },
  {
   "cell_type": "markdown",
   "id": "bcea6004",
   "metadata": {},
   "source": [
    "## Define data sets and global variables\n",
    "Use the following data sets:\n",
    "* maximum installed capacities for exogenously given power plants\n",
    "* maximum power output for exogenously given plants per year &rarr; indicates installed power for that particular year\n",
    "* capacities for exogenously given storage units\n",
    "* maximum installed capacities for RES units\n",
    "* RES generation time series\n",
    "\n",
    "Output files comprise\n",
    "* installed capacity for backup generation\n",
    "* installed storage capacity\n",
    "* installed VRES capacities\n",
    "* annual VRES generation"
   ]
  },
  {
   "cell_type": "code",
   "execution_count": null,
   "id": "844582e2",
   "metadata": {},
   "outputs": [],
   "source": [
    "# inputs and outputs\n",
    "path_folder = \"./model_inputs/pommesinvest/\"\n",
    "file_name_transformers = \"transformers_exogenous.csv\"\n",
    "file_name_transformers_max = \"transformers_exogenous_max_ts.csv\"\n",
    "file_name_storages = \"storages_el_exogenous.csv\"\n",
    "file_name_res_capacities = \"sources_renewables_investment_model.csv\"\n",
    "file_name_res_generation = \"sources_renewables_ts_hourly.csv\"\n",
    "\n",
    "path_data_out = \"./data_out/\"\n",
    "path_plots = \"./plots/\"\n",
    "output_file_names = {\n",
    "    \"backup\": \"installed_capacity_backup_generation\",\n",
    "    \"storages\": \"installed_storage_capacity\",\n",
    "    \"res_capacities\": \"installed_capacity_res\",\n",
    "    \"res_generation\": \"annual_generation_res\"\n",
    "}\n",
    "\n",
    "# Plotting and renaming\n",
    "FUELS = {\n",
    "    \"biomass\": \"#15b01a\",\n",
    "    \"uranium\": \"#e50000\",\n",
    "    \"lignite\": \"#7f2b0a\",\n",
    "    \"hardcoal\": \"#000000\",\n",
    "    \"natgas\": \"#ffd966\",\n",
    "    \"hydrogen\": \"#6fa8dc\",\n",
    "    \"mixedfuels\": \"#a57e52\",\n",
    "    \"otherfossil\": \"#d8dcd6\",\n",
    "    \"waste\": \"#c04e01\",\n",
    "    \"oil\": \"#aaa662\",\n",
    "}\n",
    "\n",
    "STORAGES = {\n",
    "    \"DE_storage_el_PHS\": \"#0c2aac\",\n",
    "}\n",
    "\n",
    "RES_NAMES = {\n",
    "    \"DE_source_solarPV\":  \"solar PV\",\n",
    "    \"DE_source_windoffshore\": \"wind offshore\",\n",
    "    \"DE_source_windonshore\": \"wind onshore\",\n",
    "    \"DE_source_biomassEEG\": \"biomass\",\n",
    "    \"DE_source_ROR\": \"run of river\",\n",
    "    \"DE_source_landfillgas\": \"landfillgas\",\n",
    "    \"DE_source_geothermal\": \"geothermal\",\n",
    "    \"DE_source_minegas\": \"minegas\", \n",
    "    \"DE_source_larga\": \"sewage gas\",\n",
    "}\n",
    "\n",
    "RES_COLORS = {\n",
    "    \"solar PV\": \"#fcb001\",\n",
    "    \"wind onshore\": \"#82cafc\",\n",
    "    \"wind offshore\": \"#0504aa\",\n",
    "    \"biomass\": \"#15b01a\",\n",
    "    \"run of river\": \"#c79fef\",\n",
    "    \"other RES\": \"#757575\",\n",
    "    # \"landfillgas\": \"#06c2ac\",\n",
    "    # \"geothermal\": \"#ff474c\",\n",
    "    # \"minegas\": \"#650021\",\n",
    "    # \"sewage gas\": \"#ad8150\", \n",
    "}\n",
    "\n",
    "plt.rcParams.update({'font.size': 14})"
   ]
  },
  {
   "cell_type": "markdown",
   "id": "727a9ae8",
   "metadata": {},
   "source": [
    "## Rearrange and plot data for transformers\n",
    "* Combine time series and maximum installed capacities to obtain capacities per year\n",
    "* Groupby fuel and year\n",
    "* Draw and show plot"
   ]
  },
  {
   "cell_type": "code",
   "execution_count": null,
   "id": "8bad4618",
   "metadata": {},
   "outputs": [],
   "source": [
    "transformers_capacities = pd.read_csv(f\"{path_folder}{file_name_transformers}\", index_col=0)[\"capacity\"]\n",
    "transformers_max_ts = pd.read_csv(f\"{path_folder}{file_name_transformers_max}\", index_col=0)\n",
    "\n",
    "# Combine information to derive installed capacities by year\n",
    "transformers_capacity_ts = transformers_max_ts.mul(transformers_capacities)\n",
    "\n",
    "# Do some reformatting\n",
    "transformers_capacity_ts.index = transformers_capacity_ts.index.str[:4]\n",
    "transformers_capacity_ts_transposed = transformers_capacity_ts.T\n",
    "transformers_capacity_ts_transposed.index = transformers_capacity_ts_transposed.index.str.split(\"_\", expand=True)\n",
    "transformers_capacity_ts_transposed.index.names = [\n",
    "    \"country\", \"component_name\", \"fuel\", \"type\", \"cluster\", \"cluster_no\"\n",
    "]\n",
    "transformers_capacity_ts_transposed.reset_index(inplace=True)\n",
    "transformers_capacity_ts_transposed = transformers_capacity_ts_transposed.loc[\n",
    "    transformers_capacity_ts_transposed[\"country\"] == \"DE\"\n",
    "]\n",
    "\n",
    "# groupby fuel\n",
    "capacity_by_fuel_year =  transformers_capacity_ts_transposed.groupby(\"fuel\").sum().T"
   ]
  },
  {
   "cell_type": "code",
   "execution_count": null,
   "id": "d7e7e629",
   "metadata": {},
   "outputs": [],
   "source": [
    "fig, ax = plt.subplots(figsize=(12, 5))\n",
    "capacity_by_fuel_year = capacity_by_fuel_year[[col for col in FUELS.keys()]]\n",
    "capacity_by_fuel_year.to_csv(f\"{path_data_out}{output_file_names['backup']}.csv\")\n",
    "_ = capacity_by_fuel_year.plot(kind=\"bar\", stacked=True, ax=ax, color=FUELS)\n",
    "_ = plt.xlabel(\"year\")\n",
    "_ = plt.ylabel(\"installed capacity in MW\")\n",
    "_ = plt.legend(bbox_to_anchor=[1.02, 1.02])\n",
    "current_values = plt.gca().get_yticks()\n",
    "_ = plt.gca().set_yticklabels(['{:,.0f}'.format(x) for x in current_values])\n",
    "plt.tight_layout()\n",
    "plt.savefig(f\"{path_plots}{output_file_names['backup']}.png\", dpi=300)\n",
    "plt.show()\n",
    "plt.close()"
   ]
  },
  {
   "cell_type": "markdown",
   "id": "c639b51c",
   "metadata": {},
   "source": [
    "## Rearrange and plot data for storages\n",
    "* Read in data\n",
    "* Reshape and repeat since installed values are kept constant"
   ]
  },
  {
   "cell_type": "code",
   "execution_count": null,
   "id": "86490dca",
   "metadata": {},
   "outputs": [],
   "source": [
    "storages = pd.read_csv(f\"{path_folder}{file_name_storages}\", index_col=0)\n",
    "storages = storages.loc[\n",
    "    storages[\"country\"] == \"DE\", \n",
    "    [\"capacity_pump\", \"capacity_turbine\", \"nominal_storable_energy\"]\n",
    "]\n",
    "storages.rename(\n",
    "    columns={\"capacity_pump\": \"inflow_power\", \"capacity_turbine\": \"outflow_power\"},\n",
    "    inplace=True\n",
    ")"
   ]
  },
  {
   "cell_type": "code",
   "execution_count": null,
   "id": "b1078a67",
   "metadata": {},
   "outputs": [],
   "source": [
    "storages = pd.DataFrame(\n",
    "    index=range(2020, 2051), \n",
    "    columns=storages[\"inflow_power\"].index, \n",
    "    data={\n",
    "        storages[\"inflow_power\"].index[0]: storages[\"inflow_power\"].values[0],\n",
    "    }\n",
    ")"
   ]
  },
  {
   "cell_type": "code",
   "execution_count": null,
   "id": "8032f733",
   "metadata": {},
   "outputs": [],
   "source": [
    "fig, ax = plt.subplots(figsize=(12, 5))\n",
    "storages = storages[[col for col in STORAGES.keys()]]\n",
    "storages.to_csv(f\"{path_data_out}{output_file_names['storages']}.csv\")\n",
    "_ = storages.plot(kind=\"bar\", stacked=True, ax=ax, color=STORAGES)\n",
    "_ = plt.xlabel(\"year\")\n",
    "_ = plt.ylabel(\"installed capacity in MW\")\n",
    "_ = plt.legend(bbox_to_anchor=[1.02, 1.02])\n",
    "current_values = plt.gca().get_yticks()\n",
    "_ = plt.gca().set_yticklabels(['{:,.0f}'.format(x) for x in current_values])\n",
    "plt.tight_layout()\n",
    "plt.savefig(f\"{path_plots}{output_file_names['storages']}.png\", dpi=300)\n",
    "plt.show()\n",
    "plt.close()"
   ]
  },
  {
   "cell_type": "markdown",
   "id": "c96145ae",
   "metadata": {},
   "source": [
    "## Rearrange and plot data for renewables\n",
    "* Read in installed capacities for 2020 and generation patterns\n",
    "* Groupby year, calculate and plot annual installed capacities\n",
    "* Groupby year, calculate and plot annual overall generation"
   ]
  },
  {
   "cell_type": "code",
   "execution_count": null,
   "id": "7b980b00",
   "metadata": {},
   "outputs": [],
   "source": [
    "res_capacities_2020 = pd.read_csv(f\"{path_folder}{file_name_res_capacities}\", index_col=0)\n",
    "res_generation = pd.read_csv(f\"{path_folder}{file_name_res_generation}\", index_col=0)\n",
    "res_capacities_2020 = res_capacities_2020[\"capacity\"]"
   ]
  },
  {
   "cell_type": "code",
   "execution_count": null,
   "id": "21824f70",
   "metadata": {},
   "outputs": [],
   "source": [
    "# Groupby year and use maximum and rescale 2020 to a maximum value of 1 to isolate installed capacities\n",
    "grouped_res = res_generation.groupby(res_generation.index.str[:4])\n",
    "grouped_res_max = grouped_res.max()\n",
    "grouped_res_max = grouped_res_max.div(grouped_res_max.loc[\"2020\"])\n",
    "installed_res_capacities = grouped_res_max.mul(res_capacities_2020).round(0)"
   ]
  },
  {
   "cell_type": "code",
   "execution_count": null,
   "id": "f7f3a986",
   "metadata": {},
   "outputs": [],
   "source": [
    "installed_res_capacities.rename(columns=RES_NAMES, inplace=True)\n",
    "installed_res_capacities[\"other RES\"] = (\n",
    "    installed_res_capacities[\"geothermal\"] \n",
    "    + installed_res_capacities[\"landfillgas\"]\n",
    "    + installed_res_capacities[\"minegas\"]\n",
    "    + installed_res_capacities[\"sewage gas\"]\n",
    ")"
   ]
  },
  {
   "cell_type": "code",
   "execution_count": null,
   "id": "6797fea8",
   "metadata": {},
   "outputs": [],
   "source": [
    "fig, ax = plt.subplots(figsize=(12, 5))\n",
    "installed_res_capacities = installed_res_capacities[[col for col in RES_COLORS]]\n",
    "installed_res_capacities.to_csv(f\"{path_data_out}{output_file_names['res_capacities']}.csv\")\n",
    "_ = installed_res_capacities.plot(kind=\"bar\", stacked=True, ax=ax, color=RES_COLORS)\n",
    "_ = plt.xlabel(\"year\")\n",
    "_ = plt.ylabel(\"installed capacity in MW\")\n",
    "_ = plt.legend(bbox_to_anchor=[1.02, 1.02])\n",
    "current_values = plt.gca().get_yticks()\n",
    "_ = plt.gca().set_yticklabels(['{:,.0f}'.format(x) for x in current_values])\n",
    "plt.tight_layout()\n",
    "plt.savefig(f\"{path_plots}{output_file_names['res_capacities']}.png\", dpi=300)\n",
    "plt.show()\n",
    "plt.close()"
   ]
  },
  {
   "cell_type": "code",
   "execution_count": null,
   "id": "fcaf3354",
   "metadata": {},
   "outputs": [],
   "source": [
    "# Use sum as aggregation rule for generation\n",
    "grouped_res_sum = grouped_res.sum()\n",
    "annual_res_generation_in_GWh = grouped_res_sum.mul(res_capacities_2020).round(0).div(1000)"
   ]
  },
  {
   "cell_type": "code",
   "execution_count": null,
   "id": "25268446",
   "metadata": {},
   "outputs": [],
   "source": [
    "annual_res_generation_in_GWh.rename(columns=RES_NAMES, inplace=True)\n",
    "annual_res_generation_in_GWh[\"other RES\"] = (\n",
    "    annual_res_generation_in_GWh[\"geothermal\"] \n",
    "    + annual_res_generation_in_GWh[\"landfillgas\"]\n",
    "    + annual_res_generation_in_GWh[\"minegas\"]\n",
    "    + annual_res_generation_in_GWh[\"sewage gas\"]\n",
    ")"
   ]
  },
  {
   "cell_type": "code",
   "execution_count": null,
   "id": "c87d8c7e",
   "metadata": {},
   "outputs": [],
   "source": [
    "fig, ax = plt.subplots(figsize=(12, 5))\n",
    "annual_res_generation_in_GWh = annual_res_generation_in_GWh[[col for col in RES_COLORS]]\n",
    "annual_res_generation_in_GWh.to_csv(f\"{path_data_out}{output_file_names['res_generation']}.csv\")\n",
    "_ = annual_res_generation_in_GWh.plot(kind=\"bar\", stacked=True, ax=ax, color=RES_COLORS)\n",
    "_ = plt.xlabel(\"year\")\n",
    "_ = plt.ylabel(\"annual electricity generation in MWh\")\n",
    "_ = plt.legend(bbox_to_anchor=[1.02, 1.02])\n",
    "current_values = plt.gca().get_yticks()\n",
    "_ = plt.gca().set_yticklabels(['{:,.0f}'.format(x) for x in current_values])\n",
    "plt.tight_layout()\n",
    "plt.savefig(f\"{path_plots}{output_file_names['res_generation']}.png\", dpi=300)\n",
    "plt.show()\n",
    "plt.close()"
   ]
  },
  {
   "cell_type": "code",
   "execution_count": null,
   "id": "bd1ea821",
   "metadata": {},
   "outputs": [],
   "source": []
  }
 ],
 "metadata": {
  "kernelspec": {
   "display_name": "Python 3 (ipykernel)",
   "language": "python",
   "name": "python3"
  },
  "language_info": {
   "codemirror_mode": {
    "name": "ipython",
    "version": 3
   },
   "file_extension": ".py",
   "mimetype": "text/x-python",
   "name": "python",
   "nbconvert_exporter": "python",
   "pygments_lexer": "ipython3",
   "version": "3.8.13"
  },
  "toc": {
   "base_numbering": 1,
   "nav_menu": {},
   "number_sections": true,
   "sideBar": true,
   "skip_h1_title": false,
   "title_cell": "Table of Contents",
   "title_sidebar": "Contents",
   "toc_cell": false,
   "toc_position": {},
   "toc_section_display": true,
   "toc_window_display": false
  },
  "varInspector": {
   "cols": {
    "lenName": 16,
    "lenType": 16,
    "lenVar": 40
   },
   "kernels_config": {
    "python": {
     "delete_cmd_postfix": "",
     "delete_cmd_prefix": "del ",
     "library": "var_list.py",
     "varRefreshCmd": "print(var_dic_list())"
    },
    "r": {
     "delete_cmd_postfix": ") ",
     "delete_cmd_prefix": "rm(",
     "library": "var_list.r",
     "varRefreshCmd": "cat(var_dic_list()) "
    }
   },
   "types_to_exclude": [
    "module",
    "function",
    "builtin_function_or_method",
    "instance",
    "_Feature"
   ],
   "window_display": false
  }
 },
 "nbformat": 4,
 "nbformat_minor": 5
}
