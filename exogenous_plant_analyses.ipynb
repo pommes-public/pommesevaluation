{
 "cells": [
  {
   "cell_type": "markdown",
   "id": "7cb1a688",
   "metadata": {},
   "source": [
    "# Analysis of exogenous plant status\n",
    "Routines to evaluate the status of exogenously given power plants and storage units"
   ]
  },
  {
   "cell_type": "markdown",
   "id": "3b2fe451",
   "metadata": {},
   "source": [
    "## Package imports"
   ]
  },
  {
   "cell_type": "code",
   "execution_count": null,
   "id": "8ef86969",
   "metadata": {},
   "outputs": [],
   "source": [
    "import pandas as pd\n",
    "import matplotlib.pyplot as plt\n",
    "\n",
    "from pommesevaluation.tools import update_matplotlib_params\n",
    "from pommesevaluation.global_vars import (\n",
    "    FUELS, \n",
    "    FUELS_RENAMED, \n",
    "    RES, \n",
    "    RES_TO_GROUP, \n",
    "    RES_RENAMED, \n",
    "    STORAGES, \n",
    "    STORAGES_RENAMED,\n",
    ")"
   ]
  },
  {
   "cell_type": "markdown",
   "id": "bcea6004",
   "metadata": {},
   "source": [
    "## Define data sets and global variables\n",
    "Use the following data sets:\n",
    "* maximum installed capacities for exogenously given power plants\n",
    "* maximum power output for exogenously given plants per year &rarr; indicates installed power for that particular year\n",
    "* capacities for exogenously given storage units\n",
    "* maximum installed capacities for RES units\n",
    "* RES generation time series\n",
    "\n",
    "Output files comprise\n",
    "* installed capacity for backup generation\n",
    "* installed storage capacity\n",
    "* installed VRES capacities\n",
    "* annual VRES generation"
   ]
  },
  {
   "cell_type": "code",
   "execution_count": null,
   "id": "844582e2",
   "metadata": {},
   "outputs": [],
   "source": [
    "# Global settings\n",
    "LANGUAGE = \"German\"\n",
    "legend_loc = \"bottom\"  # \"bottom\", \"side\"\n",
    "\n",
    "# inputs and outputs\n",
    "path_folder = \"./model_inputs/pommesinvest/\"\n",
    "file_name_transformers = \"transformers_exogenous.csv\"\n",
    "file_name_transformers_max = \"transformers_exogenous_max_ts.csv\"\n",
    "file_name_storages = \"storages_el_exogenous.csv\"\n",
    "file_name_res_capacities = \"sources_renewables_investment_model.csv\"\n",
    "file_name_res_generation = \"sources_renewables_ts_hourly.csv\"\n",
    "\n",
    "path_data_out = \"./data_out/\"\n",
    "path_plots = \"./plots/\"\n",
    "output_file_names = {\n",
    "    \"backup\": f\"installed_capacity_backup_generation_{LANGUAGE}\",\n",
    "    \"storages\": f\"installed_storage_capacity_{LANGUAGE}\",\n",
    "    \"res_capacities\": f\"installed_capacity_res_{LANGUAGE}\",\n",
    "    \"res_generation\": f\"annual_generation_res_{LANGUAGE}\"\n",
    "}\n",
    "\n",
    "# Plotting and renaming\n",
    "PLOT_LABELS = {\n",
    "    \"German\": {\n",
    "        \"xlabel\": \"Jahr\",\n",
    "        \"ylabel\": {\n",
    "            \"power\": \"Installierte Leistung in MW\",\n",
    "            \"energy\": \"Stromerzeugung in MWh/a\",\n",
    "        }\n",
    "    },\n",
    "    \"English\":  {\n",
    "        \"xlabel\": \"year\",\n",
    "        \"ylabel\": {\n",
    "            \"power\": \"installed power in MW\",\n",
    "            \"energy\": \"power generation in MWh/a\",\n",
    "        }\n",
    "    },\n",
    "}\n",
    "if legend_loc == \"bottom\":\n",
    "    figsize=(18, 9)\n",
    "else:\n",
    "    figsize=(18, 7)"
   ]
  },
  {
   "cell_type": "code",
   "execution_count": null,
   "id": "2f121da0-1140-45cf-9108-6b1b35c235d8",
   "metadata": {},
   "outputs": [],
   "source": [
    "update_matplotlib_params(\n",
    "    small_size=18, medium_size=20, large_size=22\n",
    ")"
   ]
  },
  {
   "cell_type": "markdown",
   "id": "727a9ae8",
   "metadata": {},
   "source": [
    "## Rearrange and plot data for transformers\n",
    "* Combine time series and maximum installed capacities to obtain capacities per year\n",
    "* Groupby fuel and year\n",
    "* Draw and show plot"
   ]
  },
  {
   "cell_type": "code",
   "execution_count": null,
   "id": "8bad4618",
   "metadata": {},
   "outputs": [],
   "source": [
    "transformers_capacities = pd.read_csv(f\"{path_folder}{file_name_transformers}\", index_col=0)[\"capacity\"]\n",
    "transformers_max_ts = pd.read_csv(f\"{path_folder}{file_name_transformers_max}\", index_col=0)\n",
    "\n",
    "# Combine information to derive installed capacities by year\n",
    "transformers_capacity_ts = transformers_max_ts.mul(transformers_capacities)\n",
    "\n",
    "# Do some reformatting\n",
    "transformers_capacity_ts.index = transformers_capacity_ts.index.str[:4]\n",
    "transformers_capacity_ts_transposed = transformers_capacity_ts.T\n",
    "transformers_capacity_ts_transposed.index = transformers_capacity_ts_transposed.index.str.split(\"_\", expand=True)\n",
    "transformers_capacity_ts_transposed.index.names = [\n",
    "    \"country\", \"component_name\", \"fuel\", \"type\", \"cluster\", \"cluster_no\"\n",
    "]\n",
    "transformers_capacity_ts_transposed.reset_index(inplace=True)\n",
    "transformers_capacity_ts_transposed = transformers_capacity_ts_transposed.loc[\n",
    "    transformers_capacity_ts_transposed[\"country\"] == \"DE\"\n",
    "]\n",
    "\n",
    "# groupby fuel\n",
    "capacity_by_fuel_year =  transformers_capacity_ts_transposed.groupby(\"fuel\").sum().T"
   ]
  },
  {
   "cell_type": "code",
   "execution_count": null,
   "id": "d7e7e629",
   "metadata": {},
   "outputs": [],
   "source": [
    "fig, ax = plt.subplots(figsize=figsize)\n",
    "ax.set_axisbelow(True)\n",
    "capacity_by_fuel_year = capacity_by_fuel_year[[col for col in FUELS.keys()]]\n",
    "capacity_by_fuel_year.rename(columns=FUELS_RENAMED[LANGUAGE], inplace=True)\n",
    "capacity_by_fuel_year.to_csv(f\"{path_data_out}{output_file_names['backup']}.csv\")\n",
    "color = {FUELS_RENAMED[LANGUAGE][f]: FUELS[f] for f in FUELS_RENAMED[LANGUAGE] if f in FUELS}\n",
    "_ = capacity_by_fuel_year.loc[\"2020\":\"2045\"].plot(kind=\"bar\", stacked=True, ax=ax, color=color, edgecolor=\"#2A2A2A\")\n",
    "_ = plt.xlabel(PLOT_LABELS[LANGUAGE][\"xlabel\"], labelpad=10)\n",
    "_ = plt.ylabel(PLOT_LABELS[LANGUAGE][\"ylabel\"][\"power\"], labelpad=10)\n",
    "_ = ax.grid(axis=\"y\", color=\"lightgrey\")\n",
    "if legend_loc == \"bottom\":\n",
    "    _ = plt.legend(loc='upper center', bbox_to_anchor=[0.5, -0.25], fancybox=True, shadow=False, ncol=5)\n",
    "else:\n",
    "    _ = plt.legend(bbox_to_anchor=[1.3, 1.02], fancybox=True)\n",
    "current_values = plt.gca().get_yticks()\n",
    "if LANGUAGE == \"English\":\n",
    "    _ = plt.gca().set_yticklabels(['{:,.0f}'.format(x) for x in current_values])\n",
    "elif LANGUAGE == \"German\":\n",
    "    _ = plt.gca().set_yticklabels(['{:,.0f}'.format(x).replace(\",\", \".\") for x in current_values])\n",
    "plt.tight_layout()\n",
    "plt.savefig(f\"{path_plots}{output_file_names['backup']}.png\", dpi=300, bbox_inches=\"tight\")\n",
    "plt.show()\n",
    "plt.close()"
   ]
  },
  {
   "cell_type": "markdown",
   "id": "c639b51c",
   "metadata": {},
   "source": [
    "## Rearrange and plot data for storages\n",
    "* Read in data\n",
    "* Reshape and repeat since installed values are kept constant"
   ]
  },
  {
   "cell_type": "code",
   "execution_count": null,
   "id": "86490dca",
   "metadata": {},
   "outputs": [],
   "source": [
    "storages = pd.read_csv(f\"{path_folder}{file_name_storages}\", index_col=0)\n",
    "storages = storages.loc[\n",
    "    storages[\"country\"] == \"DE\", \n",
    "    [\"capacity_pump\", \"capacity_turbine\", \"nominal_storable_energy\"]\n",
    "]\n",
    "storages.rename(\n",
    "    columns={\"capacity_pump\": \"inflow_power\", \"capacity_turbine\": \"outflow_power\"},\n",
    "    inplace=True\n",
    ")"
   ]
  },
  {
   "cell_type": "code",
   "execution_count": null,
   "id": "b1078a67",
   "metadata": {},
   "outputs": [],
   "source": [
    "storages = pd.DataFrame(\n",
    "    index=range(2020, 2051), \n",
    "    columns=storages[\"inflow_power\"].index, \n",
    "    data={\n",
    "        storages[\"inflow_power\"].index[0]: storages[\"inflow_power\"].values[0],\n",
    "    }\n",
    ")"
   ]
  },
  {
   "cell_type": "code",
   "execution_count": null,
   "id": "8032f733",
   "metadata": {},
   "outputs": [],
   "source": [
    "fig, ax = plt.subplots(figsize=figsize)\n",
    "storages = storages[[f\"DE_storage_el_{col}\" for col in STORAGES if f\"DE_storage_el_{col}\" in storages.columns]]\n",
    "storages.rename(columns={f\"DE_storage_el_{k}\": v for k, v in STORAGES_RENAMED[LANGUAGE].items()}, inplace=True)\n",
    "storages.to_csv(f\"{path_data_out}{output_file_names['storages']}.csv\")\n",
    "color = {STORAGES_RENAMED[LANGUAGE][f]: STORAGES[f] for f in STORAGES_RENAMED[LANGUAGE] if f in STORAGES}\n",
    "_ = storages.loc[\"2020\":\"2045\"].plot(kind=\"bar\", stacked=True, ax=ax, color=color, edgecolor=\"#2A2A2A\")\n",
    "_ = plt.xlabel(PLOT_LABELS[LANGUAGE][\"xlabel\"], labelpad=10)\n",
    "_ = plt.ylabel(PLOT_LABELS[LANGUAGE][\"ylabel\"][\"power\"], labelpad=10)\n",
    "if legend_loc == \"bottom\":\n",
    "    _ = plt.legend(loc='upper center', bbox_to_anchor=[0.5, -0.25], fancybox=True, shadow=False, ncol=3)\n",
    "else:\n",
    "    _ = plt.legend(bbox_to_anchor=[1.02, 1.02], fancybox=True)\n",
    "current_values = plt.gca().get_yticks()\n",
    "if LANGUAGE == \"English\":\n",
    "    _ = plt.gca().set_yticklabels(['{:,.0f}'.format(x) for x in current_values])\n",
    "elif LANGUAGE == \"German\":\n",
    "    _ = plt.gca().set_yticklabels(['{:,.0f}'.format(x).replace(\",\", \".\") for x in current_values])\n",
    "plt.tight_layout()\n",
    "plt.savefig(f\"{path_plots}{output_file_names['storages']}.png\", dpi=300, bbox_inches=\"tight\")\n",
    "plt.show()\n",
    "plt.close()"
   ]
  },
  {
   "cell_type": "markdown",
   "id": "c96145ae",
   "metadata": {},
   "source": [
    "## Rearrange and plot data for renewables\n",
    "* Read in installed capacities for 2020 and generation patterns\n",
    "* Groupby year, calculate and plot annual installed capacities\n",
    "* Groupby year, calculate and plot annual overall generation"
   ]
  },
  {
   "cell_type": "code",
   "execution_count": null,
   "id": "7b980b00",
   "metadata": {},
   "outputs": [],
   "source": [
    "res_capacities_2020 = pd.read_csv(f\"{path_folder}{file_name_res_capacities}\", index_col=0)\n",
    "res_generation = pd.read_csv(f\"{path_folder}{file_name_res_generation}\", index_col=0)\n",
    "res_capacities_2020 = res_capacities_2020[\"capacity\"]"
   ]
  },
  {
   "cell_type": "code",
   "execution_count": null,
   "id": "21824f70",
   "metadata": {},
   "outputs": [],
   "source": [
    "# Groupby year and use maximum and rescale 2020 to a maximum value of 1 to isolate installed capacities\n",
    "grouped_res = res_generation.groupby(res_generation.index.str[:4])\n",
    "grouped_res_max = grouped_res.max()\n",
    "grouped_res_max = grouped_res_max.div(grouped_res_max.loc[\"2020\"])\n",
    "installed_res_capacities = grouped_res_max.mul(res_capacities_2020).round(0)"
   ]
  },
  {
   "cell_type": "code",
   "execution_count": null,
   "id": "6797fea8",
   "metadata": {},
   "outputs": [],
   "source": [
    "fig, ax = plt.subplots(figsize=figsize)\n",
    "ax.set_axisbelow(True)\n",
    "installed_res_capacities = installed_res_capacities[[col for col in RES_RENAMED[LANGUAGE] if col in installed_res_capacities.columns]]\n",
    "for category, contents in RES_TO_GROUP.items():\n",
    "    installed_res_capacities[category] = installed_res_capacities[contents].sum(axis=1)\n",
    "    installed_res_capacities.drop(columns=contents, inplace=True)\n",
    "\n",
    "installed_res_capacities.rename(\n",
    "    columns={\n",
    "        col: RES_RENAMED[LANGUAGE][col] \n",
    "        for col in RES_RENAMED[LANGUAGE] \n",
    "        if col in installed_res_capacities.columns\n",
    "    }, \n",
    "    inplace=True,\n",
    ")\n",
    "installed_res_capacities.to_csv(f\"{path_data_out}{output_file_names['res_capacities']}.csv\")\n",
    "color = {RES_RENAMED[LANGUAGE][f]: RES[f] for f in RES_RENAMED[LANGUAGE] if f in RES}\n",
    "_ = installed_res_capacities.loc[\"2020\":\"2045\"].plot(kind=\"bar\", stacked=True, ax=ax, color=color, edgecolor=\"#2A2A2A\")\n",
    "_ = plt.xlabel(PLOT_LABELS[LANGUAGE][\"xlabel\"], labelpad=10)\n",
    "_ = plt.ylabel(PLOT_LABELS[LANGUAGE][\"ylabel\"][\"power\"], labelpad=10)\n",
    "_ = ax.grid(axis=\"y\", color=\"lightgrey\")\n",
    "if legend_loc == \"bottom\":\n",
    "    _ = plt.legend(loc='upper center', bbox_to_anchor=[0.5, -0.25], fancybox=True, shadow=False, ncol=3)\n",
    "else:\n",
    "    _ = plt.legend(bbox_to_anchor=[1.02, 1.02], fancybox=True)\n",
    "current_values = plt.gca().get_yticks()\n",
    "if LANGUAGE == \"English\":\n",
    "    _ = plt.gca().set_yticklabels(['{:,.0f}'.format(x) for x in current_values])\n",
    "elif LANGUAGE == \"German\":\n",
    "    _ = plt.gca().set_yticklabels(['{:,.0f}'.format(x).replace(\",\", \".\") for x in current_values])\n",
    "plt.tight_layout()\n",
    "plt.savefig(f\"{path_plots}{output_file_names['res_capacities']}.png\", dpi=300, bbox_inches=\"tight\")\n",
    "plt.show()\n",
    "plt.close()"
   ]
  },
  {
   "cell_type": "code",
   "execution_count": null,
   "id": "fcaf3354",
   "metadata": {},
   "outputs": [],
   "source": [
    "# Use sum as aggregation rule for generation\n",
    "grouped_res_sum = grouped_res.sum()\n",
    "annual_res_generation_in_GWh = grouped_res_sum.mul(res_capacities_2020).round(0).div(1000)"
   ]
  },
  {
   "cell_type": "code",
   "execution_count": null,
   "id": "c87d8c7e",
   "metadata": {},
   "outputs": [],
   "source": [
    "fig, ax = plt.subplots(figsize=figsize)\n",
    "annual_res_generation_in_GWh = annual_res_generation_in_GWh[[col for col in RES_RENAMED[LANGUAGE] if col in annual_res_generation_in_GWh.columns]]\n",
    "for category, contents in RES_TO_GROUP.items():\n",
    "    annual_res_generation_in_GWh[category] = annual_res_generation_in_GWh[contents].sum(axis=1)\n",
    "    annual_res_generation_in_GWh.drop(columns=contents, inplace=True)\n",
    "\n",
    "annual_res_generation_in_GWh.rename(\n",
    "    columns={\n",
    "        col: RES_RENAMED[LANGUAGE][col] \n",
    "        for col in RES_RENAMED[LANGUAGE] \n",
    "        if col in annual_res_generation_in_GWh.columns\n",
    "    }, \n",
    "    inplace=True,\n",
    ")\n",
    "annual_res_generation_in_GWh.to_csv(f\"{path_data_out}{output_file_names['res_generation']}.csv\")\n",
    "color = {RES_RENAMED[LANGUAGE][f]: RES[f] for f in RES_RENAMED[LANGUAGE] if f in RES}\n",
    "_ = annual_res_generation_in_GWh.loc[\"2020\":\"2045\"].plot(kind=\"bar\", stacked=True, ax=ax, color=color, edgecolor=\"#2A2A2A\")\n",
    "_ = plt.xlabel(PLOT_LABELS[LANGUAGE][\"xlabel\"], labelpad=10)\n",
    "_ = plt.ylabel(PLOT_LABELS[LANGUAGE][\"ylabel\"][\"energy\"], labelpad=10)\n",
    "if legend_loc == \"bottom\":\n",
    "    _ = plt.legend(loc='upper center', bbox_to_anchor=[0.5, -0.25], fancybox=True, shadow=False, ncol=3)\n",
    "else:\n",
    "    _ = plt.legend(bbox_to_anchor=[1.02, 1.02], fancybox=True)\n",
    "current_values = plt.gca().get_yticks()\n",
    "if LANGUAGE == \"English\":\n",
    "    _ = plt.gca().set_yticklabels(['{:,.0f}'.format(x) for x in current_values])\n",
    "elif LANGUAGE == \"German\":\n",
    "    _ = plt.gca().set_yticklabels(['{:,.0f}'.format(x).replace(\",\", \".\") for x in current_values])\n",
    "plt.tight_layout()\n",
    "plt.savefig(f\"{path_plots}{output_file_names['res_generation']}.png\", dpi=300, bbox_inches=\"tight\")\n",
    "plt.show()\n",
    "plt.close()"
   ]
  },
  {
   "cell_type": "code",
   "execution_count": null,
   "id": "bd1ea821",
   "metadata": {},
   "outputs": [],
   "source": []
  }
 ],
 "metadata": {
  "kernelspec": {
   "display_name": "Python 3 (ipykernel)",
   "language": "python",
   "name": "python3"
  },
  "language_info": {
   "codemirror_mode": {
    "name": "ipython",
    "version": 3
   },
   "file_extension": ".py",
   "mimetype": "text/x-python",
   "name": "python",
   "nbconvert_exporter": "python",
   "pygments_lexer": "ipython3",
   "version": "3.8.13"
  },
  "toc": {
   "base_numbering": 1,
   "nav_menu": {},
   "number_sections": true,
   "sideBar": true,
   "skip_h1_title": false,
   "title_cell": "Table of Contents",
   "title_sidebar": "Contents",
   "toc_cell": false,
   "toc_position": {},
   "toc_section_display": true,
   "toc_window_display": false
  },
  "varInspector": {
   "cols": {
    "lenName": 16,
    "lenType": 16,
    "lenVar": 40
   },
   "kernels_config": {
    "python": {
     "delete_cmd_postfix": "",
     "delete_cmd_prefix": "del ",
     "library": "var_list.py",
     "varRefreshCmd": "print(var_dic_list())"
    },
    "r": {
     "delete_cmd_postfix": ") ",
     "delete_cmd_prefix": "rm(",
     "library": "var_list.r",
     "varRefreshCmd": "cat(var_dic_list()) "
    }
   },
   "types_to_exclude": [
    "module",
    "function",
    "builtin_function_or_method",
    "instance",
    "_Feature"
   ],
   "window_display": false
  }
 },
 "nbformat": 4,
 "nbformat_minor": 5
}
