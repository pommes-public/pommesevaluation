{
 "cells": [
  {
   "cell_type": "markdown",
   "id": "02b7dd6d",
   "metadata": {
    "tags": []
   },
   "source": [
    "# Demand analyses\n",
    "Analyze the demand, both with and without demand response units in terms of\n",
    "* Overall annual demand,\n",
    "* Demand patterns as well as\n",
    "* Demand Response utilization"
   ]
  },
  {
   "cell_type": "markdown",
   "id": "1268da0e",
   "metadata": {},
   "source": [
    "## Package imports"
   ]
  },
  {
   "cell_type": "code",
   "execution_count": null,
   "id": "174c30e9",
   "metadata": {},
   "outputs": [],
   "source": [
    "import numpy as np\n",
    "import pandas as pd\n",
    "import matplotlib.pyplot as plt\n",
    "\n",
    "from pommesevaluation.investment_results_inspection import (\n",
    "    preprocess_raw_results, \n",
    "    aggregate_investment_results,\n",
    "    plot_single_dispatch_pattern,\n",
    "    add_area_to_existing_plot,\n",
    ")\n",
    "from pommesevaluation.global_vars import (\n",
    "    DEMAND_RESPONSE, DEMAND_RESPONSE_RENAMED\n",
    ")\n",
    "from pommesevaluation.tools import update_matplotlib_params"
   ]
  },
  {
   "cell_type": "markdown",
   "id": "b11a3c88",
   "metadata": {},
   "source": [
    "## Define data sets and global parameters"
   ]
  },
  {
   "cell_type": "code",
   "execution_count": null,
   "id": "00c797d5",
   "metadata": {},
   "outputs": [],
   "source": [
    "# Global settings\n",
    "LANGUAGE = \"German\"\n",
    "\n",
    "# Model configuration in terms of prices and costs\n",
    "time_frame_in_years = 26\n",
    "frequency = \"1H\"\n",
    "dr_scenario = \"50\"\n",
    "dr_scenarios = [\"none\", \"5\", \"50\", \"95\"]\n",
    "fuel_price_scenario = \"NZE\"\n",
    "emissions_pathway = \"long-term\"\n",
    "impose_investment_maxima = False\n",
    "\n",
    "# time frame to visualize\n",
    "start_time_step = \"2035-01-01 00:00:00\"\n",
    "duration_in_time_steps = 168\n",
    "\n",
    "# inputs and outputs\n",
    "path_folder_inputs = \"./model_inputs/pommesinvest/\"\n",
    "path_folder_results = \"./model_results/pommesinvest/\"\n",
    "\n",
    "file_names_inputs = {\n",
    "    \"demand_incl_dr_ts\": f\"sinks_demand_el_ts_hourly.csv\",\n",
    "    \"demand_incl_dr_max\": f\"sinks_demand_el.csv\",\n",
    "    \"demand_excl_dr_ts\": f\"sinks_demand_el_excl_demand_response_ts_{dr_scenario}_hourly.csv\",\n",
    "    \"demand_excl_dr_max\": f\"sinks_demand_el_excl_demand_response_{dr_scenario}.csv\",\n",
    "    \"dr_baseline\": f\"sinks_demand_response_el_ts_{dr_scenario}.csv\",\n",
    "    \"dr_ava_pos\": f\"sinks_demand_response_el_ava_pos_ts_{dr_scenario}.csv\",\n",
    "    \"dr_ava_neg\": f\"sinks_demand_response_el_ava_neg_ts_{dr_scenario}.csv\",\n",
    "}\n",
    "\n",
    "filename = (\n",
    "    f\"investment_LP_start-2020-01-01_{time_frame_in_years}\"\n",
    "    f\"-years_simple_freq_{frequency}\"\n",
    ")\n",
    "if impose_investment_maxima:\n",
    "    annual_investment_limits = \"\"\n",
    "else:\n",
    "    annual_investment_limits = \"_no_annual_limit\"\n",
    "if dr_scenario != \"none\":\n",
    "    file_add_on = (\n",
    "        f\"_with_dr_{dr_scenario}_\"\n",
    "        f\"fuel_price-{fuel_price_scenario}_\"\n",
    "        f\"co2_price-{emissions_pathway}{annual_investment_limits}\"\n",
    "    )\n",
    "else:\n",
    "    file_add_on = (\n",
    "        f\"_no_dr_50_\"\n",
    "        f\"fuel_price-{fuel_price_scenario}_\"\n",
    "        f\"co2_price-{emissions_pathway}{annual_investment_limits}\"\n",
    "    )\n",
    "file_extension = \".csv\"\n",
    "\n",
    "\n",
    "NAMES = {\n",
    "    \"German\": {\n",
    "        \"baseline\": \"Basislastgang\",\n",
    "        \"lower_limit\": \"Mindestlast\",\n",
    "        \"upper_limit\": \"Maximallast\"\n",
    "    },\n",
    "    \"English\": {\n",
    "        \"baseline\": \"baseline demand\", \n",
    "        \"lower_limit\": \"lower demand limit\",\n",
    "        \"upper_limit\": \"upper demand limit\",  \n",
    "    }\n",
    "}\n",
    "STYLE = {\n",
    "    \"colors\": {\n",
    "        NAMES[LANGUAGE][\"baseline\"]: \"black\",\n",
    "        NAMES[LANGUAGE][\"lower_limit\"]: \"#bd2020\",\n",
    "        NAMES[LANGUAGE][\"upper_limit\"]: \"#bd2020\"\n",
    "    },\n",
    "    \"linestyles\": {\n",
    "        NAMES[LANGUAGE][\"baseline\"]: \"-\",\n",
    "        NAMES[LANGUAGE][\"lower_limit\"]: \"--\",\n",
    "        NAMES[LANGUAGE][\"upper_limit\"]: \"-.\"\n",
    "    }\n",
    "}\n",
    "PLOT_LABELS = {\n",
    "    \"German\": {\n",
    "        \"xlabel\": {\n",
    "            \"year\": \"Jahr\",\n",
    "            \"time\": \"Zeit\",\n",
    "        },\n",
    "        \"ylabel\": {\n",
    "            \"demand\": \"Stromnachfrage in GWh/a\",\n",
    "            \"flex_abs\": \"Leistung in MW\",\n",
    "            \"flex_rel\": \"Leistung normiert auf Basislastgang\"\n",
    "        },\n",
    "        \"title\": \"Flexibilitätsbänder\"\n",
    "    },\n",
    "    \"English\": {\n",
    "        \"xlabel\": {\n",
    "            \"year\": \"year\",\n",
    "            \"time\": \"time\",\n",
    "        },\n",
    "        \"ylabel\": {\n",
    "            \"demand\": \"demand in GWh/a\",\n",
    "            \"flex_abs\": \"power in MW\",\n",
    "            \"flex_rel\": \"power normalized to baseline\"\n",
    "        },\n",
    "        \"title\": \"Flexibility bands\"\n",
    "    },\n",
    "}\n",
    "\n",
    "path_data_out = \"./data_out/\"\n",
    "path_plots = \"./plots/\"\n",
    "output_file_names = {\n",
    "    \"demand_incl_dr_ts\": \"demand_incl_dr_annual\",\n",
    "    \"demand_excl_dr_ts\": \"demand_exl_dr_annual\",\n",
    "}\n",
    "\n",
    "# Other config\n",
    "multi_header = False\n",
    "rounding_precision = 2"
   ]
  },
  {
   "cell_type": "code",
   "execution_count": null,
   "id": "406f470b-23b6-4740-bef9-7bbd748e1af5",
   "metadata": {},
   "outputs": [],
   "source": [
    "update_matplotlib_params(\n",
    "    small_size=14, medium_size=16, large_size=18\n",
    ")"
   ]
  },
  {
   "cell_type": "markdown",
   "id": "9cea91e2",
   "metadata": {
    "tags": []
   },
   "source": [
    "# Annual demand inspection\n",
    "## Read in and preprocess demand data"
   ]
  },
  {
   "cell_type": "code",
   "execution_count": null,
   "id": "13aaad65",
   "metadata": {},
   "outputs": [],
   "source": [
    "data_sets = {\n",
    "    data_set: pd.read_csv(f\"{path_folder_inputs}{file_name}\", index_col=0) \n",
    "    for data_set, file_name in file_names_inputs.items()\n",
    "}"
   ]
  },
  {
   "cell_type": "code",
   "execution_count": null,
   "id": "1edc6215",
   "metadata": {},
   "outputs": [],
   "source": [
    "# Slice 2020 data in the first place\n",
    "for key in [\"demand_incl_dr_ts\", \"demand_excl_dr_ts\"]:\n",
    "    data_sets[f\"{key}_DE_2020\"] = data_sets[key].loc[\n",
    "        data_sets[key].index.str[:4] == \"2020\", \n",
    "        [col for col in data_sets[key].columns if \"DE_\" in col]\n",
    "    ]"
   ]
  },
  {
   "cell_type": "markdown",
   "id": "6abaea23",
   "metadata": {},
   "source": [
    "## Combine to annual values"
   ]
  },
  {
   "cell_type": "code",
   "execution_count": null,
   "id": "87b4f82a",
   "metadata": {},
   "outputs": [],
   "source": [
    "map_ts_to_max = {\n",
    "    \"demand_incl_dr_ts\": data_sets[\"demand_incl_dr_max\"],\n",
    "    \"demand_excl_dr_ts\": data_sets[\"demand_excl_dr_max\"],\n",
    "}"
   ]
  },
  {
   "cell_type": "code",
   "execution_count": null,
   "id": "ad910804",
   "metadata": {},
   "outputs": [],
   "source": [
    "# Create annual data sets\n",
    "for key in [\"demand_incl_dr_ts\", \"demand_excl_dr_ts\"]:\n",
    "    data_sets[key].index = data_sets[key].index.str[:4]\n",
    "    data_sets[f\"{key}_annual\"] = data_sets[key].groupby(data_sets[key].index).sum()[\"DE_sink_el_load\"]\n",
    "    data_sets[f\"{key}_annual\"] = data_sets[f\"{key}_annual\"].mul(\n",
    "        map_ts_to_max[key].at[\"DE_sink_el_load\", \"maximum\"]\n",
    "    ).div(1000)\n",
    "    data_sets[f\"{key}_annual\"].to_csv(f\"{path_data_out}{output_file_names[key]}.csv\")"
   ]
  },
  {
   "cell_type": "code",
   "execution_count": null,
   "id": "3dc12eeb",
   "metadata": {},
   "outputs": [],
   "source": [
    "# Plot annual demand without demand response\n",
    "fig, ax = plt.subplots(figsize=(12, 5))\n",
    "_ = data_sets[\"demand_incl_dr_ts_annual\"].loc[\"2020\":\"2045\"].plot(kind=\"bar\", ax=ax, color=\"darkblue\")\n",
    "_ = plt.xlabel(PLOT_LABELS[LANGUAGE][\"xlabel\"][\"year\"], labelpad=10)\n",
    "_ = plt.ylabel(PLOT_LABELS[LANGUAGE][\"ylabel\"][\"demand\"], labelpad=10)\n",
    "#_ = plt.legend(bbox_to_anchor=[1.02, 1.02])\n",
    "current_values = plt.gca().get_yticks()\n",
    "_ = plt.gca().set_yticklabels(['{:,.0f}'.format(x) for x in current_values])\n",
    "plt.tight_layout()\n",
    "plt.savefig(f\"{path_plots}{output_file_names['demand_incl_dr_ts']}.png\", dpi=300, bbox_inches=\"tight\")\n",
    "plt.show()\n",
    "plt.close()"
   ]
  },
  {
   "cell_type": "code",
   "execution_count": null,
   "id": "bbdbcb15",
   "metadata": {},
   "outputs": [],
   "source": [
    "# Read in demand response potential parameter data and extract maximum value\n",
    "dr_potential_data = {\n",
    "    dr_cluster: pd.read_csv(\n",
    "        f\"{path_folder_inputs}{dr_cluster}_potential_parameters_{dr_scenario}%.csv\", \n",
    "        index_col=0\n",
    "    )\n",
    "    for dr_cluster in DEMAND_RESPONSE\n",
    "}\n",
    "dr_max_potentials = {}\n",
    "for key, val in dr_potential_data.items():\n",
    "    dr_max_potentials[key] = val[\"max_cap\"]\n",
    "\n",
    "# Calculate annual demand (assumed constant here)\n",
    "data_sets[\"dr_baseline_yearly\"] = data_sets[\"dr_baseline\"].copy()\n",
    "data_sets[\"dr_baseline_yearly\"].index = data_sets[\"dr_baseline_yearly\"].index.str[:4]\n",
    "\n",
    "data_sets[\"dr_annual_demand\"] = pd.DataFrame()\n",
    "for dr_cluster in DEMAND_RESPONSE:\n",
    "    data_sets[\"dr_annual_demand\"][dr_cluster] = dr_max_potentials[dr_cluster].mul(\n",
    "        data_sets[\"dr_baseline_yearly\"].groupby(\n",
    "            data_sets[\"dr_baseline_yearly\"].index\n",
    "        ).sum().at[\"2020\", dr_cluster]\n",
    "    ).div(1000)\n",
    "\n",
    "data_sets[\"dr_annual_demand\"].index = data_sets[\"dr_annual_demand\"].index.astype(str)\n",
    "    \n",
    "# Combine with demand data set excluding demand response\n",
    "data_sets[\"demand_excl_dr_ts_annual\"] = pd.concat(\n",
    "    [data_sets[\"demand_excl_dr_ts_annual\"], data_sets[\"dr_annual_demand\"]],\n",
    "    axis=1\n",
    ")\n",
    "data_sets[\"demand_excl_dr_ts_annual\"].rename(\n",
    "    columns={\"DE_sink_el_load\": \"inflexible_load\"},\n",
    "    inplace=True\n",
    ")"
   ]
  },
  {
   "cell_type": "code",
   "execution_count": null,
   "id": "94f4e4cb",
   "metadata": {},
   "outputs": [],
   "source": [
    "DEMAND_RESPONSE[\"inflexible_load\"] = \"darkblue\"\n",
    "DEMAND_RESPONSE_RENAMED[\"German\"][\"inflexible_load\"] = \"inflexible Restlast\"\n",
    "DEMAND_RESPONSE_RENAMED[\"English\"][\"inflexible_load\"] = \"inflexible remaining load\"\n",
    "\n",
    "# Plot annual demand excl demand response with demand response baseline demand on top\n",
    "fig, ax = plt.subplots(figsize=(12, 7))\n",
    "data_sets[\"demand_excl_dr_ts_annual\"] = data_sets[\"demand_excl_dr_ts_annual\"][[col for col in DEMAND_RESPONSE]]\n",
    "to_plot = data_sets[\"demand_excl_dr_ts_annual\"].rename(columns=DEMAND_RESPONSE_RENAMED[LANGUAGE])\n",
    "colors = {\n",
    "    DEMAND_RESPONSE_RENAMED[LANGUAGE][c]: DEMAND_RESPONSE[c] \n",
    "    for c in DEMAND_RESPONSE_RENAMED[LANGUAGE] \n",
    "    if DEMAND_RESPONSE_RENAMED[LANGUAGE][c] in to_plot.columns\n",
    "}\n",
    "\n",
    "# Sort columns\n",
    "to_plot = to_plot[[\n",
    "    DEMAND_RESPONSE_RENAMED[LANGUAGE][\"inflexible_load\"]\n",
    "] + [\n",
    "    DEMAND_RESPONSE_RENAMED[LANGUAGE][col] \n",
    "    for col in DEMAND_RESPONSE_RENAMED[LANGUAGE] \n",
    "    if col != \"inflexible_load\"]\n",
    "]\n",
    "_ = to_plot.loc[\"2020\":\"2045\"].plot(kind=\"bar\", edgecolor=\"#2A2A2A\", stacked=True, ax=ax, color=colors)\n",
    "_ = plt.xlabel(PLOT_LABELS[LANGUAGE][\"xlabel\"][\"year\"], labelpad=10)\n",
    "_ = plt.ylabel(PLOT_LABELS[LANGUAGE][\"ylabel\"][\"demand\"], labelpad=10)\n",
    "_ = plt.legend(loc='upper center', bbox_to_anchor=[0.5, -0.25], fancybox=True, shadow=False, ncol=2)\n",
    "current_values = plt.gca().get_yticks()\n",
    "_ = plt.gca().set_yticklabels(['{:,.0f}'.format(x) for x in current_values])\n",
    "plt.tight_layout()\n",
    "plt.savefig(f\"{path_plots}{output_file_names['demand_excl_dr_ts']}.png\", dpi=300)\n",
    "plt.show()\n",
    "plt.close()\n",
    "\n",
    "_ = DEMAND_RESPONSE.pop(\"inflexible_load\")\n",
    "_ = DEMAND_RESPONSE_RENAMED[\"German\"].pop(\"inflexible_load\")\n",
    "_ = DEMAND_RESPONSE_RENAMED[\"English\"].pop(\"inflexible_load\")"
   ]
  },
  {
   "cell_type": "markdown",
   "id": "0bafa2f8",
   "metadata": {
    "tags": []
   },
   "source": [
    "# Demand patterns inspection\n",
    "## Extract demand response investments results"
   ]
  },
  {
   "cell_type": "code",
   "execution_count": null,
   "id": "9f7af6df",
   "metadata": {},
   "outputs": [],
   "source": [
    "investment_results_raw = pd.read_csv(f\"{path_folder_results}{filename}{file_add_on}_investment{file_extension}\", index_col=0)\n",
    "processed_results = preprocess_raw_results(investment_results_raw)\n",
    "aggregated_results, other_storage_results = aggregate_investment_results(\n",
    "    processed_results, energy_carriers=[], by=\"energy_carrier\"\n",
    ")\n",
    "\n",
    "demand_response_investments = aggregated_results.loc[\n",
    "    aggregated_results.index.get_level_values(0).isin(DEMAND_RESPONSE), \"total\"\n",
    "]"
   ]
  },
  {
   "cell_type": "markdown",
   "id": "6c3969ec",
   "metadata": {
    "tags": []
   },
   "source": [
    "## Calculate profiles"
   ]
  },
  {
   "cell_type": "markdown",
   "id": "c9b66d41",
   "metadata": {},
   "source": [
    "Extract the absolute values of\n",
    "* baseline profile,\n",
    "* economic downshift potential and\n",
    "* economic upshift potential.\n",
    "\n",
    "Calculate the absolute demand bounds from downshift resp. upshift potentials.\n",
    "\n",
    "> _Note:_\n",
    "> * _Downshift is limited to baseline profile._\n",
    "> * _This is implicitly done in pommesinvest by setting lower bound of flows to 0_"
   ]
  },
  {
   "cell_type": "code",
   "execution_count": null,
   "id": "c9f1b45c",
   "metadata": {},
   "outputs": [],
   "source": [
    "profiles = {}\n",
    "for dr_cluster in DEMAND_RESPONSE:\n",
    "    profiles[dr_cluster] = pd.DataFrame(\n",
    "        columns=[\"baseline\", \"downshift_potential\", \"upshift_potential\"]\n",
    "    )\n",
    "    to_concat = {k: [] for k in profiles[dr_cluster].columns}\n",
    "    \n",
    "    # Calculate absolute values using annual max capacity resp. potentials\n",
    "    for iter_year in range(2020, 2046):\n",
    "        to_concat[\"baseline\"].append(\n",
    "            data_sets[\"dr_baseline\"].loc[\n",
    "                f\"{iter_year}-01-01 00:00\": f\"{iter_year}-12-31 23:59\", dr_cluster\n",
    "            ].mul(dr_max_potentials[dr_cluster].loc[iter_year])\n",
    "        )\n",
    "        to_concat[\"downshift_potential\"].append(\n",
    "           data_sets[\"dr_ava_pos\"].loc[\n",
    "                f\"{iter_year}-01-01 00:00\": f\"{iter_year}-12-31 23:59\", dr_cluster\n",
    "            ].mul(demand_response_investments.loc[dr_cluster, str(iter_year)])\n",
    "        )\n",
    "        to_concat[\"upshift_potential\"].append(\n",
    "           data_sets[\"dr_ava_neg\"].loc[\n",
    "                f\"{iter_year}-01-01 00:00\": f\"{iter_year}-12-31 23:59\", dr_cluster\n",
    "            ].mul(demand_response_investments.loc[dr_cluster, str(iter_year)])\n",
    "        ) \n",
    "\n",
    "    for col in profiles[dr_cluster].columns:\n",
    "        profiles[dr_cluster][col] = pd.concat(to_concat[col])\n",
    "    \n",
    "    # Limit downshift potential\n",
    "    profiles[dr_cluster][\"downshift_potential\"] = np.where(\n",
    "        profiles[dr_cluster][\"baseline\"] < profiles[dr_cluster][\"downshift_potential\"],\n",
    "        profiles[dr_cluster][\"baseline\"],\n",
    "        profiles[dr_cluster][\"downshift_potential\"]\n",
    "    )\n",
    "    profiles[dr_cluster][\"lower_limit\"] = profiles[dr_cluster][\"baseline\"] - profiles[dr_cluster][\"downshift_potential\"]\n",
    "    profiles[dr_cluster][\"upper_limit\"] = profiles[dr_cluster][\"baseline\"] + profiles[dr_cluster][\"upshift_potential\"]\n",
    "    \n",
    "    profiles[dr_cluster] = profiles[dr_cluster][[col for col in NAMES[LANGUAGE]]].rename(columns=NAMES[LANGUAGE])"
   ]
  },
  {
   "cell_type": "markdown",
   "id": "e1eb0e09",
   "metadata": {
    "tags": []
   },
   "source": [
    "## Plot absolute profiles (baseline and flexibility band)"
   ]
  },
  {
   "cell_type": "code",
   "execution_count": null,
   "id": "1911cc7c",
   "metadata": {},
   "outputs": [],
   "source": [
    "for dr_cluster in DEMAND_RESPONSE:\n",
    "    fig, ax = plot_single_dispatch_pattern(\n",
    "        profiles[dr_cluster],\n",
    "        start_time_step=start_time_step,\n",
    "        amount_of_time_steps=duration_in_time_steps,\n",
    "        colors=STYLE[\"colors\"],\n",
    "        save=False,\n",
    "        path_plots=\"./plots/\",\n",
    "        filename=f\"absolute_potential_{dr_cluster}\",\n",
    "        kind=\"line\",\n",
    "        stacked=None,\n",
    "        figsize=(15, 10),\n",
    "        linestyle=STYLE[\"linestyles\"],\n",
    "        title=PLOT_LABELS[LANGUAGE][\"title\"],\n",
    "        ylabel=PLOT_LABELS[LANGUAGE][\"ylabel\"][\"flex_abs\"],\n",
    "        return_plot=True,\n",
    "        bbox_params=[0.5, -0.45],\n",
    "        language=\"German\",\n",
    "    )\n",
    "    # Add a flex band\n",
    "    profiles[dr_cluster][\"flex_band\"] = profiles[dr_cluster][NAMES[LANGUAGE][\"upper_limit\"]] - profiles[dr_cluster][NAMES[LANGUAGE][\"lower_limit\"]]\n",
    "    add_area_to_existing_plot(\n",
    "        data=profiles[dr_cluster][[NAMES[LANGUAGE][\"lower_limit\"], \"flex_band\"]], \n",
    "        start_time_step=start_time_step, \n",
    "        amount_of_time_steps=duration_in_time_steps, \n",
    "        colors={NAMES[LANGUAGE][\"lower_limit\"]: \"#ffffff\", \"flex_band\": \"lightblue\"},\n",
    "        ax=ax,\n",
    "        save=True,\n",
    "        path_plots=\"./plots/\",\n",
    "        filename=f\"absolute_potential_{dr_cluster}\",\n",
    "        bbox_params=[0.5, -0.45],\n",
    "    )\n",
    "    profiles[dr_cluster].drop(columns=[\"flex_band\"], inplace=True)"
   ]
  },
  {
   "cell_type": "markdown",
   "id": "54be3867",
   "metadata": {},
   "source": [
    "## Calculate and plot relative profiles\n",
    "For normalization, define maximum of baseline demand of respective time frame to equal 1"
   ]
  },
  {
   "cell_type": "code",
   "execution_count": null,
   "id": "c43b556e",
   "metadata": {},
   "outputs": [],
   "source": [
    "# get end index to derive time frame for normalization\n",
    "index_start = int(profiles[dr_cluster].index.get_loc(start_time_step))\n",
    "index_end = int(index_start + duration_in_time_steps)\n",
    "end_time_step = profiles[dr_cluster].iloc[index_end].name\n",
    "\n",
    "relative_profiles = {}\n",
    "for dr_cluster in DEMAND_RESPONSE:\n",
    "    relative_profiles[dr_cluster] = (\n",
    "        profiles[dr_cluster].iloc[index_start : index_end].div(\n",
    "            profiles[dr_cluster].iloc[index_start : index_end][NAMES[LANGUAGE][\"baseline\"]].max()\n",
    "        )\n",
    "    )\n",
    "    \n",
    "    fig, ax = plot_single_dispatch_pattern(\n",
    "        relative_profiles[dr_cluster],\n",
    "        start_time_step=start_time_step,\n",
    "        amount_of_time_steps=duration_in_time_steps - 2,\n",
    "        colors=STYLE[\"colors\"],\n",
    "        save=False,\n",
    "        path_plots=\"./plots/\",\n",
    "        filename=f\"relative_potential_{dr_cluster}\",\n",
    "        kind=\"line\",\n",
    "        stacked=None,\n",
    "        figsize=(15, 10),\n",
    "        linestyle=STYLE[\"linestyles\"],\n",
    "        title=PLOT_LABELS[LANGUAGE][\"title\"],\n",
    "        ylabel=PLOT_LABELS[LANGUAGE][\"ylabel\"][\"flex_rel\"],\n",
    "        return_plot=True,\n",
    "        bbox_params=[0.5, -0.5],\n",
    "        language=\"German\",\n",
    "    )\n",
    "    # Add a flex band\n",
    "    relative_profiles[dr_cluster][\"flex_band\"] = relative_profiles[dr_cluster][NAMES[LANGUAGE][\"upper_limit\"]] - relative_profiles[dr_cluster][NAMES[LANGUAGE][\"lower_limit\"]]\n",
    "    add_area_to_existing_plot(\n",
    "        data=relative_profiles[dr_cluster][[NAMES[LANGUAGE][\"lower_limit\"], \"flex_band\"]], \n",
    "        start_time_step=start_time_step, \n",
    "        amount_of_time_steps=duration_in_time_steps - 2, \n",
    "        colors={NAMES[LANGUAGE][\"lower_limit\"]: \"#ffffff\", \"flex_band\": \"lightblue\"},\n",
    "        ax=ax,\n",
    "        save=True,\n",
    "        path_plots=\"./plots/\",\n",
    "        filename=f\"relative_potential_{dr_cluster}\",\n",
    "        bbox_params=[0.5, -0.5],\n",
    "    )\n",
    "    relative_profiles[dr_cluster].drop(columns=[\"flex_band\"], inplace=True)"
   ]
  },
  {
   "cell_type": "markdown",
   "id": "30dc074e-472e-4116-bfe0-0b15d7b1baf5",
   "metadata": {},
   "source": [
    "# Analyze demand response utilization\n",
    "## Read in production results from model and filter for demand response columns"
   ]
  },
  {
   "cell_type": "code",
   "execution_count": null,
   "id": "019a755d",
   "metadata": {},
   "outputs": [],
   "source": [
    "if multi_header:\n",
    "    header = [0, 1]\n",
    "else:\n",
    "    header = 0\n",
    "production_results_raw = pd.read_csv(\n",
    "    f\"{path_folder_results}{filename}{file_add_on}_production{file_extension}\", index_col=0, header=header\n",
    ").T\n",
    "processed_results = preprocess_raw_results(\n",
    "    production_results_raw, investments=False, multi_header=multi_header\n",
    ").drop(columns=\"year\").round(rounding_precision)\n",
    "aggregated_results = aggregate_investment_results(\n",
    "    processed_results, energy_carriers=[], by=\"energy_carrier\", investments=False\n",
    ").T\n",
    "del production_results_raw, processed_results\n",
    "\n",
    "all_demand_response_cols = list(set([\n",
    "    col for col in aggregated_results.columns for key in DEMAND_RESPONSE if key in col\n",
    "]))\n",
    "\n",
    "demand_response_after_cols = [col for col in all_demand_response_cols if \"_demand_after\" in col]\n",
    "demand_response_other_cols = [\n",
    "    col for col in all_demand_response_cols \n",
    "    if col not in demand_response_after_cols\n",
    "    # Exclude fictious demand response storage level which can be calculated ex post\n",
    "    and not \"storage_level\" in col\n",
    "]\n",
    "demand_response_pattern = aggregated_results[demand_response_other_cols]"
   ]
  },
  {
   "cell_type": "code",
   "execution_count": null,
   "id": "234c4cb1-c473-40bd-ad4e-9ee16d328355",
   "metadata": {},
   "outputs": [],
   "source": [
    "downshift_cols = [col for col in demand_response_pattern.columns if \"dsm_do_shift\" in col]\n",
    "upshift_cols = [col for col in demand_response_pattern.columns if \"dsm_up\" in col]\n",
    "shed_cols = [col for col in demand_response_pattern.columns if \"dsm_do_shed\" in col]\n",
    "\n",
    "overall_downshift = pd.DataFrame()\n",
    "overall_upshift = pd.DataFrame()\n",
    "overall_shedding = pd.DataFrame()\n",
    "for iter_year in demand_response_pattern.index.str[:4].unique():\n",
    "    overall_downshift.loc[iter_year, downshift_cols] = demand_response_pattern.loc[[idx for idx in demand_response_pattern.index if idx[:4] == iter_year], downshift_cols].sum()\n",
    "    overall_upshift.loc[iter_year, upshift_cols] = demand_response_pattern.loc[[idx for idx in demand_response_pattern.index if idx[:4] == iter_year], upshift_cols].sum()\n",
    "    overall_shedding.loc[iter_year, shed_cols] = demand_response_pattern.loc[[idx for idx in demand_response_pattern.index if idx[:4] == iter_year], shed_cols].sum()"
   ]
  },
  {
   "cell_type": "code",
   "execution_count": null,
   "id": "924264bf-5032-4ee7-a52b-d8e028ec3aed",
   "metadata": {},
   "outputs": [],
   "source": [
    "overall_downshift.columns = [col[0] for col in overall_downshift.columns.str.rsplit(\"_\", 3)]\n",
    "overall_shedding.columns = [col[0] for col in overall_shedding.columns.str.rsplit(\"_\", 3)]\n",
    "overall_upshift.columns = [col[0] for col in overall_upshift.columns.str.rsplit(\"_\", 2)]\n",
    "\n",
    "overall_downshift.to_csv(f\"{path_data_out}overall_shifting_in_mwh_dr_scen_{dr_scenario}.csv\", sep=\";\")\n",
    "overall_shedding.to_csv(f\"{path_data_out}overall_shedding_in_mwh_dr_scen_{dr_scenario}.csv\", sep=\";\")\n",
    "\n",
    "# Check for balancing\n",
    "diff = pd.DataFrame()\n",
    "for col in overall_downshift.columns:\n",
    "    diff[col] = overall_downshift[col] - overall_upshift[col]\n",
    "diff / overall_downshift\n",
    "assert (diff.min() < 1e-4).all()"
   ]
  },
  {
   "cell_type": "code",
   "execution_count": null,
   "id": "ed13d975-2cd5-431c-8d47-5f0e2c266918",
   "metadata": {},
   "outputs": [],
   "source": []
  }
 ],
 "metadata": {
  "kernelspec": {
   "display_name": "Python 3 (ipykernel)",
   "language": "python",
   "name": "python3"
  },
  "language_info": {
   "codemirror_mode": {
    "name": "ipython",
    "version": 3
   },
   "file_extension": ".py",
   "mimetype": "text/x-python",
   "name": "python",
   "nbconvert_exporter": "python",
   "pygments_lexer": "ipython3",
   "version": "3.8.13"
  },
  "toc": {
   "base_numbering": 1,
   "nav_menu": {},
   "number_sections": true,
   "sideBar": true,
   "skip_h1_title": false,
   "title_cell": "Table of Contents",
   "title_sidebar": "Contents",
   "toc_cell": false,
   "toc_position": {},
   "toc_section_display": true,
   "toc_window_display": true
  },
  "toc-autonumbering": true,
  "varInspector": {
   "cols": {
    "lenName": 16,
    "lenType": 16,
    "lenVar": 40
   },
   "kernels_config": {
    "python": {
     "delete_cmd_postfix": "",
     "delete_cmd_prefix": "del ",
     "library": "var_list.py",
     "varRefreshCmd": "print(var_dic_list())"
    },
    "r": {
     "delete_cmd_postfix": ") ",
     "delete_cmd_prefix": "rm(",
     "library": "var_list.r",
     "varRefreshCmd": "cat(var_dic_list()) "
    }
   },
   "position": {
    "height": "850.844px",
    "left": "2190px",
    "right": "20px",
    "top": "120px",
    "width": "350px"
   },
   "types_to_exclude": [
    "module",
    "function",
    "builtin_function_or_method",
    "instance",
    "_Feature"
   ],
   "window_display": true
  }
 },
 "nbformat": 4,
 "nbformat_minor": 5
}
