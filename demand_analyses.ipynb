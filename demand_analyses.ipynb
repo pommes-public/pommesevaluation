{
 "cells": [
  {
   "cell_type": "markdown",
   "id": "02b7dd6d",
   "metadata": {},
   "source": [
    "# Demand analyses\n",
    "Analyze the demand, both with and without demand response units in terms of\n",
    "* Overall annual demand as well as\n",
    "* Demand patterns"
   ]
  },
  {
   "cell_type": "markdown",
   "id": "1268da0e",
   "metadata": {},
   "source": [
    "## Package imports"
   ]
  },
  {
   "cell_type": "code",
   "execution_count": null,
   "id": "174c30e9",
   "metadata": {},
   "outputs": [],
   "source": [
    "import pandas as pd\n",
    "import matplotlib.pyplot as plt"
   ]
  },
  {
   "cell_type": "markdown",
   "id": "b11a3c88",
   "metadata": {},
   "source": [
    "## Define data sets and global parameters"
   ]
  },
  {
   "cell_type": "code",
   "execution_count": null,
   "id": "00c797d5",
   "metadata": {},
   "outputs": [],
   "source": [
    "# Model configuration in terms of prices and costs\n",
    "demand_response_scenario = \"50\"\n",
    "\n",
    "# inputs and outputs\n",
    "path_folder = \"./model_inputs/pommesinvest/\"\n",
    "\n",
    "file_names = {\n",
    "    \"demand_incl_dr_ts\": f\"sinks_demand_el_ts_hourly.csv\",\n",
    "    \"demand_incl_dr_max\": f\"sinks_demand_el.csv\",\n",
    "    \"demand_excl_dr_ts\": f\"sinks_demand_el_excl_demand_response_ts_{demand_response_scenario}_hourly.csv\",\n",
    "    \"demand_excl_dr_max\": f\"sinks_demand_el_excl_demand_response_{demand_response_scenario}.csv\",\n",
    "    \"dr_baseline\": f\"sinks_demand_response_el_ts_{demand_response_scenario}.csv\",\n",
    "    \"dr_ava_pos\": f\"sinks_demand_response_el_ava_pos_ts_{demand_response_scenario}.csv\",\n",
    "    \"dr_ava_neg\": f\"sinks_demand_response_el_ava_pos_ts_{demand_response_scenario}.csv\",\n",
    "}\n",
    "\n",
    "DEMAND_RESPONSE_CLUSTERS = {\n",
    "    \"hoho_cluster_shift_only\": \"#111111\", \n",
    "    \"hoho_cluster_shift_shed\": \"#333333\", \n",
    "    \"ind_cluster_shed_only\": \"#555555\",\n",
    "    \"ind_cluster_shift_only\": \"#999999\", \n",
    "    \"ind_cluster_shift_shed\": \"#aaaaaa\", \n",
    "    \"tcs+hoho_cluster_shift_only\": \"#cccccc\",\n",
    "    \"tcs_cluster_shift_only\": \"#dddddd\", \n",
    "}\n",
    "\n",
    "path_data_out = \"./data_out/\"\n",
    "path_plots = \"./plots/\"\n",
    "output_file_names = {\n",
    "    \"demand_incl_dr_ts\": \"demand_incl_dr_annual\",\n",
    "    \"demand_excl_dr_ts\": \"demand_exl_dr_annual\",\n",
    "}\n",
    "\n",
    "plt.rcParams.update({'font.size': 14})"
   ]
  },
  {
   "cell_type": "markdown",
   "id": "9cea91e2",
   "metadata": {},
   "source": [
    "## Read in and preprocess demand data"
   ]
  },
  {
   "cell_type": "code",
   "execution_count": null,
   "id": "13aaad65",
   "metadata": {},
   "outputs": [],
   "source": [
    "data_sets = {\n",
    "    data_set: pd.read_csv(f\"{path_folder}{file_name}\", index_col=0) \n",
    "    for data_set, file_name in file_names.items()\n",
    "}"
   ]
  },
  {
   "cell_type": "code",
   "execution_count": null,
   "id": "1edc6215",
   "metadata": {},
   "outputs": [],
   "source": [
    "# Slice 2020 data in the first place\n",
    "for key in [\"demand_incl_dr_ts\", \"demand_excl_dr_ts\"]:\n",
    "    data_sets[f\"{key}_DE_2020\"] = data_sets[key].loc[\n",
    "        data_sets[key].index.str[:4] == \"2020\", \n",
    "        [col for col in data_sets[key].columns if \"DE_\" in col]\n",
    "    ]"
   ]
  },
  {
   "cell_type": "markdown",
   "id": "6abaea23",
   "metadata": {},
   "source": [
    "## Combine to annual values"
   ]
  },
  {
   "cell_type": "code",
   "execution_count": null,
   "id": "87b4f82a",
   "metadata": {},
   "outputs": [],
   "source": [
    "map_ts_to_max = {\n",
    "    \"demand_incl_dr_ts\": data_sets[\"demand_incl_dr_max\"],\n",
    "    \"demand_excl_dr_ts\": data_sets[\"demand_excl_dr_max\"],\n",
    "}"
   ]
  },
  {
   "cell_type": "code",
   "execution_count": null,
   "id": "ad910804",
   "metadata": {},
   "outputs": [],
   "source": [
    "# Create annual data sets\n",
    "for key in [\"demand_incl_dr_ts\", \"demand_excl_dr_ts\"]:\n",
    "    data_sets[key].index = data_sets[key].index.str[:4]\n",
    "    data_sets[f\"{key}_annual\"] = data_sets[key].groupby(data_sets[key].index).sum()[\"DE_sink_el_load\"]\n",
    "    data_sets[f\"{key}_annual\"] = data_sets[f\"{key}_annual\"].mul(\n",
    "        map_ts_to_max[key].at[\"DE_sink_el_load\", \"maximum\"]\n",
    "    ).div(1000)\n",
    "    data_sets[f\"{key}_annual\"].to_csv(f\"{path_data_out}{output_file_names[key]}.csv\")"
   ]
  },
  {
   "cell_type": "code",
   "execution_count": null,
   "id": "3dc12eeb",
   "metadata": {},
   "outputs": [],
   "source": [
    "# Plot annual demand without demand response\n",
    "fig, ax = plt.subplots(figsize=(12, 5))\n",
    "_ = data_sets[\"demand_incl_dr_ts_annual\"].loc[\"2020\":\"2045\"].plot(kind=\"bar\", ax=ax, color=\"darkblue\")\n",
    "_ = plt.xlabel(\"year\")\n",
    "_ = plt.ylabel(\"annual demand in GWh\")\n",
    "#_ = plt.legend(bbox_to_anchor=[1.02, 1.02])\n",
    "current_values = plt.gca().get_yticks()\n",
    "_ = plt.gca().set_yticklabels(['{:,.0f}'.format(x) for x in current_values])\n",
    "plt.tight_layout()\n",
    "plt.savefig(f\"{path_plots}{output_file_names['demand_incl_dr_ts']}.png\", dpi=300)\n",
    "plt.show()\n",
    "plt.close()"
   ]
  },
  {
   "cell_type": "code",
   "execution_count": null,
   "id": "030a3de6",
   "metadata": {},
   "outputs": [],
   "source": [
    "data_sets[\"demand_excl_dr_ts_annual\"]"
   ]
  },
  {
   "cell_type": "code",
   "execution_count": null,
   "id": "bbdbcb15",
   "metadata": {},
   "outputs": [],
   "source": [
    "# Read in demand response potential parameter data and extract maximum value\n",
    "dr_potential_data = {\n",
    "    dr_cluster: pd.read_csv(\n",
    "        f\"{path_folder}{dr_cluster}_potential_parameters_{demand_response_scenario}%.csv\", \n",
    "        index_col=0\n",
    "    )\n",
    "    for dr_cluster in DEMAND_RESPONSE_CLUSTERS\n",
    "}\n",
    "dr_max_potentials = {}\n",
    "for key, val in dr_potential_data.items():\n",
    "    dr_max_potentials[key] = val[\"max_cap\"]\n",
    "\n",
    "# Calculate annual demand (assumed constant here)\n",
    "data_sets[\"dr_baseline\"].index = data_sets[\"dr_baseline\"].index.str[:4]\n",
    "\n",
    "data_sets[\"dr_annual_demand\"] = pd.DataFrame()\n",
    "for dr_cluster in DEMAND_RESPONSE_CLUSTERS:\n",
    "    data_sets[\"dr_annual_demand\"][dr_cluster] = dr_max_potentials[dr_cluster].mul(\n",
    "        data_sets[\"dr_baseline\"].groupby(\n",
    "            data_sets[\"dr_baseline\"].index\n",
    "        ).sum().at[\"2020\", dr_cluster]\n",
    "    ).div(1000)\n",
    "\n",
    "data_sets[\"dr_annual_demand\"].index = data_sets[\"dr_annual_demand\"].index.astype(str)\n",
    "    \n",
    "# Combine with demand data set excluding demand response\n",
    "data_sets[\"demand_excl_dr_ts_annual\"] = pd.concat(\n",
    "    [data_sets[\"demand_excl_dr_ts_annual\"], data_sets[\"dr_annual_demand\"]],\n",
    "    axis=1\n",
    ")\n",
    "data_sets[\"demand_excl_dr_ts_annual\"].rename(\n",
    "    columns={\"DE_sink_el_load\": \"load without demand response\"},\n",
    "    inplace=True\n",
    ")\n",
    "colors = {\n",
    "    \"load without demand response\": \"darkblue\",\n",
    "    **DEMAND_RESPONSE_CLUSTERS\n",
    "}"
   ]
  },
  {
   "cell_type": "code",
   "execution_count": null,
   "id": "94f4e4cb",
   "metadata": {},
   "outputs": [],
   "source": [
    "# Plot annual demand excl demand response with demand response baseline demand on top\n",
    "fig, ax = plt.subplots(figsize=(12, 5))\n",
    "data_sets[\"demand_excl_dr_ts_annual\"] = data_sets[\"demand_excl_dr_ts_annual\"][[col for col in colors]]\n",
    "_ = data_sets[\"demand_excl_dr_ts_annual\"].loc[\"2020\":\"2045\"].plot(kind=\"bar\", edgecolor=\"darkgrey\", stacked=True, ax=ax, color=colors)\n",
    "_ = plt.xlabel(\"year\")\n",
    "_ = plt.ylabel(\"annual demand in GWh\")\n",
    "_ = plt.legend(bbox_to_anchor=[1.02, 1.02])\n",
    "current_values = plt.gca().get_yticks()\n",
    "_ = plt.gca().set_yticklabels(['{:,.0f}'.format(x) for x in current_values])\n",
    "plt.tight_layout()\n",
    "plt.savefig(f\"{path_plots}{output_file_names['demand_excl_dr_ts']}.png\", dpi=300)\n",
    "plt.show()\n",
    "plt.close()"
   ]
  },
  {
   "cell_type": "markdown",
   "id": "0bafa2f8",
   "metadata": {},
   "source": [
    "## Extract patterns"
   ]
  },
  {
   "cell_type": "markdown",
   "id": "9ce2b034",
   "metadata": {},
   "source": [
    "**TODO: Resume!**"
   ]
  },
  {
   "cell_type": "code",
   "execution_count": null,
   "id": "9f7af6df",
   "metadata": {},
   "outputs": [],
   "source": []
  }
 ],
 "metadata": {
  "kernelspec": {
   "display_name": "Python 3 (ipykernel)",
   "language": "python",
   "name": "python3"
  },
  "language_info": {
   "codemirror_mode": {
    "name": "ipython",
    "version": 3
   },
   "file_extension": ".py",
   "mimetype": "text/x-python",
   "name": "python",
   "nbconvert_exporter": "python",
   "pygments_lexer": "ipython3",
   "version": "3.8.13"
  },
  "toc": {
   "base_numbering": 1,
   "nav_menu": {},
   "number_sections": true,
   "sideBar": true,
   "skip_h1_title": false,
   "title_cell": "Table of Contents",
   "title_sidebar": "Contents",
   "toc_cell": false,
   "toc_position": {},
   "toc_section_display": true,
   "toc_window_display": false
  },
  "varInspector": {
   "cols": {
    "lenName": 16,
    "lenType": 16,
    "lenVar": 40
   },
   "kernels_config": {
    "python": {
     "delete_cmd_postfix": "",
     "delete_cmd_prefix": "del ",
     "library": "var_list.py",
     "varRefreshCmd": "print(var_dic_list())"
    },
    "r": {
     "delete_cmd_postfix": ") ",
     "delete_cmd_prefix": "rm(",
     "library": "var_list.r",
     "varRefreshCmd": "cat(var_dic_list()) "
    }
   },
   "types_to_exclude": [
    "module",
    "function",
    "builtin_function_or_method",
    "instance",
    "_Feature"
   ],
   "window_display": false
  }
 },
 "nbformat": 4,
 "nbformat_minor": 5
}
